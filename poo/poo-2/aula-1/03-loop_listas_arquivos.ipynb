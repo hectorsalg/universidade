{
 "cells": [
  {
   "cell_type": "markdown",
   "metadata": {
    "cell_tags": []
   },
   "source": [
    "## 2 - Criando Funções"
   ]
  },
  {
   "cell_type": "markdown",
   "metadata": {
    "cell_tags": []
   },
   "source": [
    "Se tivéssemos apenas um conjunto de dados para analisar,\n",
    "provavelmente seria mais rápido carregar o arquivo em uma planilha\n",
    "e usar isso para traçar algumas estatísticas simples.\n",
    "Mas temos doze arquivos para verificar, e pode ter mais no futuro.\n",
    "Nesta lição,\n",
    "aprenderemos a escrever uma função\n",
    "para que possamos repetir várias operações com um único comando."
   ]
  },
  {
   "cell_type": "markdown",
   "metadata": {
    "cell_tags": [
     "objectives"
    ]
   },
   "source": [
    "#### Objetivos\n",
    "\n",
    "* Definir uma função que tem parâmetros.\n",
    "* Retornar um valor de uma função.\n",
    "* Definir os valores padrão para os parâmetros da função."
   ]
  },
  {
   "cell_type": "markdown",
   "metadata": {
    "cell_tags": []
   },
   "source": [
    "### Definindo uma Função"
   ]
  },
  {
   "cell_type": "markdown",
   "metadata": {
    "cell_tags": []
   },
   "source": [
    "Vamos começar definindo uma função `fahr_to_kelvin` que converte as temperaturas de Fahrenheit para Kelvin:"
   ]
  },
  {
   "cell_type": "code",
   "execution_count": 1,
   "metadata": {
    "cell_tags": []
   },
   "outputs": [],
   "source": [
    "def fahr_to_kelvin(temp):\n",
    "    tem_k = ((temp - 32) * (5/9)) + 273.15 \n",
    "    return tem_k"
   ]
  },
  {
   "cell_type": "markdown",
   "metadata": {
    "cell_tags": []
   },
   "source": [
    "A definição de uma funçao começa com a palavra `def`,\n",
    "que é seguida pelo nome da função e uma lista entre parênteses de nomes de parâmetros.\n",
    "O [corpo](http://swcarpentry.github.io/python-novice-inflammation-2.7/reference.html#function-body) da função&mdash;as declarações que são executadas quando ela é executada&mdash; é recuada abaixo da linha de definição, tipicamente por quatro espaços.\n",
    "\n",
    "Quando chamamos a função,\n",
    "os valores que passamos para ela são atribuídos a essas variáveis\n",
    "para que possamos usá-las dentro da função.\n",
    "Dentro da função, usamos uma [declaração de retorno](http://swcarpentry.github.io/python-novice-inflammation-2.7/reference.html#return-statement) para enviar o resultado de volta para quem a chamou.\n",
    "\n",
    "Vamos tentar executar nossa função.\n",
    "Chamar nossa própria função não é diferente de chamar qualquer outra função:\n"
   ]
  },
  {
   "cell_type": "code",
   "execution_count": 2,
   "metadata": {
    "cell_tags": []
   },
   "outputs": [
    {
     "name": "stdout",
     "output_type": "stream",
     "text": [
      "freezing point of water: 273.15\n",
      "boiling point of water: 373.15\n"
     ]
    }
   ],
   "source": [
    "print ('freezing point of water:', fahr_to_kelvin(32))\n",
    "print ('boiling point of water:', fahr_to_kelvin(212))"
   ]
  },
  {
   "cell_type": "code",
   "execution_count": 3,
   "metadata": {},
   "outputs": [],
   "source": [
    "temKelvin = fahr_to_kelvin(100)"
   ]
  },
  {
   "cell_type": "code",
   "execution_count": 4,
   "metadata": {},
   "outputs": [
    {
     "data": {
      "text/plain": [
       "310.92777777777775"
      ]
     },
     "execution_count": 4,
     "metadata": {},
     "output_type": "execute_result"
    }
   ],
   "source": [
    "temKelvin"
   ]
  },
  {
   "cell_type": "markdown",
   "metadata": {},
   "source": [
    " ### Funções compostas"
   ]
  },
  {
   "cell_type": "markdown",
   "metadata": {},
   "source": [
    "Agora que vimos como transformar Fahrenheit em Kelvin,\n",
    "é fácil transformar Kelvin em Celsius:"
   ]
  },
  {
   "cell_type": "code",
   "execution_count": 6,
   "metadata": {
    "cell_tags": []
   },
   "outputs": [
    {
     "name": "stdout",
     "output_type": "stream",
     "text": [
      "absolute zero in Celsius: -273.15\n"
     ]
    }
   ],
   "source": [
    "def kelvin_to_celsius(temp):\n",
    "    return temp - 273.15\n",
    "\n",
    "print ('absolute zero in Celsius:', kelvin_to_celsius(0.0))"
   ]
  },
  {
   "cell_type": "markdown",
   "metadata": {
    "cell_tags": []
   },
   "source": [
    "E a conversão de Fahrenheit para Celsius?\n",
    "Podemos escrever a fórmula, mas não precisamos.\n",
    "Em vez disto,\n",
    "podemos [compor](http://swcarpentry.github.io/python-novice-inflammation-2.7/reference.html#function-composition) as duas funções que já criamos:\n"
   ]
  },
  {
   "cell_type": "code",
   "execution_count": 7,
   "metadata": {
    "cell_tags": []
   },
   "outputs": [
    {
     "name": "stdout",
     "output_type": "stream",
     "text": [
      "freezing point of water in Celsius: 0.0\n"
     ]
    }
   ],
   "source": [
    "def fahr_to_celsius(temp):\n",
    "    temp_k = fahr_to_kelvin(temp)\n",
    "    result = kelvin_to_celsius(temp_k)\n",
    "    return result\n",
    "\n",
    "print ('freezing point of water in Celsius:', fahr_to_celsius(32.0))"
   ]
  },
  {
   "cell_type": "markdown",
   "metadata": {
    "cell_tags": []
   },
   "source": [
    "Este é nosso primeiro vislumbre de como os programas maiores são criados:\n",
    "definimos operações básicas,\n",
    "Em seguida, combine-os em pedaços sempre grandes para obter o efeito que queremos.\n",
    "As funções da vida real geralmente serão maiores do que as mostradas aqui &mdash; normalmente, meia dúzia a algumas dúzias de linhas &mdash;\n",
    "mas elas nunca devem ser muito mais longas do que isso,\n",
    "ou a próxima pessoa que lê seu código pode não ser capaz de entender o que está acontecendo."
   ]
  },
  {
   "cell_type": "markdown",
   "metadata": {
    "cell_tags": [
     "challenges"
    ]
   },
   "source": [
    "#### Exercícios \n",
    "1. Em Python \"adicionando\" duas cadeias produz sua concatenção:\n",
    "     `'a' + 'b'` é `' ab'`.\n",
    "     Escreva uma função chamada `fence` que recebe dois parâmetros chamados `original` e `embrulho`\n",
    "     e retorna uma nova string que possui o caractere do embrulho no início e no final do original. Exemplo:\n",
    "    ~~~python\n",
    "    print (fence('name', '*'))\n",
    "    *name*\n",
    "    ~~~\n",
    "\n",
    "1. Se a variável `s` se refere a uma string,\n",
    "     então `s [0]` é o primeiro caracter da string\n",
    "     e `s [-1]` é o último.\n",
    "     Escreva uma função chamada `outer`\n",
    "     que retorna uma string composta apenas do primeiro e último caracter de sua entrada. Exemplo:\n",
    "\n",
    "    ~~~python\n",
    "    print (outer('helium'))\n",
    "    hm\n",
    "    ~~~\n",
    "    \n",
    "    \n",
    "    "
   ]
  },
  {
   "cell_type": "code",
   "execution_count": 8,
   "metadata": {},
   "outputs": [
    {
     "name": "stdout",
     "output_type": "stream",
     "text": [
      "-----POOII-----\n"
     ]
    }
   ],
   "source": [
    "def fence(original,embrulho):\n",
    "    return embrulho+original+embrulho\n",
    "\n",
    "print(fence('POOII','-----'))"
   ]
  },
  {
   "cell_type": "code",
   "execution_count": 9,
   "metadata": {},
   "outputs": [
    {
     "name": "stdout",
     "output_type": "stream",
     "text": [
      "Os\n"
     ]
    }
   ],
   "source": [
    "def outer(a):\n",
    "    return a[0]+a[-1]\n",
    "\n",
    "print(outer('Objetos'))"
   ]
  },
  {
   "cell_type": "markdown",
   "metadata": {
    "cell_tags": []
   },
   "source": [
    "### Definindo Valores Padrão"
   ]
  },
  {
   "cell_type": "markdown",
   "metadata": {
    "cell_tags": []
   },
   "source": [
    "Passamos os parâmetros às funções de duas maneiras:\n",
    "diretamente, como em `span(data)`,\n",
    "e pelo nome, como em `numpy.loadtxt (fname = 'something.csv', delimiter = ',')`.\n",
    "De fato, podemos passar o nome do arquivo para `loadtxt` sem o `fname = `:"
   ]
  },
  {
   "cell_type": "code",
   "execution_count": 11,
   "metadata": {
    "cell_tags": []
   },
   "outputs": [
    {
     "data": {
      "text/plain": [
       "array([[0., 0., 1., ..., 3., 0., 0.],\n",
       "       [0., 1., 2., ..., 1., 0., 1.],\n",
       "       [0., 1., 1., ..., 2., 1., 1.],\n",
       "       ...,\n",
       "       [0., 1., 1., ..., 1., 1., 1.],\n",
       "       [0., 0., 0., ..., 0., 2., 0.],\n",
       "       [0., 0., 1., ..., 1., 1., 0.]])"
      ]
     },
     "execution_count": 11,
     "metadata": {},
     "output_type": "execute_result"
    }
   ],
   "source": [
    "import numpy\n",
    "numpy.loadtxt('data/inflammation-01.csv', delimiter=',')"
   ]
  },
  {
   "cell_type": "markdown",
   "metadata": {
    "cell_tags": []
   },
   "source": [
    "mas ainda precisamos dizer `delimiter =`:"
   ]
  },
  {
   "cell_type": "code",
   "execution_count": 13,
   "metadata": {
    "cell_tags": []
   },
   "outputs": [
    {
     "data": {
      "text/plain": [
       "array([[0., 0., 1., ..., 3., 0., 0.],\n",
       "       [0., 1., 2., ..., 1., 0., 1.],\n",
       "       [0., 1., 1., ..., 2., 1., 1.],\n",
       "       ...,\n",
       "       [0., 1., 1., ..., 1., 1., 1.],\n",
       "       [0., 0., 0., ..., 0., 2., 0.],\n",
       "       [0., 0., 1., ..., 1., 1., 0.]])"
      ]
     },
     "execution_count": 13,
     "metadata": {},
     "output_type": "execute_result"
    }
   ],
   "source": [
    "numpy.loadtxt('data/inflammation-01.csv', delimiter=',')"
   ]
  },
  {
   "cell_type": "markdown",
   "metadata": {
    "cell_tags": []
   },
   "source": [
    "Para entender o que está acontecendo,\n",
    "e tornar nossas próprias funções mais fáceis de usar,\n",
    "vamos redefinir nossa função `center` como esta:"
   ]
  },
  {
   "cell_type": "code",
   "execution_count": 14,
   "metadata": {
    "cell_tags": []
   },
   "outputs": [],
   "source": [
    "def center(data, desired=0.0):\n",
    "    '''Return a new array containing the original data centered around the desired value (0 by default).\n",
    "    Example: center([1, 2, 3], 0) => [-1, 0, 1]'''\n",
    "    return (data - data.mean()) + desired"
   ]
  },
  {
   "cell_type": "markdown",
   "metadata": {
    "cell_tags": []
   },
   "source": [
    "A principal mudança é que o segundo parâmetro agora é escrito `desired = 0,0` em vez de apenas `desired`.\n",
    "Se chamarmos a função com dois argumentos,\n",
    "funciona como aconteceu antes:"
   ]
  },
  {
   "cell_type": "code",
   "execution_count": 16,
   "metadata": {
    "cell_tags": []
   },
   "outputs": [
    {
     "name": "stdout",
     "output_type": "stream",
     "text": [
      "[[3. 3.]\n",
      " [3. 3.]]\n"
     ]
    }
   ],
   "source": [
    "test_data = numpy.ones((2, 2))\n",
    "print (center(test_data, 3))"
   ]
  },
  {
   "cell_type": "markdown",
   "metadata": {
    "cell_tags": []
   },
   "source": [
    "Mas também podemos chamá-la com apenas um parâmetro,\n",
    "no caso em que `desired` é atribuído automaticamente [o valor padrão](http://swcarpentry.github.io/python-novice-inflammation-2.7/reference.html#function-composition) de 0.0:\n"
   ]
  },
  {
   "cell_type": "code",
   "execution_count": null,
   "metadata": {
    "cell_tags": []
   },
   "outputs": [],
   "source": [
    "more_data = 5 + numpy.zeros((2, 2))\n",
    "print ('data before centering:', more_data)\n",
    "print ('centered data:', center(more_data))"
   ]
  },
  {
   "cell_type": "markdown",
   "metadata": {
    "cell_tags": []
   },
   "source": [
    "Isso é útil:\n",
    "se geralmente queremos que uma função funcione de um jeito,\n",
    "mas ocasionalmente precisa dele para fazer outra coisa,\n",
    "podemos permitir que as pessoas passem um parâmetro quando precisam\n",
    "mas fornecem um padrão para tornar o caso normal mais fácil.\n",
    "O exemplo abaixo mostra como Python corresponde aos valores aos parâmetros:\n"
   ]
  },
  {
   "cell_type": "code",
   "execution_count": 9,
   "metadata": {
    "cell_tags": []
   },
   "outputs": [
    {
     "name": "stdout",
     "output_type": "stream",
     "text": [
      "no parameters:\n",
      "a: 1 b: 2 c: 3\n",
      "one parameter:\n",
      "a: 55 b: 2 c: 3\n",
      "two parameters:\n",
      "a: 55 b: 66 c: 3\n"
     ]
    }
   ],
   "source": [
    "def display(a=1, b=2, c=3):\n",
    "    print ('a:', a, 'b:', b, 'c:', c)\n",
    "\n",
    "print ('no parameters:')\n",
    "display()\n",
    "print ('one parameter:')\n",
    "display(55)\n",
    "print ('two parameters:')\n",
    "display(55, 66)"
   ]
  },
  {
   "cell_type": "markdown",
   "metadata": {
    "cell_tags": []
   },
   "source": [
    "Como mostra este exemplo,\n",
    "os parâmetros são combinados da esquerda para a direita,\n",
    "e aqueles que não receberam um valor explicitamente obtêm seu valor padrão.\n",
    "Podemos substituir esse comportamento ao nomear o valor conforme o passamos:"
   ]
  },
  {
   "cell_type": "code",
   "execution_count": 19,
   "metadata": {
    "cell_tags": []
   },
   "outputs": [
    {
     "name": "stdout",
     "output_type": "stream",
     "text": [
      "only setting the value of c\n"
     ]
    }
   ],
   "source": [
    "print ('only setting the value of c')\n",
    "display(c=77)"
   ]
  },
  {
   "cell_type": "markdown",
   "metadata": {
    "cell_tags": []
   },
   "source": [
    "Com isso em mãos,\n",
    "Vejamos a ajuda para `numpy.loadtxt`:"
   ]
  },
  {
   "cell_type": "code",
   "execution_count": 13,
   "metadata": {
    "cell_tags": [],
    "scrolled": true
   },
   "outputs": [
    {
     "name": "stdout",
     "output_type": "stream",
     "text": [
      "Help on function loadtxt in module numpy.lib.npyio:\n",
      "\n",
      "loadtxt(fname, dtype=<class 'float'>, comments='#', delimiter=None, converters=None, skiprows=0, usecols=None, unpack=False, ndmin=0, encoding='bytes')\n",
      "    Load data from a text file.\n",
      "    \n",
      "    Each row in the text file must have the same number of values.\n",
      "    \n",
      "    Parameters\n",
      "    ----------\n",
      "    fname : file, str, or pathlib.Path\n",
      "        File, filename, or generator to read.  If the filename extension is\n",
      "        ``.gz`` or ``.bz2``, the file is first decompressed. Note that\n",
      "        generators should return byte strings for Python 3k.\n",
      "    dtype : data-type, optional\n",
      "        Data-type of the resulting array; default: float.  If this is a\n",
      "        structured data-type, the resulting array will be 1-dimensional, and\n",
      "        each row will be interpreted as an element of the array.  In this\n",
      "        case, the number of columns used must match the number of fields in\n",
      "        the data-type.\n",
      "    comments : str or sequence of str, optional\n",
      "        The characters or list of characters used to indicate the start of a\n",
      "        comment. None implies no comments. For backwards compatibility, byte\n",
      "        strings will be decoded as 'latin1'. The default is '#'.\n",
      "    delimiter : str, optional\n",
      "        The string used to separate values. For backwards compatibility, byte\n",
      "        strings will be decoded as 'latin1'. The default is whitespace.\n",
      "    converters : dict, optional\n",
      "        A dictionary mapping column number to a function that will parse the\n",
      "        column string into the desired value.  E.g., if column 0 is a date\n",
      "        string: ``converters = {0: datestr2num}``.  Converters can also be\n",
      "        used to provide a default value for missing data (but see also\n",
      "        `genfromtxt`): ``converters = {3: lambda s: float(s.strip() or 0)}``.\n",
      "        Default: None.\n",
      "    skiprows : int, optional\n",
      "        Skip the first `skiprows` lines; default: 0.\n",
      "    usecols : int or sequence, optional\n",
      "        Which columns to read, with 0 being the first. For example,\n",
      "        ``usecols = (1,4,5)`` will extract the 2nd, 5th and 6th columns.\n",
      "        The default, None, results in all columns being read.\n",
      "    \n",
      "        .. versionchanged:: 1.11.0\n",
      "            When a single column has to be read it is possible to use\n",
      "            an integer instead of a tuple. E.g ``usecols = 3`` reads the\n",
      "            fourth column the same way as ``usecols = (3,)`` would.\n",
      "    unpack : bool, optional\n",
      "        If True, the returned array is transposed, so that arguments may be\n",
      "        unpacked using ``x, y, z = loadtxt(...)``.  When used with a structured\n",
      "        data-type, arrays are returned for each field.  Default is False.\n",
      "    ndmin : int, optional\n",
      "        The returned array will have at least `ndmin` dimensions.\n",
      "        Otherwise mono-dimensional axes will be squeezed.\n",
      "        Legal values: 0 (default), 1 or 2.\n",
      "    \n",
      "        .. versionadded:: 1.6.0\n",
      "    encoding : str, optional\n",
      "        Encoding used to decode the inputfile. Does not apply to input streams.\n",
      "        The special value 'bytes' enables backward compatibility workarounds\n",
      "        that ensures you receive byte arrays as results if possible and passes\n",
      "        'latin1' encoded strings to converters. Override this value to receive\n",
      "        unicode arrays and pass strings as input to converters.  If set to None\n",
      "        the system default is used. The default value is 'bytes'.\n",
      "    \n",
      "        .. versionadded:: 1.14.0\n",
      "    \n",
      "    Returns\n",
      "    -------\n",
      "    out : ndarray\n",
      "        Data read from the text file.\n",
      "    \n",
      "    See Also\n",
      "    --------\n",
      "    load, fromstring, fromregex\n",
      "    genfromtxt : Load data with missing values handled as specified.\n",
      "    scipy.io.loadmat : reads MATLAB data files\n",
      "    \n",
      "    Notes\n",
      "    -----\n",
      "    This function aims to be a fast reader for simply formatted files.  The\n",
      "    `genfromtxt` function provides more sophisticated handling of, e.g.,\n",
      "    lines with missing values.\n",
      "    \n",
      "    .. versionadded:: 1.10.0\n",
      "    \n",
      "    The strings produced by the Python float.hex method can be used as\n",
      "    input for floats.\n",
      "    \n",
      "    Examples\n",
      "    --------\n",
      "    >>> from io import StringIO   # StringIO behaves like a file object\n",
      "    >>> c = StringIO(u\"0 1\\n2 3\")\n",
      "    >>> np.loadtxt(c)\n",
      "    array([[ 0.,  1.],\n",
      "           [ 2.,  3.]])\n",
      "    \n",
      "    >>> d = StringIO(u\"M 21 72\\nF 35 58\")\n",
      "    >>> np.loadtxt(d, dtype={'names': ('gender', 'age', 'weight'),\n",
      "    ...                      'formats': ('S1', 'i4', 'f4')})\n",
      "    array([('M', 21, 72.0), ('F', 35, 58.0)],\n",
      "          dtype=[('gender', '|S1'), ('age', '<i4'), ('weight', '<f4')])\n",
      "    \n",
      "    >>> c = StringIO(u\"1,0,2\\n3,0,4\")\n",
      "    >>> x, y = np.loadtxt(c, delimiter=',', usecols=(0, 2), unpack=True)\n",
      "    >>> x\n",
      "    array([ 1.,  3.])\n",
      "    >>> y\n",
      "    array([ 2.,  4.])\n",
      "\n"
     ]
    }
   ],
   "source": [
    "help(numpy.loadtxt)"
   ]
  },
  {
   "cell_type": "markdown",
   "metadata": {
    "cell_tags": []
   },
   "source": [
    "Há muita informação aqui,\n",
    "mas a parte mais importante é o primeiro par de linhas:\n",
    "\n",
    "~~~python\n",
    "loadtxt(fname, dtype= <type 'float'>, comments='#', delimiter=None, converters=None, skiprows=0, usecols=None,\n",
    "        unpack=False, ndmin=0)\n",
    "~~~\n",
    "\n",
    "Isso nos diz que `loadtxt` possui um parâmetro chamado `fname` que não possui um valor padrão,\n",
    "e outros oito que têm.\n",
    "Se chamarmos a função assim:\n",
    "\n",
    "~~~python\n",
    "    numpy.loadtxt('inflammation-01.csv', ',')\n",
    "~~~\n",
    "\n",
    "então o nome do arquivo é atribuído a `fname` (que é o que queremos),\n",
    "mas a cadeia delimitadora `,` é atribuída a `dtype` em vez de `delimiter`,\n",
    "porque `dtype` é o segundo parâmetro da lista.\n",
    "É por isso que não temos que fornecer `fname =` para o nome do arquivo,\n",
    "mas *temos* que fornecer `delimiter =` para o segundo parâmetro."
   ]
  },
  {
   "cell_type": "markdown",
   "metadata": {
    "jupyter": {
     "outputs_hidden": true
    }
   },
   "source": [
    "# Atividades"
   ]
  },
  {
   "cell_type": "markdown",
   "metadata": {},
   "source": [
    "1 - Um posto esta vendendo combustíveis com a seguinte tabela de descontos: \n",
    "\n",
    "    a) Álcool:\n",
    "        - até 20 litros, desconto de 3% por litro\n",
    "        - acima de 20 litros, desconto de 5% por litro \n",
    "    b) Gasolina:\n",
    "        - até 20 litros, desconto de 4% por litro\n",
    "        - acima de 20 litros, desconto de 6% por litro\n",
    "Escreva uma função que leia o número de litros vendidos, o tipo de combustível, calcule e imprima o valor a ser pago pelo cliente sabendo-se que o preço do litro da gasolina é R\\\\$ 7,63 o preço do litro do álcool é R\\\\$ 6,45."
   ]
  },
  {
   "cell_type": "code",
   "execution_count": null,
   "metadata": {},
   "outputs": [],
   "source": []
  }
 ],
 "metadata": {
  "kernelspec": {
   "display_name": "Python 3",
   "language": "python",
   "name": "python3"
  },
  "language_info": {
   "codemirror_mode": {
    "name": "ipython",
    "version": 3
   },
   "file_extension": ".py",
   "mimetype": "text/x-python",
   "name": "python",
   "nbconvert_exporter": "python",
   "pygments_lexer": "ipython3",
   "version": "3.8.3"
  }
 },
 "nbformat": 4,
 "nbformat_minor": 4
}
  "cell_tags": []
   },
   "source": [
    "O resultado nos diz que `data` atualmente se refere a uma matriz N-dimensional criada pela biblioteca NumPy.\n",
    "Podemos ver como que é  o [formato/shape](http://swcarpentry.github.io/python-novice-inflammation-2.7/reference.htm#shape) desta forma:"
   ]
  },
  {
   "cell_type": "code",
   "execution_count": 43,
   "metadata": {
    "cell_tags": []
   },
   "outputs": [
    {
     "name": "stdout",
     "output_type": "stream",
     "text": [
      "(60, 40)\n"
     ]
    }
   ],
   "source": [
    "print(data.shape)"
   ]
  },
  {
   "cell_type": "markdown",
   "metadata": {
    "cell_tags": []
   },
   "source": [
    "Isso nos diz que `data` possui 60 linhas e 40 colunas.\n",
    "`data.shape` é um [membro](http://swcarpentry.github.io/python-novice-inflammation-2.7/reference.htm#member) de `data`,\n",
    "isto é, um valor que é armazenado como parte de um valor maior.\n",
    "Usamos a mesma notação pontilhada para os membros de valores que usamos para as funções em bibliotecas porque eles têm o mesmo relacionamento parte-todo."
   ]
  },
  {
   "cell_type": "markdown",
   "metadata": {
    "cell_tags": []
   },
   "source": [
    "Se quisermos obter um único valor da matriz, devemos fornecer um [índice](http://swcarpentry.github.io/python-novice-inflammation-2.7/reference.htm#index) entre colchetes, assim como fazemos em matemática:"
   ]
  },
  {
   "cell_type": "code",
   "execution_count": 30,
   "metadata": {
    "cell_tags": []
   },
   "outputs": [
    {
     "name": "stdout",
     "output_type": "stream",
     "text": [
      "first value in data: 0\n"
     ]
    }
   ],
   "source": [
    "print ('first value in data:', data[0, 0])"
   ]
  },
  {
   "cell_type": "code",
   "execution_count": 31,
   "metadata": {
    "cell_tags": []
   },
   "outputs": [
    {
     "name": "stdout",
     "output_type": "stream",
     "text": [
      "middle value in data: 1\n"
     ]
    }
   ],
   "source": [
    "print ('middle value in data:', data[15, 2])"
   ]
  },
  {
   "cell_type": "markdown",
   "metadata": {
    "cell_tags": []
   },
   "source": [
    "A expressão `data [30, 20]` pode não surpreendê-lo, mas `data [0, 0]` pode.\n",
    "Linguagens de programação como Fortran e MATLAB começam a contar às 1,\n",
    "porque isso é o que os seres humanos fizeram há milhares de anos.\n",
    "Idiomas na família C (incluindo C ++, Java, Perl e Python) contagem de 0\n",
    "porque isso é mais simples para os computadores fazerem.\n",
    "Como um resultado,\n",
    "se tivermos um M&times;N array em Python,\n",
    "seus índices vão de 0 a M-1 no primeiro eixo\n",
    "e 0 a N-1 no segundo.\n",
    "Demora um pouco de acostumar,\n",
    "mas uma maneira de lembrar a regra é que\n",
    "O índice é o número de passos que temos que tomar desde o início para obter o item que queremos.\n",
    "\n",
    "<img src=\"img/python-zero-index.png\" alt=\"Indexação do Python\" />\n",
    "\n",
    "> #### Nota\n",
    ">\n",
    "> O que também pode surpreender você é que quando o Python exibe uma matriz,\n",
    "> mostra o elemento com índice `[0, 0]` no canto superior esquerdo\n",
    "> em vez da inferior esquerda.\n",
    "> Isso é consistente com a forma como os matemáticos desenham matrizes,\n",
    "> mas diferente das coordenadas cartesianas.\n",
    "> Os índices são (linha, coluna) em vez de (coluna, linha) pelo mesmo motivo."
   ]
  },
  {
   "cell_type": "markdown",
   "metadata": {
    "cell_tags": []
   },
   "source": [
    "Um índice como `[30, 20]` seleciona um único elemento de uma matriz,\n",
    "mas também podemos selecionar seções inteiras.\n",
    "Por exemplo,\n",
    "podemos selecionar os primeiros dez dias (colunas) de valores\n",
    "para as primeiras quatro (linhas) pacientes como este:"
   ]
  },
  {
   "cell_type": "code",
   "execution_count": 32,
   "metadata": {
    "cell_tags": []
   },
   "outputs": [
    {
     "name": "stdout",
     "output_type": "stream",
     "text": [
      "[[ 3  3 10  5  7  4  7  7 12 18  6 13 11 11  7  7  4  6  8  8  4  4  5  7\n",
      "   3  4  2  3  0  0]\n",
      " [10 11  5  9  4  4  7 16  8  6 18  4 12  5 12  7 11  5 11  3  3  5  4  4\n",
      "   5  5  1  1  0  1]\n",
      " [ 5  7  4  5  4 15  5 11  9 10 19 14 12 17  7 12 11  7  4  2 10  5  4  2\n",
      "   2  3  2  2  1  1]\n",
      " [10  7  9 13  8  8 15 10 10  7 17  4  4  7  6 15  6  4  9 11  3  5  6  3\n",
      "   3  4  2  3  2  1]]\n"
     ]
    }
   ],
   "source": [
    "print(data[:4, 10:])"
   ]
  },
  {
   "cell_type": "markdown",
   "metadata": {
    "cell_tags": []
   },
   "source": [
    "O [intervalo](http://swcarpentry.github.io/python-novice-inflammation-2.7/reference.htm#slice) `0: 4` significa:\n",
    "\"Comece no índice 0 e vá até, mas não incluído, o índice 4.\"\n",
    "Novamente, o até-mas-nao-incluso pode levar um tempo para acostumar,\n",
    "mas a regra é que a diferença entre os limites superior e inferior é o número de valores no intervalo.\n",
    "\n",
    "Não temos que começar, necessariamente, intervalos em 0:"
   ]
  },
  {
   "cell_type": "code",
   "execution_count": 44,
   "metadata": {
    "cell_tags": []
   },
   "outputs": [
    {
     "name": "stdout",
     "output_type": "stream",
     "text": [
      "[[0 0 1 2 2 4 2 1 6 4]\n",
      " [0 0 2 2 4 2 2 5 5 8]\n",
      " [0 0 1 2 3 1 2 3 5 3]\n",
      " [0 0 0 3 1 5 6 5 5 8]\n",
      " [0 1 1 2 1 3 5 3 5 8]]\n"
     ]
    }
   ],
   "source": [
    "print (data[5:10,:10])"
   ]
  },
  {
   "cell_type": "markdown",
   "metadata": {
    "cell_tags": []
   },
   "source": [
    "e não precisamos acessar todos os valores do intervalo  --- se fornecemos um [passo](http://swcarpentry.github.io/python-novice-inflammation-2.7/reference.htm#stride),\n",
    "Python pega os valores espaçados com o `passo` definido:"
   ]
  },
  {
   "cell_type": "code",
   "execution_count": 21,
   "metadata": {
    "cell_tags": []
   },
   "outputs": [
    {
     "name": "stdout",
     "output_type": "stream",
     "text": [
      "(4, 38)\n"
     ]
    }
   ],
   "source": [
    "print (data[0:12:3,:].shape)"
   ]
  },
  {
   "cell_type": "markdown",
   "metadata": {
    "cell_tags": []
   },
   "source": [
    "Aqui,\n",
    "nós pegamos as linhas 0, 3, 6 e 9,\n",
    "e as colunas 0, 2, 4, 6 e 8.\n",
    "(Novamente, sempre incluímos o limite inferior,\n",
    "mas pare quando alcançamos ou cruzamos o limite superior.)"
   ]
  },
  {
   "cell_type": "markdown",
   "metadata": {
    "cell_tags": []
   },
   "source": [
    "Também não precisamos incluir o limite superior e inferior do intervalo.\n",
    "Se não incluímos o limite inferior, Python usa 0 por padrão;\n",
    "se não incluímos o superior,\n",
    "o intervalo corre até o final do eixo, e se não incluímos nenhum\n",
    "(isto é, se usarmos apenas ':' por conta própria)\n",
    "O intervalo inclui tudo:"
   ]
  },
  {
   "cell_type": "code",
   "execution_count": 35,
   "metadata": {
    "cell_tags": []
   },
   "outputs": [
    {
     "name": "stdout",
     "output_type": "stream",
     "text": [
      "small is:\n",
      "[[2 3 0 0]\n",
      " [1 1 0 1]\n",
      " [2 2 1 1]]\n"
     ]
    }
   ],
   "source": [
    "small = data[:3, 36:]\n",
    "print ('small is:')\n",
    "print (small)"
   ]
  },
  {
   "cell_type": "markdown",
   "metadata": {
    "cell_tags": []
   },
   "source": [
    "Arrays também sabem como executar operações matemáticas comuns em seus valores.\n",
    "Se queremos encontrar a inflamação média para todos os pacientes em todos os dias,\n",
    "por exemplo, podemos pedir a matriz pelo seu valor médio:"
   ]
  },
  {
   "cell_type": "code",
   "execution_count": 52,
   "metadata": {
    "cell_tags": []
   },
   "outputs": [
    {
     "name": "stdout",
     "output_type": "stream",
     "text": [
      "6.14875\n"
     ]
    }
   ],
   "source": [
    "print(round(data.mean(),5))"
   ]
  },
  {
   "cell_type": "markdown",
   "metadata": {
    "cell_tags": []
   },
   "source": [
    "`mean` é um [método](http://swcarpentry.github.io/python-novice-inflammation-2.7/reference.htm#method) da matriz,\n",
    "isto é, uma função que lhe pertence\n",
    "da mesma forma que o `shape` do membro faz.\n",
    "Se as variáveis são substantivos, os métodos são verbos:\n",
    "Eles são o que o assunto em questão sabe como fazer.\n",
    "É por isso que `data.shape` não precisa ser chamado\n",
    "(é só uma coisa)\n",
    "mas `data.mean ()` faz\n",
    "(é uma ação).\n",
    "É também por isso que precisamos de parênteses vazios para `data.mean ()`:\n",
    "mesmo quando não passamos em nenhum parâmetro,\n",
    "parênteses são como dizer ao Python para ir e fazer algo por nós.\n",
    "\n",
    "As matrizes numPy têm muitos métodos úteis:"
   ]
  },
  {
   "cell_type": "code",
   "execution_count": 53,
   "metadata": {
    "cell_tags": []
   },
   "outputs": [
    {
     "name": "stdout",
     "output_type": "stream",
     "text": [
      "maximum inflammation: 20\n",
      "minimum inflammation: 0\n",
      "standard deviation: 4.613833197118566\n"
     ]
    }
   ],
   "source": [
    "print ('maximum inflammation:', data.max())\n",
    "print ('minimum inflammation:', data.min())\n",
    "print ('standard deviation:', data.std())"
   ]
  },
  {
   "cell_type": "markdown",
   "metadata": {
    "cell_tags": []
   },
   "source": [
    "Ao analisar dados,\n",
    "muitas vezes queremos olhar para estatísticas parciais,\n",
    "como o valor máximo por paciente\n",
    "ou o valor médio por dia.\n",
    "Uma maneira de fazer isso é selecionar os dados que queremos para criar uma nova matriz temporária, e então fazer o cálculo:"
   ]
  },
  {
   "cell_type": "code",
   "execution_count": 22,
   "metadata": {
    "cell_tags": []
   },
   "outputs": [
    {
     "name": "stdout",
     "output_type": "stream",
     "text": [
      "maximum inflammation for patient 0: 18\n"
     ]
    }
   ],
   "source": [
    "patient_0 = data[0,:]\n",
    "print ('maximum inflammation for patient 0:', patient_0.max())"
   ]
  },
  {
   "cell_type": "code",
   "execution_count": 24,
   "metadata": {},
   "outputs": [
    {
     "data": {
      "text/plain": [
       "5.45"
      ]
     },
     "execution_count": 24,
     "metadata": {},
     "output_type": "execute_result"
    }
   ],
   "source": [
    "patient_0.mean()"
   ]
  },
  {
   "cell_type": "markdown",
   "metadata": {
    "cell_tags": []
   },
   "source": [
    "Na verdade, não precisamos armazenar a linha em uma variável própria.\n",
    "Em vez disso, podemos combinar a seleção e o método de chamada:"
   ]
  },
  {
   "cell_type": "code",
   "execution_count": 39,
   "metadata": {
    "cell_tags": []
   },
   "outputs": [
    {
     "name": "stdout",
     "output_type": "stream",
     "text": [
      "maximum inflammation for patient 2: 19\n"
     ]
    }
   ],
   "source": [
    "print ('maximum inflammation for patient 2:', data[2, :].max())"
   ]
  },
  {
   "cell_type": "markdown",
   "metadata": {
    "cell_tags": [
     "challenges"
    ]
   },
   "source": [
    "#### Exercício\n",
    "\n",
    "Uma subseção de uma matriz é chamada de [fatia](http://swcarpentry.github.io/python-novice-inflammation-2.7/reference.html#slice).\n",
    "Podemos pegar fatias de strings de caracteres também:"
   ]
  },
  {
   "cell_type": "code",
   "execution_count": 2,
   "metadata": {
    "cell_tags": [
     "challenges"
    ]
   },
   "outputs": [
    {
     "name": "stdout",
     "output_type": "stream",
     "text": [
      "first three characters: oxy\n",
      "last three characters: gen\n"
     ]
    }
   ],
   "source": [
    "element = 'oxygen'\n",
    "print ('first three characters:', element[:3])\n",
    "print ('last three characters:', element[3:])"
   ]
  },
  {
   "cell_type": "markdown",
   "metadata": {
    "cell_tags": [
     "challenges"
    ]
   },
   "source": [
    "1. Qual é o valor de `element [: 4]`?\n",
    "     E `element [4:]`?\n",
    "     Ou `element [:]`?\n",
    "\n",
    "1. O que é `element [-1]`?\n",
    "     O que é `element [-2]`?\n",
    "     Dadas essas respostas,\n",
    "     explique o que `element [1: -1]` faz.\n",
    "\n",
    "1. A expressão `element [3: 3]` produz uma [string vazia](http://swcarpentry.github.io/python-novice-inflammation-2.7/reference.html#empty-string),\n",
    "     ou seja, uma string que não contém caracteres.\n",
    "     Se `data` contém nossa matriz de dados de pacientes,\n",
    "     O que `data [3: 3, 4: 4]` produz?\n",
    "     E quanto a `data [3: 3,:]`?"
   ]
  },
  {
   "cell_type": "code",
   "execution_count": null,
   "metadata": {},
   "outputs": [],
   "source": []
  },
  {
   "cell_type": "markdown",
   "metadata": {
    "cell_tags": []
   },
   "source": [
    "### Plotando"
   ]
  },
  {
   "cell_type": "markdown",
   "metadata": {
    "cell_tags": []
   },
   "source": [
    "O matemático Richard Hamming já disse,\n",
    "\"O objetivo da computação é gerar insights, não números\"\n",
    "e a melhor maneira de obter estes insights é visualizandos os dados.\n",
    "A visualização merece uma leitura inteira (ou curso) própria,\n",
    "mas podemos explorar alguns recursos da biblioteca `matplotlib` do Python aqui.\n",
    "Primeiro,\n",
    "digamos ao IPython Notebook que queremos que nossos gráficos sejam exibidos inline,\n",
    "em vez de em uma janela de visualização separada:"
   ]
  },
  {
   "cell_type": "code",
   "execution_count": 41,
   "metadata": {
    "cell_tags": []
   },
   "outputs": [],
   "source": [
    "%matplotlib inline"
   ]
  },
  {
   "cell_type": "markdown",
   "metadata": {
    "cell_tags": []
   },
   "source": [
    "O `%` no início da linha indica que este é um comando para o notebook,\n",
    "em vez de uma declaração em Python.\n",
    "A seguir, vamos importar o módulo `pyplot` de ` matplotlib`\n",
    "e usar duas de suas funções para criar e exibir um mapa de calor de nossos dados:"
   ]
  },
  {
   "cell_type": "code",
   "execution_count": 28,
   "metadata": {
    "cell_tags": []
   },
   "outputs": [
    {
     "data": {
      "text/plain": [
       "<matplotlib.image.AxesImage at 0x7fa64c90f460>"
      ]
     },
     "execution_count": 28,
     "metadata": {},
     "output_type": "execute_result"
    },
    {
     "data": {
      "image/png": "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\n",
      "text/plain": [
       "<Figure size 432x288 with 1 Axes>"
      ]
     },
     "metadata": {
      "needs_background": "light"
     },
     "output_type": "display_data"
    }
   ],
   "source": [
    "from matplotlib import pyplot\n",
    "#import matplotlib.pyplot as plt\n",
    "pyplot.imshow(data)"
   ]
  },
  {
   "cell_type": "markdown",
   "metadata": {
    "cell_tags": []
   },
   "source": [
    "As regiões azuis neste mapa de calor são valores baixos, enquanto o vermelho mostra valores altos.\n",
    "Como podemos ver, a inflamação aumenta e cai em um período de 40 dias.\n",
    "Vamos dar uma olhada na inflamação média ao longo do tempo:"
   ]
  },
  {
   "cell_type": "code",
   "execution_count": 43,
   "metadata": {},
   "outputs": [
    {
     "data": {
      "text/plain": [
       "(60, 40)"
      ]
     },
     "execution_count": 43,
     "metadata": {},
     "output_type": "execute_result"
    }
   ],
   "source": [
    "data.shape"
   ]
  },
  {
   "cell_type": "code",
   "execution_count": 33,
   "metadata": {
    "cell_tags": []
   },
   "outputs": [
    {
     "data": {
      "text/plain": [
       "[<matplotlib.lines.Line2D at 0x7fa64cc92b80>]"
      ]
     },
     "execution_count": 33,
     "metadata": {},
     "output_type": "execute_result"
    },
    {
     "data": {
      "image/png": "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\n",
      "text/plain": [
       "<Figure size 432x288 with 1 Axes>"
      ]
     },
     "metadata": {
      "needs_background": "light"
     },
     "output_type": "display_data"
    }
   ],
   "source": [
    "ave_inflammation = data.mean(axis=0)\n",
    "pyplot.plot(ave_inflammation,'-')"
   ]
  },
  {
   "cell_type": "code",
   "execution_count": 89,
   "metadata": {},
   "outputs": [
    {
     "data": {
      "text/plain": [
       "array([ 0.        ,  0.45      ,  1.11666667,  1.75      ,  2.43333333,\n",
       "        3.15      ,  3.8       ,  3.88333333,  5.23333333,  5.51666667,\n",
       "        5.95      ,  5.9       ,  8.35      ,  7.73333333,  8.36666667,\n",
       "        9.5       ,  9.58333333, 10.63333333, 11.56666667, 12.35      ,\n",
       "       13.25      , 11.96666667, 11.03333333, 10.16666667, 10.        ,\n",
       "        8.66666667,  9.15      ,  7.25      ,  7.33333333,  6.58333333,\n",
       "        6.06666667,  5.95      ,  5.11666667,  3.6       ,  3.3       ,\n",
       "        3.56666667,  2.48333333,  1.5       ,  1.13333333,  0.56666667])"
      ]
     },
     "execution_count": 89,
     "metadata": {},
     "output_type": "execute_result"
    }
   ],
   "source": [
    "ave_inflammation"
   ]
  },
  {
   "cell_type": "markdown",
   "metadata": {
    "cell_tags": []
   },
   "source": [
    "Aqui,\n",
    "colocamos a média por dia em todos os pacientes na variável `ave_inflammation`,\n",
    "então pedimos o `pyplot` para criar e exibir um gráfico de linha desses valores.\n",
    "O resultado é aproximadamente um aumento linear e queda,o que é suspeito:\n",
    "com base em outros estudos, esperamos um aumento mais acentuado e queda mais lenta.\n",
    "Vamos dar uma olhada em outras duas estatísticas:"
   ]
  },
  {
   "cell_type": "code",
   "execution_count": 45,
   "metadata": {
    "cell_tags": []
   },
   "outputs": [
    {
     "name": "stdout",
     "output_type": "stream",
     "text": [
      "inflamação máxima por dia\n"
     ]
    },
    {
     "data": {
      "image/png": "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\n",
      "text/plain": [
       "<Figure size 432x288 with 1 Axes>"
      ]
     },
     "metadata": {
      "needs_background": "light"
     },
     "output_type": "display_data"
    },
    {
     "name": "stdout",
     "output_type": "stream",
     "text": [
      "inflamação mínima por dia\n"
     ]
    },
    {
     "data": {
      "image/png": "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\n",
      "text/plain": [
       "<Figure size 432x288 with 1 Axes>"
      ]
     },
     "metadata": {
      "needs_background": "light"
     },
     "output_type": "display_data"
    }
   ],
   "source": [
    "print('inflamação máxima por dia')\n",
    "pyplot.plot(data.max(axis=0))\n",
    "pyplot.show()\n",
    "\n",
    "print ('inflamação mínima por dia')\n",
    "pyplot.plot(data.min(axis=0))\n",
    "pyplot.show()"
   ]
  },
  {
   "cell_type": "markdown",
   "metadata": {
    "cell_tags": []
   },
   "source": [
    "O valor máximo aumenta e cai perfeitamente,\n",
    "enquanto o mínimo parece ser uma função de etapas.\n",
    "Nenhum resultado parece particularmente provável,\n",
    "então, há um erro em nossos cálculos\n",
    "ou algo está errado com nossos dados."
   ]
  },
  {
   "cell_type": "markdown",
   "metadata": {
    "cell_tags": [
     "challenges"
    ]
   },
   "source": [
    "#### Exercício\n",
    "1. Crie um gráfico que mostre o desvio padrão (numpy.std) dos dados de inflamação para cada dia em todos os pacientes."
   ]
  },
  {
   "cell_type": "code",
   "execution_count": 38,
   "metadata": {},
   "outputs": [
    {
     "data": {
      "text/plain": [
       "[<matplotlib.lines.Line2D at 0x7fa64d0a31f0>]"
      ]
     },
     "execution_count": 38,
     "metadata": {},
     "output_type": "execute_result"
    },
    {
     "data": {
      "image/png": "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\n",
      "text/plain": [
       "<Figure size 432x288 with 1 Axes>"
      ]
     },
     "metadata": {
      "needs_background": "light"
     },
     "output_type": "display_data"
    }
   ],
   "source": [
    "aux = data.std(axis=1)\n",
    "pyplot.plot(aux)"
   ]
  },
  {
   "cell_type": "code",
   "execution_count": 37,
   "metadata": {},
   "outputs": [
    {
     "data": {
      "text/plain": [
       "4.613833197118566"
      ]
     },
     "execution_count": 37,
     "metadata": {},
     "output_type": "execute_result"
    }
   ],
   "source": [
    "aux"
   ]
  },
  {
   "cell_type": "markdown",
   "metadata": {
    "cell_tags": []
   },
   "source": [
    "### Resumindo"
   ]
  },
  {
   "cell_type": "markdown",
   "metadata": {
    "cell_tags": []
   },
   "source": [
    "É muito comum criar um [alias](http://swcarpentry.github.io/python-novice-inflammation-2.7/reference.html#alias) (alias renomeação de bilioteca) para uma biblioteca ao importá-la\n",
    "para reduzir a quantidade de digitação que temos que fazer.\n",
    "Aqui estão os nossos três gráficos lado a lado usando aliases para `numpy` e` pyplot`:"
   ]
  },
  {
   "cell_type": "code",
   "execution_count": 46,
   "metadata": {
    "cell_tags": []
   },
   "outputs": [
    {
     "data": {
      "image/png": "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\n",
      "text/plain": [
       "<Figure size 720x720 with 3 Axes>"
      ]
     },
     "metadata": {
      "needs_background": "light"
     },
     "output_type": "display_data"
    }
   ],
   "source": [
    "import numpy as np\n",
    "from matplotlib import pyplot as plt\n",
    "import pandas as pd\n",
    "\n",
    "data = np.loadtxt(fname='data/inflammation-01.csv', delimiter=',')\n",
    "\n",
    "plt.figure(figsize=(10,10))\n",
    "\n",
    "plt.subplot(3,1, 1)\n",
    "plt.ylabel('average')\n",
    "plt.xlabel('dias')\n",
    "plt.title('Média por dias')\n",
    "plt.plot(data.mean(0))\n",
    "\n",
    "plt.subplot(3,1, 2)\n",
    "plt.ylabel('max')\n",
    "plt.plot(data.max(0))\n",
    "\n",
    "plt.subplot(3,1, 3)\n",
    "plt.ylabel('min')\n",
    "plt.plot(data.min(0))\n",
    "\n",
    "plt.tight_layout()"
   ]
  },
  {
   "cell_type": "markdown",
   "metadata": {
    "cell_tags": []
   },
   "source": [
    "As duas primeiras linhas recarregam nossas bibliotecas como `np` e `plt`,\n",
    "que são os alias que a maioria dos programadores de Python usam.\n",
    "A chamada para `loadtxt` lê nossos dados,\n",
    " o resto do programa diz a biblioteca de plota os gráficos\n",
    "o quão grande queremos que a figura seja,\n",
    "que estamos criando três sub-gráficos,\n",
    "o que desenhar para cada um,\n",
    "e que queremos um layout menor.\n",
    "(Perversamente,\n",
    "se excluirmos essa chamada para `plt.tight_layout ()`,\n",
    "os gráficos sairão realmente esticados e mais próxima.)"
   ]
  },
  {
   "cell_type": "markdown",
   "metadata": {
    "cell_tags": [
     "challenges"
    ]
   },
   "source": [
    "#### Exercício\n",
    "\n",
    "1. Modifique o programa para exibir os três gráficos em cima um do outro em vez de lado a lado."
   ]
  },
  {
   "cell_type": "code",
   "execution_count": null,
   "metadata": {},
   "outputs": [],
   "source": []
  },
  {
   "cell_type": "code",
   "execution_count": null,
   "metadata": {},
   "outputs": [],
   "source": []
  },
  {
   "cell_type": "markdown",
   "metadata": {
    "cell_tags": [
     "keypoints"
    ]
   },
   "source": [
    "#### Pontos Principais\n",
    "* Importar uma biblioteca para um programa usando `import nome_da_biblioteca`.\n",
    "* Usar a biblioteca `numpy` para trabalhar com arrays em Python.\n",
    "* Usar `variável = valor` para atribuir um valor a uma variável e gravá-la na memória.\n",
    "* As variáveis são criadas sob demanda sempre que um valor lhes é atribuído.\n",
    "* Usar `print (alguma_coisa)` para exibir o valor de `alguma_coisa`.\n",
    "* A expressão `array.shape` dá a forma de uma matriz.\n",
    "* Usar `array [x, y]` para selecionar um único elemento de uma matriz.\n",
    "* Os índices de matriz começam em 0, não 1.\n",
    "* Usar `low: high` para especificar uma fatia que inclui os índices de `low` até `high-1`.\n",
    "* Toda a indexação e corte que funciona em arrays também funciona em strings.\n",
    "* Usar `# algum tipo de explicação` para adicionar comentários aos programas.\n",
    "* Usar `array.mean ()`, `array.max ()` e `array.min ()` para calcular estatísticas simples.\n",
    "* Usar `array.mean (axis = 0)` ou `array.mean (axis = 1)` para calcular estatísticas no eixo especificado.\n",
    "* Usar a biblioteca `pyplot` de ` matplotlib` para criar visualizações simples."
   ]
  },
  {
   "cell_type": "markdown",
   "metadata": {
    "cell_tags": []
   },
   "source": [
    "#### Próximos passos\n",
    "\n",
    "Nosso trabalho até agora nos convenceu de que algo está errado com nosso primeiro arquivo de dados. Gostaríamos de verificar os outros 11 da mesma maneira,\n",
    "mas digitar repetidamente os mesmos comandos é tedioso e propenso a erros.\n",
    "Como os computadores não ficam entediados (que sabemos)\n",
    "devemos criar uma maneira de fazer uma análise completa com um único comando,\n",
    "e então descobrir como repetir esse passo uma vez para cada arquivo.\n",
    "Essas operações são assuntos das próximas duas lições."
   ]
  },
  {
   "cell_type": "code",
   "execution_count": null,
   "metadata": {},
   "outputs": [],
   "source": []
  },
  {
   "cell_type": "code",
   "execution_count": null,
   "metadata": {},
   "outputs": [],
   "source": []
  },
  {
   "cell_type": "code",
   "execution_count": null,
   "metadata": {},
   "outputs": [],
   "source": []
  },
  {
   "cell_type": "code",
   "execution_count": null,
   "metadata": {},
   "outputs": [],
   "source": []
  },
  {
   "cell_type": "code",
   "execution_count": null,
   "metadata": {},
   "outputs": [],
   "source": []
  }
 ],
 "metadata": {
  "kernelspec": {
   "display_name": "Python 3",
   "language": "python",
   "name": "python3"
  },
  "language_info": {
   "codemirror_mode": {
    "name": "ipython",
    "version": 3
   },
   "file_extension": ".py",
   "mimetype": "text/x-python",
   "name": "python",
   "nbconvert_exporter": "python",
   "pygments_lexer": "ipython3",
   "version": "3.8.3"
  }
 },
 "nbformat": 4,
 "nbformat_minor": 4
}
�=�`3�A�S�b�,�ԅBR n�O��.��8��P<����o����J^�R�p�1*,�W~��$ 	H@A�"t��ԑ[]8����C�����nΈE'9�9��-!l����2�u!ݘg������O�2�f�"	H@e P]�+Z�j���3d���p��R�t	�V��暜W�Q��u�";4)k��X�X��#�zЅ�x�	�1�U/�?P�&�8� 7q)Ǩ�{���,�E�����OO�>���>z���ܣedR��N����TrC=)�����-���s)�:u�D�و	�T�%��\<���z[T���*��̘1��0D-�&�ė�C�J@��$ ���]���x�x�8`�B��z�	�oٲ�^{���"�.�Y��x�j���h#�7��s��>�4D �K/�D�9	-���4�!�K@�@�	�A
ǚ�B ��s��&��C�ΑGY`�x���b`��T2�(^x!�,�/c$j�A� ���ߟlE�Ew�}7+Q�+X��[X�X���%��KP�n��&D,#u�ڵ[�n������{.��� �.��3���N
kZǣ]�iF���K����(c�b�ҥ(b^�u�.
s���{��ӧ�]-�P���b�a�.5�>2K<��YR	}���'�x"2����1��K���$ 	H@A�"t!Nc�\���2��b�;蠃���F�_|1�V:�/���۷'!@i=7|�m�ن�O�k���KsfH��Y�@
	�A" ���ٿ8ꨣ8� D�#��J�z���Ql.b�a���"��j+���p�����ɲ�.�vć{�P����v����{)���3qg�g��_�TD� ���������(��&�l��^��X��a��+6�'N�ȑ�]w���2B!O�?`�ٳ'%Y�yO�R�-�P�?�ur��a.`��������<���J@��$ �
"P�P��;GN|����'l��M�Nu5E�7{���D��	��{���$�eЅ&+�H2O�j$���VÉ'X������)`'�'/z�v	1KEv&i��Փ�xF�1b�{�jް���� �_!s��vU�@�*	H@��*�@�B�ٞK@�@z�GJ�x�$ 	H@��
P* ǟ$ 	H���Uߜ:"	H@��$ �Pj0:+J@�@%P��Y����$ 	H@MD@]���jV���I@](��b�$ 	H@������P�`�Q	H@h.�B�E�v% 	H@��RH@](��b�$ 	H���5[-K@��$ 	Tu���2;,	H@�!�.�z֕�$ 	H@�2�BU6�G��
P*��_% 	H@��j���PMM����$ u!�$ 	H@��$	�E>H@�@-P��Yv���$ 	H@EP*��$ 	H�:�U�<:
	H@��$ ��P*	F�H@�@�P�������$ 	H@e �.T�6!	H@�!�.����'��$ 	H@�N@]�٧�H@�@9	����mI@��$ 	����P�'��I@�@i	�����$ 	H@��*���PEO����$ ��P�/1�K@��$ 	T1u�*�\�&	H@�ԅ���F��$ 	H�f	����;p	H@�I@]�6��QK@��$ 	�$�.��/% 	H�Z	�U��:.	H@��$ �Pj 4�H@�@�P�ܹ����$ 	H@%'�.Tr���$ �4PJ���7	H@��$ �2P*3p���$ ��%�.Լ�m]��$ 	H UJ��5j֬Y���$ 	����I�F�9~��9s椻��N��$ 	H@MN`�̙�ƍ=z4�q���'�c��S�H@���M`�ر�Ylg�l�{��$ 	H@�@9N�(�{<{��F�B��~$ 	H@��$ 	H@��*�@#u�#F�/���$ 	�� [!a�Ny?�$ 	H@���C �U���]m���*YQ��$P/杮.K@��$ 	T7�R�V��G'	H�j�U�T:	H@��$ ��Pj<C-H@�@P��ɲ���$ 	H@MM@]��	k_��RE@](U�ag$ 	H@������P��u	H@(3u�2�9	H@��$ �4PJ���7	H@(9u��#ՠ$ 	H@�@�P�ܹ����$� �B�f	H@��$ �j%�.T�3�$ 	H 'u��X|)	H@��$P�ԅjs��$ ��%�.T�S��% 	H@���	�e3�$ 	T1u�*�\�&	H@��$P_�B�%fy	H@�h�B=}v^��$ 	H��ԅJ�Sk��$�r�B)� �'	H@��$PN�B�m[��$��ԅ�}
�$ 	H@�@z��g.�$ 	����P ۄ$ 	H@�@�P*<S�����Q���J@�@P��ɪ�����_����+b:�$ 	H@UL@](�����/�f����z�-��-g1_J@�@�PJ�!�̙3g�̙�~��/���շ5�8eʔ��O�0,�3b�$ 	H@��B9gy��ݻw�رc˖-~��ٳg�,�K	H@�8�B����S����g�wl۶m�-^y��Ӆ�u�۷o׮]۴i��VTjgĎI@��$Pԅr����㯻��_~���Rʉȗ��*���Pj'�]���{�G��ڵc��J]��Q�F]z��۷�С��￟��c��$ 	�u�|��O?m���B���^�@�PJ�ı5����W�.����Qh�=�3fLʧ��I@��$P�ԅ�M1� 7�l3u�|||/	H�B	��|����Ν;W�.t�y�-���z���\ʧ��I@��$P�jY"��C��r�U����j���P���u!�}��g���{���	NN�t�=	H@����@��BxS��ԕ�?������{���9�ٺo�H9-�R��RH��t!VV�"��d1��d���\�r֍��5Z%��X&㡘b�,�xΰP�+�A��_�*�Z�Wa"
���O�KE�➵�6�h���"�R���:���>H@��$ �� ]/�����:b�|*���Aa��@He�Vi-/��2L�䉇Α=���ӧO�ذa�Hz�����r��$ 	��@�u����Ֆ�뭷����&O�̛�@de����?��3f�fQ�U��,C�J-�>V@�j�y���P�+�e���O?����I�\��:xZ>|xh���?��sd
��sy�Re�ȑ~�!c�c�I�;O����o��ӦM���X�_5UF�=t���_}�u��>GVL����3jZ�8q�o�:ƚ��>��1�>��c�������8g��__{��V[m��'5/�c�EP����0b]$ 	H@�@�	T�.|9�ճ�>{�5�\h��V]uի���^��ˇ�#�8�K@��v���_?R�]��/�]Z\`��w^��Gy����v��$ 	��@9u!���{�w��^y�]t�y晇�䩧�ʩ ���q��8������~����Z���ʓO>�@��s�W��/� �<�@���3����ǅ�ĥ�	��kp�&/�,���g�u�ꫯ��⋿�꫱��-[.��7�x#�!���`ht�M6�i��6�pC���u�]��l��k��b�-F�^w�u��A��4�|���)����6�&Do[�j5��sg�BE�!i9��,�t�n���L�F���"�QA��~����cD��%Z��������Y��s���[n�e��;��Ӊ�B���;6�`�ä���A�J��Y��$ 	4)��Ѕ�G����\Õb�����_q�\p��yW'<7��3�ۉ'֥KB���
W���v�mǝ��8�ӧ.+~x�֭���|�
��W	H@h^eӅ��G��w_.%G�`Y7n7m��$%i�p�E�m�EY䨣�BMB��ꪫ��rKV���o���C=�c�}XԖYf$���?��1�!�����>�h"V@Q�gڴi��Ap�X=a:h���Gz"2�-�iT�ub	H%��h[,<��sk���뮻��4p���wޙՙ�;�s뭷ff��b�-F��K>`���2�z~B�9��#�m�.Td���3Jˣ�>�"�D|��W0!���tPE�$/�E,1L���\
/�y�7� ��ԅ��;�������ߎgr��ғ믿�m�-Z���;pȨ�W	H@��$�t*BBbwҤI��y�c�=�Yc��@�p(����_ݱcG�[o�5c4_�����~h(��}�!����{;dȐ���{	H@H!���B,"�(뭷��_�8����k��Qr���=�٠�D�]�%iq�q�9�s}AW��O�5Ĩs�=�0!�'���NBi�V��cǆ7��Be"@�K.!*&����7��颋.��,��Tw�}w2�6����Jh_6X��γ{�馛>��3$2��%�P���
��]�	"~&�ի�~x 2�͸���A
�P(�<����n��k��FX2t�"9G#� �H��խ[���/lT�䠧u��,�A��$ 	��@E�Bxt�r?z��mۖ�y4�|�p�P��!��X��;�yO=Ip�q�O8�"���{	H@H'���B�����I	)�C���z*Q+�ࠢp`���ߎe�P��A��ٳ'5�=���*K/�t@
�Q@HIaV@�G�"L��9[�'�>�#�1�!H�S�Nm�u�����j�ٱ�G��2������"R�K�S�|(�5���.T�>d4D?	�bo��wߍBe�.�>�ԅ���ԅ�� ]�.T$������+ZA�#�+Jm��#R	.l�eW�$ 	H@h"�ű��iHn� �����e�,��2�8Io0�)�@[9u!�v�a�0��-`ٟ$ 	H�	�AbA�a�"���`Y�z����sr��Yf��d�BX8��	�9�Ӓ�R�a8�E$�8����3�+���9E����cQ���Ō@$��G̒W������)��[��5���GP�8N�,��իIS<��	-.��P��.DLr��P��3:��A���n\%��µ`�1|+��o$ 	H@�@S�]��\kv?���Z6v�p��B8�le��H�vW�5��4T@Bh"Z�Pyb��bR�)	H@MG��P��d����C��N���,j�}�C>ņ���d�Bd�&�5�)�,��2Ab�8����/_+�!�qR"�z�w���U:C���d-���lF��5�n#�Q��l]�^}�h���v���ԅ������ۗ�dD/ɀ��d$;ʗ�<ێo$ 	H@�@�T�.���˩1�2r�<�?dkd���."b��A�V)7��s��+�=�	��.��4��]v�%��Yݗ��$�NeЅ�a�E*������Aā�����OZ)R"w��Ȫsի�l]�Ŏ�k$�1bD�)ZaDS�q�)_�3*��!U ׵�2ٺP���Ρ��(��F�BEr��_I	�pǎ�̙3㯜���!�x�ݱ���$ 	H��*B� >A�$�$�f�c.w��P�ET������O?�47}ب���BhM쐒
 ��!V�A���L��P8���%��C�$ �e� ��I+E�B�t�Đ�b:�~����l]��O$g5i�>���S!�g�������ͨ����d="�*�e��իmqz�VjJ&�LN](m�V��O��BEr��g�C�:th2���â��ɲ��~��$ 	H@MD�"t��;� y�ř�.���0"4%��	��k��HdM����Pԅ��>�GF8u�T�9�x�o�v�U��RE����	
�l!
q1�ęg���#���7��OZ)R�*vn�$})�cj#���/��0�Z�օ��@W�?���X�S�)ԧ��8���Z���eC�j�=�(ǟ�
y�_~����z�!�	�-`'kt�>}��p��S���;,y�����jȏ��w�H���o����"	v�)�(?��2���>H@��$ �&%P�PH�ȭ.�i8�8��x>7̲�7gΜ��f���s�=�> ��2���������y�q�cH�xnEa۔[��L��Qů��$�~eЅ��׿�j�
-���!C��܆��Ě�t=�뮻�k�飓�8e��Zk!찝�|b���I^�ɲHB�da���T�sI��N�>�E�#K�O��.�?9[�z�L'C���p��ZJX4���ל C�q%M��/��H>�u�So�Wi��ޢ��7t�'�x��Y��Շd<�����N\@����3}|��ElU�>2&��׈�!�����~B�������(�sFgB�lu�����3c�f��،:�T�aį��$ 	H��*B�>N#^.����ŕD\�B���$:����0` ��Q���뇋��-��r�	�����1|饗� '�d��%g]_J@�@j	�A
'�SAQ��s�O~bVQW�9��#s."�,���s�*�<���bD�h�r�5�E���B�{$�����������]`�馛�Y�����v�ڭ[7�%�|ט
�Ċ�*P����TBx}�`�E��^xav"_
�$��"�P&�n�:��r��3�u��UNg0�}b�Y�9�Ţ��D
#���b���-��@��M��B�a�$�f.2t!8C�,���W�^�D�&�p��p��\���_����FT8nP6s��$ 	H@hR����+�'��F���n���t��\ϡ����G��	M/���v�m�a�ך�$>�lG�^mYX���C���:��Av;bl��{�Bn�|�B�ϠZ A ��!s5��+���-��_������)���w�N�81p������E��$�~e'a��^v�uW����u���Aj�M�}��[�ÿÆC;
�{I�;�l�	t��Y(�����?�lE$]e����QK�-��C��\��4 �ه�ɯ#G��-�Ƒ`��z�F�W\1C�
}f�g�Ц��b�'<g#�v�V����S�s���3��d�����N��K��Y��$ 	��@E�B!�)�<�WzN;��M
�P�7����GW�Iո$ 	4�2�Bt�
�&�&��]�䛦#�Y�h����&��Q�i�;�S���cY�Y���@�oǧ1}`K���0�3�P���)ud:���J��Ș�pfC
})��0�W	H@��$Pf�����I@�@U(�.T��iPt�j�c��$ 	H@uP��$ 	H���U�l6x,�BFgE	H@������P�M�Ñ�$ ��ԅ
�_9��}jd��HW��aJ@��$ ��ԅrb�$ 	T+u�j��"�EF 2���k��W����<?�,���$ 	H@�@�P��	u8��$P���Pa>U���ɓ�y���㊷֭[�������iӔ��~��$ 	H@9	����K	H@�V�B�:�E���M���^�����	�b��$ 	Tu�*�P�#	H@�	�����$ 	H@5E@]�����J@������$ 	H@�ԅ"
$ 	H����,;F	H@��$ �"	�	�b��$Pԅ�c�$ 	H@�@I���F$ 	H�R�U�L�O	H@��$ �2P*d���$ ��PJ�\�	H@��$ �f'�.��S`$ 	H��ԅ�I۶$ 	H@��RN@](�d�$ 	H��ԅJ�Sk��$ 	H@M@]�����K@�@}	�՗��% 	H@������PO�C��$ �l�B�L|#	H@��$P�ԅjv��$ ��$�.T���% 	H@��rPʉŗ��$P�ԅ�uf�$ 	H@�@�5 �U$ 	H�r	�U���s	H@��$ ��P*9RJ@�@�	��yv�$ 	H@�@�	����I@�@�Pj^��.	H@��$�*�B��;#	H@MM@]��	k_��$ 	H���J5jԬY�~�#	H@H7�I�&�9r���g�NwO�$ 	H@������3ƍ7z��9s�4XΚ8q">�?��$ �J ��U	�d% 	H@���D ��ۦ�ԅ�#	H@H9����o��i�$ 	H@��$P�Cn�.DW���i~$ 	H@�&�	2�1cƸl�{��$ 	H@�@9L�<߸��Ȱ�e���JV��$ 	ԋ�y������$ 	H@�M�Ty�Յ�����I@��BU3�D��$ 	H��ԅ�P��$PAԅ*h��$ 	H@�@SPjj�ڗ�$ �TPJ�t�	H@��$ ��%�.Լ�m]���L@]���mN��$ 	H �ԅ�<;�M��JN@]��H5(	H@��$P�ԅ*w��$ 	4���P�YE��$ 	H�Z	�U��:.	H@�I@]('_J@��$ 	�&u�ڜwG-	H�f	����;p	H@��$ �l�B�L|#	H@UL@]��'סI@��$ 	ԗ��P}�Y^��*���PEO����$ 	H@(-u���Ԛ$ 	����P�'��I@��$ 	����P9iۖ$ 	4;u�f�; 	H@��$��B����~������W	H@� �Bi��_���?�H[�J��� �%J�S;��$ 	����PN�?��3d����7�|������Y̗��$Pqԅ�0e�%s�̙9s�ԩS���o���ʤ�0�3fL�<��g��0a;Mi o$ 	H@�@u� ���w�ޱcǖ-[>��óg��Y̗��$Pqԅ��ьJrP�>}v�i��m۶h��W^�2]h֬Y}���ڵk�6m�A�~�嗊����$ 	H�������_���/��\sͥ.��/% 	T(u!&�b�����^sm|�.���ٳ]�v,�է!��5��K/m߾}����
�ߋݖ�$ 	H��	���~�i�M7U������*���w��"V Y �4�<�����W�.�����{��رc���MK@��$ �ԅ��!E�f�m�.����% 	T(u!&�GYs�5W_}�?����믿�ܹs�B�w�K,q�pn�9۴$ 	H@(@��u!�&�>��7�����'	H@�K@]��#��З_~ټ+T�.���{���{���	B�����s	H@����@��BxYEJ=���s�=cƌ�Ɠd��օ�`���~�$ ��#�\�+��K1KI��|28k�M�kvŤ~-`���Z� �b��Vk�vCEh L����:�a6�+�	�3�7�k�R1�dm��6Zj�����"�b,XF��$ 	��@�B�v�����?��xl��
����n�.]V[m�+��r�ĉ�.�A�-�#{���O�N��u�ƍ��z�����~��$ �f$P~]���Y��|�M�$Û���a������,|,Ӭz|e
Z� �~��Wo����ѣ��G�k�WLZ!�4?��:�Q7ا#F� ��nS��b����|��o�6mڴ��$+�+MS��̯���СC�^{��sd��!i6��l	1@n����?������~R�> �>0F�G��%�@�sG	�Z0X�3� qB��~{K�L:|���_����_% 	H@�@T�.<t���>{���Zx�W]uի��/�0"�s�9������������A�Ơ]|�Ŵ�k����;�묳7��^ҫX�	H@��ԅ�SH��>���/Yl���g�V�Z=��S9�t�3�8�5� ��z���ۏ5�Ze�U�|�I���;��%�x���Q�)f�2d��'�L+�/�8�Rr�C��7�d��wޙp�VXa�]vy��W�s�����OF����f뮻.�9蠃=������SO�v�m7�pC�غu��;C*�I��gzV�/�p�-��c8�.����%Q����j+���N#G��%T���;�y���ur�8�P�~�(�����5�X㡇b:�Mg<�|���-��駟NXw�q�l@g���/�*��_% 	H@�@�	T�.��Z�^�H�y�-�����+��"*̀�ѫ.0�."�pƢs��zԅ����z���Ӈpw�E��޽{�C��{	H@H-���B�5o��ƾ��{�e��ʲB�)�K.�d�`Qk��,��"�u�Qd�A�`d�-�d�aDj8��C�=��k���e�e�AW�L�()f�D�@����Z(CB�A*A����H��sϱ#C���.���ہ��c�c�m��'mڴ��D7%G��F瑃PW�$��g#�2t�"�-'`�裏n���\�fk=W�s�1�.�(2:�y�s�:���\��S�L��P��L�Bt��#��׊Q�����[��#Ht�)�0���~;�EL�	�}�h�/"@Hv�g	H@��$�,*Bb׏͵��>zҤIP�%�c�=�qc�h�"��~�����4,#*>�Nԅ���-��x���{�~k�3*�U���L�<����/��z��G�8Ǧ�dB�JNJHIĢ{ÆHT{8�E@z���C��0�8��kE����J�.���R��r��w���)���J+�D-��l�l���>�,]%�n$�h�Z,�XH�_�:�ԅ�Շh?<���z�q�*�
t�Py�}�����F;_�e�BhM�{.�Q�h">餓Ѕ
\@����; �qU}����ﾠ�A�vAM�]$ 	H@�@3�]7�@z"�'��۶m[����=�iL�
�/���L�>^����e>��#�s�gO8�"�3j�U��RN�<��A���QRB"�h3q>��䣄��ņ%�M��-[��ٓؕX���ClYz�c R�+f�V��ԩ��Яb<�[���qv,n��������E{!�[3���~�}d��C����D.u�ؑ����=�BH4I]�� Α���I]�m f-C�s@kbk��N��A\T�f��Ble��+�:�Yg���;B��VW,�$ 	H@h.�E88��$���?D�ا�U��Ʉ���[㘱]���]�7�t!~b�����oN����$ �f'P]��G��SD���'�Շ�,=����i|��ٺ�8͡��N;-�)q��{��(_x����E]�y���.�e�|��dK�,d�-��	on��F"��V�e�u�z�!i�g�8!�%;
Ѕ?�S��K�Ү];D3T8��i����?>_���+��2Ј�JN7�CD.���<N���$ 	H@h���MW�Z@F� 2���?���>��@n|�dxF�����O���e��$ 	��@t� D ��&�@�a���/�P� sN�#��p�+C"�4!��P1+f�V9�t���h��QEX@Û�2jů������u�z�!�S!�a!#�u#u!"���8���F�����r�x��n��}��%�+�/9�F�(2�K<�Ӕ/% 	H@�@��]��c8c�#�%���"�#�u��#I5�ҙg����E$O<�D����v]�+� ����d�����$�~eЅH��"�XP� �ބ(��d�Oo)R*r���
�GՈ�%�QF�HmM�Ѡ>����SN��א�Su����>[�W���@�o�e��H]��{J&��h7�W�T�&��G+�����y[U�q;QQ슽W�ƆE�Wl�{/��QG�J�b/����[�w����XH`����5�f��{�>��ӟ��>{�k�gg��ֻޗ��d�.&��B��$ 	T�@C�B�'�����{���ΨE�"����I1��o�����Q�Ѕ�wͶ))�IJ[�[	H@�UЅ��G�(J�!/ �&���B[zKF](㊙�ʉ'�H,�ꫯN����
?��oL�j���'��L�x���6źPY}���Eh��>� ��Ru�p���j��H�/�#:�H��֟�y'6��Ԉq���m�����K�,kˈ�% 	H@�@u4�.DiW��?�x���%�Bi���ᛑ�O�G�l�q-���><�#�	��(k�9���i�;�	H@�UЅp��T�B�0�Ѫh�E�rb�m�(Y[zKF](㊙�
k+�TQ1b�]�,DT���8��+,�$�&I5ٞ�i� �ٳ'y�AD+�UV
ZA�0��e���L�.D$�%5t�H8r���NS��B�����b�(�ff�1B�z�o�:kDX�;~�42,��(8L�B��$ 	Ԅ@C�Bl��R��O�l�Сۧ�,{��6�^.�ԩS���JN��+����v�^b�����f���)E)	'�R)D.Q����	H@�7UЅ��c���EbԨQd��44��d�<x0"�W\�L�DDD�*!���D�w��&�"��g\19�F+�W�WF�V�sn�az��ߐ��������~ƛ�'���aI�4�<� ���#,�#G��>}:+oY}H6�5e�p�t�B�Q��R��=>A�*H���OPM�����i�zHHa���]PD�z�2v�~��iӦ���G}��k�I���"[Z�G��'��H.Đے����$ 	H�:BbS?��`C���+�hq�I���{"��֋�}�12<P���w�������:N,�G��^�Lr���� i@AN˲,��$ 	Ԑ@t�p����,yf)���H.D�y䑩�ϰ(�v�m�;HÆCL`1B�`{��;hM�H:$�>S������p��J����y�Bi�H+<��T�_��!�80�5���.6D�sBQh����z+�Х�sz��wsB�U��؜G4ha���|�;�	|�b��m��
�iq�����86�HI��](�H|EO�"&��c��I��B��%��`����7�	9�-�ܒX#R�3;ŝa.�ȸ�)��C����~�qQ�7Rl�;��$ 	H _��t�@���F0�N������¥D�I��G>�{v�ěe]���D�1�.�I|z��gkZ��0��$ ��"P]��1G 9ꨣ�	R � g�تH�0A5H����S8�C�J���$F�`�́��p��Sh��nw�$32χ	�A�J��a��5���!�f�%�)*?���Vl�B�b-�PU���?�IR�nݺ�՜�)�X#��ÆG�h:�j�%;v,� �c$�E�I�]�aᩧ�bYg�x!���H`�}�Ä�.|E�9E�	��,�֛o�Y�� �����J�^��(��J�߯$ 	H@�@�	4�.��%�⎆?�9�O��b��dW~̘1/��;��?�ŸF$ 	H����1(�^M�<9j)ܡ]��ʍ��+&�Cx饗�]�R(I�ٰ�r �n� �3}��9�9 a$5�P�O7��B��1��#+EO�`���Id׉H�,�H��R0^`�?% 	H@�@�h ]�N��	H@hh�хQ�u��.�d#u8��$ 	H�ԅ: �W$ 	H�q	�5��u���B��[��$ 	�u��h�)	H@���P��8�FR&��q�����x% 	H@�@�ԅ�E���$�Lԅ�i6K���@$z���IMu0jӓш����[	H@��$�RԅZj��$ 	���o��k�>�����OӮ]���׏�nӦMSj�߀#��$ 	H�]�B�"�	H@h&�B�4���B��.�l����@��Pin~+	H@�@KPj��v���$�.�o@��$ 	H@���PD�$ 	�u�V�e�(	H@��$����PFP>&	H@�A@]�9��QH@��$ 	�B@](���$ �F!�.�(3e?% 	H@���@@]�
�mB��ꇀ�P�̅=��$ 	H@�9u��O���$ �jP�&mے�$ 	H@�s�Bu>AvO���%�.�/O�I@��$ 	44u���>;/	H@�P*���K@��$ 	41u�&�\�&	H@�ԅ��xG��$ 	H�e	����;p	H@�I@]�5��QK@��$ 	�PJ��M	H@hV�B�:��K��$ 	H�ԅ: �W$ 	H�q	�5���s	H@��$ ��	��T���$P�ԅ�yv�$ 	H@�@�	�U��I@�@m	�Ֆ��K@��$ 	�u���;#	H@�&�.Ti�ڗ�$ 	H@h �B4YvU��:O@]��� 	H@��$�4�҅ƍ7cƌ��H@�����)SƎ;iҤ�3g�wO�$ 	H@��*N`���'N?~��Y�:,vM�<{	��#	H@�gld�f�l���7	H@��$ ��@
�1ۦ�ԅ��+	H@��$ 	H@��$�X:�����hY���$ 	�7��!B�G�껧�N��$ 	H@'��Q�I]7�3:����$ ���w�,\>,	H@��$����;�.�ܿG'	H�i�5�T:	H@��$ ��P�<C-H@�@Pj�ɲ���$ 	H@�&�.Ti�ڗ�$ ��"�.TW�ag$ 	H@��jK@]���m]���L@]���mN��$ 	H��	�����7	H@ȝ��P�H5(	H@��$иԅw��$ 	t���P���$ 	H@�@�Pj֙u\��$�J@](�7% 	H@��Z���Pkλ���$вԅZv��$ 	H@�@1u�b&ޑ�$ �&&�.�ē��$ 	H@���%�.T.1���$ ��&�.���g�% 	H@���%�.�/O�I@�@�P��	�{��$ 	H@�$�.TMڶ%	H@5'�.T�)���$ 	H@�C@](߹�駟~���|mjM��r$�.�#LMu��/�����;�n�W0��?�d��c��$ �'�.����ￇ�W_}5f��Ł3��Y�H@�@�ԅrG��,ЂfΜ��7ߌ?���_���o��U�3�A�f͚>}�g�}��c�}��G4Z���$ 	H�	��2�#G�<��CW\q�9��o��_.f5"	H@�P�iCd˦�"	ZЙg�ٳgϹ���&wn3f̸�K��r�X`��f{�G~���[Ѡ$ 	H@MF@](�	�4iҵ�^��r���W�R��F$ 	T���P��ֳY����W^�������?bxz��եK�
�Bh_�ƍ�����RK���
���Z=O�}��$ 	H�N��5�}�ݦ�n�.�O�H@�u�
��g�w�q:	j	�Pm�ٿ�E]�B�P�]w��`w�}�	&�v��.	H@�@CP�k����f����S;��*D@]�B`����޻�Zk���o��Fm�9x���_����y睷�"�8�����% 	H@h��n͹��
��5��NJ@Pj�� k=���\���.�H���׵k�#F�܂s�% 	H@(�@��B8<���J�IN>ƿ���_|�E��R�/օh%/�)�EoJ@�@�JbE`]`�Ȳ4$�O�H��vM��M�m��u�e+�oESɋh���u���,�S_�~���p?�س7��|��P	S��?���6�h�%�H��kk��)	H@�@�h ]��t��^}���f��_�:�!���O?��^{�52*��ro�t�sdÇ���/�!.�ĉ)^�cTR���y	H@( P}]��￧(9�ט1cH�駟r��W�O�YX����7�|�j�Y,Ӭz�ɲjK���~��'/��"ϩ{�Tl�g��w�����Hr%��BZ�{<ƲE�R���({���y���
�K�[`�?����ҁiӦ��0�ۮeޅ	���0^�p�1B����Iv&yMOX�����`�>�5��  ·�x%������U��B�J�1^?�쳫���v�mGjn�K������������z!	H@�@k�����%>U�	L�<xh�P�E�=����/�}��k�����Ͽ�j�]~��8��_L~K�~��d��f�m~�a���	h�S���ݠ]p���l�y���:�C�2ԡ�&��$ 	T�@5u!�i��A�c6#�w����>��s�9�C=�����{�w��k;\������bx�G�>� �ȥ�^�5�
q���G`��Xn�:���v�a�7�Ԛk�y�=��nx������O��nݺ�=�*�2�s,��b���ָ݈�8{(4J-��vډp��_~�w�]ē���g�<��&���]w]zx� J$��,��k�9�>}�,��2;��رcyd�a�`��;dRy���x≓O>��1-��F�!����`\o����~��:4��?�9%{�p��dх2��I^\���.��駟Ρ9~{��r�l�O����O>�ҕ|�k	H@��$ ��Ѕ��0` �7܀4lذ�VZ	�e�ȑY��_���r
��qk	��gN� �x�e[���-�*�Bl�Q��s�C��ٳ'��\s�u�E��&[�Z��jB�j��
��{�Ml*(,ĥ����h/�3>I�,"��3ς.x�QG�(��}�-�؂Մu��|���w��W_}ꩧ.��ҿ���y&�Q�Ru�G{챔�b$B	�c�@<A	���￟��{%��/9�i��Y[Qu
T�g�y&�,�5�m�׿�5��<� ��o>䈭�ޚ��.�'�)9�x��2C������.���>�ss�ԩHX,�T|������u:u!��/�Z	��&_��7��'�E7�!���tF_%�.��TĘ�����s��7 ��>	9�g�m6\,'�Z��$ 	@�!t�A���u�1�L�2�>���nl~�F�{�y�I|`�p|f�$�n��`4�~�5׬��D"���o����bԅ���S8�8�8����_���׽)	H@�!P]�E�3ˬ;�}���<�Q�����"%�C�"Q�a���޽{�@\MX���A�aS#XC�:��s	Bzb7O:�$��d����ߨLQ+���9^Da��pVx�e��w�����b�-_�SC\��+�Lh�sM���t�M{�1E�RE��,�D�o߾}jB[�I����d�XRb
@�Z���:��)�Z�7BC���dх2����i�<!�Q���gw�ygP�A�~�a�}��G�a/$ 	H@�@ ���uQ=a\�E]��o��5�xG� ^|�ń�������Wx�#f�ɥ?�l�:�LՅ���[o�y�f�p�	u7�	H@�&���BlI��A��Ŀ�WXa���:jT 'c�!�笳�JnOP=ef�%��H�F,yD.���a$0��a*4��
_q��8���BqVYe����&�X�8;�h�Yn��Oj7J�,˄1|%u!va��E*/'��0b:��
#��6�ofl:���E�h*�0^��(�C�â�G�a`zW|�	H@��Z�@C�Bq�p��^$��>D�$�>�3���o���2q�4>��E[���C��]��|;�5	H@h�@t!V�3�<�u��2����q��#>ĳWŝ��s�.�cd��|-��Sx1�D���Q^x!ǻ�����d���I+�a��mi���:�� ����?��n�mR�
_x���Hɯ�Y�<2#�gJ��,�A�!Z�c�P�x9]�~R!E��(Xm��VhŞ��ti_%�.�.m*>/(�J�3�B4W�7F����c��+^H@��$ �Fх���$( �r��o^_<�8Ʉ����lek���
��O	��N'ϑ����n"��ء⦽#	H@�$P]�d(�X�/A��_�bQkk��
Fx���8�Bd�&$5�)�,��2Ab��%̵x�j�N�qp;��"��`������ż�Wm�-x1�Y��rř��;FZl*D�D*�P��u���teo:���Q�b�`��y�%�����&G�E��䉹�w�#	H@�@�h]I��Scd�$4��*�Z:^�9%�&9�x�j#��w�����c��s&h����z,��ZJ�B�e�ϤtKȖ���7% 	H�:��!5��$���"�8�U���+᱌�'��MT������Z)օX�8�VB�
#B�z��Ý��w�;eY�.Τ�U�1f�裏Fj#�7aW�C<����8Q��26��Wɢe4U<R�
��pⷜ1$�4ٿ�AP�[/$ 	H@�@C�B��'.W��	�U.w��P�_�t��BU�3��� �A��S��ӡhSx���O&��'	H@5!P](���a',:��B����D����@)�.N.S���x�j�X:��	�%��7�(0�YS�,��k�l���ϲ,��a�;K�˞_(�c�	�@`�f�I��ݻ3Gd/(u��錾J](����' ����c�[`lZ��F��뮻.y���]���$ 	H��	4�.D�U��?�x��0YA*�3Pz�E��J5�=�ܓ~Rq&w9h�ꫯ������6ㅆ��$�%uu9G���ϖ��7% 	H�j���ʱ�8U�J�q������=,��5(9�T�2�BAv �Q�1���M��T���j�Xb��@u�F��L0��T���-����,C7H��<��б�&�d�;]�1�L�)���8���Lgl:���E�h*����LGu4�W���6?��c��/$ 	H@hq�����I�U�A�RݡC���G���a��[z6�>�X<��K�L�~�S+�n��F]�������z+D:Q5x�ԩ��	H@�4�*�B{�y���L��Q�F�H��Є��嘺�$ʻ�+�飓C&%��v�M�'8����-Y)|�|�pr�!�pt���6m�����}�Q"cc��eKm%�N� T�p���	�&�)�"�C\I�)�f���(��eYf��&�0D^���3��h_d7B��;�Y��ePC��p���%�|�>8����gl:��2`��v�f4���uо�G=z4(����Fr!���t�#�)	H@�@h]��:?�\Jz2�B�[o�5�1�a�������9�O�>�]u�UT7�e��!�Y(�B�[}��ה�%:���X�%��4"	H@&P]���W��BQ��3[��|�}�A��RؑG��(��2%�XG�:�ƿ�Y\Ȅ�v�hMl� q��q��)|��+�<��3� �P�bd�G�g�;�CH�G�����䋴^DAZA��A8(	<�D-�2�80;�)0v=�AD�?X�?t��[o噶"l��e��8c�ҥ �&�h%8���a6e���}.B�(:�GLP?��SHj�X`�X��05�fP,��TƦ	*�p����[]�i�'�.Nv�뎹=g��$)���i��8����S��$ 	@�!t!\�A��ѱFU/�Ns싀v�(����Ҳ&���o�/ǵ�K<�3�r��J?�e�ӻw����%���$ �*��.D�p���Bv;bl¿��:��(U�v
NF EB�t"�86E�D���P,��|��L���'�u��	5D�)S��t ��[�n�G<@�UP~�����/x��o߾TI��L��~Bh�A�Bd`!F�@;�?�6E凐:���/�@���J�]��a�VU���!���˲(�7�8*U,����#��%��!Iэ7ވ���D��.�rBh��*SYM�W��U8f��NB ܣG��.�,Ƕ���C�n��������/i�k	H@��$PL�!t��m\G\P<��'='d�0��A��8��2����+vPk�7���$ TA��YM�<9�&�]�䝊N�#%1>y5�^��^z������g!�
���ǎ��x�.��:�,��.��r}��Qz��,t'�!��$��M��t��]x HdQYL|X��$ ��$�@�PkN����$ �|	TGʷ�Z˝ W�M��,pF+������!4"΃�ޮ% 	H@�@�P���?��$PQ�B���	�<繈*>���=N�;/�㲓��$ 	H�ԅ: �W$ 	H�q	�5����sRI����bźZ��v�qGR7�՜v$ 	H@�@=P��ٱo��$�;u�ܑ6�ARp�d���T� a�,������d�&���ynZ�$ 	H@#�.�1n�%	H@J@]�A'.�n?��3={��ڵ+��(G������o�v�Y��mNk��$ 	H�n	�����1	H@�u�JPmD���߿�>}�t����p�v�6mZ#��>K@��$ �P�0:_��$ �F$�.Ԉ�f�% 	H@��*D@]�B`5+	H@�I@]�>��^I@��$ 	Ԅ��PM�ۨ$ 	Ԋ��P��ۮ$ 	H@�@P��I�K��$P9�B�c�e	H@��$ ��#�.�pSf�% 	H�3ԅ:C�w% 	H@������P�M�Ñ�$ ��ԅJ��[	H@��$ ��"�.�R��`% 	H@]�߀$ 	H@��"u���	H@h�B�0ˎQ��$ 	H #u���|L������Pṣ���$ 	H@ȅ��P.5"	H@�B@]�Qf�~J@��$ 	T���P ۄ$ 	�u���{"	H@��$Ps�B5�; 	H@�$�.TMڶ%	H@��$P�ԅ�|��$ 	�K@](_�Z��$ 	H@hh�B=}v^���%�.T.1���$ 	H@hb�BM<�M���	�3�$ 	H@�@�Pj٩w���Z���Pkλ���$ 	H@H%��.4nܸ3f��G��$P��L�2v��I�&͚5��{j�$ 	H@��$Pq�~��ĉǏ�{�*e�9y�dt��>��s?��$ ��&0a�t!����%{'	H@��$P%�1���̙3�H@�Ϡ�c���$ 	H@��$ 	H@hD�ԅ��}���H@���@\�]��{��$ 	H@�@5��!��tR�Ng,��!yS��$�;�N�T���$ 	H@�K ����B������Z���PKM����$ 	H@(M@]�4���$ �&#�.�d�p$ 	H@��:C@]�3�|W�����P�M���$ 	H@�u�ʱղ$ 	�!u�:��$	H@��$P+�B�"o���$P�B5�n���$ 	H@�I@]�>��^I@�@��U�f% 	H@�����P#Κ}��$ �P�0:_��$ 	H@h>�B�7��H��JP*ǯ$ 	H@��Z���P�͸㕀$��ԅZ���% 	H@���ԅ�4���$ ��'�.��S� % 	H@���P���'% 	H�	�5�$:	H@��$ ����ER;��$�ԅb��$ 	H@�@u�U���H@�@�P������$ 	H@�@@](�Y�駟~���|mjM��r$�.�#LM�&��/����ҏu�[������a���$ �'�.����ￇ�W_}5f��Ł���Y�H@�@�ԅrG��hA3g���oƏ�����t�O�Y�fM�>���>{��>��#�Y-H@��$Ђԅr���#Gz�+���s���o0���$ ��	��la4��P�B:��3{��9��s� ���3�1c�%�\��[.����6�#�<��?�ފ% 	H@h�B���I������[�W����P.H5"	H�Bԅ ����㏿��+M��Q'�����GO�^��t�R!]�kܸq���Zj�VX��^���/���$ 	H��	��5��}�ݦ�n�.�O�H@�u!��q��	H
HC�\�u5����/��҅޻y�}��'L�P�6*	H@�@P�kI���f����S;��*D@]���{�Zk���k����\�u5���/���Յ�;�EYd���D(���J@��$��X"m頫V�C]�	�wp�@+Pb��Z�"���7Y�����*�1�~��u��uĈ-�����Q��$ �Jh8]/(��Cl�����P���*A/i�XB��B��>x-	H@���.Ċ���b�eiH>�5��qk�M�m�I;|[���m������JX+h7�����u	�|���\r��P	S�d>���6�h�%�H,1�T#ޔ�$ 	H@��ȑ�z�����l���?_~��M6�d��W���K'O�L�P��;�c��Ȇ��_�C���'R��!m��=�u	H@-E�����Y�ƌC~�O?��;�̉�a�����|�MJ���L���'�J(8ł�
��'���⋔A�:P���+&�����y����>}x����)��<��d��<@?����/֦M�Vܙ�b��y��c�ֿ��8�p���^O�qa����-��F�(��Ґuv]�]S�a���g����n��H@�}~T���W?��ö~`�׽��$ 	H@� ���p,q�:���m�P�E<I���s��g������?�j��v��ㅖ~�ʰ�s)�_��n�	/�-��&pG���X[-�nЅ.�����6��R�d�u֡B�P�w۲�}	H@ȝ@5u!����@2��ګ{��/����>�s>��C��r��~��߱���/���>��@��z�����"b ��߁5q���G`
����O<���'�L+ݺuC\J�Q(ا��N;�D8���/���;�=�$.d��Ɉ�(m���ҙ8 Q"i0^g��\êݧO�e�Yf�w;v,�3^������;R��d�q���z����+��[o������/͝x�GqD�v�@�?Yt���"�����_��˞~���gv�-�l������<�䓨dɇ���$ 	H@mh]�����n@6l�J+���2r��,r�%0���o�D�����2��l���Y���ږ�u!v�Y�a��C����'v���袋�lۚ�K@�@�TMb�x�����{�!C����2A�
��-�X��Or�,"��3ς.x�QG�=I�}�-�؂Մu)���>�㮾��SO=u饗����3q�$ˊy�=�l��6�2�|��B�:2��<�L�5j;2����+�6��<� �1�#��zkz���O���#��Y,�4s�����.l9�:7�N���?�y�喣�M���5.���/Ak�;D�dԿ��o@�`�����Z�v�@��,�PFSc��SN�wr��7��?��'���t��6^��{-	H@���"��РA���:�c�L��@pw�m7v��##����'�����q�	|�G�Q��\sͪ��J$R���HC�ßQBz��S8�8������|��׽)	H@�!P]�E�駟&.%�/�q0�4�	�:^��5�\��6D����9�"�{�恸��*�æF��q�$ȇV
t!�jXjZh��n�� v�M�VV^ye�b\�~���Ǧ�n��c��U���F�hS�嫮�j����۷/Q����o\Z���qAz�%�0��N;��{�������f��E�h*r��0�<!�Q���gw�ygP�A����#d:>�$ 	H@(A�!t!¡��&�>z��Q�.�(���+1��p�1����%gBb�sj�n��vg��KC����z�-�Q6%O8�"����	H@�&���B�q��OI	��s�9F���i���K�s�1�Yg��ܞ�����\��K� ��+fj+�⬲�*�/C�J��%�e,d���1�7���?�[�eB�����WRb����B���aƐ'�SW8��M�m����f��E�h*v;^��{(�B��E��'�%������$ 	H �@C�B��8��9�ՙ>D����&L��f�@"�V[m���� �2�X���t!�bێ��ĥ���$ 	�E�
�+g��:EiyB�Y}��҃"d��w�-օx��"�%��
/�Hׂ�`|[z�Lm�����ض�n�ԲBCx ْ_�n$A
ϔ�oY��>C`pt��qq�
�$�B
�At��(R'��zށvKC΢Eh�M������93)Ds%N�q
�T���{!	H@��Jh]�xi�J�2* �)�<Ѕ��s�	��x�1�G����D�)��sd�����D�>�C�/zG���I�
��'Ȑ�*�9,^��׿��<�\0�Te�g����S�.DVBRt�,+fj+�aFg ��N�
���Mb_�Z(x+�Y���3���^�D1B�H�꯱d#UqD=�UV�Y gԅ�����\r	qb�}�OJ+�S��<yb.��$ 	H@H%�����	���/�W�4Y�?Y�.��C�j��3�8_��#����K�["ɉ�/���o7�t�.t���|R�%��L�oJ@�@uTAB`�J
,�A&Dh��J�xS��̨e\1S[a��Z2�&����t���7S-��.ʲ\�>S�Pj����G���Ǜ+<c+�<��]�v3B΢e4U0L����Z$g8�[��w���1*~�$ 	H@h�@C�B�'X���@�.wF]((B�8#n���7����o��k�I��N�&ȏ�;ʑ�dR�d�^K@�@�TA
g�b,

��"���'MP�=�Te8u��+fj+�k'��*5L�I'��W��oL�j���gY�C�0�%Ae�/�V��b-&�̈́�Vݻwg:H��j��݌���BME��3�Ğ���ԋ1�� (���~�u�%O�����$ 	H��@C�B�^%H���Ǚ��PA򁂡�'���F�z���&��ROܓH��W_%IB��=��+n�;�����c=2��sRl�sd�~t&�]oJ@�@�TA"���<lFP�Q���D��ov�"J���0�����ldԅ2������OKݮ#F$���޻ kM�����?˲L� �r��5B�&�l�n���^1��`s�24��<\�"go7#�,�PFS�d��7L:"�(����������x!	H@���	4�.D�f�Q��"⩒�s�С������iD\���rO�:��+���V�q�Z��u!4�(=�R��H�s�=��t�	_��$ ����.��{�G跿�-��F�EvNC�B�����Cq�W�$����D,[��!D6� ;�.(mɲH����WLβ�
��ĕ��z�M:L��}��[#D�\|�����x3���uY��x�	j�C��!X�y����#�]�;��f�O���B�#T��]M�>/"|�X�c糷��ڭ���T&�A�b�l��Ѡ��nF�ɅP�ڒ���$ 	H@Bbo�LJz2��[o�5�1i��sO���︯<F�����T�IǱ���g��J���%aGը?K�:{��W�u�K@�@FUЅPo8uEud�<���?���g$��_��#�L]x�E�:Y�# Æ��,.��a��=hMl� }��}����+�HFe.(��J����y�Bi�H+<��$�_�lq�m���!���'N���A�k"
Mӽ`��[o噶�i�d���=��ҥ�&�h%��5����z�U긞z�)�3�,0,�|��w3(��`*{��B��`:��o?v���E=�4�E��R=�3M���8<Ȇ4�E�ؐ��$ 	H�-��4���1�z�t�c_��e���h/�S-#�������_U�O�y�+�X�I,�޽{�}���p�J@� �*�B���<*Gu�7����}饗f���H!��=�vAX�RQ� ��d2T��I�Lj� {�&'�PN87��I�;��/.��R�W�L>����4.QLQ�!䆶b�V��kq�ɬ��i�r|%���kA���ܲ��s�Q���ĸn��F"�њ��B����KM�~8*Sh:c��B�D9[E�2'�/��K��E��R=^$n
��[�n�z��!�*i�k	H@��$��@C�Ba,�������Oz��ClyƑV�1vq�ǌ�� `��Z�>؊$ 	� P]��9{5y�䨥p�vY �wJt��_u~�D�`/��R�kYF�l�g�V���`y;vl���ûX;묳����9�MAR�����4���%{���G�1S�i�l �Dњ��$ 	H�,��5.��$ 	���.�ڴ7kB��*N�����'�"K3�ChDUJk�O��$ 	H@5!�.T�6*	H@�"�.T+�5i�`!*�q����n����ޣ�>�j�I��$ 	H@5$�.TC�6-	H@�'�.T}�5l�l�d(�X�.�D&�wܑ��5�MK@��$ ��P�-[��$ �*P�2��6G퉾}��q�B$,��!�3��9���$�6?Om���% 	H@�-u���u	H@�2u�*�ys�<�LϞ=�v�J6*�Q�~�������a�8AF�����H@��$ �P�!|���$ ��P�>�HѮ�����ӇJ�믿�@a�iӦռcv@��$ 	Ԝ��Pͧ�H@�@5	�U��mI@��$ 	�9u�:� �'	H@�Pʗ��$ 	H@�����PCO����$ �r	��K��% 	H@������PO�C��$ �b�B�L�#	H@��$вԅZv��$ ��$�.Ԛ��% 	H@��R	��b�$ 	4+u�f�Y�%	H@��$��B��+��$иԅw��$ 	H@�@�ԅrG�A	H@�g�B�<;�M��$ 	H��ԅ���$ 	H��ԅj���% 	H@��ꊀ�P]M����$ �JP�4a�K@��$ 	4u��,�*	H@�'�.�y�Z��$ 	H@h�BM3�D���P�B�g$ 	H@��Z���P�L�Ô�$ �@@]�_�$ 	H@��"u���	H@h�B�0ˎQ��$ 	H #u���|L������Pṣ���$ 	H@ȅ��P.5"	H@�B@]�Qf�~J@��$ 	T�@^�иq�f̘�	H@�@}�2e�رc'M�4s�����$ 	H@�@�	L�>}�ĉ�Ǐ�5kV�e�ɓ'�c#aǏ$ 	H��	�`���V=O�}��$ 	H@�����m�a]��W���̗�H@�@'	�`�O'���$ 	H@����@p�;�}��W���7�|�	H@�@}�:u*)�>��ӯ����{j�$ 	H@��$Pq�9_��Ϗ?���x!_��$ 	H@��$ 	H@��$ 	H@��$ 	H@��$ 	H@��$ 	H@��$ 	H@��$ 	H@��$ 	H@��$ 	H@��$ 	H@��$ 	H@��$ 	H@�����\��h
endstream
endobj
86 0 obj
45016
endobj
89 0 obj
<< /Length 90 0 R /Type /XObject /Subtype /Image /Width 1544 /Height 452 /ColorSpace
/DeviceGray /Interpolate true /BitsPerComponent 8 /Filter /FlateDecode >>
stream
x�Ё    � ��Pa��0`��0`��0`��0`��0`��0`��0`��0`��0`��0`��0`��0`��0`��0`��0`��0`��0`��0`��0`��0`��0`��0`��0`��0`��0`��0`��0`��0`��0`��0`��0`��0`��0`��0`��0`��0`��0`��0`��0`��0`��0`��0`��0`��0`��0`��0`��0`��0`��0`��0`��0`��0`��0`��0`��0`��0`��0`��0`��0`��0`��0`��0`��0`��0`��0`��0`��0`��0`��0`��0`��0`��0`��0`��0`��0`��0`��0`��0`��0`��0`��0`��0`��0`��0`��0`��0`��0`��0`��0`��0`��0`��0`��0`��0`��0`��0`��0`��0`��0`��0`��0`��0`��0`��0`��0`��0`��0`��0`��0`��0`��0`��0`��0`��0`��0`��0`��0`��0`��0`��0`��0`��0`��0`��0`��0`��0`��0`��0`��0`��0`��0`��0`��0`��0`��0`��0`��0`��0`��0`��0`��0`��0`��0`��0`��0`��0`��0`��0`��0`��0`��0`��0`��0`��0`��0`��0`��0`��0`��0`��0`��0`��0`��0`��0`��0`��0`��0`��0`��0`��0`��0`��0`��0`��0`��0`��0`��0`��0`��0`��0`��0`��0`��0`��0`��0`��0`��0`��0`��0`��0`��0`��0`��0`��0`��0`��0`��0`��0`��0`��0`��0`��0`��0`��0`��0`��0`��0`��0`��0`��0`��0`��0`��0`��0`��0`��0`��0`��0`��0`��0`��0`��0`��0`��0`��0`��0`��0`��0`��0`��0`��0`��0`��0`��0`��0`��0`��0`��0`��0`��0`��0`��0`��0`��0`��0`��0`��0`��0`��0`��0`��0`��0`��0`��0`��0`��0`��0`��0`��0`��0`��0`��0`��0`��0`��0`��0`��0`��0`��0`��0`��0`��0`��0`��0`��0`��0`��0`��0`��0`��0`��0`��0`��0`��0`��0`��0`��0`��0`��0`��0`��0`��0`��0`��0`��0`��0`��0`��0`��0`��0`��0`��0`��0`��0`��0`��0`��0`��0`��0`��0`��0`��0`��0`��0`��0`��0`��0`��0`��0`��0`��0`��0`��0`��0`��0`��0`��0`��0`��0`��0`��0`��0`��0`��0`��0`��0`��0`���]�
endstream
endobj
90 0 obj
3065
endobj
91 0 obj
<< /Length 92 0 R /N 3 /Alternate /DeviceRGB /Filter /FlateDecode >>
stream
x���K�@ǿ����E��!S]��֡"���BiMi[�iC�b���@�I'�G''�Ap�� 8T�H���Sq���}�{��{wp5%]��hU�(,��յu�ӂ>�1��$��d>�%�>���=�Y���������}��s0;_�s�W�*j]�!�.k��ND����8�k���*���q��/�E�],Θ�TH� �H�a�q���rYR�'K,85�b��%��p���ߢU�N{����e���f"2�CQ�%7�&�H��=c�T6�$��ʧk��0UC��rD���X����1�v?�񧞶}L} �=M�n怀��&Ψ�O�vE�ɉG+�q���oN�mΗ�,�<�@�Ȳ�/,�{I�[�]���k}
endstream
endobj
92 0 obj
383
endobj
88 0 obj
[ /ICCBased 91 0 R ]
endobj
87 0 obj
<< /Length 93 0 R /FunctionType 0 /BitsPerSample 8 /Size [ 1365 ] /Domain
[ 0 1 ] /Range [ 0 1 0 1 0 1 ] /Filter /FlateDecode >>
stream
x���W�p  ������{m�ݵ���23��V�pA�e����>�X������*�S�zdE�'%E���ʒle�&K���K�$Y+	���$����9Qr9Q;9gs�ڧsQ- ϧ�kV��A~�j~����	/��	�1'�I~��팧W�x�OM9��)�>ˑZ��g�ꐝ2��〙9N �L��)��L]�����^�Ƭk�����.�x�Ҍ�A�'����ѤM��P��&�9�=l�c-�"�ݲn��A�447��U��=UX��=N�L�8�HVq}'�Yq,c�K������>�#��aa�|o�����\w�,:X1��<�Mwp����R,նO����'�8���qm�/�b�}��[��u��[�FZ�����f�7�0�?�P�!�7А�s���q�w������޶��O�ǵ�#r\S.W�����8��*��G�}�X�}���_��[�y�gI����}/B������ 96
�oy�_��\�k�~���\]�5��gk��3�=��^F�k���.JW+�ҕ�S�R�d���}��.YV'���%�o��7��7q�N���wL�cE��vL�:Z ~-#�W�/#y�H~��rn����<gν�����g�����YV�yzf�<q�8�yJ�O-�������`�x�z�|�$	|�8	��{lH���	$�w��������Ql�(v���Ql�w5�����@/�
endstream
endobj
93 0 obj
744
endobj
95 0 obj
<< /Length 96 0 R /Filter /FlateDecode >>
stream
x��ˮ�HV๟��j�v�{J�L �ĠuȢ����Jx
�;���?��.�j�F�qٗ����?������q�7��vk�c�[_ֱ��c��������Կ|������_zz��t����>���S�c�õ�5�v�g
����q��ѴoF���Mo�?��>�������?~������u������C^�^~�������u���ܗ�a���g�/sY�1��i��Z;���o��?�u8�u[K?�~.��^u��u^��X�}��m��u4��Ӱ�5#Ӽl��-�>�K���~����/S��L�0mS�\�:�e*oN�,VZ���_����P���Y~k��i�i�e��:l�\k��e��q<m�}/OC�/s�)ۺ.;�òϛ�7F�^ѯ�`���O�:�u�Yo���������J_���ŏ����~�l����o�Ä�c�4���ʏ��ֱ��4�k&�v'4�K_�0���O�2l�6u�ĨsF�r�_c��d��ᜈ�&�����'Ǜ���uێ~��8n����\�Z��{���s��ӱ�63�}�c��P�9� 0�ƀb��f;_�n��k���x�ߺ���{k^f޶>1?N����;���#3��Q�a�#�ƨ��Ƕe�[�������C>�@f|�kOt�i�jݦ~|�	�.Ǹ�M3o�.��?���G�ZʢM�ٝ$*}Z�@�sai_ggYg�=f|�汸��efVY�e\��U>�@�[{N-K��U�NE����l�	�m�PVɴ��?Meݻw��^K�����9�)� ��Z��4z�u_{~�~�aY���'��^b���#��UP�m/�������u]l|?�OC���<_��k��p���͜'ܸt]6�?Y�x�~Sv�Q�@��.�>�f��ɗn����9QK�&�3��a��|��𞍯�
.C�uL�X��k��cJ �p`�l��du�sYf���E���c3yL�M�4{}��x7�K���>���6ԙM���=-��*1˖��4���%�!��� �$*КY�9z�˲&�(�t��2)hdS�o��&���u0�B�m\�M�R��ܓ��K��lrI�
��5QS�gÌ� �����Ή,�x��/��,��m�'SZʔ%�e�-X�G�\Q$�i�텟�$�DQ�t!K 	6w�#�	x�iD��œ,���o��Dq��h�#��������%�1O�p�<안	Ƌ�W�w�cgUs�l/��-A�I�[G�o�e�[a<����AYO ��-����#@'�}K).�W�ڏ��p�,o�9��0����_�J�p��U뾯��^�c�y\�[:s%��7� �R3���y��ڝ贳ȣig��~��W1�y��w�2-B(:�.R�M�3�1�{لR[Z6����պ|/���Ƿse� ���`��x��a����֋��t�J�!����n	�{��")�3Ԥ����(X#H��~�kA�~o��^�`Fp�r�܌����gqk�#c�A�� ���>�nC�yhe%�$A0H� �_L�ؗ��N�%��PB ��R��rt�.<GWtAn�)�XN��G=n]H�-x�D���=!'�u�6G�󩽍r�	,�^����ٍ�;��V����k��]��~����(�jd�8�������#1<@!��4Zkv� g���P]��	p�q&��D�25�t�����ޤ�<r�m�4-vn�����;��#p>�'�U�59�����z���=��D�fF�хT�T�����m����|�<{��E����#����6�ȶ��bSѵa�U���"����~�A������ ����cA�^Ҕ](�w���1�/} ��QYJ<�8������5U�J�/T*��	��5?ƈ�����l��@�ZWP�����H���LN��)5�b�!�l��v��<�]���!���	��0u����I�6!4k��
��je���^aܺ2�݀c�\�B9Q/��r�پȁh���|)N`���O'GT|�ʦ`��Mz,k�8lU�'ğ���:Z�8�8C�GA��JU,;�zQ��!�0S����G<{�k1�lj	���抡���p4d�^���,▱h��EgB�4���r�#J�g�r�L q�˺+�J���-9djY�N�����Ź$�F�r��>��[$H�S��������mGZ���VQmn��;y#��rj�t>�x���:��<F�v�') Qe��<F�fOcBo�O#Jʤ��Ht�~�0�B��4���]<�<���Áٚ>	r�����+� ��_#�p��7�T�WL�rs`\�P@�\*��~c��!�.�҅踺ɗD&�
�zR���2�I�cҝ������(6&��Ⱦ掤V&���=���Nj��I��[�Fg�VUy���}�����x��LJ�	�aw�2�S���:#f!����=s�� 	�^iFS!~��K��j>�U��"���͞`PD<uք��t��IJ ^R-E-��ڱ�yr�1e�){x�r1��{|��N�oN�Oܨ�d�J��#rt����H��b����LN1CO�V��B����t
�2��YC��HU��Tx�2:�7.���S�t�U�=�:mU���� Ј�i� �������7����-[�<�$zl��ٴR�O��׼�V���`5��c���Ug��F�Q~�#m�,���� v�R��(2+��2:"�`ӘDau�8b8*��F���q�i�l.P<Lq�.C��fp��{�R�s�X-x
�d��	|��."'�#5 �}Q�(��<�SRJ�T+tb]������'[�)6x�}���{ݻٿ���m>��t�p>�~;�	�<�������JVH�Ԉ��o�Ajr�	�E�'UN�a+l%rCPƢ?7{<%�:�s��i�HD�h�~��/��{���#�&��\��v$]H(L��+�ƨB?�+\��|`�e��N,��h�|6M���҃�T)�еKN��L���7�RR.��Y�@"�*��w�n�pϞ*�����b��b�Tc[��V��$�|��=�j��ث�_��a�g˖P�I_���UPQm�������{=�R�b�:b���Iў�FCj�ӳUX����L�Q�"E�h�HL&]<C\����ňQ�)'��bzV�
Y?L5�)��'՚�\(���:��CA3�+�\2;��A?�*��I�h��Q�j]�����qXM��`���v�#��G��O��՝�vq��HcT�JL�L�g}�>�TWZ�^߬n>J��T�`I@��X�v� �3c����g^�:�;�-�\��5�S�X噪Oˇ���n��i!���%Quʜ���6cj��J;)���cRe�-������I/�u�U�ضMj:&J�G�E�W-�&�O[a�Dy&��Mؤ�)����&hjY*��m��8Ы���A��y+V"9 ��Y�@j���ם�$���RRi�&Z�xdX�Z�����܌���}&j�a��VA+K���ht����r�]�\���&M�ظI�l؛$g�Ė��L��sz钑��4��#f,:뽫o�#���N�;�Ф� �FRp�
﫵����J��b)�����"��!q��i��]b ����+���F2�� ���<5�&�N�&9�r�������������w@�I� b3'	������!��b�)�S�^�H1p����dC�_�r$v���8͒�Ɛ�\��i��H�.��q�=JK1|�p��q����Bd%��iI���"�4Z>\A�j��� �,wB	��n;�=v����>"�P�n��c�k�o���S�{v��P�I�Q6y��3�"����@��Iˉ�j�{�`�����S��i���3�۫�h�͝����t�Ɩp2��!7eV؝Jne�H�%ҕfi
�ҍ����� ���|�N@4ރ �C��wMM�K>�&ϧ� }7b=���,��-#�	�Ȓd	��}��y�Ᲊ��1��O#�2�ѧP�����vc5W#����rr�8�;s��^=;3�~<�o�zc*m0Q~�Ƭ�px����G�w0�%�x��8qx{��i�T���^�hzV���ڤ�9�*��\�	]���\
��E���5��x�Hcڅ�YR"+ j"��1�fg��E�^I^�@��U=���fB�D��S�o�Ssq�.%ù^s"n����[�ߺ���)���a�H'ВSۙ���1�/��,�H�#'\��ou\	i,�ih�=�=��")�������.�4���P:�ѳÅx��7��Ȉ�mqc4f��E��T�I�5B�������te ��"��4W��z䞪B��)�t;(* ^��Z>��L�8L����
�����y���#8򕅥5O�#�Cb���C	c.�:�!Ǥ@\)�V�(�^���}��%���P���-�ț����-�r�-Z�Ҋ�o7����b�TVg%|�)=�|��h8>��XG�i�{?����*�v�D��+��{�{�W����*l����C
%���ZD�#5�ǣ,��u�C꛸��^�_�6ѕ,O)�;�bJ��?���{|��٘	Z���H9Ȅ�+���]�4��5�I<1�1\Z�j7E�:D�-곶�Ap�nd�Q�Uo��{������d��i�E��1�0��j%j-�[�˪~�H̙~�:��-�|��h{���\(,�Q�k4[3�Y�7C���tX�%/�o�dF�
�-�KQ����Pж���v�D����|�t��i���M����fk�=��R#OC�b�+��=��ON{}FJ	��al��:!�xIN%7ӕ��,}�Bh{|uL|������ ݻ��B�3i4�;87��Ú}�9q�+�B=�}#�E5�hD�:1	h�7m)\d�S5�t���C�&����'�(5H�뱚`U���Xz�8LA%��6##��Μţ���\���P��w��mm�d��Ӆk�ĩ�Pm���3�FD~}�/I�&�.�T�d_�a��R��Q�v�'{�Ȩ��d��3��|ѝ;҇m��p��p��������%�l�͛�����J��o޾�˷�a��d����b��4#8i�hH9}��c��'c�v.a��=�6���j
S�e�R��R#`�l{�I[�GX!n	�{�W�.L�x6k���S����}BB{lyP�Y�)��4� ��|B���}J&�ԯ��P��QՈm;_������ZE�z|ϴ��6	��x�H����.%����EN>��vr��DF�=^�<yPkA�~�@E녤\�J���h_=K�|-J(�=���^4�y�4�����YVb�l��ǯ?����D� �?������|��w�����?�������������x��C{���_�������|���u������?\�`G���{Υl�W���="��L(���?ׁG���{m�=�ʧ��S����{_ccI��W�ʻ������0��N{��ۏݷ~��=7���9έ���J�� M1d,
endstream
endobj
96 0 obj
5670
endobj
94 0 obj
<< /Type /Page /Parent 3 0 R /Resources 97 0 R /Contents 95 0 R /MediaBox
[0 0 960 540] >>
endobj
97 0 obj
<< /ProcSet [ /PDF /Text /ImageB /ImageC /ImageI ] /ColorSpace << /Cs1 8 0 R
>> /ExtGState << /Gs1 11 0 R /Gs2 12 0 R >> /Font << /TT1 10 0 R >> /XObject
<< /Im7 100 0 R /Im8 102 0 R >> /Shading << /Sh6 99 0 R >> >>
endobj
99 0 obj
<< /ColorSpace 13 0 R /ShadingType 2 /Coords [ 6096000 0 6096000 6858000 ]
/Domain [ 0 1 ] /Extend [ false false ] /Function 104 0 R >>
endobj
100 0 obj
<< /Length 101 0 R /Type /XObject /Subtype /Image /Width 1538 /Height 322
/Interpolate true /ColorSpace 105 0 R /Intent /Perceptual /SMask 106 0 R /BitsPerComponent
8 /Filter /FlateDecode >>
stream
x�u�Eڿ	�ww�,	�_X�aqY�%,,���@ �%@p��d�`!Y������뫯��>=sf�����ǹzz�K��S����z��׏$ 	H@��$ 	H@��$ 	H@��$ 	H@��$ 	H@��$ 	H@��$ 	H@��$ 	H@��$ 	H@��$ 	H@��$ 	H@��$ 	H@��$ 	H@��$P[����$ �����꒏�H@��$ 	H@�E �r������7���G��jF��/����O'L�`[3�&,	H@��$ ��"��ŷ�~��w����/������#	H@5&0lذ�`���$ 	H@�@��2eJY*�H?��$PK�hT�LL[��$ 	H@h-�E�,hĈ�q�	H@���>�����8m�(���$ 	H@��Z� bΘ1c���N�����'N��-~$ 	H�FƍT *�(���$ 	H@��Z� b�*PK�������*P���唀$ 	H@�@�Pj�����@�Pj�����$ 	H@�5U�Z6}	H@�P���wI@��$ 	H@���"�y	H@K@�c���$ 	H@�����*P�5�����*Ps�����$ 	H@�@~��-,�$ �8U�8�% 	H@��$ ��Pj?CS��$P�@��j���$ 	H@he�@����]�3U�<��e��$ 	H@�@#Pj�V���@+Pj�V����$ 	H@�'U�z�6/	H@�	�eg���$ 	H@�@�@Y(y�$ ��P�?ss��$ 	H@�@sPj���v�@�Pjܶ����$ 	H@�'U�|�����$�
�3 	H@��$ 	T��*Puy�Z!�)S���$�&U�6y�$ 	H@��$PU��pyqF������	&|��g#F�������_~��7��}��B?����j?���$� �
� �W	H@E ���~�<yrdtT9���V���o�G����N:a��$�T�����<T�>������k�;Ｓ�>��sϽ�*������k�3f
Icը��b����K�<�����9���O�}��l�^^бT�:���K@��{��m�ݦ�n����l���[o����o��v�iW^y�>�������������L���/��"�]�������L�@�	��u�l�����4����:묇r��?>r�ȇzh�}��ҥ˴�N�5h� ��rk#��Q�SN�o��:u��
+�|��g�y�Zk���/4M�e��U!�
T�&"	H��^y�/�p�EŒ���>}������C]w�u�sǸ%�X�K.=z4~A�ϴ�)�z�L�Q�e�Yf�Сe���S./��$�g�@yn��+ۛo�ٳg�?�����"UaҤI�#��3��A8�^,������u�Y�9�W\���0�3�8�G9v�؆����p�@�@�@���{�=�,���`�����W��禛nb&h����5�\���s&~o��9�X Ce�UW}����*��NY��X�@�	��u�l���y�Q��0��(?��w�m��g���v���SO5�Ұ��7�x㧟~���w܁�ӱ�;|�p��_�%�
T.1���$PSG}�ś����s�%�<x���/��VZi%OE2Q�ʎ���Sr���}�����_�U���py�$ �<P�s�4P�P<0^xaL�?��w�}7�Va������s�6,~�0��X�&��5݂��$�J]��/��qa��U�S�2�CjdG���_�L��B��&��ѯ�L@��[ߺK@9$@�CV~a�U�(�	'�0�\s��̙�xA�F�*�Ed5]�����nN���A~�/Y�|B�E�G�ES��ӋǕ!��t
���$ 	ԇ�*P}87}.�.�(��X>k��6KÊV���6�h�p��~�L��ٱ�Dp�e���Ϣ7�x5iȐ!��`l$ĺ�.�1�}�]w��L�A��D
�Ahb���?&�W_}�_���G}]��e�r���{��> ͢v��ꃇ)��Mh#�?s{(U�tH�D( ~P��v��T�D�I�ѯ-N@�� �/	�@�*V���
��1�����@0~�I�4�5��Y�pבA����6-�p�����1��4����:\��� �W	H@J@�A.o�F�Yr�%��ú0��R%<蠃f�m�p%1?��sT�+�T?j��o���}�ݗ�ᲕW^���X&Q�*�0'�t���C0j����O�^Bc�s�=�^zi�H���of�������c�ak��\�'a��J1�������.�߄ ��v�"�,a����C���:�(�HA+�rR;���z�B�+��-K@�e�ފK@�$Ц
�U@��馛.0����n�p#�_��+�V[v�eYA�i���o�Q`������7H��b�w�}�M����'�I$޹sg̭��~:�r)S�˴v�<��$��T��sR��/�)&�<�%�^�*X�?���ë.*���Rz��nݺaD(�d�Gy��,�Ζ[nɕlu��v�xؕ�{��?װ<���A��<v���j�	�	�I4l!�&l'V�s=�!��7�ˢ�sL�������Ǥ�<����C��a'K:�O�X����ZI��K/]p�ɔ��r�|_TZ��*Pk�����rK�M�����l���·-D��
�I7]>�䓭�ڊ�+f��sf���x�!�`/1��%��ңG,��Z��6-�[n��(f�B��*P��C�3ZMZ;�}t-�$ �8U�8�+&p��G�;��~:�ɥ�B�a�`�l��fE�J\b�ՄO{�3e��C��h}=q��\��i����/��v�w؏�4�y�#
�r\q��E!#4".�����3�S0��d��N��e�72�1��{R(.:7�p�ꫯ�$]8I��sjl��1� �`�!j�z뭡�]�*�7;Ł*���V#�
�j-n}% ��Ȣ�y�L]��#GR�6M�믿>x,��`3 �` ᷃�5�)`�\y�6o��;�@����*�����[>�r�嗇�'��@m�:ܨ���W�@sPj�v��Z�'��b�*RQ
�w4�J����
^1\�����WYe�h�Rf�6�`� ΰ�
���R
~;xDc#}��,+�d�M����4�xFA�B,b�,�Pϔ���f5i":��,�_�M�'��r�-G�JU*c:�w�'��$�'
#��񋂥~�T�|$ 	�@�3ΈT�#�<2XDm�.x�92� T,<�ٜ=
�裏.��R�TG�E	8�n(��"�MS��v��*	H��	�5t���\pAP9�O���v�/>Qu�GDk�P�¾q��;�p/�� ��#���w^�����
�H�a�]���[l1��'2u�E��������Z�M7�4�ٳ'����_�3ҹ�[/(\�f:�����D(	�yEŸ��#�%��0���A�Pj���K@y#�E�|�����MӅ�Z3����ӟ���c�a�`B8*��2����S�M˧�YL���)�	H@J@�A.o�&2O�<n9��ra9�:�,"��43�4���	הR����"�C�B�����c������Y��'��}A��9����:Qy���1iXA�j���Z�ٷ�
�ℷRXA�E)��,���Sw0�X�y:��Â84pmb��D�~me�@����]�!�6U���0�L3Ґ�VYLL����k�`�gd"�5�X$-!?���K��[>�,� ^�R�7j���i�H��*&�
T1:o�`]�F0]p����"~A8Ɗ@� 8��
��b؄�J�@8!����;��jB��ω'���S�K8Sh�įĂ�	#� ���a�.,j�|�x��Bq"4b<�p�%
��k�2�����+Q:�q����O.��]�AKPj�液�@�	���Ν�Mӱ���"?�b����U`������ l,�Q�F��D0$��ע��-n)� ��ÍZ;E�{R�@�PjІ�a��7X)8���Ea!	�C(��̳�.���!�R�BD�b�	5�8��{��l��e��}-4u�˸����O�_����F�n�mXF^�6�����qi�D��%�d�`ԡ�=��Q!� �֨Aؼ>*�P���$�+�*J2NXHN��taHP�,�^�����a��Z�N�������3���/&�@)��)uA����\=�F�@;	����G�^������7Q�+"
K�vN|o��*)���D�4hP�~���c��0���b��a�-V��X���.�b��k���Xz6��T�h�D���\��s|d���8�>b㏰7���â���;�v��.�첰[�� � ��o�Pj٦���@>	D�y�v!�ؽ}�WD�!P!FQ�Z�i���,�
�l���-J.	�A��b�����0帩���h5E����ډZ�	H@y#�
��i����'A;���o��}4�VT�C�db;_u�UQD�P�HZ~���)��A	��o�~D�JbDsM�#//#.އb��뮻�>��\sMXJ�)�|\\`�冭�B
�/<� ��Y��%6 8p f��c%Z��t����a!�E]�b1,<����^D��}��`!�C=��>·]���-|�	�U�	J@�� �6&bN؟���~l��I�슇z�#���}��M�(Ѧ�1�
q��J��k�aP��r����d֚�dr�G�%���?	���N"�X>��E/H7u�&K�2ZMZ;�=]�%	H��T����c"��:̂�싉�|��-\���8���P� L"ۆ�����<xp�^�����k�MHFh&l����z>�E���5����hD�	����)~xڃ$E�g�}6[���k,��bNRN\�0f�[�����9M3�\p���L>{:�jHF{������X�l|�EG��ȏ��+XU��py�$ ��� p���I��!�t�=E�������w_��{?�p֪#�$�t9����e_,cڋ�-,��.D���$?�Ư�$��	��Md��<�s��:��!k�����$ ��%�
Ըm�ے3#��_�ao/"��)��
+����6X��B���0�ƍ���L,�0/����6�b�}���� .�i��?aE6�Ǎ�i��΄	X�ϲ}2�xL���;j붰����C,Ǩ�8� L1��酿Ж[ny�����J%
M�R�������x���c	�@>	���@��,��Ȣ�0TX*��N;�R-���AT)Z�tӅ�2���U�t�2UDb:C=�g��zk�>�@�x�̔�i�p[�&L#�%ܶC�)�h��[�c	H@�N@��[0��GBZ��{��=�褔6R��G0E�|F�t��7�+5�GF.8B�&�$oلX�B	� ��Ɨ�E)��Ѭ���觲�a����s�P����@�@>����@��?��Y��*�g!�$���v�J1uHYk��x�]�@N��!,F����*��C ,��ߛ�F̈�x���5_�Z#	H@y&����ֱl���E@�Z$M����u�Y�`���$]��w;9x�"�@
$ 	H�4u� �,$ 	t8U�o}��,�'�2�b�5F����5��"�O"ZuKk����*P4�U��$�@4u��,�$ ��	�U���E���Du�ݻ7�e��o�N�,uϕ����bD����V���#�RT�J��$ 	T���NՑ��$ �|P�g��T�}�Q��`1v�
6B�~���y��p�}|���O�k��(?���%Qj���v��rE@S'W�aa$ 	Ԏ�*P�ؚrF�G�f��>lݕ1�:\����C��}����P �hA�@-��VY�@G���(��+	H��T����$ 	d$�
���I@��$ 	H@	�e�e���L@����N��$ 	H@MO@���
J@J@�A�bK@��$ 	H �T�r�4Lhq�@-� X}	H@��$ 	T��*PՑ��$ ��P�
F��$ 	H@��"�@
$ 	䊀*P����H@��$ 	H�	�5A#Z	H�)	�5e�Z)	H@��$ 	t U��o���R����'	H@��$ 	H��@@�	H@u �
T�f!	H@��$ ��"�
�R�me% �"�
�@�eQ% 	H@��$�T���,�$ЂT�Z�ѭ�$ 	H@��jJ@��xM\�@�T�*F���$ 	H@�@Q�@E�xR�@�P��&� ��$ 	H@h2�@M֠VGh�@MӔVD��$ 	H@9!�
������T�@�*	H@��$ 	���*P;z�$ �P�X���$ 	H@�@��L1b�w�}��	H@���>�h���cǎ���Y&&,	H@��$ 	��o��v̘1#G�D��l�����b�G��jJ`ذa5M��% 	H@��$ ��%0eʔl"��w ?��$P;�xT�,LY��$ 	H@h5�E�,D�~��~$ 	H�fF�M�<jԨ�>��f���$ 	H@��$�B>��c���ꔥqK��3�y�$ 	�	����F"F�O?�?�$ 	H@��$ ����?�!�h�q�T�*��]���P���+% 	H@��$ �,T��P�	H@�'�
T��(	H@��$ ��&�
���k�$ ��%�
Ըmg�% 	H@��$�O�@�lK%	H@�g@��$ 	H@�.U���45	H@�"�
T-��#	H@��$ 	�@>	���I@(��b�$ 	H@��$иT���,�$��T���}��$ 	H@���O@����Q�@�@Y(y�$ 	H@��$���*PvV^)	H��T��Iۼ$ 	H@��$�
T�Z����$ЈT���,�$ 	H@���L@(ϭc�$ �V&�
�ʭo�% 	H@��$P�@��j����O@��MA��$ 	H@�P�ӈ�����~�-��$ ��P�?�:�������/�:�P5*Xg�f'	H@��$�N@(�租~�w�}7dȐ�?�6������I�*P����W�Q��62u��I�&}���7nSZ�D�C�&O�<a����WE� NR�?%��$ 	H@�@u	4�
�{J{l���>]�v�~����)S�T���I@�N�*РA�� �#xmO�L�8���>{�2��?�Я_��ݻw�ܹS�N�<���?��r}Y?ť��qY�����A���o߾[m�U�.]�ڳ�>[�_�����ʜK���y��r�3}o��$ 	H@�K��T ������^�X�;v�W^��"�L3�4�@��T[r	4�:�@�m�Y�nݶ�b����O������=zDg��n��VZi�:ths���Z�Q�1���[`�[l�7�x�ZE���/�@]�\pje�/��T�c�A��Q���N�w�yI��@L���Ӈ��{ｔ����ߒ���)��$ 	H@hbͤ�r�-X�՘�7ُ?���z�U�% �j��
�J�����g�s�9H�/���+����{�6�lo��}�����/?���t�k����s���jU�t p�m�1f���=�*@��>��Zh�e�9��S�x≝w��_��W����,S*���Z)���__u�Ug�y�M7�����k�HŽ,�NV�^Ϊ`7	H@��$�X�I���WXa��[ު�0&y-R��7J@�"Pk��u�]���cEXT��;n�9�HH�J[q�_x����GYx�~��s�=�Yg�U��v=���������4"2�6�l��Q��gd?��5�X��
�$����`v���s��_��7�TVB�Ə>�����W������<��$ 	H@-B��T B��O>��	O�bt�(	T�@�U�������;!�U��]{�����O��w�.�FO- �i����*�A�5�Y�<�裸İ",�'Ӟ���)*�=�ܳ뮻�D�6�N�J��
�駟�n��F��W�r���X��$ 	����@�r��\�]�����������@Y�J$�W	H@�'Pk���m���o�E-�qW")�����6��mv��,�� ��?=��W/7�(��8��U���c��Zk���/aΘc�u����S� ��:�Tz!�����R�@�=�<ȉ!w�E���
E�g,Zȫ����oA	�0��RRՌ�h
m6Dѻ<)	H@��:�@nU lB�L�����-�TiQ#0��II@���� �t��.�!Z&3����LO
�/�@8��rD֘�cƌa�{���!��	H@�'Pk�h	K�@�bzZzT���ud|���/�uY�~�$��/�M�B�I:g�S|T
{Q���u�����k�Ei�����O�F�����D��:� ;.-����+����S($)9�Y�,C'�P`�iذa�#���	�����p%C'C0Mu���(^tEחx�(�`�!�+z0���XMFT������7�d��H/'�ST�ahs��!X�ˌp�l�B����$ 	H@9!�C�
��O>�H�)%��%�\»F
4�;>��#�r���"�it%�ϱ���k��N�F��[o��ZG$"��+�J�e�Yf�a��W^�]ð3#+4q�_% 	T�@U 9���i	�NBL�UVYe���}�ݑ�O9��J��FcÇ���o��r˥�^����>�8�N�.��2.  5�1�/���w��~
��^��4�aa�UTK-��^��Xf/s�`gw�5�,���O��{�7̇���SO!e$2
_S�NI���q�!��
��E]�eY�,2�͗��Y~�J��G��r��Ta�g�v�iU�t\�'?���8Nyx�v�eB'M?����3�UW]��1=�'i#����K,��;�A����"N�9���<ó�>;�$�~����kv8)A:~$ 	H@�@�	�Pb���3�����kQ~n����_)f�����`����58묳F*�}{�F)S~������I0�R�D*S��OĆ�}�������^l�R�{^�@��Pz�����i.���;w��F���$��m�ݖwm8�����;��h�WT�B!����&Y\��[G�b�E1�٫W�&�� A������>.��r��_�UX�ʲ#���:
��p��?�8lpЩS'��¼��q����ŉ%~�_��Ę"��7�t�\a��L�A��HE�q5/&x �X�������my���o?�:�9 �c9t�H��fbC4'n�<�O�)UN�J+3�ӣGP���v�i�u�ڕ�Wa���p��@�K@��$ ��ȡ
캃:�7 (�j��3�̙��yC��*sӜ�{�Ǎn�(�{E��T lE,�p�j)3i�<c�����I	H@�"�C����U|���8p �#�2��y)�E:={���jA[��'��J�K�Y���#�8� �CY�gz�^Y�t��<�T\���Yӄ����e��+ˎ��;B�@�`��}��� �0�1а�V4fEyq�^�,C'�Y�{��7�}b�s�1	w�L�ǅ�,3Vr#s7<	�ń�BhJ�@Yp������ӧO|�B���s�su�阮�X4.Pa9I���h�u�!nv\�d��}�9�NzCD<��$ 	H@�$�C�I=���*�-~]�t�m��0�R0�º��
�
��|����B�@����0ѡ�5���B;�0�o�$ ��ȧ
zZ:�.���72���x\��e�QB����}\>p�a�m����{=�ua��L��+K��Ǫ����>��b���)�w���c�F�t�6��)d�����0	� �^�,C'� K.�d!^���0ڔ�~)�-��,����?X�c�D
�Cg�U�E���{�#M���T�����hn8�$�����7D��=)	H@���C �*PA��9� �'����p��￟P��k6�pC�0����j��h�9�(~PJ��g��M��'�$ ��ȧ
zZ:C<"
kW�ż�
t��
i�y�E���ɅUcĨ�?��C�:Ð]z�^A���'�x"C9�	5b��$�k�RIU�]H��G�֭�N8���(XET��&N8��ѕ)C�9���7�<�w���c�S��(��A6�҅WR^tEU�,�
�Ɇ{т�Nч��&�����E�rWv8"�ܿ��$ 	H o��-O��x��#��䤯T�~����"U�RN�f�S���3��%�%f��-�$�|�Ž.�䋾�U��BJ"�4����a��rR:�(��^��4�fa�@ JL��1�;�D~��'���
�)0+1���'<[pU% �L3͔�:�����<j���D]�9�V�!ǱB*�S��p�+�p�M$XTʂ�0��;���(�Y�����j?(NzCē�X��$ 	�@U �ux)`��*Yq���3�#��(�����'TNA��ņ5Đ,�)*�E]�J|���T
���$Pͭ��>�9O&#�R�zi��%.� F�M���)�E� �PAbb����!8�2���M�mG'J�=����EȝM6٤0�*����w�-�4�)�hB�>8�����@Ypf�l�
�	��w���S����r�j�x�K@��$ �ȡ
D�\�A�0	��
T ���]���� ���ğ,5㜢���R���$�Mi�$ �&#Ј*PX"�>bq���/PXc˶\)��4�W� �#�<�����?l2�^�H�^Z�Z���H���8�J��h$b�aփ�����?�k�♦�=��Ʉ���.��[o�O����ö\��������H��{xREu���*P\�Y��ST�D*�/����ױ.^Ԩv��7D����$ 	H �r��e�l��v�!���H�T ���Fy~lŋ��/�L+�E�d�w���8�@�����%��D�Y���qt����O�CT� w���=m������������ND�>��
D,�{��(t�g���L� �W� M�NY�ł_\�Ț��P6�A�A"
�d�EadG]��Y8�:4�+���CaK��8H�{������a3z�hd$eh#ǥ�$
�(lzVm�Q����V8������2��,B�EU� 9�+�HX���F��I�&EBPXF���p�"ؿ��$ 	H �r�1]�-�.��D`��vзo_B(�e&2)Tq�G���ǉ(x�%�%���+oo�1?	jY��DH<�ƴlC�W� ��ľ�)��I�U�@{�_�d�*txެ��V���Ӣ�D=m��A����x� ЇO�<���3�@��r'C����P$X�����7����?��cW\qE����{�
��a��%Yf�5 8K���)ج���K/-U�
��U�(���sρ�*.IB*�8qczݳ���e����7����j��;�n�����q1b����e�$�8�HExHh�Цԑ۳�
Y���[�OݜpU
��.N�����-dTXN�!�8��������r�{y�!@93�Io���H@��$ �|ȡ
�T2�$�������g�n�)�D3�q��(�I�L�V*�/]�v��$lifي=��)�=vw]i���^F�t�JRd��Ȇ5w�}7��ĉف�XDr��NRx�g$ 	T�@=U �nނٟ�_4d�cx��d����~�������p4�*�w<>�����'�k���#������\���߲T�~���޽;~D�d�>�lt�f�^n�aM�C�����#�P��w��fGE���Ȉ	l����j�޽{s�D�M��=�Љ�A�w;묳����b(�9�qh�D��k�A�_����ш��F�9��iw�c�uDY"����lq�f���x�xTx� �]<��K�V���})�"�������j�L�I�X_h�Z�8EŖ��D�B7c�"{�!U�qMF8���$ 	H@�-��@x��؁L��!���0�K��0,d
�TlE�N�ys�C h�y�1�1��#���ի����H�ֹ�����) H|�@��-�!q�_% 	T�@=U b԰��3���e�=0�n�`Cu���L���!Z>���l�~�i�L4t ^��<q��Se-=36��Gr{��?�5�\��$���ŋ)�Yz����b�J{���
�&�B'ƋR^@�╕]���T�����:�4���=��� ��� �D��B�"FX�$�xJ����q:4"��{���zx�1{�b1rl�Ź�-�9�a�_ �ݞ={򰅧�����i��/�JHr2Z��1��+�=�3�<���I!y\�p8���$ 	H@�'��@�F)/�+�ċ�9�r12�����&�����t��Ȑ!؟�e�+=M��$P�z�@e�͋��q�a�Pp�G%$oԟ'n�WB� Cᚒ"DDwe���J��@�Ǐ�gMy�g�܋��]H����h��'۬{���|�����Z�1�m�H-L�����NلU��E8��̢o�����3���T	ۄ�fC�*��% 	H@�@�ȭ
��d,�$ ��%и*P�r3w	H@��$ 	H�U�Rd</	H�c	�u,s��$ 	H@�@�Pj�6�F�@sPj�v���$ 	H@�U����%��$'�
��$ 	H@��$�~�@�gh
��jA@�TMS��$ 	H@�L@��[ߺK@y&�
��ֱl��$ 	H@hD�@��j�Yh�@����Q��$ 	H@�$�
TO��%	H ;U�쬼R��$ 	H@�B@(%���$P�@�gn���$ 	H@hn�@�ݾ�Nh\�@��v�\��$ 	H@�$�
��v�T��T�|$ 	H@��$ ��P�.OS��$P-�@�"i:��$ 	H@�@ �
� 	H �T���.�J��$ 	H@�K@�q�ΒK@�M@�����I@��$ 	H��T����% 	d!�
����H@��$ 	H@�	�eg����I@����K��$ 	H@�@@�Z�:J@�H@�[�2K@��$ 	H �T���:�Mhe�@����]��$ 	H@� �
T��)	H��T����$ 	H@��$ �8U�8�% 	䇀*P~�H@��$ 	H�9�5G;Z	H���5_�Z#	H@��$ 	t,U���o���JP*E����$ 	H@�@e*S�F���?��G��jF`���Ç7n�ԩSk��	K@��$ 	H@-D`���cƌ9r$ou��b2v�؏�H@�@��������f�MX��$ 	H@�E 	(�hL�2�,�w?��$P;Æ�]�,	H@��$ 	�2�rU�Q�F��#	H@5#��,��$ 	H@��Z� b/�8����,��]��L������$ 	H@��$�~�E�Vj?yS��$�N@(���J@��$ 	H@�P*���K@�U��p6	H@��$ 	�U��ikk*	4U��j/K+	H@��$ ��P�YB	H�5	��f�[k	H@��$ 	Ԏ�*P�ؚ�$ ��Pj=$ 	H@��
	�2�$ �<P�C+X	H@��$ 	4U�fjM�"	4U�fjM�"	H@��$ �<P�C+X	H@�T�
�xF��$ 	H@hU����^	H@�#�
T;��,	H@��$ ��$�
Ԛ�n�% ��P�YB	H@��$ 	4U��j/K+	�U��ikk*	H@��$ ��P�gs��$P.U�r�y�$ 	H@��$�N@(�OG��믿���o���J@y �
��V�i~���_~��޾��C�p�v22	H@��$�s�@�j��~��������c��xF�'�:�@�_��_YOD�r�ԩS'M����8pܸq(�Z�<;p�<y�	��W_�8	��?�v�M��$ 	TF��T �Sږ0`�>��ӵk�駟����2eJe��]�@��
4h� $�ޔS>'N|��x�n�y��?�Я_��ݻw�ܹS�N�<���?�\���ō�q��K$�1~�����m��<�}���j���t��g�}�h����W_}���ʊ��]m����@��$ 	T�@3�@�Տ?��k��ָ��رc����EYd�i�Q��snRhDuP�6�l�nݺm���o�����ᕙ�=z��l��v+��҂.8t��FĘ�2#�1���[`�[l�7�x�F����/�@���Lq1e�/��Ԣ 5�=ˈ�1�Ip�I'�;，�EU f����C+�{������Ꙛ�$ 	H@H!�L*�-�܂!�Q�՗R��	Û_m�����[o=U��j&�@~�ZBX���3�9�$��^z�W^�c�=f�m��7�����{�嗟�y�ֵ�^{�9��k~�4AIn��6�,��ѣGע:�&g�}�B-��2˜z�O<���;�����ZGa�k�{����V[��
��믯��3�<�n��{�G"+:�g/g!C�H@��$ �Zh&���^a��[n���z��ړ&��G}Կ�@���L�{�*P:%�@+��
��Ⱥ�{�uױ",�y�q��1�	i�He+���/�Оw�(��O?}��>묳j�������W_�6E��f�m�A��Z�}�����Xc��*�ؾ����_�5_|�7�|S�R�|�rV��wI@��$ �r	4�
�����'�0�].�Z_�駟��b�]w5jTz^�@�|�U�C��*����{�͋�@���z�z��sػ6����4�L�\�6S�Z��и|}�Q�RX֦?j�JR�ܳ��)*�=��ø�;X�|�JƲ���峗�Z�MG��$ 	�ȹ
��T�=��ܕ�5gX�ϧ�ĕ��x:�y/��)���W_�[>BP*P�YGe�@h&�V��K��o��6��
�\��@w.��;:��8�N���ׁ��[���������R]zte����دj��֚o���K�3����6ǈ�F�=�/�ʤX������QV*�an��/�s�=��.�f�;:'�h����Y��"J����3))�_�L�͆(��'% 	H@hA�U�0È����?�oy�J��]Q�a�����g]?;�D繋t��dA-0�ғ"�gC�PY%A1H�>�Pg>��^��$�6�[(0��mH�I?s�ol���o��&�0�D�� K/�c�ogԝ�ǌ�]l"�!����@���
T�O)(\��!���_�벎&�DwG��6�
=0'���pJ)���BC�MOn,�&^Ԑfz�^n�Q�Do��'gA���9�Zꠂ������;,�"2N!J��1����rM�#)<�G�R�n�!j�;(��������S[8�����EW�q}���N;e�O/'�ST���6`�2���HƦi�!J���% 	H@hM9T��g����>�䓉DA�R"[^r�%�k���y�\9�\s�4����c�]s�5w�i'R#6­��J���G=�.D:��"��.������g����*>o���|.
�5Px��]t�Eq)�FLP*B�X� q�t�MGX��Zb�%v�a�R�"��+xM�e�Yf�a��W^�]�ЂB��b�Uh>9T��ܐ��i	M�HL�UVY��m��wGf?�S+��#�>�A�!�͖[n���K��|������e�]���1f�嗿��;yOi��^��4Ɏwy�+�M1X,��RT�z��`eS�̉�U��5�\���3<��O�7�p�{�O=��A"#��5<Q�,#i�Q��$�LJC�:�R#>���%�>�h��c��3�8���@�m��v�(�RN��R:r�Hw�5��SN��~���_ïٛ&�!BK�W��$ 	�	�PbR��3�D����kQ~n����_%d��ش��Ǐyq��Cf�u�Y#�)����;�Y6�=RC�A�a�~�������O:����~��G� Bw�A1cKx/���L����Z�0��&,hMh>7�to7�̴2�`��2������x��8R�ȑ]�	ѷo_��)&�^���=#	4��@<� �7�!=-��*��|�Ν7�h#<yX�B����zKs���ݡ�#����qE�b|���\���5�bE[��^��4�Յ�~��:�������dc):�����"U��u�Q���n���:u�D?�8X�WY�SƑ4�(VXΤ7D�s/:�S*V�5}����:��y�
U����N;e�/UN��#��N�=hw|�y�O;�]���.��4�A:~$ 	H@�@�@U� �t�A�QZ^�a��9S���eb�y�
��4g��{�q�ƅ+yA
&V����/����O�>}p�	?� 1U�|"����B!q.�����E�W����Cyx���Tq\ R w�,��D!s���x-<���@U ���Qz���8p ��2x_y��oV����3I��3����Y��Ccq���'v(��cz�^Y�t��<�T\f��YF�t���e��+ˎ��;��1�����g<Tìc
�<�VEcV�W8�8<qq����Q,Q��u��pħ�U|�Hⱌ
L<+&k*P���N��J����b�J�u�Y���q]�+���L��Io����$ 	H "�Coa��?�:�'�t��n�aE%/<�5�eSq�7�����c�1���Y��љ�t�O{�'9�<����K����Bt/8�4��u�lU�>���1����;��d;�0V��	H���S
=$}�\P��:�ގ�@t�,�M�@�ޠ��r�3k]��K��~5j��^��4q��x�J�>�3�-��R|G+ˎ�0��hDM7�`��y&)�8�9*L�D��2O\�e$-k����ֹS�B<r�*8�%ܷ��Cgi��,B��@8Yj�/� M� ��O�=�7{Ӥ7D"Y�J@��$ �P��=��0������p��￟P�PK6�pCb;���Z{�j��h�9�(qP�N���s�eu �_0��9��n�����p�{�^���}�Ț��T ~b��������=#	4(�|�@���/�	�lѾ��
z�y�9�$V�Z�n��C-��ޫW�&]�'���C��B�&8� ���SXS�T�]H�G�֭������XOGP��5�o��)~W�HZ�(O���.�Q�_�"�҅��bT ��@Yڮ0��l�72�ɢO>?M���'�:�K5t���������$ 	H@ȧ
��<#���_������F 4eQ[�	5��CpH��ҟ�t!�h:d�bb�D�_�$�ȉg�c�a��5xw��Jه�����q��D�����=#	4�<�@q��8��}]Q/ �$Jɍ^���,�I�CF)�zi�@��+9�Y����ø�J�'�|��(:�8� �����?�YN�J8��f�)%u��)$��HZ�(��;_S�_k�{!���_�Ġ\T��v�Y	c �,���S�D������w�p{�oYM�����*	H@��r���K��̊湈��q�@�}q�>���	U�S�m�a�JS������	Ï@���d�M��H�,�Yf׻�~*e&n�k�
t�E!C�o�Zx�g$ �f"��*+���-�!\26_�^��4�q�����Ц��٘ R����B:��Fc��(e�1�8ۅcJtM��볌�e�bQ�����!i���EU�,mW�E�{�'K��E��Ac<���)[�gt\nӔj�(A$ 	H@�@D �*Ap�'^���$l��+P�p�gv5T�ݻX��݅�M�ǔ�6�$?�%<������ފx��0#��bf�L��2w��)*�q1b��M���I	H��4�
V小X\�.����-Wz��D�����y�G�WW��!�}��)�2^�DI�ZAv��Jg��P%�]4��3�������5b�L3Oܕe$-kK�$�!j�;�)DA�<e"����ʢ*P��+�"@H�d�Q�h"p �tl�Ǌ�xQCR���4�%�$ 	H@��Pb���f��Ca_�PΠ1�7U!:(��؊�'�_��V��j�����э���t�	ÏR���]}I-ʂ+1�y�I�voFYB�D*P���yu��FX��úN)|t��@��(��)�{�2�ƿ���������MD�>��
Dl�{7٨��a���	�3��^��4�;e�mqI"k6CL�IAi�(p����U�u	[V�k4t�Шj,b"��I�f�.��'�'.�2��5�%J���Ν��`	9���d�+��(ѡi����v�Y��9_j�/�HX�H��I�&EBPXF���M���V�$ 	H@�@U f�P�E�������KB7 � �DV\�q�G���ǉ(�T�%P3���+oo�1?	j]�D���݄t⿆h�����ɓw�a�c�>�TH��aC����Q.!$APY��r�U��{�1/ō�݄���G��r�r�x�=���@�U �6�B�G�&2[Qzx?�ӆ2��+�_���QÛ8}]%:q�P�n��N��7b�!������o��y#~�Ǯ��R;s����I7��(�ҍ3k@N/��HѧO��K/��Ta*�PA �s�=
>�d�$]���g��8�HZ�(5q8Ho�Z�N
G|��=Yf���tIx�x�����7`� 0�s{���N�K����b����ʌA�('����? V��h`�7y���$ 	H@	9T��JƄ�Հא��?�h�M7�c� <;�#{s0���o"T�^�v튥G
�'��L��/r
/S�Wl���J+Ž��`����~;;�q{���0��I��b�Á�g�uV�2f6Gn�LP^��Y�ܐ��� t-��@q='�/�!;��}���'N|ꩧȈP�v��2�@h�T���x�|����EAơC��z*�!�CO{�7r`���;�l�����c�o$�5t�t���tȼ�7qv�B��cu��{�ݽ{w����LO6:n�W/7Ͱ����ҍs�DF�
��I�u�͎�0�П��wv�b��EĽ{�� `�*?(wx�8�f���8�!j�{xG|Ju�w�L�'���Lٜ}��<����J1�3;C*�6?����.�q���(ZN��Ҡ�6�� ^������P�� cӤ7����$ 	H@	�9XDL��%��5���Ǐ���b��������[S��Ehh����b(l9��¢bTc���ϛAc�SH�j�y��0�{��}�濅"RT`~����^���ٳ'��C�HI�5�4n�������DD{��%H�as��/!A*���t��8���Q�x�b<��0i�q�,"��_% �& PO�5�����Y�D�::� ��.�X���D1�''֨>���tY�����C߅#}+��q���8���,{��?�5�\tw$˛;J�T���ҫ��&34P�<w�P04�1^���������*S�u�]�>���x����O�GҌ�X�H�Q��K�����f׆�DW.�i@c�E���Q�6�ri�5i&Fy���IDg0bO�3�<<	��PH�w��MY�&�!��<��$ 	H@��@�l?h)�t���/z�բ�g<`���]8� �D�_��3^�ŋ�����R�,8��4*�����!C� @����x^&	4"�z�@��d�S+t�I��(�Q�ȋ_	����MB?O\�f���J�ޛٍx֔�8~�hI��ee���A, ����A��4�(�([�Q����EEd�0F�0u��¿R��Q������?.k��n�I`�gf���4m6D����$ 	H �U�l	H@-N�qU�o8�/	H@��$ ��P�m�X0	H��	���`�% 	H@��$Pu�@UGj����B@�*MD��$ 	H@��E(<��$�+�@�j#	H@��$ �& �
��h$ ��$�
Ԕ�j�$ 	H@��$ЁT�:�YK@H!�
�ǟ$ 	H@��$ �
�U �[$ 	ԁ�*P ��$ 	H@��Z��*PK5������*P5�E��$ 	H@�@CPj�f���@Pj�F����$ 	H@�)U���5q	H@P��7J@��$ 	H@E	���I	H@N@�Û�H@��$ 	H���5Y�Z	H�i�5MSZ	H@��$ 	䄀*PN�bH@HPJ �$ 	H@��$�N�@�����jD@�F`MV��$ 	H@-K@�e�ފK@9'�
���x��$ 	H@h8�@�dXh�@-��VS��$ 	H@u#�
T7�f$	H�,�@e��b	H@��$ 	H�M�@m"�	H@B@�C���$ 	H@�����*P7�U����*PC7����$ 	H@�@	��Q,�$ ��H@��$ 	H@�%�
T]��&	H�ZT��E�t$ 	H@��$ �@@�'A�@>	��],�$ 	H@���@e*Ј#�L��	H@��H���k��	K@��$ 	H@-D�b諯���G��jF`�رÇ=z��_]�LLX��$ 	H@h!_~��Q��oOF������b�G��jJ`ذa5M��% 	H@��$ ��%�
��T��~$ 	H���x�J_�LL[��$ 	H@h-�E#�
D�
 M�4�'?��$P3�ƍC�/Kwk��	K@��$ 	H@-D��o��`Q�ԩS���eW�2&�e��$'E�fL���X��$ 	H@�@e*��
Tm$���*PvV^)	H@��$ 	d!�
����H@�?U��37G	H@��$ 	47U��n_k'	4.U��m;K.	H@��$ �|P�g�X*	H@�@>��$ 	H@�@u	�U���I@�U�j�4	H@��$ 	H P�I��$�O�@�lK%	H@��$ ��%�
Ըmg�% ��&�
���k�$ 	H@��$P�@�gn����P�B�k$ 	H@��$ ��T����J	H@�$�
TO��%	H@��$ �V �
�
�l% �F$�
Ԉ�f�% 	H@��$�g�@yn�&	�2U�Vn}�.	H@��$ �ZP�UӔ�$�~�@�gh
��$ 	H@�@��*P�F��_����~+��'% 	Ԏ�*P�ؚrFy����=cEڼ��H��MP^ 	H@�@�P*Ղ?��p���!C�|��������$ �Z��
��=:���@�(i�������m��*gnG@���S�N�<y	��ꫯ�)�'M����8pܸqM�|������$ 	H M��R-�m����O׮]��~���kʔ)>0���I�*РA�x������ĉ{�1޻�Y��ˋ�g�С��vۻ���?6\�����Cطo߭�ڪK�.�:uz��g۩�������޽{�ΝI�GAǋ��X��$ 	4�fR������^{�*��رc����EYd�i�Qj����H�!�A�l�ͺu��[l������kN���#:��vۭ��J.� GCp�B���{+���2�,��+�4�¢܎����'�tҼ�����~�ɣ#F�w�y,��b�-��ot��c���$ 	H�>�I��[0�0�0�B�����[O�*0MD(�@�U ��_}��s�9	���^B��c�=f�m��7�����{�嗟�y�ֵ�^{�9��k�Uh���H��_�����q��MP�<���T���ZUT��Rxpa?���=�	��*H@��$ �ͤ�}��+���r�-��[o�T9�OL��
���WJ@U$Pk��g뮻�u�]Ǌ����w�s̑x&<ڊ+���/�s�M�K�|��7�l���'�Lx��]�G��>�l�5֨�
t���=��g�u�������$ 	�h&����O>��	�*g�)�6p�Zx�$Рj��?�w��	ټ�
D�ګW���~�Z�k��HJ����<pذa)�4�Oy����{��f����:5�3fi% 	H@�9W���0D�"��ܕ�%~�cbx^����\���xcaR���$P.�Z�@_�5aU����x���@\����ߏ:��Kg�Q�� ���ΐ#�ᓒu�iFy�Ĺ=%���p@�$�)��V�|��x�E���f���mO�[�eG���Η�)qeѯ�K�3ݓ���L�>Nl4��Zk�7�|����)dђ{R��$ 	�@nU �<�@�Z�����\�%�5ѡ���{�s��M��Iaw&�Y�@����`�1��f����߿?/J�ǌ�2
�I/ON��bH@�K��*PQ2�T�pq�S��_~I��z��=-].�R�h�~�N��t�t���]�s�����9�XxM��!�/�����_'TM��y�iF�#�0L0���@��Y���������a`b f��+�"n��駟�i�ȑ�a<�
�ʷ*Yd���P��詈�M�QZ�ܥ��pfP��~@:��"�3��X�H��+�J1II��]vYb��8���<�<]}�Q��OIٟ$ 	H@�@	�P�V�M�yU,��8�l�r�%�`U� d��#�<�+�k.��p%�NO8�"q��ê�e�]X������3�UW]��O������0X���2�3��.0������Hͯ���"�C������`���Ĕ^e�U��n��w�A�SN!��B-�FcÇ���:D\�r�-�^z�?��>�`���.}��.�P㌱��˳����P�>�{�k���N;1F���[oe,�T�&��H�Q
�d�Zj)*H����?<��C�2'
VAv(�!��na`";(������/�,S��n��@)*�!=ߪd�}Ly*R(-I�oC��C���[�x�袋n��6܈�C]T_��x��G�{��g�q�i�M�@�Liƿ^s�5/�0.F<7�p�ꫯNӓ�SO=����c	H@��$��r�1w�g"�\{�(?��~;�� �0 u�p^�g�y�Yg�5R���~N�������o�]w%�#�S~$���n�E60׳k<���:	b�^x����y	H@�$�C��-�������M7ݔ�;w��F��3j�($��m���ϋ9N;H�,����WTp���>�`6f�J|oV]uURC	���(=<���k/��7�|�[#P�q�	�W�&7�Ϭ��;�|���2�����.T��W	���JS�4��J��KeL0dpa�C�����/��r��xpM|*$=ߪd�}Ly*�qZ� �
�
���O<��ޛn�	%�lt��B��bp��Í�$��3�,<8ꨣh�믿�g�|��l�S�N�!�»<#	H@���@U���>�	��:�7 �b�o�����1O�s~
g&��G��@\��/bT��ӧO�"�����;cW���Ҍl`<x����>'|�p@
m�</	H�b9T��K�iQ��[o��ҝ�-��F�wxUg���={�E�5�.7�!��z꩜Gf��q���'v(��� ������{ܸq�<*P�໲4��y������,�1����e��+ˎ�Q��N>LyD�K�p���l������H(@Ygɷ�Y�QY#`�S��ǀ����7��l�>=x�,���K^�j���g��8(�!D@�*P&���W|�z�聰�f���~eA������o���ݓ��$ 	H���P�?�x�#��K�.��{3�02k�*Pѓ$��{2�iME�-js�;＃���t�a��@^�^OJ@h'�|�@�S����
�!q�aE�v�mW�P�Y
�P��)��������K����(=t'�I���$D��� �W�&n?�Uiq�M`���'�2*,OeّNс���,N:�$�Z����^d���?�Jʒo;� ��F����n�%�,lS��4���q��xx��Yg����,\����I�4~�]��O�Nh�N����0�jaB*~����$ 	H��	�P�xb�2�H�b��x�2;ny���U��'���s��-O�(��A)�˘d�0}�8��_% 	�E �*P�T� q�)�NP�p�lS
���΋D�ʁ�ª1��Ѝz补0�7�pC�hp#�ׯ��/�\�*H�~��Od��	�5�F$�ID �"��W� ��~����v,M:�c��SX�-vΒo;���e��)O�9��h����E��a�=�`:��OႫ��}�3��p&�-T��0��?��#ݺu��&��� V�0�"�n�@��$ 	44�|�@xhS0�	��?}�@h��Foѓ\��?��*V��8�ܓp��/�� /	�@�U���e�0�
�R˝7��aq.k�"='J�� �Vo���,(#�~D��
�D�"5�'�Ey!�0���'�d<��'*�.�Pj`
�%T �B�}W�����,(g�
T8�ʎt��-�h�@j�J14@�<%~
_�
A܃��@Y��-?��c0f�n"4wzl�	zR��$ 	�@>U �>�	
M( ����9����S"L4v#��acٜ��œ��@s�@c	�qR���j5� ����oc���4	V���;��B!GB1����
SAv!�R�IF(K��̂r��@�#`��H',s#�x�/PP��������Ki_��`��5�*P&���M#ibf�s}t���	^�b��Rt���$ 	H�q	�Pb{&=9��� ��hP�K
��B���޲T����Gѡ��`쀃/P�F6���$ ��t�
D~�3RT�R�j�[>!�h%�'�B^�q��;�<����{b�n�F�(ʊ��^*�/�p1��[�]����4�8��rQ�ɚ0�|;���YqFP �3J�r� �P�R3�@Y�mg�3R������#Fp	�ۢ����)[��+���i�����񗅁!.��,L�ۣ�e�o�С�I��X�ƃ�p@�.�@��$ 	44��@���,d^��,F�´#N���1��p)�u {�(�Ѳ�p�N�[*D*`����ӑL�(2 �	�G �)�۰r<M�% 	T�@�U :=����,��]X��&:ը��.c�D� �\��;�䵝>tV���r�-�}8���B`K�~�����'M���c�]q���8Q�2�`2l��F��x�	�C�"�T��;���/�ei�n��PC
#M\�P!.���R�� �PV�1ZL,�".Pb��B�e�gɷ�YPβF���� �Ͱrh8��xGl�E��xC�c��_}|�x~�v	O�	� y��3CQ�˭�q
��s�=G"|P,���r0�(����3��$ 	H���Pb*{�W^C�?�|^I�$�0f���� Y�-$!�g׮]1Iц���d�N2S|��hKs��LOc�
FA�d��I�һﾛe'N|ꩧ6�h����?%�t= U�-�z�@t��M�3.t�h �8�� �Do衧�/=�7���f�#���᳊?\:���Y����t���D~�+�zb/�>�%9�9��޽{w������/l\>H�D�����a($q��rӤl�,#M�
<��k�ݟ@4�T�H���͎��X�ư�hLd�R_��m��I
��_����Q��,�b��h��d�q��T �1n2�u�Y���'���g>m�6tt�;�Xv�eyHpQc�=CinJ�j<��H,�c6�'�ܶ xR0�Ad�zB\�޽9�hT$ 	H@�@��V�|bb1��ח=y�>�B*�k��1�1�x�`z��ˬ�' ������C�),*�f!����Y`���qǀ�Nr��ϋS�={�$4t��7����#ī���Ż �����b��w�_�$ �j��
��/���3t��e�=0�4���!ы�>7\C/���dr�U~���'yg�=ه�I:R��3�`�B����x�k���cI��|�($�x��c^ϑh��]�z�bC16�JL��&��%>�*�`� ,D"�R^@�"���-��":�0�袋����G�^Z�<�qLb�u"�b!�R�V1�,#`Ƨ�6B`adG�a��2�㰔P�`����o��&�!��;�8BȆx�1#�b1W�I�T��i���G�뮻.Uf���2�H@��$ ��!�C(�Ũ�>ļ_)'�����uk&:y2d��z��R���$К�U�0:9N5����^���Q�ȋ_	ς��HM��`�/�����J��I�nĳ�<t��3�2'���]���|�C�dQ���گ��j��)� k��1L� <��Q8%�
������8�����J@��$ ��ȭ
�t�P�@M	4�
TS,&.	H@��$ 	TL@�bt�(	H��T�j���% 	H@��$ЂT�Z�ѭ�$�T���,�$ 	H@����*P5�E��Z��*PK5����$ 	H@�@���YH@���*PмE��$ 	H@H!�
�ǟ$ 	t U��o���$ 	H@hJ�@M٬VJh�@MЈVA��$ 	H@�"�
���0��"�@
$ 	H@��$ ��P�
F��$Pu�@UGj���$ 	H@hq�@-� X}	H �T�r�4L��$ 	H@J@�A�bK@MO@���
J@��$ 	H��T����$ 	d$�
���I@��$ 	H@	�e�e���L@����N��$ 	H@MO@���
J@J@�A�bK@��$ 	H �T�r�4Lhq�@-� X}	H@��$ 	T��*PՑ��$ ��P�
F��$ 	H@��"�@
$ 	䊀*P����H@��$ 	H�	�5A#Z	H�)	�5e�Z)	H@��$ 	t U��o���R����'	H@��$ 	H��@@�	H@u �
T�f!	H@��$ ��"�
�R�me% �"�
�@�eQ% 	H@��$�T���,�$ЂT�Z�ѭ�$ 	H@��jJ�2hĈS�L�ݏ$ 	Ԍ����>nܸ��f���$ 	H@��$�B&O�<v�ؑ#GN�:5��ċ	*З_~��	H@��1cƠ�=z	5�Ą% 	H@��$ �"��矏5*��dW�x1�#	H@5%0lذ��o���$ 	H@�@�`�WY*�C~$ 	H�v�x�J_�,LY��$ 	H@h5�E�,D?���o~$ 	H�f��@�حY&&,	H@��$ 	�����eW�2�y�$ 	�	�GX�����$ 	H@�@�	T�G�*P�ɛ�$ �t�@�|�U��$ 	H@(��*P�ļ^�@}�Շ��H@��$ 	H�u��N[[S	H���5V{YZ	H@��$ 	䟀*P���J@�I@�5��ZK@��$ 	H�vT�j�֔% 	���*P{�y�$ 	H@��$PH@���g$ 	䁀*PZ�2H@��$ 	H���5SkZ	H���5SkZ	H@��$ 	䁀*PZ�2H@($�
T��3��$ 	H@�@{�����J@�U�ڱ5e	H@��$ 	�&U��lwk-	䟀*P���J@��$ 	H���5V{YZ	H�u��N[[S	H@��$ 	ԇ�*P}8��$ �r	��K��% 	H@��$ �t�@�|r�믿���o��0C�U��p6�F!���_~���߫E��H�q�Z<MG��$ �8U�8�����O4�w�}7dȐ�?��0o%�<�@��A������1��������-�^�ۡ�f�ԩ�'O�0a�������v
A!�I�&}���7n\4_�(�$	H@hq�@�} xQ���6`��}�٧k׮�O?�]w�5eʔ���$ �<��
4h� �4y��M6�3q���{�W�<�j��Ņ��qu��H4t���n���w������x�S��P�D߾}��j�.]�t����g�mg��������޽{�ΝI�GAǫ3m���$ 	H��	�U�������^{�Zr�رc����EYd�i�Q�bK���@T��6۬[�n[l����o���~x��d�=�3�m��J+�����*4�<ב/��O�5�ɓQ���A��������y�JU�}8j�5��^!F�b�XP���%*��55��T�%0�5*�g�H�DL0����ɗ|O�I&'gwϝm��{������3�s���w�g�=��q�?���v�XԲ]!}==�ȑ#{��E7]�
�+1w��q��m��f�{����/�V�7% 	H@�@=T�R�1D�"�Á�ĉ�1xcX�m�3�����W(���H��h�
Ĕ�_�~4YcƌA��裏P������������O��}Z�8`�7�k#��š==z��o�8s��׿��[������"�؜�g�|��[o���ɓ���
����BD���޻!*P`�c	D��q��6Q	H@���6U����O?�4e���?<u��]w�u�w�5kV��"=1MSJ'��2��a�ҧO�G}�a�W\���f��&�m��>���fX�Ĥ����/��3�<s�}��Zk�u�QGa����/]�t���^{m��VÓnR������/��oU�n�a��65j�{0��:�$ 	H��P��X�x1;#N<�����?�����f�����_[y�^
���j �lhѢEC�ͩ�eU �!C�̘1���[@�=*�������cdŎ��Lk(�3�<3bĈ~���������ƪ@�m�5����:��d�$ 	H@hq��P�#d�'T�Y���V�n�S�|~��U��h٨�Ip��1"�ɜ-Pb�J���$�.�����ox2Y�lYHY�xɂ�'<4��x����k"��t����m�dUq��C�-�<>�E�I��s��D��1�ᓘ�l~���6%62go_g��d�u�t���aC��$A�j�\�]6�!�e*�KD]��SlRI��g8hl����d�M�[�cY#�1	H@��$P@�eU FV�]Ě����(���q+�<�A6�������w��w�1�b��lp"�>AX0%i���Du�]w�7��#��ꫯ�@�{&>L���ⓓg����X�c�0�eK�5PP���)f���k	H��4[*��
ε�|]�d	�[��O��4��K�l#�(@n�6�|aS�j����;,}&��'>����\a�T��Wg����Mp���(�Rr4R���k���}S�mً���0{���u2*���+�+�81��mԼy�,:�Ҥ+�ې$һ\�5��1�u&�{p���Y��}z�a���ҋw�p��v�a{�*���?�:;�^��	H@��$�!�T��1S`)�x��O)�4��nr����UW]�O�=z̜9��	'���z�X�ٳ�<�[�fǊ
n1PxXz�r�-q�@XFw䁴	cD�UVY�յ�6�<��\����*`��Zm�b�p�����õ�^{�UW��NC
Yͅ�$���
D�LDC��h�Y|J�瞴�'�|2��u�]�[i�'9hlΜ9T�NN�8�v�a�5�|饗�3Y�/$�{ｗp@���.���n&��Շ�s����~�w}v�~�i����8	�>�~�.-��~��) �Zm���ƕ�s6cU5�d,�kK雲y�^�Pv�P���J]'e�ʨ/�J���	۔��I'�	�Ϙtq�I"�+,xER�s=�	�ˀ�y饗r�/!�V_}��VZ)�3��J/~��-�؂7#^��/R��$4}�tD�� ޑ�$ 	H@UhA�e��n�	=�GA��4i� }L�6�!t�ҽ��ɘe לq�����"�j�e<�>1d����ma���Z�P��<��LLH�a����ȉ�;X���r�̅gH}�u�ɪ@�f,m�RN��Q�w܁�9%e�y�m�1>��$�5��
��/"�Ө��1?8p 'ȯ��z�r�<l�EB�<��1���f�ã�3M&xVQ��W��sM+Ob{��^{�Fe+C�SO=��7ƙ��@�g	 K��|q��5�'v�?�f���K~�G�n��e���=�kK�rو_k(;}
�U�����J�O�vt�T(�1���=������F����Lq�I"�+,xEYفU=�����tI�e�/mN*f����K.�.{�1���·���'V^yez��hi(�H@��$ �t-�����fDA�c��BKc���?dȊ��رc��	O2Re��Q+�b�n2� ~V�'L�W��	݉58~X�f�f����P,d�T "I�XH1�7}��a�~�P�Ic'l�ʪR�H���ڑ@�@`*t߾}�|�M�#�e����c��4(�H]�v8�!�pZ:��Yh�C]t�EL�s'�e�c���Ç/\�0�g֏
�����⤙}�����:[��惶���y�^�7�)][U}S65����_ �ȇ����Q+/�젃���`+(�x�@
�:� ���W��䁎�By�_@�*P
�@/����?����O;�4��#z��O?=����~��$ 	H@�ZP���tl�㰓���o�:�.�Ơ�}R�"�)��f����Yö�n˦���YMfk��QqJW�*e���Ҍe3��}��믿f�NV/����KzGhw�������[o-�E�1��U�P��{�S�P��1���ͭ�
�{i��݉�I|0�^��qc�D������+-+�0�ݻ7�/��(�!{�޼�tmU�M�lp][�	X�t=�˲�2r�H�ZbZ�=�2Ȧ�nM�Rҭ3	R��+,xE�!�+}��b��0Z�y�Na�f/�`�ƿ �qq�
��f����X6����$ 	H�Z-��"0�c�>����`u8���o˪@��rV�H.؁�'ǌÝ�;,;�?6�(�S�
T)��f,�!���ЗgXdŰå�ll^K@mD�5U�Р��`�S
�l�YV
`�^����\�5�6����?��������
v�w�y'�X/��D5�I{��W��`w�S�P""�&�n��c�Ғ�;54�][U}S.K5���x�ck�e�]����������9%�J�� �Uu��h=�Á����[fᗪ@)L�1���^{m��c�er���.�]{��v�1���$ 	H�Z��aM��#����{B�+�31�ǱOV
F8��`	8G�/;Ř��t"�TvR�U���F[0����1���Ҁޑ�ڝ@+�@�V��v���
�R;��h�ٱ˞�������
.y�P�s�B������P��JE���a'��K�^TռwصU�7�2SC�C��N�˩@���5���[g䳪��Rr�S�][��ȡTJa����a;���2��v�w�����͛��$ 	H�,�T�X�eR��/|5�〕_�$�F\�-P�
�7Q����^�(�(��o�	?����B���F���f�4ڂ���ߎ�EY��Ұޑ�ښ@�V�؁�IO��pb}�q��/�1pf"�����5ĉ�k��� b���JKo�S�����\�j({��RU��t�L�|V�VJ�x�!\R��9��*P
�\���8KG�
�f�6��ݥ#�����$ 	H �@�@��"���a��@���E��>k֬����c�QP�rn.r���J#�J��T�p�����N�f̛�@;hG(����:]�(�i�X���9��ش�iDx��q���g�4cTC�aSR��C���,�8q��-E��7�)][U}S.?5�=�P��*PJ�u&A>T�Ү�Rr�Sa��1r�'fcY��R(�I����x,�0r�/b������Ǉz(�G�4�w$ 	H@�@"�T�8k���;�s7B)�
�2\��hi+�J�"���sW9�6{�<�-�$���aR��~�R*�/�Xi���wʔ)��ix�ls3;�
�T.��;�@X!*P�S��� 3ZW<�fw�2{ŭn�;��q�p
��g�}6:�!t��4}ek�s�b���V����1'Tqbw�^6�r<IsX��+���y7����%6�U�Qڼ�tmU�M9>5�=�P��*PJ�u&A>��
+%G<�f�:��y�Xbb��r�����&1x�g�a����Ǜ�>�oinZ|�	H@��$P-�T�XDC��T&���q���u~��J�L��0���(�!x�̚�,_�|�����q�����^r�+IǕ���z�I�K٧�N�T��%189I�X6��:}Y�n!���s)�Y� JzGhw����p:<�7���Ą2��ن.<���os��X�0S����E���*�ĉ��P�l���n�W^ye�ҥ�����o�q���g=g���h|��5&$��ӿ�8㪚;5�I_�5���/�)��#��رc���s�=�2C�қ������)����b��%Vh6N,c��;���q��w���)�֙���+,xE�!��Z�~�؄����Kx�yim ��=m�4^`�ʖ��� ^��7s�L"�|��N�H�@��֚���$ 	H�C-������Ӑ���3%8p cQ<�{��Qz0:�%
���[m��t�&M�d1n��0NcT�m?+ь���Q������Q��j/�؊#�0��� d�<���0HRl��}�J8b�0�(6��j�X�ʈ��3�� ��S��@��?��>}:�ǁ@<�,ʯ�@ Й*�%�ٳgc�@���C�Hc���������'����dQsv<>�z����,Q8��V�vA��h	�	\�o��F�>|����>�i����k�,��H�Ì���%�������'rP�5�t�=�"�u�Y���j��Į-�o�L�E�e���\&L���f��e�Ӆ�B}��D�
�e�Y:��ϒzA��?I"�+LyE�!<y�d���Ʋ���ѣG��q�(;���a		U�x7
�Tz��I�N<h�C���7t�P.��K�h/$ 	H@�@=�1ba-/�{G�h�"���N*~��_ 1�b���`��M�,�����HiVх�c��̅�#�:<h� \(��L8M&n= C,b�R�~|Ra�27�a�u�5�'�!����
����`� >K�P@����"g�� �|�`�W�Eu��W	t1��ኄ]��]���/;Sh��K��"Ѵ�K9<C��^�dr��g̘A�4��1��&�4bU�0b`�ޖ8��hlf�=z��}#Zf�(QHR���̈�h�%Ԑ!C8V�#�sKU���DBnG��9P�So��s�P��{zז�7e���ʎqJ(`�B� @�A�C�ٳg��q	XI��:k?��!�J�60���0����;�����S1Β@����6�yx�*1��Uz�Jq�@�}���Ȭd�>�	H@��$P�T�BqG!�0�_�'�Ҭ��Sزa����>c�'&�'���ӌ��*���M&#�1�VA>ˆ��$Ц:Sj,"4j�jP ��-؜9sb{�K�_���MN��=��<Kl�żM�l�]U�t�nd�&?4��;esR����-�o*����^6��nvB�$����f¨���b��bPA�W-]�cL����G)�;�Յ�$ 	H@�@��U�
��O�����U��C�XF	H@��$ 	�#U�v�5�,	t�@ݡ�-�$ 	H@��:��*Pg�6-	H@�T��Y��$ 	H@��$�B@(���H@�|�@���% 	H@��$е	�u���t�@�Pjߺ3���$ 	H@hM�@�Y/�J��*��$ 	H@��$�X�@��il��E@�Q$�G��$ 	H@T�|$ 	�&U�֬s%	H@��$ ��%�
Ծug�% ��M@�kׯ���$ 	H@�@�P�|�(	H ��*P
%���$ 	H@���	����I	H@�I@�3i��$ 	H@���U��P˖QhG�@�Xk�Y��$ 	H@�L@��kǼI@ݙ�*Pw�}�.	H@��$ �fPjU㔀$P?U���$ 	H@��$�%�
���$ ��!�
�:uaN$ 	H@��$�5�u�z��@�#�
����I@��$ 	H`�PZ��M]�@%�@��x_��$ 	H@���*Pm�%	H��T��M��% 	H@��$���u����@�Pj��2���$ 	H@h�@�RS�S�nT��[�[^	H@��$ 	4��*P�	�$ ������P��$ 	H@�@%�@��x_���%�
�b���$ 	H@�����T��s�������G���F`ѢEs��Y�p���۴D�X��$ 	H@�F�/_�`��y��1�HԸ��d���?���$ ��@��n{�4�F,	H@��$ ��E �'L4���D�M
�J�֏$ 	4�@h�mo���h% 	H@��$�	���U�e˖-Y�����ӏ$ 	4���ŋ����m��$ 	H@���&���+�����h�c��$ 	H@��$ 	H@��$ 	H@��$ 	H@��$ 	H@��$ 	H@��$ 	H@��$ 	H@��$ 	H@��$ 	H@��$ 	H@�#�H�K�
endstream
endobj
101 0 obj
36469
endobj
102 0 obj
<< /Length 103 0 R /Type /XObject /Subtype /Image /Width 1022 /Height 222
/Interpolate true /ColorSpace 108 0 R /Intent /Perceptual /SMask 109 0 R /BitsPerComponent
8 /Filter /FlateDecode >>
stream
x������+VAl( VbA�����A@����T�*�QD�)�DPD���{��|�!�����޻r/��dg3�ɛ�웓sNl[�  ��  ��  ��  ��  ��  ��  ��  ��  ��  ��  ��  ��  ��  ��  ��  ��  ��  ��  ��  ��  ��  ��  ��  ��  ��  ��  ��  ��  ��  ��  ��  ��  ��  ��  �� p� `Y֩�'O?a��̻d�:u��I��);�Mѫ���RE/-%A a���?��2�=q'N�H��'l��nA@A Aڹ���K��:�}o�_�c��^�u��5k�,^��\n�8k��ͻX$H��7���ŋǍ7gΜÇ'�B�A�PO��9�_2�}�z������������Oj��<��  �@�E`Ÿ9������GMG��#'���ɽ|���w�)��5E?��h��o��d ���ڰaC��ӥK״i��۷�%����-[�9h����#P�Z��i�V�Ti�ƍ�%c�6N�2z��lٲ�q�ÇOv˖���A@�"�����!�+���W�/9�ͽe�.�e�*�
5Z���r�h=��o�wH��W���7���o�X�"����)l?�ԩӪU+�f
�~l]�7�ߠ�EآE�����˗o֬Y,ņ��%��  �(�8�}���sW�w���g@��R��3����[�)�Ow�2e������-��"e7�V�ʞ={�bŰq_���f�q�ݻw)R$u��u�֕��(�W��  ���#ǎ:��;��nH��a�$낮�Ԯw�k��ۿew�Cj�o߾B�
�I���֭[�=v�ءC�0�P˓�G��Ob�?t��
��+�x�p%V���|$a0����F��OC�JԍHr����;w�ݻ7RJ"bk�$���;v�ڵ��U[�B���yϞ=���.(Ò�Fi�~�F�A���Au;���L��/J&1�c:l�0��^�h¨�kOOugOC��ɠx��z� $�6��r�g��x2�3g�����0��B�tJ͊D|�B[�+��  �@D`����|7���o��PM��m{��F�i�F���#�FT�ff�q�ܸiWXnl��~��{�뮻�L��Gy�ԩ��!J�lٲQ�Fa�Ѻu�~�	��g�`�̙��1c��-�����\1b�W]�>}:��b0��nݺ���o�ҥ��˗���_~�"�� nڴiҤI�{�nҤI���H¥�Ũ�����{���׭[-aQ��r�N�4hЬY�����A�0��8qb�^�7nܾ}��q޼y,I<5��2Ƀ}��=z�4��w�H�C(���i
�n���ﾣ��͛#<��&��%aP4���%|Ȑ!eʔ�I���gDF%��d��ΰb& #��:.Pa����1��+W���3�G�e˖m۶9r�ڵkc~��'蠘���<������O>�d����B��a�����V���  0}_o���R������]�F$�uS�v�]�bx��b��/��w���#ȏ���?�P�%K�e_�J7Ê+^s�50m(k޼yY)d̘��*U�%J�"�9��	�P���d�2w�\U�jժx8~��W/���m��v�W@$&L�����(p=���TyZY�`Aٲeo��ʣoD�뮻.gΜ���g��-ԃ��m��k�殫����n����y���Zfj�,�.]�U�t��|�Ang� f�ύPq@��tB`�v�7R�_|_r���^�d��Lň�!C$��dpӆ:z� 4�q��f͚�v/�������J�=�k:2�8�L+�5)��d]��
��7����޽{�<y�c����0i�M7j�XqK�A1n-�� ;���$w�dO1>�_z�<��C��+��  ��������iԔ��&���"1�}�v���Ʒ���T��__����۳v{�f�9t��s��g�ҳ�FE�_����z
�.��_EyΏ>��ya��^s�R�F�5ԯ_�O�8��/��u(���?�$�Չ�M��5H����r�eB͚5ٰ�p���k%�K,O�W�N%,�H�jhԨ�ɨ��+x2+��/�гgO6,Pѣɤf.*e��@vI��A��z�K�.�E�х�������7�:,�c���k�}�Yń[:�7:Ȃ�-�9��`?Đ�0�ގ���}�z�D�	�]�>���,|R�r����@�� ���zR��O<�~�6l�+���<�Q�Ǌ[J�����<�_|1�>���SR���(�� �8�c_�\5"1ȁ�{:=�[2z���F�:��7�t�8��e�u�I,U����^ +wD s�i��>��C��Y�?
y���*Ǟ�+�J�v��o��`�@K�^��O?��-Z�#�Ν;c��裏~J��n%�.�E�@Y̞=[��,�V�Z,FX�]��e �����N�{Y���o�x�w���ZH#�V��GxdF�J(rusdшg*�� �=|�3�S 	 >��VD:Pa7�Q�AE=)�+m�\�R7j�X�[L%���M0�o���u<����Ta��x�Y𲹦o��  �� ��8�̿M�6piL_���A^��Gy�c�����;�̕+���vs��W��������?�j�b��G��(걂P��"� lO�`q��͑a!��������_�v�+S��.�襗^�=�}�;�H�ܹ�[b~�y�*0y�d��e�]�GTFw�:Ϯ�0hq�Y�!�x���� ;
���oB�COQ��� Ux�n��@b��MHf\q֒��L�A��c�0�؆[7A�h�<�ؒy���2����L��;2�QA � pޙ�R�k�z$�E)^��'f�СC1N�����>5e�0�-�yM!0̦ft�� ͚5�@�1B��RE'��J�
�\B��^(����LPen��رc=�-1P3�+��l۶�W^A)�Mv&�������D�@d���dfI����a3�hC7dB2㊳��<f�J�+��ɠ�6ܺ	2��٧�v�W�A@7��WC���{Oi�ݲ��P�mO�P�].e�X�+kp�a��J�R�`�f�X�<��p]�	���$��p�e����[&����O��?�D-����|����瞣�Pպ���G"����G�U_iz�M�{����n�V�H��Hݖ	Ɍ7�Z��	:(qz�t�M%���M�!*�-���?w���  ��B�3��>��L�	;�3(�d�J"V���GY�@��/�?�W�k,s0-��%P�[T_T���b��H��i�< ���&Ƌ�+���k��� M"x.�'ض��?P}d�tA4D#��r��#sqfcW�}[-8n p�º�&���=ғhA�X�L%���M��ӧ���yL�e$/��   pޙ?qoЖ��M�����n8�Ә����
�оE�"v
�q��.����G��'b��O>�L��k�HU�_�r|69b �����݁�uP�6�����Z$C4��+7!����믿f'���|[j�*�;h�	:(qz���&��p�&��T�{��0���A@��yg�X�Ct���J ����p��
���U��13�x����'�$'��j�����弇�r]���{Xt�1?�Ƹ @щj��!R�>KϽ�\���K���:O�j����[�{���4ۃ�!��нV$S�h��9�q����;�	����v�5�;h8(qz���&��p�&�px��
(��������'�����  <��[���x�j��@��}�f'|�;&1s��J6f�`�X��]t+�Q��6�T�:�'����$�C���î�ۅ9,D�.�݀K2vD��q��U�hX��׼����"3�Y�h4XS��)�mA_�	C4(i.���p�:��/鋞L\q��u^>�8=V��&�B��[7A�3���#t��r�	&�ꫯ�6T���_I^A@�P8q���u�w,ߤ��O_���U�?���m�׫�{��8y�����WV�ȉ'�Y��u�(�?��i=FDD���zӦM0s�?���ط�S[���G�B9�A~�ƍ1*�C��
a�0Lܒ�s]�|X�p� �Ea&D&�3."3�����݊/|{YQP�v�r`!"
����&�k�AƎË�����k��2e
��pj._���w��@b(�1��ކ��� q�}�R��;⇳���fJ�+����0ܺ	ֳ��=�gDN�ҠIFA � �}��%�t~���똣zë����f)���O��!e�ܵj���1��%�$&4�Cݭ�DQ�zVN
�'b����F������1�!0&g����B�
�#P'K�vr<zus���*��5���w�}Q1�A�N�F����,Fؤ��s�Zz�Ʒ�&��ǎ�P��C��Rc=E%�V(,8q��@�u9A�M����@b��C���`���&�8��>bN�>�)~8���U�A��c��k8(1�n�j�bL�F��eTF���(�� �ضdC�b�:���7�v�h��A��q˚ɋN�H�3|��F�i(4<!���#�%�Kfw����s�Gَ���Hy�9���(�Qq�㯭� ��EH TK�y�c�P��U$5Ch='�=��]�pH0j�` *r�[<4̈�پ�����ȑ#1�Qb�D�V�q��ڠyZG���>�Y�T�T	k�Q
�ͼ���I�*)4��߰aC�^��@hpK 1(ϩg�AY��Z�h��Ϊ�I�_�A��c�F�pP�%�ps�"V������2���S�oX�^�  �� ��`O���{���6��lYV?�	�-�v83�c߂k��O�Ԍ�,
jw���E�L>���Z�a�Qe�A*
�e:F�[���A�8�+#��xL�	�H���Ǡ�p��*Рn��y��Áў����@�0��  �� �����S�y�]��H��)-���F8*&��pJ�J�{�#��X��c����7.��
��  \0(?��	5�	�s��1���
������֥A I!����ҥ�ܹ���KR�0��  �� ��@�n݈͂�<�?�n1�Ӯ|%��>����.]�d'�,��  �p��C�6�`�cǎ��t_| ��z8��z�;��]�  ��  $���Οs6=��IGB�D����e0)�� ��  ��  ��  ��  ��  ��  ��  ��  ��  ��  ��  ��  ��  ��  ��  ��  ��  ��  ��  ��  ��  ��  ��  ��  �� pa `Y����ԩS�GȠ�A*aN����O�}K�T _	�0�u���]�9�y�AA@�#�s��I�&�3f���痫���ŋǍ7gΜÇ��l�\��_���|J%��X�l�b�Zj�Zf�/�$44�κիW�?���޿�y�RRA@�� �v�,Y.��Q�F��L��l��R��y�6l(X�`�t�6mʽ>7V�ʜ�z.��$�;��{w�hh#������;� �E�,�u딽a�ݰ�U0��JvkP/{׎M��oq��o��f®�Qf���g��2dF��-[�;�c���G�q%yA@A@�/S�Ly��!�(*u�YAԩS�U�V��b�<X�^��o���7�\�b�����g�����
䰖.�~��H�U=������ޯ���[ֵ{}m�ت��+�	՚v��<Y���ς�o�2M�X\6�cune���{�c���3�O'���3��a�E��ӧϗ/߬Y�0�q+yA@A@�#X�d�ܹs��ۗX�>�V�ʞ={�bŰ|0�
�L�2�}��,@�n=���z(�U4��b������2Z�����=����~��V�ˬ�5�m�W�zc���Ct�+`�c��coXk��k��g���>�"���V�/g�*�֙N�X�7��]C+ۍV�筕!)�n�Y�)�{��"E��N��nݺ�_O%�QA@Rǎ;t�4BN�����{�r���P`Z@y�c�d~ǎ�v��{xUa��o�Ԭ�`;@5z��Q��B�@Z�6l4�p�-��s�#�n9*�&M��[�FW���z�f��,�鞄���]�Z_5q�jBӤq6Zw��ƍ��;�{�Op�����r�t|��Ç�=��?���y���쭛�������������	OԆi==#s�yq�C���K�Ac�}�h�
��#Z�}����#O(,h��v�0;w&�\ak�"�F���H �
�9d��@*j������#7Y�h�5�̺�{y2g�|��'�VZh+rEA@.֬Y3{��͛7�h!�������ڵkC�r ��gΜ�U����ۣG���n��ɐ72�0�ubM��E�!W�J��4hȐ!����]'��7"g�����y��V�?o�<V�����q�}�]{�ФH��=:X9�[��[����W��^��W/w�t&���K�ZKB,�0��1�F9;]�8�Ne��������;wA�}��_�����#l�
���V��`ˋ�أ���w����x�ל�2ô�v�>y����1��=��9�`H�Ӗ���9v��֣7[%^�~�ܨ�ϋ�2�M���؛�9��i�{�|��H��N-�Go�8U�U���u��<n�����K�5k����|A@A��@�
��暚5kv����'�Ȑ!Cƌo����V��1��$c`�*U*�����k׮}�-�\}�Ք����y�����_�u
���_~���oŊ�I�&���˛7�=�܃���V�%�����l�2k֬�{�%�\y�7�x�j�{����ePyV1%K��SU�Ta�Z ���^��wZ��wxfh�{����ֽWZ�����	^�Y��;�=;�|��~R�a�9o���l=��z�:+߃���F \���V�[�}�'38��w��T뫦�1�)�Y75C;k�u襪��{��_�i����+���0���c�'ﶨa�r��i:*zw����X�R9@��iV��)h<|����V�g�e�I�~>���]�X��t$�~˙���YPtw
4(�W�Hk}V�fq�Nc���d���Wź��r�j}���v����y�Yz+n��xXX��]S��"WA@A �" �O�6m�<yr��Y�V��#G���o�7���{/��2�1�q�����z��5j������/[�l�F�06n޼��T��㏝:u�ر#~�w�u��Wb�Rxꩧ�U���O?���4�ՠ��СÞ={�S�N�ٳ'!z ����:M�Էo߰{؛ȑ#+V�6t�*3f��b6��g��p�AG���f��jV��F�2*���h��J��o�u)�y`O{���&�X���\D�����q�r���)�A��:e��ns�l���AD�}��z�U<��g�L�UIӚN��^�����$;�C�=�,�85S�7m��r[���c�*s�z��E��v�΢�ǭ�e���,��nn���������3�b�O������˳;������Y���Q������9��/f�L����#WA@A�������<���t�M�r�Z�����+~��G�(�x�����yL�ʇ�+1P�n��u/b�� V��x�p`+���wĈ8У�ӧ�F�-�Q �$�6&qw��is�WrX��h�:��U��J.3!��[8�~(���g�l4��(��K�~�Tգ�����OX��h�>�
����(ܽ��J��X��㔭|E+�M��_:߷��Ɠ�lX�넶�:�2�I!�2��l=v���V�;���i-�;����=|
�������_���~�[������sO�o�q�W`�f��]>
��  �@�B ;����n�P�iӦ=��(���w����.�ÿ��K˖�,�F3*�Wb<��#[�^�z�y睬.\��@̿M�6��z+�Hy��#$���.�F�pV���-�������.����΋�._8N��ľ VC�qj�: sq��`����Zw�E6�#(��G�����};;f���1/<le��Bu�ϓ�w��w���}�_�Ŗ���w\d�|���{~̍h�ݗ���3�@�,13� 0��3j�HĶ��3<�c�Q��)��  �rl�}w�0�QZ�������>��f3Tk���/�	ѩ��3���n��b�hDqF�w���#4:��*�^ų� ���Q	�U�N0��q��ı�(��òR�������L�6����˞_���pz�vq;6�X��2���\�Q���Y���$Ϯg ?��f��L�YG��S���;����̿��2 ̢"9Һ�c��4(T3���艻�����#}��x���ҥ�_�A@����~]�f��SD�|����w�֍H>�+,�1��ꪫ0���f��ʕ=�*t'G�%��S3Q}�{�=bE�ּ������s�9f9,Y��caKD���������v&�]E�s8���C����fvHa�Ͷ��T;�����,��{�:���"�g��&��떳�������N�#v4<�?�2S�	Y��$�hPh4f��,3��<4�y�PL��m�3�DJ
��  �@J@@1�?�p��s4���Ν�>�����P(��'���5c��C�$��裏p.W����Q%�/���s[w_j�𭣱Ǣ<���8'�%�{v��Bg�I0�����n�Ґ|
{�壢��aMT���<�?��(W�n�S�_�@埖�pU������C�=�?�2+�O����0�C��"2�ӫ��>�Ϻ���΁�H���}���X�ţ-�SA@�5����ɢ�'�':�������(� ���;~ޙ?�����:��9wkü�Jrx�C�[��s�m��n�hw]u��A3?e�Y�^��3�Hc���9I��-̷�Rw�&+�&�}��b�s:؛O;�5J;�(u��	�O����-�b��n�Lm�L��A�Q���W��s�@��Ͼ	�����95 ��9~:���ԍG[R�  ��  $k�G��q}�{[b�pP��H������I��W^y��ΐ����.��O>p�kvjyF{�+߱͡��yL���;)��XX��&�p�����V��2l
,��9@�� �M�9�}Q�B, �8u��XpW蓟~�����nt�uv�ԉv��^�o�cc����(Р T��Q�j�q�r�nm#(��⎸�8kG��pWk�oڴ)A�
(��s�\))��  ���	�3z�h}Z.�>�{�Ƅ�p�����H�a���ı�����Y���|�.]FJ�O�R] ����W�wBq���v�KG��W��f+��V�w���t��g{w�	��6��.\�C�Y�JIg]���7���&�%. ��
"Z��́V�"U�Yi�mO�ӻ�8�L��&�����)�5������E}���Uf?�}�v�*sP�ߵ�#$!�VD����Z]Z9'��|�Z��,vDj"�P�4�O���_�α�������F������O\O/�  ��  \ (�%�᯿�ڴi��͛��y��W1�'�>W��4d�G�]�nJH��2�Cݻw������뵆#�����9������CT��+W.Y�Sg|�qOv�L��?�T��N�8�� ���{���~��G�$�� . ;�_�+�:��q40=휷�{�;�'����KaLD�,p4��V�3�8Q��r�[�rG��;��P���Cc''j�-�8�;�Iؙ`C"����9�	-?u�6�w"�tmc����́b�lS����(�2e�������㠍�tp@ҽhP~��qp�i��B�W;F�T۳�3�xv<���|(l�u�%�_W�9ba�x������7G�Z}F�J��  ��  ������ө|���ũ��АÓ=,ڐ�Cŉ���JTH8 �?Qz8�W],S���@��c�@��S��d1��e�F�{B�4��g�}��	8S��(�L8M��B��� b]�s����V��q�W�cW{�ʝ�9ݕ3����\69��YM`��ؾ���qZ�����s��C_����8Y�D�g�z�
�4������]�s0g�Ak�\@Hcu�R�VV�{�\�s���(P\:�2e�p��
8�$�'D*QǌF�F�׉́���f�ֱ�����G�8��,�@���X����f͚����J�j�رn�<���[A@A@H�(�]�R%���ՃC$���~~ʔ)Z'��?~<g�-Z����A��j����?��{���۶ms�6a��{뭷6y�d�*r�̩d&�y�R����]�F�3HŒ��D��p�&�8G�|�B�)Ql�H��;�|(4�l)ވ)H�4��wڼX�r*o���^�[0����簭U���l�bNh�[ճ�x����,U~�	��֟Y�Yn!�ؿ�|�P�dF9ٮP��V�0qD�r:�NYC��ϪVʑ߳.4(��T5W.�Xv-]hWz�����֭���y��-|�7�{վ}���ӳ�����VjA@.H4�W����X�!Ot��8�gY:|�`��2��aE�9r$�Hq�ǤZ�QJ��i�I�-����&���f�:p�&B�}
p���Ua�$���β�sQ8�2+1��}b��}+�]p��:qv��©�\@ܵ�7�-[��͛�=�v����}�y���Ҋ  ��  $+<�?Y�LX�lm���k`��~)-$%N�<��~똺�#�9)��"��  $QR�g f̘��O�p�Rp���$:$"� `� u���K��s��l��!EA@A �#���?�ݭ[7"�ʕ��L�?����3>k�ҥKK0�d;�"�  �� �_#ТEhp�&MB���ע�'���|1�h۶-'�'mJ#�@"#@$bqq��}0�I�ڥ:A@A@�@ �Ί+�7�(����͚5�����Pҭ�|{yl�7�<���҆  ��  ��  ��  ��  ��  ��  ��  ��  ��  ��  ��  ��  ��  ��  ��  ��  ��  ��  ��  ��  ��  ��  ��  ��  �������N?���,+��9u�$wY��ֵY�N�:q�:y�p��;b�Z��N&�G�Ŷ9��j�7���4!_	�@�"�9b��&.�R�  �������W���t�,��l���{F��WOZ�-��ʓ�<�{��-�׬��x�s�q��7�b���h}����ƍ�3g��Ç���)��Y�p�#G|��W�� �tX�z�����������'�DA@A i"0�^�/2~����{�����?�**��vY�zQ�ţ����)�7xr��7��i
~M�ϯ.�(�ۿ7����Fï6l�P�`�t��5m�t���w�-V�Z��i�V�Ti�ƍa$��-[-e«���@�&��ѣ�e�v�w>\���kJ����  �=��̚�jȸF��ҵ�-�2V�^n�_9~���~���m�-� u�/�U�W���򝆖�8�D뙽~;��@�{���z���|��o���+X[��?6	u��iժ(����@�B ~��]�-Z�O�>_�|�f��Z/y!#�
��  ��m�����!�?z���%�7�]ud�!k�%[7H�V����2oM � ��eʔ���f�jar�O�x3�U�VeϞ�X�b�'����:�F���ԴT+�u��޽�H�"�S��[��,�e�	��  �LP�;p��#{�8z<*�3a�'�;~���Px��=~�)ɺ��3��]�ڤ���o���Ъ|��۷�P�BiҤA�u�V��|�&��t:p� N���=���ѣ0�={��	E�رcTȿ��hw��	V%\6l�/Z��{U�tK�Q��ܹs�޽aep���0a�ȑ#,X@���Uh �BCAza��Щ� I�-2��V�S$X�C<FA�AsL�;v0M"M]3�ە<Q�7)�$�Q��_���n�b����OC	A�G�N~C�y�2g�|�� �H���L��%����(�
��  �C �oӮՓ������;[4l�օ�0��3Ejׄ�����w���6���ضw��i��mt�{>�`D�of�w΍�vy8s$�"]���瞻�kʔ)>��|�����Y�f͛7�ի�̙3C	�b��+W�ph�ҥ#F�hٲe۶m!�k׮��)P����g̘uwK�~�zv"�����}<dȐ2e������w��aT�駟 {��� �M�&M�Իw�&M�Pb��1�0fкw�%K��9sR!����6{�1�8u��A��"\�l٨Q�0jjݺ5�C�3tӧO�Z\9�ϟ߭[�~��1.��˗���_~�f���:��������n�:�"�G��;u�ԠA�ɀ<���'27nܾ}��q޼y,I����)>LZ�ѣM�/z��
S(tb�w�V(l8���a.F���<�������O>�d����=ո����|%A@�� <|˂�?�������6s9�7޻sV����#����M��כ4��T3�n~�����w�ԥ�rץ^��X��#�s���w���V�dI���T���?Y�d��|뭷��!C��n��ꫯ&�G0|^�{iN��!�y��aY�1cF�:�|���Mj�R�¡�+�>{�ܹ�0+��Y���%�\9���o�7=��c�Z]����/[�,E�M&�\w�u�����Ct�7������_�\����;�d��N��v�˿�H�V�X�k�aMe͛7��.U�T%J�`E�n���U��s��W_���@q�W��ؼ�_L�@�1���`A��$�o�C�ڵ�1������g�y���_j���.]�ՠ07�|���&���s#�H&3�B:����/���9P)l>��i 4̧h��3�,������D�a:]z�L-����dA@�������%�N���Ëv���&�������냦7�\8l*;a�e����הN��t�S0Fb��6������o1X��b翾���g���͂�����8G�i�&�a�p�D�k����g�E{O��j���?�M߫)���'� ����_mذ!t��6����!�G%޳gO$�Xb�ߨQ�����}�zB��y��!����W�pݚ5k��!de����<�b���G�>�[��ҥ�?�����C������O=���幂�=,ZHs�_�F�5]�~}�?!\�p��~���D�Z�:��X�U�^�JXa���`t0gn�W��Ɗ��{�J�zPѣ^fP��$d;Fw0P�I����[o1���[�����;[�����&?2��H�@�?!8�U�T����_�F����RXA �"`Y����R]���y�j����ģ}��+ѿh�]���1a���w�딫F$毋غ��cN�%�g�<��17��b3�M7����������ɣ��}t��jՂ�BSQ]�#�Lbn�-=�D)�	�r�JOaC������/͵k��/��k���̟~�)4�hѢ��h1b�`O�Iһ�����!�b}�eHT�-���5t�ܑ�̙?���C=�Q���Qȣ��L��Po]y�u����G}���p~���r��1�K�ٳg�2�0� �� ���M�0��8`��N�[X���o�S�|n�F��O��hĀ3��L����o��C��vX�9L{�4��A@�Ǐ��|�z���w��u�O�/����k&-�lO^̿M�6�cL2�$qwӝGY�Z�}��n�{�`�����&��R���G�ߠx�<;,�u���U�bB~�U*��a���{ɰx�ᇯ��*��5�t��t�hz!����P�|}۶mA�|����ë��}��VP��YC�F�����z��:er�E���KL�Hǒ?w��(�1��<\�<y2��.c{(�E.,���g��|F6P�N~�c�F 14�&�?�8��e�`��:��?0�ck@��� IFA 9"�Q�_g���}z��X�s>���8{�׏|�W���P?��K^�_���7�;\A��:�+�
��%�EE_�/9t�P����>��~����5k0��b��~���6�*�+Kq���H�� rh�K�*�������ݰ�8A��?tN�jD�r^�:�46t�A~Щ�e��ی�( y��;�C��A ���~Xj���+h�1H�ڵ+�S����@�`��O��hC��p�Y��%�׆�u���  $�.i�@%�h���Q�+{�_��g�
M�旣�n((��'�������Mt��cq�$�O�����R����2a�v���!�X�@2qT�ē0}�;`�v��#&��T���ช�	�	�wO�M��L��S��{�
��5̟E�tL���?�p��f�m������Z>�D��{��
�W���C�F�D�FG|�����F����d�F 1tOM��q& 3�y����A2��  �����?��Z��%�u�]��7����?d�����T $/���G�YY�\9�!FDT����wrڴi�ʸ�"�
+���Z1'?X(a^��r؄�vn������j���(v>�2�<1��M5ͫ��F�ES(t��C��#�?�W�1t�Eȿ����D���%�8������k��� w%�[�'���#��>2GVC4���2��>2�ܧO�1���i1$#��  \H�X��G���_��+�[>�M^��4
p"Fb{�S�0},��P�i�����k��������k�LYL,�<]���a*������>cg%3r���;���D( �����t���)�ʃ��#w�u�<�D"���O>����S�1KY|q� ����_�N��A'?�H�	�O8�8��	�w�;"��A2��  ��� f<�G�?��G���ǫ�؁�'��HH<�y���H�]K��`A+��}��lԳ���i�F�����.D��(]�z�������.��m?�kBG�e� ��+��F�Q�.oY������ X�E%��@����c�ΐ��j̏�1. P���9�2_�O�>KϽ,����K�	G~*P�̆�	�$��b���_�3���V�|^�����D�����A@�{�W��(m�~��o]��`�Z��+7��=s �$�p)y���y��V��>A�?��C���C�jh1��
\ ��@��3j1�&0�;�#�_ڙ&M��̟`�܂]&���+*6>1��[j��m0q,���b��Le�z�}��W_�忻r�{�~'�1�
�!�(�xL$�G��7�z�df"�k����
�� �xsc��9W_�<p-g��˛w!M~�0D���bh�M&�q&�.��:�nݓ!> O�$��|A@�f,��d�ϯ)6��-���߼k���[��~{��/,�Tw�:�{��7���cf9>��>o�$}qߦ]�6�mhϺ�����˾|��D�����{��8y�)�S���+cc��ĉ5����8�� ���]�L�2�x,�u�/_��&��b!�}8G����M�6�̉����Oc�M��P�q� ��`��<���ʭ�%�&[#�&��扐���g�X��'�����b�Ct�V�y>%�]P�:s����L&�E;��s�n� h�>Xy��+����,�ʙQ��aeꉶ���&?R��H�_�ɟ�Y:)�����CN��LB�(�� �|��ﮣ;�N$�o���S�N���j��<��s��3�>s�/��8ث�5�L�A���H_�IO�<hl_�q@�6�:�7��̿m���D]R�K�1a�c��	KD�b<G�z�El{8$�̡K-,�8Q�C�ܔ;}U�}�09V ?\<�1=�af��?��(T;V,�����Ci1��r�}�#��-��B)�c�
�G�Nd�|bU�Q{��#P�f&�B��8A���Μ�OG	ϮM9�Q� �%Bhƌ-�8�w�������a�	&��W�EJ�����9��P��p�'gL� B0�_u�U���=��GA@����~���Ώ�l�@E�<�펨�m�n���)��j�1G5���վa� 4�-��
§$_z����ڹP�v|�f�S'�_D�Q��V��/��Z����U�߰aC�^�vT�Dh��ao쮐������Q�c�Ap!����_ �"�y������tm����Px+bT�1�9��x�����X2�m�0ѵ%�L��c��A]�)�У��g�ԠA�A���AOϱM�Сafd9��,\���Q�5��Q=q4!cA�h��{LN2�,�*U��)N١5�w�{'?%�A�@bP�p�ǆ3��#������-~. �c+���A@����#�0�ߵz+����&/�J����s�E#�H�(`�:Lb����A��8,=��S��0���[?*GlLt���0�|t���t����8
j�H�x�&Ϥ�#+|@X�ro����xL~��@b�)��	g7�:�y��e7���=v�2�A@�� �ݝ:��oT��|{*�'��L�Q��vNL�B�S>�ѱ'��$;R"�  �� ���!6��@�-�MBZ�{70�������7�G�A����t��u��Y��A���  �@�@� ����D4�I}!A �O�.���K��PJ A@���]~"+rX��S�  �"@$b�pL��ϋ��rEA@�;�b�ϡ�����/�_�"�o/QU�W���b%A@A@A@A@A@A@A@A@A@A@A@A@A@A@A@A@A@A@A@A@A@A@A@A@A@R2�e?�N�:u�q@%R�s�}��}��[ʧ�J#p����o�y�x)�8�t��{!@�xq�u�_��b'G�M�&�A >�4Κ��qм?닏�)�֝;wN�4i̘1۷o?�����ŋǍ7gΜÇ�ɢ�����S'����JB_�ӹm��j��j�}`
"NIhD�#�|�=i��l�}�H��J�>h�_c/�oϚb���=m�=��m��
H`ڽөm�{��d�H�2'p��v}�b����d3QeԒ�<m����Ǐ�����ߟ�俰��igɒ墋.5j+����-[XJ��3�pÆL�.]ӦM������Y��X�e��Z��Z`�6{�n��f�t���˛-�t�*�~�ކ5vêV�\�+٭A��];�]7]��ڵ=ʘ�t�,��oq�f�{�.��1�(�}^�z �U���ec��1͈�l�7f$!�:�ۥ
X���g�ƺ�j��_6qdK`b�ċ뎋�q���H�Q�dl��������*����c�d� �� ���Os�6z��lٲ�q�Ç?r�BW*�{~^�S�Ly��!�,�u�YAԩS�U�V��b�<X�^��o���7�\�b�����g�����
䰖.�~��H�U=������ޯ���[ֵ{}m�ت��+�\�®���'�U��C�������4���1�n�ݧS��ױ�63�w�AUgP>~����=y��L&oƸ�����a���X�[9+��x��׺7��b6�l!���V�rV�Κ}���5s�����K����y�cޓ�(�y襤��{�._��g���c��JD��@�߷><͍'�-Z�H�>}�|�f͚�ُ�[��	�,Y�d�ܹ���K,k�U�VeϞ�X�b����r/S�Lw�}7��[-?�Jg�c�X�~� 멌��i��~��8��.����2�qg�>�i�^�̼W���޷�ް�nQ�*���˅o2�Xضkhe��*���2d�ch�?���"7���价w����H�ƛ��[e��ݪX�Zg�ڈ$i��W)��������2���[k�\�R1��K$G�4R��c����6�a�6�=�����i`w��]�H�ԩS׭[�\]���x�رC�A�!�$L߱�߻w/���M6J(�WL���رc׮]�{��*Ly�􍞚�l�F�=�0��!T�E�aÆA�.�h�"]?�=2膐�P�BiҤA�uktE��ͬGn�>x�B��I��!uw]j}��1�	Mj�M�q#�c�j3�18t�Q�Bѱd�w�caz��c%�wE�������޺���wj�k9l/�m/��ܞ��Q����p�p��i��М^L�J߿��'���
�.�@G�G�1�A*0�/�_5u�.�y���4�i��@N+ӕ�[����ٿ�k����1�����&t)�%�����H�R���`�Йw�d>{�?�򰄝x�d1&��av�LV����E�tU>�:C#�E��B�Xw^l�`�����]��̧�z�t�"��9j�����tM�4^,14aǅj�)����yх�1q�A�@h�����)@����i@N�{�����D�r�N�1��s��G~ݘT�~��ʸN�τސ��:o0R��9�Yg��u��F�C�QM�7����}K��0�9��mP�}x��Ag ��3g������DW��2S�N4hмy� ����8p`�ƍ۷o��/�lܸ�c�	�������n�:��?c�ߩS�4k�l���w�ǎ�ݹ�:�2s%��,:�-[�; f<�[��駟��{��8�2�L�2��?���:tЍP�#���~��{��.L��ʠK���}e��ً�H;4��&���I��P��_P�s�x1]�e���mt���������wk�Y�C���j��Cr׼��mEB��(�>����������7�H&�mʼfz=�w{X{�:g����g�4��nf�pT��.s���3��N��;���	�:����z�Uk����HX�&�X^o��bP��l�E��O;���_F�6�p�z�p���][�?����r��xy�����Ű�p>+��Yeǀm�R��v���e�1lfi0U+�d^4��y�3<��=n���ݙ��?�3?U��Ѕ�r�ŝ�lT4گ���=����l��dx���|���ı�TEm�pB�D�`>W�L�Gr�T�DFlf�U�1!��cc�:G��[,躷s^GD��Hfs4��aB�»�����67@�-���z���y������SN��:}�I柩�@�Ͼ3:�J��c���d�����91�:s�΍8A2qz�S3h�o��a�s��ml8��4��#�f���W^��'�l�kO�I�c�
��暚5kv����'�Ȑ!Cƌo���D�V��1�GKn�R��ѣ����k׮}�-�\}�Ք����y����ν��� aZ���x�V�X1�4iү_��y�B�bO[%J�`E���-[�̚5+�^r�%�7ިZ���{���[�g�R�dI:U�JV�B��e=~'��ί^h�{����ֽWZ���QD�^�Y�ԇw���gn�yY8������eA�lf����Y���oo\6جo��c(¾Ó�[�y*�c+�A��5cO^��C\U������jNk���e}�I&h��X�R9݁4��ȃ���p`4��Ι�y�@Н�U����(?����_[Aѽ���V��7��+M��+�v��ht���l	M��~�>��K���;��/j~@��t�C ��۱S���YO(�S��:�\�L�����_%�E{ :H�����|�3��N�d���®�9y�%�v�e���_��,��;��}�O%g��N��.e��a�<Z�!�g��|n)����xi��ab��#^د�R�����������
�|��_�"��F�bA�Y=����x)����'K�`M��� �$s���a������.�_�R��u�3?y����Y��~f�Ϣ^�@�3SNI:-�L��V�k�+���}Z�!�R�C�:��t���|n������o�@h�����[s��g��.��h����^Μ93Ԟ$���zz�6m�<y��̙�V�Z#G����P��{ｗ]v>�������z��5j�`��{ٲe5j��T���=���dG�cǎ(�Q��0%+���z�Z�j����W��K/����={�l��ٓ=�L�i�&T�۷o؈=��ɑ#+V��|2�tp�k���=�e���6n��6��uD����}��ｍk�#��_��=m�:Q��~�.�"�M��:aN���������A��:e��ns~j;6?�O��Û��/6��̝��.7���̏/��e]�a&h�-�9�Qu�M�6�U떵�7�����Em�d^8t�?.na����!6D�@U���s7|��>�X�8U'�;���%V�Z��G	��*l�}�����'�pޱy�w�{����4�1C���7�ן@%n�<$�nۆ�d��.�Hf������5O��������덨:-�}�O��;�pO�����b��][ ��4=�G�qjc���'��7��̫WrX_�wD����/�q�����Fr{3����'��.��ɻ蛶�����js���a���5Ϸ��_z��r�U�mk�@����U<��&4�ˏZK\!��xL9%|P�<]���(:˷7�:���i�5aۣ��'�N�h�uA�3��.~o�@�[F��@8z�ƌ�?O�sOg�fC/��b�FRr���?����\s}�K!��M7ݔ+W�\/2�fk +�G}��Hp~`tk�5��5S��Wb����G�� ��`E���J0��1bN�h���=�e T�e+[DO��س��#����@�^���[��u!䧜�z�������.�flZ����x�]� ^����WF��Q>P�?�X��*Q]�_.bկ��V�H�:��1�j���z�v�U��54�	��p �h����#ҷ]��$�zӷ]��XG�=4�`�U��]Cb�}���-ޫz���FY�I[U�����b��g�Rb�'�p�Ei=�1��]���oP���e«�9̟E��~I:���d�i"��'��7�i=x�YU6��]<�'0� ����%���u����z�I��6�D��nӞL�w���1�a��q�5O�P}�|Ti�4g9p�%�ρ~9����ߔ���8�lL�%�iuO�@h�u1@g87�
]����}˸���0z�!Hz�LT��)_}�7�������{zn�`>�`���v�mJ<mڴx %9��n��W�饗0�7�!*�Wb<��#[�^�z�y睬.\�i+�oӦͭ�ފ=�C�zb�Ȕ#�'��8�WG�cg/``��KB�����{MfT��`5�i�M��Mja���t)Q�a�iT?:���>]�Q�݉c^x��|�cj���]ޓ��f\P��7�})���a�@���ZO�c�U�}�������������s.�J�(Q��
άI�A`�)����$��h>s�k
���^�k�,�;�b���((tZÌ	�:��M��hwɨyvQM��BY��{��'�m��W,�وX�w8F����k�Û
H�9���Ӵ��1�a��������/�n羜�c����-~��1��M��������ʠ����u1@g87�
]���A߷��!1�L�&�۸�잮*O4x��1\Ǉ4��rEQn��c���2F>JK?x�`���СC1�g���l�j����W��S5w�}��-�@̟��a�<՚�m�"۾�*���~VF$m��t���d`���y�?��c� [����~4Q�S�Y���um��ǜ����󋃧��cs�F�
?b�+��?CͿ�1�Er����=��
*��@{Y�#_�&������u*-�[�X�T	/QV,-�.���c����$���#3t��4��J�Qٵe��W&�}眬��&�DA��G �[�t�[�g��Q�5�צ�o�=���N"a��`n/�2�7A~�n8��3�	>��Cλh���Շx���94�01�?b� ��#xj{(��3�ߔ�:����i4�b��pn��8�Ƀ�oMC4b���M޷q��=]U��/��'���K���_��HW���u͚5��N�駟F�߭[7�a꯰��l檫���^_��1d��+W�x
�Н�@�O��^{�{ｷvm�U��ގ�x�ⳉYR�"x�Վ�#���f7Q <��[�~~%�`g|vHaϽ|d�=���x�a��c��z� !�g�C͘d���RC��ɰp �h4*�Du�l�Y�E�B�J��X�}�ta젘!�s!��+���=W8nԥ^v<즌w�	p�+��`��鮅���Ԡ��_e#�d6�%

]؎�\4a�Ag��9�.5�8X�F�	פ���_��E�����y�u�n9�iލ��2��靵jB�h�a�n'�2l��%D�nw���A&f��)t�~������u1@g87�
���M�}��hĀ3���o㍳g�i1V'L�%����Q1�?�p����nb�;wnt�x�iS��?�К�bԌ!���X����>��\�r�nF�ܿ ��ց���:{�`h��e#��;�?�{v��D��I�|���8C��=q�OaϽ|T���X�y#�ߨ!�YH�C���w�wDjװ����VD*xzU���X=5��	������Qx���E�_m>Z��
Ǎuoo�~�1��o0��Gxl�Y~�tc��_`�{cD1�Eg�X8�p����R]6a�>����n0���(U�̟=Jބlzb������o���)^	a�1�a��q�5�l�����Ob�5ם��?d~}Z=��|�:��<_E| ��*�o8�b��pn�:�d���}d����h�F8ӄ���G��:��L�>}8���{l��k� J*��'��� ���������?. `�����	Ft�u� t͹[�]�T��s	vQ�='�&A{0E��s�/�m��FS���c�M<��M�k7���[�oy�Io���}��b��P�z��V��İp �hB��j��tb��0�D,��T�6=��H���2��8��c���P9q��4|̨@1��AJ���%x\N�|r���#3t�2��T�4�&�DA��G �[�t�[9_̟pU�U���Fi':�~Y��	a�1�a��q�5�w�2���x����:���)tQq����b�1@g87�
�ƐL"�Ƀ�oi��p�r������m6�����D�Wߦ��G��q}�{[b��3�}�WRc��nD�$��+���qgH�(C�	[��}�'8�59xHi�u�;�9�2�1�;z'8���8�s.��sO0�S�ўy
S��st�!���t৖E�����e���sZ*�L5�@T���AG��N�J�Y�޴��uk�X�0�`��R��A?��8\��A��5�LPjL�B׬nG����ƘE_�/�hB�A��`���Kh>SU .���H[��>(ta+�h����|ws��O?�������������c@����-j`���o�qe�e�B�y�����ߔ���8�qzZ1��3�q�.No��[���p�r��m\q�sUg�6mJ��
$:�M$��b���=z��-T0��ݻ7"�ӟ={��I���7��޳fqK��]�t!)��=AJu��30F~Ŋ�PZ(�����������ɡY��D`�("iW��m"@�'g���k蘂W)�tU0R��S�\ �u��S������HUkV:G�N�ӻ|p�Z��D5jX��CG��ώh���D<��Ŭ�i�k���VeX%���D�N8�G���J���ϙ�e�h>�!"("����#��G�S�b���s'<M�?蜤�🳗�`�Нm/\�4�q�dV�Yv^���I���'�W&�?��w7t����1N��n�i"a�G����!l�94�0a��t?���t���Up�՛䉫̒�����8M�������	ZyB_΁�?R��pn��8�ɑ9���шgn1y��gd�$��a���~�z}zZI������M�6q�1�<���*���犻����ѣ�֭cI�!C���v�{��uu�{��Pb��8p �q�o�>}��^�r�%K0��G�d������Ou��ĉM ����������]�%�nu��l� ��4L��y�q40=���{�;�'�a��0�'�p�ES��)N �g떷��g��p�p"���	���'�B,�$',l�Ŗ��l�A���-,�qm&�Ao0���gg���l��6�:~b���=�)l��z�VN��66?��9#�ڐU����k�Z�.�eǷ�U9B�ޱZٱ��)c��Ӆ��/����-R&�|�%b�y8^����!}�'���"���̭�]��G�n����|�s�,�s��3��㈊��s�Y��P5M�81��n�l,�7�w"�tmc�����lS�Pcp�2����h��	�I�o�S�0�#& �8����3��������rA�3$�Ok�za^΁f���|n������oA���8S���6~8{&��Ç��Ϗ5����Q�2)ᣢ����x:�/_�ó8㌵ rx��E2�8��P�
	�'J����eʔ��Tc`�P}�k�6u�Ԝ,��R�l���aO����r<g
��e���� 4Z0����N�=F�/,��N0�W�cW{�ʝɱ���("qi�"�f5���1��9�����	����)
7r
'��(򬣌�P�Qns�/k��<�a�.�����A���g�ֱ����Gڄ�l�����>R-慒Xd�#X+2�5�2�MN�jV�ڼ�]6X�Eg�2�Z�C�E]�C��#T�	��1�J�@#3t��H�@�9��Af�>��XA�$|.�r�Kz��a�S ��]�C�o>�Y�T-�D�T�� ̟9�
T]d�,�C�q0�<�-�N��Є����c�s�k庝3��Eo��2���F��c8j�B�r\���.nc��a�[�9�=��7���ߔ
�9 	ZK��r4�6(t�s#~���M�}z�hř�߷���3�g͚����J�j�رn;vO����ܕ*UB�_�^=�1�`����)S�N^�0~�xN@+Z�(z{}14������'cS3�_�=�qV�m��m	4��[o�=5l���lU�̙S�L��R�J>|��0�F�,g��%�����y�|����|�ϊ�bD�����>�_C�r�����������͙P(���mógxyn���ևg
SZؠ�s�lZ��kf�ٮP�(^e��c���
d(7?��_-]h��.��|�;ˉ̜�S��p��zB2��ٟ���xʱ�dr�����l��V9c�X�eV���T��~%�������FlЅ����|�#�������;M���.�)�,�b�����cny������0�D�]��C�5jK9�"�;k荆3�Y�n#��U{�Z��T<�w��U#�2�	H۶���"	 #�zM��I�z�O8o-{�� X<S��3��7V%j}�̆h8���11�[�e�s>�+�����6��	�E�I^Tt~�i����%�ie�$��t�)�͡�߯�9t��ߛ��߷N� ?ܔ7Ǚ�$��m����A���G���ӧO��9%����f�*�>T�'4�n��?�e���p��/3V4���#Gb���2�
�r��:7jBR~hp��!(j��Q3�8g!�Qį�M�B�;s<���o:F�*&��-?������#o��gC�b��[8Dg�DC������̏��D�lYe���L��]��b�'4X��y�>��R��2z���ߔ;��ŀF��젋ӛ\���홚����}�)�e˖�y�b%Ү]�ݻw�WXa��z����6�y^�5�dp+yA@A 6|�l�]�� ���<yco"�`�+k
g�)��3�f̘��O�p�Rp���D�TR�  �@�E@��z�x�@ t�AӥK׹sg�Z����2E1`��f"�ʕ㟔���%5�� ����F\�������o�ҥSr0O=d-Z��7i�$4�.s!e���y�l��mۖ��/��I_A@����	S�	q�mJ�$� �|�^��O����'I�v^�!�Ί+�7�(����͚5������4*�� ��pBGip�¿�a&zR�  Ĉ ��]�M9D7F��6A@A@A@A@A@A@A@A@A@A@A@A@A@A@A@A@A@A@A@A@A@A@A@A�<!p�䩓�O��,ˊ*eN?�]֩�um֩S�N��N��ܤ��㧓��k�mNU��M`=>M�W�� ��p*�<����&�� p#�m����,3K�-;��Q�{h��Փr���{���c��^�u��5k�,^��\n�8k��ͻXDm(jZ_�x�q��̙s����}
�z.\x���b�  $V�^=~�����{���IG*�DA@H�������6��D��ޮ����ϣ��b�]��^Tp��h�}�C���ܻ��Moz�A�_S��6J���M�j���6,X0]�tM�6ݾ}��]a�U�V-mڴ�*Uڸqc�	����)g7'I�!�!��?z��lٲ�q�Ç�5{��"�  �����1�&�2���ëtmv˻�̟�A��B�W��篺_<rz�{�6H]��lU�j>�|���:(�zf���>���<x�^�z7�|�o��bŊ�o�MB�:uZ�jJ��r� �����gׯE��ӧϗ/߬Y���K^Ȉ���  ��yA`ۢ�_e�j���8�}���sW�w���g@��R��3����[�)��|�2e�����Z���S&��ժUٳg/V��	>b��� ��������n\'��ݻ�)�:u�u�ʲ�H�;A@�H��?v��G�<q��??���ȱ㇎��p O�㇝���>S��ůMj?l���Qo���ʾ}�
*�&M��[�n�)�W�C��:�8�Sphy�?z�(�bϞ=dB�;v���+�݀�nR͕aÆ�N)\��E��W%OI�T!�Ν;���Vw��!��֭����̊�k�v���"v+��]���"��"]E�O��4����"�E�6DA@E@iJ�"M��g�_�ٹ��Mf�
�{��O��L��Mn���9'�1+)�Q�F�5:���"���C�K�$	+n�$C�I��S�b	��f���T�֭�T������v-O�oa��PM�LK��+F��a3��6;hD����o�3?���t�I( 'n�:�F��r����(�
��  �C �i�œ����!���;��ݻS���{8S���0��~kB�oӊ����-k~�~�4�M�1��3��0��k3�}��ƕ9a*ْ^6lؙg�yꩧN�2%��W�q |뭷Z�nݦM�>}�̘1Fm(��_3�ڵkc84��Q�F�m۶}���G�^�t)&(52d���P����˗ß��f��}<t��ʕ+�p��w��	at1bD"�F�+WN�4�o߾-[��<��ca6A3"���<����曬��?���ի#��e~�ԩ��E�`��1c�`���K/�:�������/�W�ٳg��ѣ��HA]�p!y����a�AL��.;`�Wd�x׮]�5k�88p`�_���'2~Z�hѱc��Ç��,I�X",>���{��ţi��p�!�8���#(l9�]Ѱ�u��Ù�!j���߿aÆ�V�
�����I �[�"��  �"���,^�3F�ϟX�}�jpo�w������ nO
�o���(ݲ�qZ�w�C��{W*�eS��(�$�����ZQyԍ���'�A s�Z����߯S�N�C.�d޼y�?�8�w��O?��O<����������ٳg�%XV�q�pu��裏�6��H�'>]+��9�Y�f�¬ 
*�s��k/���G}ܿ��.�֚�dxʜ9s�V�J�E��$�~xѢE�~����h�G�	;�W�� 	d�>�l̐ �,.��1%k֬y�!��H���,Y�@W�@�r�ʱ"�]ݺu�~�Wn��&��o��`w�~�)�1�I$g��Z@K�
� !|��mҤ	��GGu�Gq�5װ5cH�0�J�*�D�)�:�����v�	b�nd�`f�����1B���_���5;5������:�a?D]l�YJ��g4Ӊ&�p�{�Z��E���  ��M+6�{K�^�������t�{�^��G[]~�S��I�.�?g��S����eN�T���oZ����Rl��Ct�5�}��(����K�&n$,�E��E��HC5ٸOZ��'"�z��^{-�{���TC����^8��W�yX�W\A}�|мys�<m0
�PaK�J�w��H��i?��s]�Mo��F($�[n�"]�T)�=�mԨ�BV��a,3�!�x���SN9�y��7hЀ}���e�����K��ꪫt(�5t�Y�`1�/�vMG?����B�������믿�N$ot���a'�ʮ~��T�
��`�w0glW�,Y��}7�x#]�^*z��t
��VL` � ����{�w
{L����;�����Nt�Hb���N�?;8�U�P�s�=�_����7?F���  �n<��9�«W5^5k�Q|a�3�~-�,7�L�?&,c��8���ԵX�T�����Ʈ��b����篜������c�9��i�y��p�I��<j@��Gڸqc���TT��.�H!��[K*�
m������_߅!�h_סC9��k`���O=�4�L�2��1�3p~�����]����Y,2���J���5t�����?���\�QO����G3�L� ަ��u����K.����p~��P���E���w,���+S� � E��x��0�R�(s� ����Zp(ڏ�p�<��8S����&��~�]w�1�8�v�a����ڊ��dA@�\��_�����M�*�E����O��/������L��Tٞ���v�ǘd`Ilf0���0�h��V����;<
#LFߥ):���wxr�bŰ�7���Ws��AW�e���mj�%�B��/<蠃��7�3X :�&{!h*+&,pЋ��i{��i��t0�X�"݄��٬!x#��|dE=vY�uǀNۇ��7�|3C"U3Y4/^e2�7���'O�@��>l�u,MZ?:X��9����Y��~d�D�I�d���}���ˀ�l)zu��'�`8�O@��MIFA 7"�Q��/�����^���|^��E�/~��f��P?���]�_���7�9\A��:�+�Qkk�Z�l�P��w�y��s�=7h��!�d�́�X�����$�ͬJ�
�R��69�V�~���hÌ�$�W�N3�Ո��u�i�)l�h����e�Dی�( y��?>D��A :��x?k֬���[�Tc��ꫯ�9�����ܢAީ�����-�p��}�Y��%dֆ��A@�$˦��X�Q4_:�J��k��Z������۲nh(r�'���<��'�Mt��cq�$�O�����Rs���2I�v3��1�(\�0$GE�@B	��m���c�~����&���ܹ3�8g��&���b�����{�
��5̿B�
��1�2������(����>��|ҁĦ	x�_��J��"=X��!�82�+M�0�v�S]?"Y��$�i���>��1B�n�$#��  �16�C�M���G�'޼�Uҿ�C'oۜ%�!w1�*U��YY�Z��(��������i�l:ډ̧*��S(��~�=��B	����&����iQ��d{��YM�/ g&��& �oo6�~R��hJ�N3h�vĎf��7:A�������H��#6�tnvLG0X"L�wމSܕpR,l�`�ǐ�F���%Nb��m�̖8��ŀ�����C2��  �@^B`݂�\\�����񒝱������ǂ{ulR5Jƣ�E}�hܒ�uc����A��;���LYl,�R�=�up P�3�<s�Wb3���&�X�c���R�zB�3����l�h�P��G���EHj��1����9b���kɾ���N��@��� �h8�ah����3�;�j��Y��A@���H����lےE��W�[�����ى�o���}� !�%�Db7R�2X��� lX��l�Q�~���0NM5w9�Wԅù8��@F�G0c�����̣�GqM�Ƞl�r���5���>�Ia���:Jf"����
������WbJf:'�:K�kR�1?�� E��-�>T�,B���{��!�8���SN42[~$�D�I�p�����96��Aܪ�n�-bZ@$�F��ˍ�/cZ$A@A`w@`d���@������2�y����jFߏ0R'�&K�K�O�C�1�kxQb��ʏ=�FA��6����܎Y. �}�Z��s$�A;<���̟`�܂E7&�Қ+:6>1��[��m0q,���b̍12�i���kԨÄ2������?C�91�s�Β��,�H=���t
�$��$v���@%~�v�����S���,\�Y������N��GX�AI{1��6�?�8eO�<=�!>����2�i!��|A@r?M_���F�w���z��ͫ6l\���ˆT��A��E�n�_�o�e�uW���f*��K;d���i��M���ڸl�����/_XG�9��A�������*lR���kcc��ĉ3�5�ʒ ����8�S��ǂ_g��ՃD׉�6�p,�C���a�DP���1�&�d��8�@���w�52���0HF��ʗS�ت�X�-�7O��c>�r�O�-Ls*�b��($��A���]������d ��#q��n� h���ŀo/KHj||���E_�2}��ɛڜ�4�y�=Nbh�-vpf�}.�w��9�ˌ(���  �v0��ձ]��'��k�>9�F������K��y�M�k�sq�W�+�?�|���G��@�☆���`�v����ۙ������a��ϩ�������/��	���LX� b:Z7�},
`��c�� i�g]�ha)ĉ����N�U��q��X�p�8��p�0C�I�F���!��`i����Ŝ˥��C� ���������G�Nd�|bUR������ϔ(Cй2W��.�DPq�����Ѵ_iz�v��7:�u�;�I�����`|Xx�q��k�"ũ�N�I��pCH����q`����|5���D>
��  �vO�3���.oԱpM�<�펪�c��EA���)����u�"�"�F�{�-�X3�'V%�j�#B�����W��WK&���s�_DjР�V���/��Z�X���U�߼y��^�vT���C�7VH �=�����i\�=b��WYB)��GO�-A�
����O�>(E�ױR F%A�C�ˀj�Z�%�&�� C�AǪ�����B�	8�ҩY�f���3���c��C�L�r,r�Y���ih��'��^�鈣�����g�18	Jw�īU��h�c%�l�@���tB��NbP�r��Ùe����i�{��ȟ a+���A@�܅����y���?����4w	�VZ�v ϐ�XP/��F�`8�7aS���������n�0ň���@W���r�Ʒײ��
w�oc@�$|栣/���QPE�E\�{�2�-Y�`vŚ�x�v�S31�u۝ĠQ��?�A�M�K�,�n'օ�6e$#��  �h3�;}�ZߴL)��T$�`9��ޣ�)�,�+��
�L��cD�N�L�mO�`��  �@vО���=#�dG$�7�" ��pd|,S0�T�-G�e^3�O׭[7m�#�J%��  �� ��!УG�`��O���n�yA )P}�t���T��RI��EA@A@��X(��Yq�:�H�  ���C�����=�y�@��
��  �|���Pΐ�d�A@Z*�[��%�*�e�/ߎi�  ��  ��  ��  ��  ��  ��  ��  ��  ��  ��  ��  ��  ��  ��  ��  ��  ��  ��  ��  ��  ��  ��  ��  ��  ������=����)��2Ƞ�A������_�����"*��A���Q�;�������&�Q��@���ޮ�nĖ���  8!`��8k��A�Ѭ���R8-�ׯ�4iҸq�֮]�k������G}��7�lݺ5B��f��}�O��o�Qj7�����������[6�#�����m~�O��_0���G��ڽ+����|�?o�?s���'��I����Uj����zUۧ���ke�&�r{`�.�^��~�Mjq��U[�ŋO�0�/�ؼysFcwkL��s��c�=ƌ��+��[�z5K	Vs����Ow�qǑG٪U+��#^�����Z��Z`���_|֛��o[�k���E�T����r�%~��ż[/���7���4=n���am�>5�-3�rY��]��f�O���_J�����y���^��d��~���3��P�1C�
�y��s��=X5��J�l&�NL\'��}4Fi�%	�!̇���7_��(���:�e�
/"�#���6��%;v�E]t��'�9�?�R)��]��2e�-���g��D�#�f��O������b��~��M�{�w�}��E��_%柭�w�w[o�����_h����yU�+���a~�'�>��u?�k���0�,�=�(�U�C���o�&?�?�{���5����m>#g@O�Y]�)�?��ʟ��Z�&o���E3��a�m�𺽠Vd�01�?�;� 曆���xOU�����.���ɮ\3��ߢ&�/&��Nv["��Q~��wѿ��W�!�=/T"��$��o#xZO�=���N8�n�9s&f?�o%�!�l�2o޼Y�fmڴ)��}~���K/��`�Rl�{g�u�i���$��Cۧ���ʔ��W?j�w��y�y��\S��f��M���x-���L�Ϳ*2��mސ~����OK������Mx?�L���{�=p��CBw�x��'�}�*E��{p�+Nۑ��Q	!��P�4�_��˥^��e��F*I�u�NyE�˖��6�X�Zsg)K���.������[ƽ��n}��'۠�-����2=�F�PS������x��'��šJ���?������C�I��c��믿r����d���f�D1���u�6l� �9��7���Y��v�~�m��&5$�������B�����������A�y�=�x�����9�"�sk��c�G��P��j|Hݩ{{��TF5�Iﶳ���h�Ϭ�l~ߢ�Pt,��]�X�n�]Y���]��"���?�^�^���_�?��s�򿟥n�~¨i�̿�p�d�B=���8��fJ߼I�Tx�º	6���?~ObT�T`�_*_i��.����4����mE�����-��������`�ߨ�wɱʴ�n����Х@���3,�S�K?ŦcCg���b��7ȏ%��s�� ������U��[����/b`�@g� }ăx"��{��N����2p�N1�?�`�6#���7e���`�i� L=H��kf�1	`�D�$��������i��Rt_S����|v넆�t��P�CH����f��ia�)씱�ξN�����T5��'猎:�����=n��9>���m��xh��x����i��4,X�N�A�Sy��L�:u����~�-���كjѢEǎ���+V�,s ����-[�W�g��v�ڬY�֭[8�l�����ʚ�3)3�b�{ˢc���`���K/�1�~H?�s�СC+W�����_ީS'�ʇd0�6��3�<��S1=J*�)�3���=Q�Eb����J�%^
���/���,��1]�e��N-|t�c��h��z���a��;o���V������"	�T��9��������I�|$��6e_3������ �2��gq���v��έ��G5ɩ0w�CD�OϚ�(V0�\�����WI����]r�W�vo�¤�;\$�Jˆ��Gx�.��>�ۇ�c�}��J���Z���}�%x�ۙ�i�W(��`l�BOL�1,ǳf���Vl?��?�wm�,�0�a3ˀ���$�w���U]�o���=~&#���7~D��+��.i�/�_�
��{�W��������>��?�����<n��,UQN�H,��7_��+/<���F�@����g챱�l���SU��t�kɊ����s�U!�!���p�aB����´?��� 0K3�1��?2��4>y�=t�&~k]�W�z����:ױ�!�@5C3953�,�[W4쇨�|�h��h�Q����6\�*�����NkԨq�!�4jԨ[�nW\q�駟~�gu�Q�ԭ[c����
(ЫW��6i���;���)�G\s�5�߃�+]�4H�����5k�D��-[��߿dɒPtĀ��r�ʱ"r��m�*T����^t��G�����.���KP�g�R�|yU�NV����]~
��ꭗ���Կ�<�������(�u��Ze��[l����{���߰��������w�^�ý���o!o\6جo��2a�����-؍\u�����_2���'oRUW]�5g��o/��v��l�ɸ�\�~��9���M�<�|�Q���\�eh���������Cy)_s�W"�����g����cw{K��&���}�G���fhKh҇�u�z������15/к���@`䕧);%�ϰ���&9�`l���Re�Ƴ�Z�E{ H�����4|T-e���]�z�3&O�Km� ڥ�����2fLN�o�ȣ伯�z"�K�齃??#��䇅�NN#�[*��Q���.�ȟ#$L�
/�_�g;���������~��Wyj�:9�ִ�W��3�??Xrg_3��)������&��Wؘ�����V�d%33�O�=;���,�Yԛ�4>��3��ɸBgS�.�ԃ�hdt�!����t��ɝ�[W4�Ɇ�|kO���3��K�<Zb콡�3f�H�'I,�W�@�;�%J-Z�q�ƣG����Q��}����>�ێ���~��4`��{ժU�{�9L�ڴi"�ÇgG�K�.(�Q�G0-+�����^�z��?���製����ƍ�l��ݛ=�L�y:���7�H���>E�a���� SUD��w/=�Mf�m���&���O�]ѷC2y�O���͵b�z��:�����׉J��姪����ϛ�8��faOm'Χ��xOT�.;Q�j����'Q�����a�f�P��V�T�p�1/eS�eƵ�MC{����&KԪOV�:>�ҹ�Gm�d_�	:��KP�}:+bC�	���L8w�`/t�aq�N�w���^^����#FB;��
U������2�9��yj����,
��]�V8�g-n2��@%��%�n��g�bb	Lr��=������?#�o�C�G�q����A�?b�zb������tMH�N1���n, �F>�;|Tml`]����3�Ը������JT����p�����/�)��䄛&x,X�jg_�k��b�������$W4�g����/��9ȫ��7j�����+{���	�t�%޼@D��������+t�ƴ��G#���Fُ��A����i�uB�i�:ͷ�q��i�m6Tp�=��n$?�y���a��k�u0��@���s�1Ŋ�3'0��>[XI]r�%�G��cP����B�T���(��1�:���X$��A`�,=|G��S -���/-zX�@���ֶ��M���+r�z'-7���ɰVYo��7�*�]��2<�����[5Vz�r7�B�+��a>�e�z�����dݭ��5���"V�F�Kam�T���7��b��F7ﲓԻU��5�I���t<�����W���]b=����*��gOL���,�կ�3��H샳OT��y�t7��P�t2VU�=��V ��x�*-|��`[�v1�)Cfm���
]4�ߢL��2��Yԇ�Laבon$�N��?�̿e#���w������=��(髖�����ۚl(��kS--�����-m�j��lI�Q�o����){�ׁ����~|�B�VTS t�޴��*{42:��rld���$����Xd�j�u!H�1������W������駟���ݞg>�`���x�!J<mڴ�$ǰ?h��J��7�|3��8�e�Z��/�8d�ӧO�SN9�U�ܹsC�rb��ڵ;���G�p(TO�9b~��>v�N�:j=;{���\2�OO�?��0dF?�}��0B������IC-��?d��),
=�R ����>���q�m0�8�����)Ssf0��f\P��7�9���ea'�h���%�`��TT�f3uj�v|Jβ�o�lRE�+�ӡ�b��3kRvX�J�=�T��N�[�XS��o�����,��3)��6o"W�<���:��A���!�	��V��^��I����=PbGD,Wܢ��ŋ��hX�0A���i hL�=�N����+����x������1�3����� U��Z3:��rld����=��|�Q��0��N�p��o��M�	���~���h-��!C�{"��F��؛�P�%�/[���!:���=�\"��#���Y�ጐt� T��Gf{^�l�6��� �mX��1Z3	�����2�`ˏ�ly�;~P��6��Z��Mm��ǜ�������W�����C�
?�mۂ7Y�c���;>.H��RZ#v��N��0��K�=�^6����ͤ�q��%X�֒�{�GO�Hx��j`i�u���*�.��p'IT��`l�[�4��J�Q;�e����ĹYN֋!�͛��h��a��#?��g�m��i|�5��Ǿ��I$�1=���x\q���hX�0A���v��3��r��=D@l��
]ZQM�Й{�f�{������gh�!����(t��]�[{4�Q��6�8'��_|�P�ϟ�]�X"\����%K��K8�����~�=��i�����:c{s1mƒ�׮];�)�CwrX6�?5z衏<��ҥ�V�Z;j���g��jL𖃕�*���}��,�ƃ(��]� �-?*zv(�UB�н|d�����v��0	��MO=X���5Ũ�lX
a��6Yv���ڿ\B�%��Yq���Ο����۱�b�p�B� B)bW�3�Sn�nQ>�S&�c��J���iZҌ�x�-�3��|�c�l�&r�.i�#.�0ב|\�3��ϩ�Iz*�_��G��.��]q���hX�0�։}(6R�o	���L�{(db3W肏��ǀ.����=�]��V��34��rld:���L�:�ڣo��̷�ƙ6�cu��$Z����f��=����˃-��x�����%Ҧ�J3�?�5�ŴK�x'���*Up�V�Z��i%�.@�,�u�x8�M��G�� $��G{�. ^�_O���\)��FxF��"
�o�}��a�k��w%�3T����5�����H�\��h$BǳR�\��J"b����揫���L�ΟH���z��k�'�\ḱ��Jw*l�Cp�����N�=�h�#z0�)�H�)e���m�&���J7ن�G��t���q�o�TE3�r	}�&�[ڼ��>m��SB�]�b�X3����
]��c@Q[諔?���Ɣ����?C�I,�FF��H��L!s���GK4�Q��6B�s�i�}�_�~����C���5䁒��'�ɢ�'�':����h� G �7�3�~��]�ukþ	�Jrx.�.�?��m�Sd�0B�������Y�0���w]��\k7���OZ�o�!��&c�����ǨYO �A$�u�$�,���/�D���A*�^�'<>K�*պ͐�N�6���Yxp��by��8�>�<f�ӃK� %\L�r����w��ڃ�����i<SUJz��K8u�͛��h��a��#?��]��]q���hX�0A����n�&�p��O�՗��sR����t�.���@�̽i3�=HU�3������(tAlsp&w�o��8S��|���1G��g+a$CQ�=��������⽋�-1ƍ<�kwc��nD�$�����rg�~�B��A]�>��*�&i�|�E�!���wR���8�:`��5����ö�#�J�P휯չ &�f<l:��d�a.�[�L���̺XV��Q���jY�	:jn�=VR����eYף�
���Y�aċKu腞��8\��N����H�jL�;׮n��g'dc̢���*�FLPA��]��N㙪��D����X�'����D\�a��#?��]��]q���hX�0A�����l��3�+���b��������1�3����� U٣���c@g962
]�fr���~�D#�Tn3�f��1ܪU+�<�v�m9����^�̟�>cǎ��_L}���ˆ����ꫠ��'�'n�_}h����w�N0R�������30F~��PZ(�/:F���EL|���s�D`u���CTϾ]|"@�'g����<�L��W�S��`�ƺ s]�q����dg.RՒԑ�S?�5��E�]k��@�C-�"{�Y���]T���Dǂ*�k���VgX%�_��g���/�L-e~�Y�3>���9�"�"BLВ�i?���]�L^0�iR�|u��ܯw^v�����|^�=�4���D��n��,�"�t�$�ʆ������v�G'���:�3L��y�h�ܭ����P���X��Uf�b�N��	����1�3����� U%E��B�������:˱�Q�24�#��|z�h���[l�ی���U9��bŊ9��z�n�Q3,a����?_�r%�c�s��cO�}��`���m۶l�2�T:2�*l�z��	Q�1�7k-�����A�8�����뇏�?�0o�<���=9(3��>�L�;q�D�B�G�=�?G)AיĖ-NR��\ `}��ɖ1�Gs��A9���}��X
c|�
]4uΘ�� �?�du/f�t�G�A�>h�y�-�Kr��a��&]��Z���<�����-pm&�Ao0���w'�3�����XL�>E�n������N{���l��*�c�x��ֆ����@(^k�
M��[*�^T�!Z�je�Ϫ���rN
?����-U�i<;q�2��+��77���%2<X$���W���]����n����~�s�,�s����㈊j�s�Y���L�\�+s�ͩ����m��a�0�:��:b`��y|�w�{Vyܰ"1�����̮��W�ԃI�x�i��9����ُ��A����i�uB#���o3�sh0oݺ�T�RX���*�>jʍ��M�S���9<�3�X�!�'�X�%�/O���p@0��p쯾X�reO5��_C�p '�a�t�E�Þ�8��k��x�:,�Hc��.�����ks�P��ct�C+����J����^񳔅�G�C�69,�YM`P
�GoL�h����]x�:���z��p#�Pq� +���Uʨ(�6�����(�	�ѵf�锇�v���/t�����q�6��!�`�}l�T��P
"��r��+2�5�2�MN�j��[�"X�-�"�3|Dm�����>�&�F��cH�IN=:�T����%b��'�+hV����X�siA�@"��Lr���e��d��#�%L��*���c6��0�<+P}������r0'ܜ����3�e��bhl9�q�j�]�ǆ_�0��Ȟ���4>��s��:�ʝz0)�H��3:�h����t��ɝ�['4bQ��6s8��̙3�?��
�?>h�*��?j�]�V-�M�6����O�2���&L��2eʠ�73��YM@�#16�g�u�u�gu͚5��>��Sw��&=5l���lU-ZT�L��
*�9r��$�l4h�r�X2��<?������QV#
t݇<��l��ӌ�m�4�e��3�P(Qy��;��
�B��Ə�(Lyha�:��Z��5�l�l�(c�ҩ�t�>Ym�Pn^��_͟��.+�|mˉ̜��t��
���d&}�?Uͻ�*e�ɬ\��;��N��1���#,��D!U9K��k��������F<�����x�#������j0M�T�.�)-�b���y�16���r��T�J"�%�����6�����y�HĚx���gT��H���\�
����=}l�H￣Ҷo汷HBH� fhMa��k_[��$۾cb?�[,��ņ9㇅�F����Qa��<ɋ
]ǧ%t���bNЙ��f\{0�M'猎:���OZĂ27��6Z�'4��u�Zη�A����ر�	'���9?����a�:�>T�'4�9n�?����p�-3V4��ѣGc���2�V�I9aN_b��6!)/\`pJ� ~�L�߷d�DH{c���9�,�c��O�a���t��	UL&�[^�������=�i�Ƴ%\1d��� F��t�b	����Y��x�g���;����!���g�>6���m�񙇡������u�eh&נeb��Q��p�o3��^�zuɒ%��С�/���4��X���c�6�u[�</�X2���  �� ���B�Kr���co"�`�+k>g����3��O�~�Wu�QR��o��ࠒ�A@�-���m�K�s���z�Gv����\!s��W�9���@Ŋ��'?�wdnDI͂�  �7������"����A�[�R����t���?nٲeb<S&/e���y�l��oߞ���RӤ-��  ��G����8�6%	��n� �|�^��O����g��m�C,�E��?�(����ɒ%���w�t�<TA ���S���T�����'H��� |{!���?D7&Rr�  ��  ��  ��  ��  ��  ��  ��  ��  ��  ��  ��  ��  ��  ��  ��  ��  ��  ��  ��  ��  ��  ��  ��  ��  ��  ��  ��  ��  ��  ��  ��  ��  ��  ��  ��  ��  ��  ��  ��  ��  ���@���ݍ�
endstream
endobj
103 0 obj
43146
endobj
109 0 obj
<< /Length 110 0 R /Type /XObject /Subtype /Image /Width 1022 /Height 222
/ColorSpace /DeviceGray /Interpolate true /BitsPerComponent 8 /Filter /FlateDecode
>>
stream
x��1    ��g/�@a��0`��0`��0`��0`��0`��0`��0`��0`��0`��0`��0`��0`��0`��0`��0`��0`��0`��0`��0`��0`��0`��0`��0`��0`��0`��0`��0`��0`��0`��0`��0`��0`��0`��0`��0`��0`��0`��0`��0`��0`��0`��0`��0`��0`��0`��0`��0`��0`��0`��0`��0`��0`��0`��0`��0`��0`��0`��0`��0`��0`��0`��0`��0`��0`��0`��0`��0`��0`��0`��0`��0`��0`��0`��0`��0`��0`��0`��0`��0`��0`��0`��0`��0`��0`��0`��0`��0`��0`��0`��0`��0`��0`��0`��0`��0`��0`��0`��0`��0`��0`��0`��0`��0`��0`��0`��0`��0`��0`��0`��<�{z
endstream
endobj
110 0 obj
1013
endobj
106 0 obj
<< /Length 107 0 R /Type /XObject /Subtype /Image /Width 1538 /Height 322
/ColorSpace /DeviceGray /Interpolate true /BitsPerComponent 8 /Filter /FlateDecode
>>
stream
x��1    ��g�@a��0`��0`��0`��0`��0`��0`��0`��0`��0`��0`��0`��0`��0`��0`��0`��0`��0`��0`��0`��0`��0`��0`��0`��0`��0`��0`��0`��0`��0`��0`��0`��0`��0`��0`��0`��0`��0`��0`��0`��0`��0`��0`��0`��0`��0`��0`��0`��0`��0`��0`��0`��0`��0`��0`��0`��0`��0`��0`��0`��0`��0`��0`��0`��0`��0`��0`��0`��0`��0`��0`��0`��0`��0`��0`��0`��0`��0`��0`��0`��0`��0`��0`��0`��0`��0`��0`��0`��0`��0`��0`��0`��0`��0`��0`��0`��0`��0`��0`��0`��0`��0`��0`��0`��0`��0`��0`��0`��0`��0`��0`��0`��0`��0`��0`��0`��0`��0`��0`��0`��0`��0`��0`��0`��0`��0`��0`��0`��0`��0`��0`��0`��0`��0`��0`��0`��0`��0`��0`��0`��0`��0`��0`��0`��0`��0`��0`��0`��0`��0`��0`��0`��0`��0`��0`��0`��0`��0`��0`��0`��0`��0`��0`��0`��0`��0`��0`��0`��0`��0`��0`��0`��0`��0`��0`��0`��0`��0`��0`��0`��0`��0`��0`��0`��0`��0`��0`��0`��0`��0`��0`��0`��0`��0`��0`��0`��0`��0`��0`��0`��0`��0`��0`��0`��0`��0`��0`��0`��0`��0`��0`��0`��0`��0`��0`��0`��0`��0`��0`��0`��0`��0`��0`��0`��0`��0`��0`��0`��0`��0`��0`��0`��0`��0`��0`��0`��0`��0`��0`��0`��<׹ff
endstream
endobj
107 0 obj
2183
endobj
111 0 obj
<< /Length 112 0 R /N 3 /Alternate /DeviceRGB /Filter /FlateDecode >>
stream
x���K�@ǿ����E��!S]��֡"���BiMi[�iC�b���@�I'�G''�Ap�� 8T�H���Sq���}�{��{wp5%]��hU�(,��յu�ӂ>�1��$��d>�%�>���=�Y���������}��s0;_�s�W�*j]�!�.k��ND����8�k���*���q��/�E�],Θ�TH� �H�a�q���rYR�'K,85�b��%��p���ߢU�N{����e���f"2�CQ�%7�&�H��=c�T6�$��ʧk��0UC��rD���X����1�v?�񧞶}L} �=M�n怀��&Ψ�O�vE�ɉG+�q���oN�mΗ�,�<�@�Ȳ�/,�{I�[�]���k}
endstream
endobj
112 0 obj
383
endobj
105 0 obj
[ /ICCBased 111 0 R ]
endobj
113 0 obj
<< /Length 114 0 R /N 3 /Alternate /DeviceRGB /Filter /FlateDecode >>
stream
x���K�@ǿ����E��!S]��֡"���BiMi[�iC�b���@�I'�G''�Ap�� 8T�H���Sq���}�{��{wp5%]��hU�(,��յu�ӂ>�1��$��d>�%�>���=�Y���������}��s0;_�s�W�*j]�!�.k��ND����8�k���*���q��/�E�],Θ�TH� �H�a�q���rYR�'K,85�b��%��p���ߢU�N{����e���f"2�CQ�%7�&�H��=c�T6�$��ʧk��0UC��rD���X����1�v?�񧞶}L} �=M�n怀��&Ψ�O�vE�ɉG+�q���oN�mΗ�,�<�@�Ȳ�/,�{I�[�]���k}
endstream
endobj
114 0 obj
383
endobj
108 0 obj
[ /ICCBased 113 0 R ]
endobj
104 0 obj
<< /Length 115 0 R /FunctionType 0 /BitsPerSample 8 /Size [ 1365 ] /Domain
[ 0 1 ] /Range [ 0 1 0 1 0 1 ] /Filter /FlateDecode >>
stream
x���W�p  ������{m�ݵ���23��V�pA�e����>�X������*�S�zdE�'%E���ʒle�&K���K�$Y+	���$����9Qr9Q;9gs�ڧsQ- ϧ�kV��A~�j~����	/��	�1'�I~��팧W�x�OM9��)�>ˑZ��g�ꐝ2��〙9N �L��)��L]�����^�Ƭk�����.�x�Ҍ�A�'����ѤM��P��&�9�=l�c-�"�ݲn��A�447��U��=UX��=N�L�8�HVq}'�Yq,c�K������>�#��aa�|o�����\w�,:X1��<�Mwp����R,նO����'�8���qm�/�b�}��[��u��[�FZ�����f�7�0�?�P�!�7А�s���q�w������޶��O�ǵ�#r\S.W�����8��*��G�}�X�}���_��[�y�gI����}/B������ 96
�oy�_��\�k�~���\]�5��gk��3�=��^F�k���.JW+�ҕ�S�R�d���}��.YV'���%�o��7��7q�N���wL�cE��vL�:Z ~-#�W�/#y�H~��rn����<gν�����g�����YV�yzf�<q�8�yJ�O-�������`�x�z�|�$	|�8	��{lH���	$�w��������Ql�(v���Ql�w5�����@/�
endstream
endobj
115 0 obj
744
endobj
117 0 obj
<< /Length 118 0 R /Filter /FlateDecode >>
stream
x��K��HV���Ոr�{
�P3��tUE5���?�
��̛]d� Oŵ�k�������s?��0��4��q��Q��n}Y���������o?M�ۧ~j��������G���|>��w�����f���L����:��6����>�gS������}������c��r�v���u�����_y�{����������2ɻ�/�ô��1�&_�c~��T��vl���3ֿ��p�붖~��\敽�0�����<�۰��h`�aYkF�y�ƽ[�}����o�2���_�:l���aڦL��uX�T�8�Xi7/v��;C)��f��ѷ��u�����s��6�a*��r�y��E���þ�y�l��Lr�>oF�0R�����~��?�~��a���z���淋lT���.~L�0����hgk���~�8&|�MӰo;+?�r�Z��o�0��hڝ�Do})��w{?-˰-�ԭ���ˡ�~�!ƒm�s"7�S/�o��c8�m;��{��nFs9<s8hYW��ϱ�:LǾ��P�я�nC��會�@������|����-�[������-,@�[�2�����q���ID`^��L��s�4F�?�e(�آ��f���((�e 2����\{��N�T�6��(��(Lw9�=n�y��v�����r�6�{RhLL(�6�gw��H�ieg̅m�}��e��C�\��e����&>��Ye]�q�:T��	Pn�9�,�V�:�����&��y�BQX%�^&�ʺw��ὖ{�!�s�S�A��z�e��2�����ò�a/O���G) GL�!	����^:'��c���.���~f�����<_��3��Y�w��f�n\�.o���I�i?�);�(�Q��qN�Y�I3���K7�� P卜�%y�d���̰[M��P	dx��WA���:&n��鵃��1%��a80i�N{�:ٹ,3�Qآ�j���<&�&�
�=�C��bA���u���38�M uf���uOK��J�Ų% 2�{rGp	|Ȱ��< #�
�f�l΄^c�Ų�	*�0��E�L��T�-V�dXݝ�2��U(��K��Qj֙{�s�_�M.�^���&j*���`����������9��o#4�e��e����dJK����l�K��+���6m���S�d�(
�."d	 ���92��7_Fo)]<��F;I�	~�&;�_~��,�����^���� �#|�^��`��yb�c;��kg{��Xo	�Nrܲ8�x{-s�
�a]�r�z� !��n�m@�:I�[:Hq������~̴��g�x���Ǉ���o�GTɹ�a߽ʃa��U�݋ul3���uKg�d��ƝDVj�>�;�X�A��vy4����*�0o��NT�EEg�E��)}&�"�v/�Pj�B�&�7�Z�����Z���v��$0����/Vޖ#l~�ט�z�}�.�C�3d�#��p��#!s�0T$�=r��t��8k�i2���x-h����r����S]���^�C4TB�,"n�ydl1��p`�c��'��mh=���$)"@�i�R�։��5J�]��\�.ׅ��.h��-:�˩�"v� ⨇��ɸ���(x�S�'�䵎��Hq>��Q8�E�KTѲ2��u�Y#����������T#��OӴ�AP���� ��sw�z�b$�(d��Fk�n��5��˘8�A[#����Y������4���Gn�M�����6�>�}�u��G�W�D�*#�&g�a>�� Q��3��GQR���`�̨�#��
b���r�0��ֵ#z�Ϟg�H�7��bv��l#�l�.6]��Q�,n.⮛8������D�{٩X
��?�=��5!M�%��}�	���¯a�����:	;^Sըt�B����/^�c��j���Ȇ8� �u%���q���d���X��1�R�)v���&�nG|��e����x�o1@�!�������'Ԉ,�M��	�Y��-PpU+N?��
�֕	�;��ʉ�x����}��ED��%.�Kq;�:9:��U6k%�l�cYK�a�r\8!�LTE��B�9��5�8�2�V�b�Ջ-���Z�F�?��{�X�qeSKU]4W͸�����!��j--f��E� W.:*8��=��;�Q<sȖcf�c��]�]����j́�ВC��U�4�M��]�K�PaT)wIy�8!�E��:E����8��v�Eh`�k��&1��/�_�BN���G�T\W^�(���$$���c��H9��eL�m��eDI�T}�D��'
#+TM�/L�ţ��z	�0��� no<`?�2M b�A�5���ƞ
����U.c,��
(��C�{�_�Fa��˳t!:�n�%���B�D<����F�LjR��t'B�{��>�-�M�Ia%���#��	��CibO�>�Ӂ�n�9�Vã��UU^j�b;g���|=��=��Arr������e��ΈY�-�t�k��'@B�WE��T��2�֥��t��H,�~�'O�5!�"�� C�H��TKQ�v�q�\oLYcʇ�޸�D��_������7j&��R�A��]8���u8����A�c%8�S�Г����1x�1�£�)GŐ8�0RU�^��΄����Ž�T:�n��D��N[���%��&4��-C�/��#�Fj8���� &a˖1//��E.b6��j��5o�U#40X�b�zsr��c�n���H ��C�,(����y":
�Ɗ�w����+�4&QX�$�������c�&|יv������2���h��	Q����/��`�1W8���g�P�&��O�Gt9�p�J�@�8$��R��Z�+뢈�](��H���H>ٚM��c�[F��u�f����|l��0�� |(�v��yp3k-&�Ƀ��� ��q�� �����O��p�8V�J(䆠�En�x
J�uj�S�ޑ�\���;;^�}�{��#�&��\��v$]H(L��+�ƨB?�+\��|`�e��N,��h�|6M���҃�T)�еKN��L���7�RR.��Y�@"�*��w7S�gO[���u��s1i��-Ak�Zu�i~��=�j��ث�_��a�g˖P�I_���UPQm���SD�d��c)y�{��#��fbR�'�ѐ���l�?):�9e�HQj�8��I����h1b�d�	�+���U�B�S�p�#�	F��4��>�q(�aF�a���Kf��8"h��Q�@�8I�Aͷ<j[����t0ˡ	���]�ݮp����)R���3�.�Ѐ i�jW��I��/<���G��J�����G�0�*,	�+�n��of̶s����kX�s���K��}�� �<S�i�P��-4�>-��0#�d#�N��R���cL�����@��=&U�ۂ�@{�{P�ذ��R_Y�mۤ�c��~^TXp�j�=�&Hԑ'`"�a@ۄM�����zn�6���"
��(���	�Q$���b%���P�����i�q݉O�M�x-%��o�E�GրŭՋ�����g��6�hj��4I�Fw��K)-7߅�?l�D���4~����IrvHl	�$�<��.��H���8bƢ�޻�F:�(��sM�{ �k$G�Z���i����{,���Pq)��-"�`w���6	�%x����ҟ�j$31�`�J�S3kr���`�3*��1��Xz�Pn��D�$"�1s��I�^o��϶��;5�u����G%��j}�� ��t��i��5���
n�L�=F�v�폣��QZ����.�Ӏ<�"+�MK2�wɦA������P�ԟId�J�&w���>���y�*�ws\�|�u'���c�{?���l��]XHr`���;�ǜ�iN��N'2�NZNW��K��潞J7O㟜x��n�B�6wj>4&ө[�m�'�ܔYaw*��1�#�4HW��A(tJ7�S�bG�dj ��m:�xb� ��q45��X��p7y>%���	EՕ`�dmI&H��@�$K�E���D�#�Mv�y(�6�xI��������������FW?���8��ޙ�I�z���4��X��荩��D���2���:��b�� 
��C��c�X��=�uvX�S1j�Wx~D��Y�j�k�F��ܪ�Ss�'t9���r)�?���֬��=l#�i�gIE�� �� �
�Dh���+qz%y���W��f3�	�6O�2��N��A���z�����V<4>n�~��
"�$[ۇ"�@KdLmg�{�F�lؾ���\h"!��pi[��qM$��0����H�^��t����k;����$�bC�l�F�b�m��ޘR"#�ōјi3�SP9�&Q$�9ޢ[�K�ӕLB"����\�:�{�
Ʀ�� x�oj�0x:3��05��"W+`O���Bf���W�z�<i���MS_%�5� ,�(��q�d[]��z�Z<�1f����C��>��#_dϕV�n���n�J�V��qE4����:+��M����G�i���:�0/�����<�WѴ�%b�^!P�`�kݻ�z��gx��Ta��Ĩ�R(A��"�ɨI=�`94��R��,�������dyJ9�	Sr�o�Q���s0���|H�:5�F�A&�]�]��¤O�!N≹����BV�)��9 rmQ���[t#s����z3F�;����'k�N,X��iw����V+Qk��\V�#DbΌ�{��Tn���n�G�[W��B)`ɍ\�ٚ����K�� A��_�r�Lf��`�A�5�OJQ� m�{mI���\�͗Nw���l !��ĸi�`�&�-5�T0�-f��:߳{���3RJ�c���	���Kr�(����ud�B��sh�0�= W�t��r0�Ϥ�D�����c�kF��o�l�-�d�����Մ�T��$��޴�p�M/�<BT���S��,�{�� ���j�U��*7c�
�`0�DP�ڌ�l�:s��n�s��+@u�#w��~?��m���NR��LC���b��"��C�xI�4�t��%�R��p��g�ʶ�<٫DF��L&+����Ӡ��ܑ>l��ąK��������G,�gn����^�T��|���_�=��� %�_��_0���IgEC��sL���8���s	��n�Q�d�VS�J-���rM��d��M��=��qK��c��u`�ƳY3m�6�Z�Ǵ��c˃:�JtH����i��
���S2A�~.cDCinGU#��|>vn����j����i#9�m�+��fۿ4�=\"J�/���|��M��&z�DF�=^�<yPkA�~�@E녤\�J�s7Ѿz���<Z�P8t{r��^4�y�4����YVG��`��=~���`�?�&��������?������?��Gg���"�k|�@�������7�W�u���h�� �������/�w:�q��?�C׎�o�)B$�.7�:T�ep(�C�P��"�X��zѭ�c�ۿP4�j$��Ջ/ǀ���{����~�����|��5$`
endstream
endobj
118 0 obj
5638
endobj
116 0 obj
<< /Type /Page /Parent 3 0 R /Resources 119 0 R /Contents 117 0 R /MediaBox
[0 0 960 540] >>
endobj
119 0 obj
<< /ProcSet [ /PDF /Text /ImageB /ImageC /ImageI ] /ColorSpace << /Cs1 8 0 R
>> /ExtGState << /Gs1 11 0 R /Gs2 12 0 R >> /Font << /TT1 10 0 R >> /XObject
<< /Im8 102 0 R >> /Shading << /Sh7 121 0 R >> >>
endobj
121 0 obj
<< /ColorSpace 13 0 R /ShadingType 2 /Coords [ 6096000 0 6096000 6858000 ]
/Domain [ 0 1 ] /Extend [ false false ] /Function 122 0 R >>
endobj
122 0 obj
<< /Length 123 0 R /FunctionType 0 /BitsPerSample 8 /Size [ 1365 ] /Domain
[ 0 1 ] /Range [ 0 1 0 1 0 1 ] /Filter /FlateDecode >>
stream
x���W�p  ������{m�ݵ���23��V�pA�e����>�X������*�S�zdE�'%E���ʒle�&K���K�$Y+	���$����9Qr9Q;9gs�ڧsQ- ϧ�kV��A~�j~����	/��	�1'�I~��팧W�x�OM9��)�>ˑZ��g�ꐝ2��〙9N �L��)��L]�����^�Ƭk�����.�x�Ҍ�A�'����ѤM��P��&�9�=l�c-�"�ݲn��A�447��U��=UX��=N�L�8�HVq}'�Yq,c�K������>�#��aa�|o�����\w�,:X1��<�Mwp����R,նO����'�8���qm�/�b�}��[��u��[�FZ�����f�7�0�?�P�!�7А�s���q�w������޶��O�ǵ�#r\S.W�����8��*��G�}�X�}���_��[�y�gI����}/B������ 96
�oy�_��\�k�~���\]�5��gk��3�=��^F�k���.JW+�ҕ�S�R�d���}��.YV'���%�o��7��7q�N���wL�cE��vL�:Z ~-#�W�/#y�H~��rn����<gν�����g�����YV�yzf�<q�8�yJ�O-�������`�x�z�|�$	|�8	��{lH���	$�w��������Ql�(v���Ql�w5�����@/�
endstream
endobj
123 0 obj
744
endobj
125 0 obj
<< /Length 126 0 R /Filter /FlateDecode >>
stream
x��K��HV����H��+����@��� ]UQ-e]	��o��sNޛ]d� Oŵ�k�������s?��0��4��q��Q��n}Y����?�����7_���K?��y�J���ˣ���?�����?�?�?]_�l�|���z�iM�n���ٔ����>���_�~�������������u�����C^��~���������u���ܗ�a���g�/sY�1��i��Z;�����?��u8�u[K?�~.��^u��u^��X�}��m��u4��Ӱ�5#Ӽl��-�>�K���~����/S��L�0mS�\�:�e*�N�,VZ���_����P����Y~k��e�i�e��:l�\k��e��q�m�}//C�/s�)ۺ.;�òϛ�wF��կ�`���O�:�u�Yo���������J_���ŏ����~�l����o�Äϱi�mg��ST�X�m�5M���/e��n�e�e��Ub�9#~9�ү1�X���pN�]���u���M�{ǺmG?{o��M�h.�g-��=c{�9�Y���W��>�1�m(�؜shc@1ѿu��/u7���r�x<�ߺ���Gk^f޶>1?N����;���#3��Q�a�#�ƨ��Ƕe�[�������C��@f|�kOt�i�jݦ~|�	�.Ǹ�M3o�.�՟V���xO
���	e�&��N�>-C������������xȞ3��~�X���23���2��Q�*y ʭ=�����*S�"���}���6\(
�dڋ��OSY��;���a/C=D�u�}J>H��Vￌ�c�7�^���uX>���!����(�ȁi<$A�u�K�d�~�qs�E����PwA����}��>�n����yK�e�m�c�5�7�G0e��>
;����>�;if�|�� ����$o��0��v�ɗ*����*��2�[�č�<�v�z8�P0&��iOV';�e�]1
[�Ym?6���ġ�@��{h_��#h��]��v��a��	��lն�iɷW��X�D�yO�.����`$Q��͙̚�k�X�5AE���H�IY@#����*����Z���
E�q	71J-�:sOw.�˲�%�+x6�DMe��36w ��7\:'��m�F�l��S�1�Li)S�p�m�`��rE�\ئͶ~*��E��E�,$��=G���ˈ�-%��'Yر��h'��:�o�dG���u�X7�3�K4�c����u��+�1O�w�cgUs�l/��-A�I�[G�o�e�[a<����AYO ��-����#@'�}K).�W�ڏ��p�,o�9��0������*97�=�Wy0���ʶ{��m�p�n�̕��޸S��J�܇��ak8hw���"������}_���߉ʴ�謺HQ6�ϤZ���eJmYh����&W�v�_k0�Ε݃f;�B�����r�ͯ�s[/�/��z(u��~���}$d�����G�P���'�`�T MF�}�mp��Yn{W��qʡp3�p��J��Eĭ=��-qnC �w����w��硕� �� E#|1�b_��:����B	���K5P�����]���E�c9uP��@��u!��r
􄜼���)Χ�6�'�(z�*ZVf7��4k�Z��w��\>v<�jDX�i�?� �5�u� �~�RT��PX� ����h�����&Bu'�5hkę�W1�Դ�=B0�FB�[x�"���Ҵع��ۇ��@�"���=�H�J��WeD��,#7�'3 �ux��(JJu,�5vDRAlSQR��AԺvD�����cI�?W����8�mđmC�Ŧ�k�v9����E�u���3�8�hy/;KA�g�ǂ��&�)�P��?!cr_�@�5L���xq��C'a�k���_�T 3��k~�YU���� ���䫱=����,˙�t!�Sj4�TC��$����y �Y�C�-6D��0u����I�6!4k��
��je���^aܺ2�݀c�\�B9Q/��r�پȁh���|)N`���O'GT|�ʦ`��Mz,k�8lU�'ğ���:Z�8�8C�GA��JU,;�zQ��!�0S����G<{�k1�lj	���抡���p4d�^���,▱h��EgB�4���r�#J�g�r�L q~Ⱥ+�K���-9djY�N�����Ź$�F�r��>��[$H�S��������mGZ���VQmn��;y'��rj�t>�x���:��:F�v�') Qe��<F�f/cBo�/#Jʤ�s$:o?QY�rha�.E�Kx���lM�9p{�� ���i�ꯑh��7�T�WL�rs`\�P@�\*��~g��!�.�҅踺ɗD&�
�zR���2�I�cҝ������(6&��Ⱦ掤V&���=���Nj��I��[�Fg�VUy���}�����x��LJ�	�aw�2�S���:#f!����=s�� 	�^iFS!~��[��j>�U��"���͞`PD<uք��t��IJ ^R-E-��ڱ�yr�1e�){x�r1�{|���N�oN�Oܨ�d�J��#rt����H��b����LN1CO�V��B����t
�2��YC��HU��Ux�2:�7.���S�t�U�=�:mU���� Ј�i� �������7����-[Ƽ�$zl��ٴR�O��׼�V���`5��c���Ug��F�Q~�#m�,���� v�R��(2+��2:"�`ӘDau�8b8*��F���i\gڵ�S\��P#ãF&D���T��!�\� V��A�Ca��>�OX�E�Dx���/*��␐�{JJi�j��@��"�v��#�~X�"�dk6����y��}��[;xn����`����ہ_Lp��x̬���'V�B�p�F�%~�R�LH,b>�r��Xa+���2��1��)(�ש�LM{G"rE��{��xY�9@P������|�r�d�I�t!�0���<�
1�$�pAxF�5�M�Ef:�<̢I��}�4��R;H�S��C�.9�N2�6"�4KI��3g�Ъh����L�=Ul�;&�Ų�Ť�ƶ��j�I.����{�m�V��W��h�j�V1Ζ-�̓����*���T������{=�R�b��G���ĤhOX�!����*,�Rt&s�(l��Ԋ4p�&�.�!.����b�(ɔ�W~1=�V����G��jMi.�{}~�PÌ��
E3��NyqD��ϣ
�(q�:ă�oyԶZ�!"��`�C�%w���]ር�+�S� iug�]� �ծ�9��Y_xDÁ�"Օ���7���Ra2U.X,%V��&���̘m�D+*ř��N�Nk6�$p����Vy����""�[h�}ZHkaFt�FT�2��>��ǘ'>i'�z�{L�,�Ձ���� �a=饾�
۶IM��A��(����%��{�i+L��#O�D�À�	�t7%����mB-KE��Qz5 |�<H�5o�J$$py�"kH�������D���ZJ*��D����[�9�3��1���Dm5l���*hei������RZn~�+~ؤ�� 7i���{����>�I<�yN/]2�&s�qČEg�w��t$Q��I}���� $�H
��C!�}����`1BS��X,e���R��[D��:$� c5m�K�ra�?��Hfb������f�� �)�$gT��c�ױ����88�5���8I D�c�$5�>ֽ8�Է_m1%wj��)N[?�J6���� �AbG�,��,k���p��{���r�G�ѣ���-z]�yj/,DV�I��d�� �M������K�֩?��r'�PM���c'�}#�
U0��<6�V��N<���`�q�O�%�����e�w��9-Ҝ��Ndʝ��(������{=�n��?9���^�Dl��|hL�S5��ېN�)���Tr+c@G.i��4K�P�n���ĎP��@��t��� A���hj��X��p7y>%���	EՕ`�dmI&H��@�$K�E���D�#�Mv�y(�6�xI��������������FW?���8��>��I�z���4��X��荩��D���2���:��b�� 
��C��c�X��=�uvX�S1j�Wx~D��Y�j�k�F��ܪ�Ss�'t9���r)�?���֬��=l#�i�gIE�� �� �
�Dh���+qz%y���W��f3�	�6O�2��N��A���z�����V<4>n�~��
"�$[ۇ"�@KdLmg�{�;F�lؾ���\h"!��pi[��qM$��0����H�^��t����k;����$�bC�l�F�b�m��ޘR"#�ōјi3�SP9�&Q$�9ޢ[�K�ӕLB"����\�:�{�
Ʀ�� x�oj�0x:3��05��"W+`O���Bf���W�z�<i���MS_%�5� ,�(��q�d[]��z�Z<�1f����C��>��#��J�S���M�h%K+¿ݸ"�MSY�����X��R��4��[cm������7�ʫh���v��V0쵋��^�w����G��ifbTS)� �jq�dԤ�V��M�o�L{~E�DW�<��)��7�(���9�sgc>$h�b#� ����[ta҈'�'��\�hpi!��y������
�-��9F�KT����F���5o�	,�Ǵ;D��N����`o	.��"1gF�=�l*�l�a7أ�os���F��l��g����/>@�aᗼܾ��+��@/E��R�6@Aۆ�^�E!j0Ww��]��!HH�71�FZ?��I� FK�<q�ٮ����?9����rA��&�uB�&�&Jn�+qY������uL|������ ݻ��B�3i4�;87��Ú}�9q�+�B=�}#�E5�hD�:1	h�7m)\d�K5�t���C�&����'�(5H�뱚`U���Xz�8LA%��6##��Μţ���\���P��w��mm�d��Ӆk�ĩ�Pm���3�ND~{�/I�&�.�T�d_�a��R��Q�v�'{�Ȩ��d��3��|ѝ;҇m��p��p��������%�l�͛����O�J��o޾�˷�a��d����b��4#8i�hH9}��c��'c�v.a��=�6���j
S�e�R��R#`�l{�I[�GX!n	�{�W�.L�x6k���S����}BB{lyP�Y�)��4� ��|B���}J&���e�h(��jĶ����M�c���\��z�3m$ǿMq72�l��b��KDI>�e��4����Dϑ�H��k�'� j-�ϝ�h���KU	��&�Wϒ:�G�
�nO.��z>���_j�]%~�����uo0��|��\�?���k��?����K��?��|>����ݿ������Oח��r�FR&�qUl����J��&஧#����nm<|'2�e�?�ϧ8_Mؾ���_��o�+��?�5�
endstream
endobj
126 0 obj
5589
endobj
124 0 obj
<< /Type /Page /Parent 3 0 R /Resources 127 0 R /Contents 125 0 R /MediaBox
[0 0 960 540] >>
endobj
127 0 obj
<< /ProcSet [ /PDF /Text /ImageB /ImageC /ImageI ] /ColorSpace << /Cs1 8 0 R
>> /ExtGState << /Gs1 11 0 R /Gs2 12 0 R >> /Font << /TT1 10 0 R >> /XObject
<< /Im9 130 0 R >> /Shading << /Sh8 129 0 R >> >>
endobj
129 0 obj
<< /ColorSpace 13 0 R /ShadingType 2 /Coords [ 6096000 0 6096000 6858000 ]
/Domain [ 0 1 ] /Extend [ false false ] /Function 132 0 R >>
endobj
130 0 obj
<< /Length 131 0 R /Type /XObject /Subtype /Image /Width 344 /Height 292 /Interpolate
true /ColorSpace 133 0 R /Intent /Perceptual /SMask 134 0 R /BitsPerComponent
8 /Filter /FlateDecode >>
stream
x�����YI����$/D@ࢗ�$%�|��KN�zI�s���d�$A���d	%縰$�W���s{fzgfg`f���>���TWW�=u������6� "p�ƍ�G���f;��ݻw���j��@ lݺ�M�6��٦O�~��� \VU�@���]�v�޽{q������^fڴi/��O>������6x�`���G�?D	,Z�h	+W�����o߾mߋ������[�n]�ks9��~�:�*&&�C�f�<p����,Y�/^|ƌ�6�q�\�Ts�?~|޼y�����g�͝;w�޽��������./���S�&O�<|��ݻw[���ӧ'N��k׮��Xw5�;~��͋/�\��<�>Y�2p��g�}�z���|��"�p	���۷�;３={v�V���رc7m�t��9�m�
{��ٳ,��x�<x�|�30`@ƌ�)�~��;w�xU-�7n�8lذ^�ۜ9s.]��m͔�ڵ�3�<S�n�cǎ�p�N�@8~�8���5k���+�VK�(ѭ[�%K�>|�I���+l����m۶���[iҤ2d�1*���`���?�<:7f56������k���*�fk֬�o�U�V�S�f��|�ĉ����}�X�aGp7s�N��`�,^��E����9s�lذ��~�4�y���v�U6+�<y�,\���<��bŊ2d@�1a�K��;w��@�l˖-�z���DO>6j�%add�#Z�n��F�-[�d���Y�zR�ʈ@�0�ޱcG�޽˕+ǳ5mڴ�۷g���r�+��r������yU�r�5k��e��?��w�Z�R�L���H��E����.��|���Y�:�W�"��	���W�Z5��q��Wؾ�h�Xn�:�R�
B�X�bh6|P�_�_�2�*P� ��v��-X� a�z��=z�K�,Y�ڵ�`Z ����~�h7o�<f�� �mV��N�<�\m�
;_����8���x��G������*��q���-[��0k�!났Y��H��o-���vD����	{Ŋ<�x�"йa>9r�#G,��������]3�R�JESq+���XP6η�,��t���6��A�:T.��1�Y�'����ٳg�	G7ȳ���_o޼9�'�e�
��k��*Tx���������P�q
FC<e�թS���%��3��-[6I�$�+/\��[�:K�C êU�fΜ�!�#�F��.uV�+�Cx�w�ؑy�G���W_�K���w�Ť賊`���:t��vz	oLkQf"l�]��ՙ3gP ���G�y�$�� si���>���I�&a0�r�2�N�
���p���ԩS�e�F�q��#y�p��1`�w~�zXs��a{e�>9CS��1�B��]G���jE�� �q���c(9*�ܝ�����8:7�n�2e����	�~G��� y弢qWՃ9�tŃ�mƁ�����ƍ˟?������`����� �O��d���c�
;_���{��=�c;H h8��`�c3%����%O����ҥY`��&Et��8�J �(�x� ��e��EZ���hV���ax�)S�dɒ�˗oڴ��ѣQ�Ҫ_D �����w7�fAP�5FD@D@D@D@D@D@D@D@D@D@D@D@D@D@D@D@D@D@D@D@D@D@D@D@D@D a�w��wo���M�Fwݿ���[�9���|�F�1�8�]��9N43r��Y^��O��u.Q��)�j�$�=�q��)+�����k�6�^=yq��u[&,���9w�ۨ�2���o�]?{پZ�e��yʔ)�\
���>t��S7Av������sSI���OGuz����Q��{_���m�s6h����y��v�5u�W��i�3s��>�2��W<�v��ɓ�_��!���� c3�	�@X��s#����I\G�CV�	���r��M��|�{��_Y��ޝ�.)�i��������?
� ;�ˈ�Ff4��f��A�?�j�^M,h)��b�t#
%��Y �t������D�z��\�2�Y�^�y���gv�u-&N����k9�r����r�bQ`��;C�n�W�/��]�v�L����%B�ͦ*�D
��{�xn�ݶ)���"�h�"�0����\a��|;&���w�`�*����^���-r��}�ą��.�^�岒�k7o^����n2��l�����;1��s�v��q��f��Ɛ_~�.]\�qFsH�f6KZ��	����E�y]v��ݎ'ƹ����P�f��ӧY�_|�E�P$M�4N9@ͤ�ɝ;7�kE�2ˆ�Ս�X2��I�G�]27{�ܹ�b@�N	�߅���n�p�⭌twg��}t��E��\�p��!�4�>����Mc-l=��/����ŧ9�E�Rώ�V���w��i��q�'r�ޝ{g�����7s�g_/�8q����s�-s�6���36lp9�O�:E���Ç���"��F1q�Ĩ�(��q>zu��O�9B2�+�?*T�S�N�n%3�'r bL	�#� Q�R�D�P�i��"�6��Ic�={vn
	�@\}C�ϗ���F�8���M����A�w��:e&���¡?�r`V�ጾ��l7$�!>���)�L��Qp�i�ن��{��^����G�O�����<+N9������Sj�A�����QE?Z���_i�n��?�NfM�5w��Hi��f�:�B7���AD~FSV00` q�ѭak�aA���69x����s��������A� �O�>�`��\���YF3P�&N��<u\œ��y�*���5k�)M�nݺ����N���\���]��3B�jyz�Q�8h�ڌg�m~�.�jd�6�;N���C+w��?�_��TB8���_��y�R�����H�T��|�9U��U{0�8�����{�u�F3���ۦ��u2k�	�TS�<#y��l�e��(o��IRx�]��g��>�8�X`�������4��G1�%�!��gY�p�Gy����.9����ײx�b5r��sцb���<�\a������m�-}-��F�+��#��?�'GXn��R�/��˔�X;b��cU����q?¹��Ğ8�B��\du���sW�n�9��u��-]ͯ������S���X�eJ�gj��Й.m3�Ϝ9��m�����]���]�<y.\��º�E4�ܥV�e%6���6����+9���J�*��!�����nݺ��^{����.��.	 yǎ�p˕+��$mڴ�۷g�����o^���<�,��|���=�3�����y�������/�j��90�P�c���/镵�P��f?���F�>Ra��,�Z58_�)�\�Eg���go��ƞ=q�$�x�ٳ'һr���� 쳎F �݉��W��.���6m�0�A����ڵkI�G{l�6���;IT�Z5����9�������n<�7�[����sË|���=�7�~Ƅ�GƏ�o>`�nȁ�5�^<�?�l�̵}����R���]?��%�Z��倅�����rc��1}�1�1{m��I�Ĕ�<�nW��@`dg�Z�]��q�n�y����r 	�l���'V�5�[0}ECH�]��"����a>�RI���-��rt�T՗t��8�1mU��u�6Ɉ^�Xw��S��Fk�F=���d+ǚw��j�c�ȁ#���ӨmD�4��uI[��cU6D/�u�c7nLgRQ����}n���T��p��W���t�#��Y�rP�`AL!�5�[���ƚ�bŊ=z�(A��BYp~��A�
{��5C�2���KG�`웣���v�+�id��(
0�x��o��t��Q�!�4}�r���r7b]0�BZ��o��M�.8�W���?��c��O�9~뼏]��W_M�"�wnvs�2>��v�P?�x+��c!�n-�}�|�<�fϞݬY3t��}��כ7o�`�\P,�W�r!��x���Qo��_��;��X&��[�yr��?ٷh��������]�2[0*	9@Y0���b���1:��ۯˌ���-W�P��.7�m��+�nw����V`1�>qjNl.��L<h�V�Z�YB G�^�z!c����f{<�A�6(_S| ~��m����K�����زѹm����va0�t��J�m��⺨��C:v�p���;7o;�t��3nٲe����x��>���;2��V�PD�g^JB��I�g�W�۹I^�VdPe���f#��C��ޤ�uY@�YQb�f�k\�LGgD�+�|-�#�����+K��o�7{�ߖ�0�ҨRm�BQ����ʿu�� �N������W'�������?Nl;�j�l�7/[��F�B>c���2o�� #�q>�8q�F��0���ކ�������*��r �6���H���%���t��.j�`C������׏�'3p�����7U�wIS/Vx�X�Z�!Ee&	'��mN�\�������m�����E���gbd6��\%
F����+�T�}��Ư4b�4M 2�|���x#����[�Ī=�t.�C�7��$�}\x�`�ҥ6�u��-�����:^JB�ì��켾sF�|ī��|����3�����A����q�縻��իW�8
4��rw-��#c9����E�
[Z���_�A	�E-`�v~��� ����}��x.���}b����77���	��TH�x������˫
�-����j�B�2�mm�+���v{�&Sk�_�3�t���������0�Ϡ6~�x��������e˖L�s�A`�A��+9>(
��ݎ׍s���*�ׅ�s'��f�9��h9��׭[g�G|&m�#͐��^�t�_�[;�V��i3B#�y�1(�;���~Ă�:��W����j0�x����c^��?�����?af��6%�jI�ɼ��xQ�
Z�C��,��"��ѩ�G�^8f�m۶��Q��ظyԩS�WP�Z�t�Q𐍎�ƻ�R�C�H�X0]��x�ȥv�>v�ޝyN�R��}/0y����ž}+� ��ӥ�g.;w��M��ۼ(.X�ySo{_z󔄽��8X���K��;	��z� 	��Cٕ:ujܺ�M	d�]v
(��bE�!"��t0�ؾ};Z^��Y�`����ϼ4����Ԉ&�ީ#"`O�p"xw`�p��&���	�[^-ĺ���O� �h��:"@ۏƏ ,��J��a��R�(?�G�-Q�ԯJD �	`k�g��KW��o�[H �������B�AD@D@D@D@D@D@D@D@D@D@D@D@D@D@D@D@B� �v8�w���1l~i/�/�ۿ��wP��� �<!}�9��_F��M���S"i;���A�h�|�����Y-Q��}щ�@�=���(Q�y�����W�8�O�W.�D"C������c�U˗/'g+���I e�*�Y"�aD�?"ϓ��_~��ƉcߥK��l\R%��2��V�V-��2�d@�r��|���Q�y��� '��`݄.���3�Ox噤6.���r�䘹r�bQ�/qą@D�F���1��]^ZE �	U��1J3�'kg�h��'P<�]X2��A�C�W�HV��i�y��Q���f)`�ql�	LtS���OࢴsڴiE��x�׬��-Y��K�����V�.�-�j�\ր(�*�ӹ=\��,2%	�W�Z���ӎ<D�ܣ����˸c�;l�0"w���Ki�O�0k�,����`LV_20������D��5}�������v9��dB3{H4�adS%��ѣ	|��wDDq��L�H����'U�yb��9sƱ��OjE*��ذa��6Qd����R`�b��#	�B	;fab�O�)�L5%0�k'T�7>��S�/^�aE.BҔ�L��v��d*�<�Y擮�P��&M��p#4�IZT�tiKbtd�kc6�<yr=!Ç�&�hћo�I
6�odE�T��%�*>��A�	��6����%K��ȸFn�r"��' ��L"� �LY���$,C���ļ�=�gɒ9�r*e�Ԏ�Gv��z��x�3=X�j�8HW�4iR��O�m>)��ׯO�~R���<���<R;�p�B�l|���F3mD�C.�4�,6�w�d�r�xG[�laR�JDG�Iyc\���}��K+ �K�$I8�q��H�}m@�0�1r�0�aB�D#��Ԉ��<��#L*l.�x9�@�`J�`�3��ď�w���ӧG��۱�̍yL#x
�l%�'�>��9`4���СC�d@��D���ح[7f#�	gΜ�2�I���8�Ϙ1Hb�� �`���,"�r.�D���Y䡥�>�@�0�����#��:A�n�/vԛa%��ȈFA�	����)�f*T�2�?~<&9V��\�+9ЧO�),+��3�g��*�r��������*�Ԉ�Ҁe�s�:"AK��L�-)z1��f�[&�ƃ����ٯ�r�f͚��q��^z	u���Wr��$Q�Dv��[��1��<��"ܩ[��a����]�3�����!`�����r`Ĉ���c/@��m�y0�� �G��od.�� �r �m&�8�8[K�C��"""P-bh�Q8ֆ���ًc1�@�0� zr| ��Z �r���ː��D��X�~�C9���/9P�^=,���Hn�� v��&ݎ��,㼃��UL�|��3�;��#"�p	r�jժ�%-�:c]`��r 5�Ehߋ�.Pi2�1zz��G$b�d�Ovc4'�k�����`�#��B�<]�	������]�y��W��*	fߐ�-�8>��ǎ�h�"ǥq��#���J�Ν;�ZAٲe�L1̣�%�d#E$j�*�b�_�#�? �*.�.��W�UC��S�'b6p��js�6� �3X��G��,uY�[���#0t���0��Q��A�;�F�E�0������Y֨Q��<�M*η�pʊ���p��\����EQ�I�#oܸѦ��U�
�y�P,`�lj̙�ϟ����O?��S�֭[[L��k�8t��f�ߣm�5c�q�)�iq0��~ �ŀ��8��i�J����!  o
X��}�2�'��l�X�V�hQ$�O6u����aV���W,5�y���?T��L�[�ğ@���W5ǿ#AX�1 L��~�m弓�� N�eʔa�X<�=�FR��llT��2r�x���i��A�xr���g�����/��еkW�W�� Eh`uy#x���g��L� ����FdΚ��k��Aو�Y��9|Y��Bu��:W���PIc bVc�c�f�� �h���Y� ��׎m���
78F@�r6��4R0��d1��?l^���c�����@����3���'�f>�Z�%��"��{2�֩S�	B�|����T�� -/VXZh����(U���_B��)�=��"OO�@��0�����f���f�kX�Y]F�\����s�'�Y�X̬�V����!`���*H6tȬ#����0�g߾}=WZ�v�%�#>r �8%�%@�a���6�f`xE�3��.z[�ʋ�C$Vr ΄��YÁ�Y���=w姟~cK*j�)"��	�=Zt��jz;�� ��h�2�Bޥ����]D��Z?�PQ�x�G�O��z��o����+��ó�e�1o�8�%!�����T^D@D@D@D@D@D@D@D@D@D@D@D@D@D@D@D@D@D@D@D@D�%ܹ�쒌�@��e"�d�ĬfN�0黺)aN���Dg%�,���ֈ(Ы�a�����>q3�3��#��y	�T�ӆb�yٙ\�x%$_|�E�#�Br���i�! ���ɓy������O�&dY�y~��~.�|��
�ٮ]�惄	\�w#�J�V"!gɒ��Ν:u"@4��$�\5{N��*�yIb���f�d@dRt�ڌ8�>�YO"�aÆ����̙�C�����snޖd�ߢE�2�5�IxKR�D�tE�!�7�+cT�����'����]� ��1_�5!���o�5k�̷�?js��� �.d�c8e��a�� �1c	����p�B��d
`K��nݺ����$3bŁ4�و�Eh ��D�}k�ogI��Mg� ���={�
�\�2��H��>��\�	\3��9���A�G�h��R����F�nR��x��	\���g�;jn(K=ɵ�y�%<g��� �~��A��o���7���l0�
P�I�Ggr_���~��a�*?�.�ꫯ�H�{i>p*�O�XP6�@�fäχ��l��y��dM������)�Y �;��g��N���n�B�
�=�\�|��T����a4$]�m6��2��K���fK��:_�!p|Vi��:�H8��p�乘�X�y��\a[r�x�w��7R��PD��t�ґ��>��/_ޡC�%�lx׳��W ��[K|;Kr�n��$-Y{�������ҡX 7©S�f˖��ʕ+�H�`�?��p�q�zIC��t� �|D]�8qbf��b�Y>p��t( iѢE3e�4v�XS'���X�b�
���_|B��L��ͮu��+&I:��ٳg��}y2���P�'pC۫�C�}�y�����e˖L#pī��~�����N��b��-�1�Æ��G*�9r�����$��AU	v<� I��8��q^:�
�ч��W���k�\`��!�X���>��$�L,lm�F���V n��O����u��e�nOjV�P!�u��6m�*��F��˗/�J_�N�L�6��xD�%D)�-���*X�o}�Y" �ȓ�%K��ŋ��v��ƒ����5�[�P'0p�@2k�T�C�V��"�3��]�O�$�ǎ��("�H��:uj�=3 �>��	ZN�z�A�a'�Q��"�玒022rĈ�[�f�@��m�?�|�n�
ږ�a" �"P�V��)S�*|������K�-�P���@N(2[�����Z�GD 8	�hѢ@�E�i׮݂HGҽ=z��3Y�d�k�f��Bp�;�J�E�'>�˖-�����f͚"E
����_�U��RF�(Q"""b�Сr)�{�֊�x��y�ϑ�e�&I��W�^.\�Z�""�\��f�R��7hy��̙3(��U>� �F�@�C&��;t��9+�v�ژ1c��m޼9�z����xK�޽{x�I�&S�L}��]�|��m�6m�4nܸ���O��o��V��" �E�)ND�r�<yr���K�f9�1cF�`R<r�9I�~��" ^��8::��2eʔ,Y�|��M�6=z4*��Qa�P'p�Ν�g�>|Xo���T�E@D@D@D@D@D@D@D@D@D@D@D@D@D@D@D@D@D@D@D@D@D@D@D@D@D@D@D@D@D@D �D@d��?��4����� �u��6m�|��'S�L�t�RH�Y��#�ӧOשS�'�H�(�	�ԏlU��������̙3U�Td.����F��	�x�ҥ�7}���|�M��~ī�D $�׸bŊ\�lY�z��{.97N� �i۶m_z�#F�ߤI��U="0N�:5w�܍5�bH�%B�Ʃ�"�G
�r�N��fd:�f�?�UU"�HZ��@޼y�z���h��@��8�P�E���Ε+W���IfdV+9`�Ў$x�W��P��`֬Y���ի?��c�j�Z�d����	�:(aK�U�V�S��q�T�R�̍4��eɒ�9O�z���qH��V�R%s��;�3g6� k��&x��-��ׯ_�p��
-[dd$��6ܵk�z�0l!�x8��0���.��D@������Q�F�j�0!@j�'N�ٳg˖-;v� V��+W��FaB@��0'@�ŋ�iӦr��o��Fٲe?����Ç��L������	�K�.80{��iӦ%�Q���(@��)R�����֭�����-���.G�D)�_���3��۷r��~���ϟ?Y�d$19~�x��Q�E �`�3(_�<:�.#
2d�@�ӝ;w:׾�@#p���A�խ[w����4q�ݷ�~��/��͡�q틀�	�k׮�o��駟~뭷X)�I��M�He��/�L�0�P�B�s�;v,y�GD L ШQ�w�y'k֬X'N��5!L��n��@`�ƍ�;�b�*U*4�;w^�z5�����@�8u�����������3%x��gY�@к L~ �X�3���g�ə3'���-�QD ����A-�k�!D)R$""bȐ!�$�;����3�@�֭y�`ٲe�W	p-(S�L�ĉ{��q��y�suDD a8}�tɒ%�5k�ܽ{�ݻw�~!֯_���/'M�tʔ)7n�H�U/D@\�޽{ƌӤI��`޼y�6mB!��O������m�d2p�NE �8w��g�}�'O^0�bX�pa^;J�<9����3g:�L����ŋ�M�V�N|��?P�t�r�ʵjՊ��Ei`���I��?v����֭[Z$Ȼ�N��������������������������������������������������������������"�<y���d5ݱcǁ�^�J6d�S���@B"p����k׮J�*�#"*�G}�}�v�#JH7Z}wHm̐ϕ+W�ԩ�ZR�X�
�4eʔ+V$��ݝ��" 	���%K�O�裏֪U��{��]�bE�~�^y�dɒ�hт�B��z!"���_|A�2R�p�IH��2�͛w�Ν���q�@��O�2��Ǐ'j�c��ϟO �������ώǵ/">PdΜ�Ձ��s��Sp$p�رJ�*�ψ��8�Ѿ�	��m�����k�*�y��wuS�:ԡC4�XIr�UQpD@ .��v�jܸq�t����?iҤ+W��O��S���X�V�Z!P�T)��u�_���._����X	�U�F�s���@�t�V�*Q�B�~�������E�U�@�8r�Ȼﾛ*U����Ç;��
�W �v��	!����(&k��S�N�BO>����,X0""⩧�ʖ-�K�6��ׯ_��'�@�&M��n.���	O>������������������������������������������������������������������������������������������:���^:
endstream
endobj
131 0 obj
11962
endobj
134 0 obj
<< /Length 135 0 R /Type /XObject /Subtype /Image /Width 344 /Height 292 /ColorSpace
/DeviceGray /Interpolate true /BitsPerComponent 8 /Filter /FlateDecode >>
stream
x��1    ��g
?�@a��0`��0`��0`��0`��0`��0`��0`��0`��0`��0`��0`��0`��0`��0`��0`��0`��0`��0`��0`��0`��0`��0`��0`��0`��0`��0`��0`��0`��0`��0`��0`��0`��0`��0`��0`��0`��0`��0`��0`��0`��0`��0`��0`��0`��0`��0`��0`��0`����ԏ�{
endstream
endobj
135 0 obj
462
endobj
136 0 obj
<< /Length 137 0 R /N 3 /Alternate /DeviceRGB /Filter /FlateDecode >>
stream
x���K�@ǿ����E��!S]��֡"���BiMi[�iC�b���@�I'�G''�Ap�� 8T�H���Sq���}�{��{wp5%]��hU�(,��յu�ӂ>�1��$��d>�%�>���=�Y���������}��s0;_�s�W�*j]�!�.k��ND����8�k���*���q��/�E�],Θ�TH� �H�a�q���rYR�'K,85�b��%��p���ߢU�N{����e���f"2�CQ�%7�&�H��=c�T6�$��ʧk��0UC��rD���X����1�v?�񧞶}L} �=M�n怀��&Ψ�O�vE�ɉG+�q���oN�mΗ�,�<�@�Ȳ�/,�{I�[�]���k}
endstream
endobj
137 0 obj
383
endobj
133 0 obj
[ /ICCBased 136 0 R ]
endobj
132 0 obj
<< /Length 138 0 R /FunctionType 0 /BitsPerSample 8 /Size [ 1365 ] /Domain
[ 0 1 ] /Range [ 0 1 0 1 0 1 ] /Filter /FlateDecode >>
stream
x���W�p  ������{m�ݵ���23��V�pA�e����>�X������*�S�zdE�'%E���ʒle�&K���K�$Y+	���$����9Qr9Q;9gs�ڧsQ- ϧ�kV��A~�j~����	/��	�1'�I~��팧W�x�OM9��)�>ˑZ��g�ꐝ2��〙9N �L��)��L]�����^�Ƭk�����.�x�Ҍ�A�'����ѤM��P��&�9�=l�c-�"�ݲn��A�447��U��=UX��=N�L�8�HVq}'�Yq,c�K������>�#��aa�|o�����\w�,:X1��<�Mwp����R,նO����'�8���qm�/�b�}��[��u��[�FZ�����f�7�0�?�P�!�7А�s���q�w������޶��O�ǵ�#r\S.W�����8��*��G�}�X�}���_��[�y�gI����}/B������ 96
�oy�_��\�k�~���\]�5��gk��3�=��^F�k���.JW+�ҕ�S�R�d���}��.YV'���%�o��7��7q�N���wL�cE��vL�:Z ~-#�W�/#y�H~��rn����<gν�����g�����YV�yzf�<q�8�yJ�O-�������`�x�z�|�$	|�8	��{lH���	$�w��������Ql�(v���Ql�w5�����@/�
endstream
endobj
138 0 obj
744
endobj
141 0 obj
<< /Length 142 0 R /Filter /FlateDecode >>
stream
x��K��Fr�=�C�Lr;~�;n�k� Y6Z�����N���vU��K]E����8q"�����S?��0�g���8��(�P���c���������7_���K?���y%�������?_/�����������U�s=K�u�������}'��~�"oϿ��O?������������������^�q���/�z��K�ÿ�|�_~��e�k_6�i�c�-��e=��Z��nk���`������m-�����+{�a�y��c�y�a_ב`�aYk$Ӽl��-�>�K���~��p�f�y��)K.s�2�w'];������yg(e�Zj�ߒ��l7�øl�_�m�k��\������a���"�}��L��uٙ��}�H��{Kx�u�N�����uX�:�������i-��,C��;Lc��6�l����o�ÂO�4�����)�u,�6㚅��	-�֗2�|��Ӳ۲M�*1��_��k1��YΉ�k�޼N�|r����p��v����q��$��rx�pв��#�ϱ�:LǾRf(���\���cs�A`���D���4_�n��k���x�׾���Gk^f޶>1?N����;���#3��Q�a�#�ƨ��Ƕe� m�73?d��t�Ad���\{��N�T�6��(��(Lw9�=n�y��v�����r�6�{RhLL(�6�G;IT$����3��6Ҿ�β��!:f|�~�,n�s��]�e��C��<� �֞S�R(��ԩ���~��@��Ea�L{q��i*��}p��Z:�e��ȿαO�I4����-�!{}�>�,|�˓C@/��Q
ȑ�xH�*�붗������溋.6��٧�����7�}��>�n����yK�e�m�c�5�7�G0e����p��q�ŝ4��&_�i>�*o�D-ɛ$#��g��j�e�J �{_\�z똸����^ǔ 
���I�uړ���e�aW��}vۏ��1�6q�7������^��#h�Y]�δo�0�Sj�3�D5�=-��*1ۖ��4���%�!��� �$*КY�9z�۲&�(�t��2)hdS��Xe�auwR��:W��6.�M�R��ړ��K��lrI�
��5��2ڏD��; Ji	�7\:��m�F�l��S�1�Li)S��.j�`��rE�\ئ��?�Iv����"B� l�P	x�E"xK	誓,���o�I��N�[4ш��n� �fv�z��[�)��J���1�x��x�>vV����B������m�H�#��k��V�j�� ��G
��-������Ծ���+�	��Jkj�,o�9��0�����	+9��ݫ<�}_e۽Y�6�
�^U:s%�ފ;%����}��X�AډN��M;k���.�
��[��iB�Yu��l��I������ڲж��-�M����{9��`�z;WvX���X�WUޖ#��z�Un���e�\�ΐُ���N���-a�P�[r��t��8k�j2��q����f��\f�I�.����M)A~��<2�T��6���Qz��oS����J�I�� E��V�/eq�XK^C��@^ۥ�Q˕�u�9���������A�7�8�!p�2n�#0$
�)Г�䵎��Pq>��(����KXѲ2;ɺ�!jeN�����e�h�!a�OӴ��P�X��ꆟ���C)VĔ����ҥ��f7pƚXH��L� נ-�3��Fb��q�[�0�V�.��&F��o�i�S��ۇ��@�#��=�H�J��WmD��,#7�G3@���O�+QR��`�̰�#�b��$�h��TZ��a>:�>v�$o��"��?�`[���w�Txm�]�*g��"����~�A������ ����(�^Ҙ](�wQ?!cr_�@�5�Fg)����N�t5:��R�L�W]�c�j�꿡q�u%_����{$�.U@,gq��O��;PMэ�
�N#>�h�bu�J<ȷ �N�O����lD��&���	�Y�(8���IM?��ƭ+�;��ډ�x鷖�����K\���v�\�tr� �OVQ
�J�٢ǲ���V�pR��PUG�g�� �(#�Z�e|�/
�T�5���k��#��w�Z�k�Z���¹bh�}}FM82{���bVᖱ�<ȕ�Τ���ʞ�ڝK����嘕 �<��uW:��Rm8Zr�����F��׵�sQl!U�]T�Nn� �N�ߤ�%����mGZ��Js���$�=4yG����x�|��a����ʫ:���T*c�X�!)g��Ȅ�_$Zʤ�S���(�X)��4�RɻxT�_�3���Inou<�~be� �r��K���V=5t�K�\�X9P>��ʷ��r�0�0�Y�:�n�%��B�"����%Q�eR���d:���'�oal:L+�}�J�M`=5'��҇t:P���t�5�h�ߪ./=^� ��ه.+<ߌ�{Ϣx����C��3���Yar(���3Gh�	��۫#�4���޺�V�\(1�����BⱳF�@�hHRB��%�R���k�'7��X�a��7.7!~��y������č�I��p?BG�aa|��/.4@ ��`�gr�z2��7%D|���(�zʑE1$NQ���5^j�	�[-�W�-'��L��>�>mղ���2��!�o�( 'p�5b��o��*	[��yyI�PWq��H�t;�7��VIp`���n���亳���0���&@��C�,(�:��Dt�*��2:�Z��1���,�h��8�a�ǧq�i7l.�<Lq�)Cgp��{�R�s��Z<�5��n�#���^�N��� �꫔��␐�{LJk�n�PXM<��=$�yX�"�D5J��C�=��{݇տ��S͇�/�Q��o~1��7�1��bB=X�
	�2HM.� ���I�n�[I	�!(��ύ�OA	�N��`j�;�+Zy�e��˾OB�X�*Y7���RK�N�d
	��T}�9Ո�O�J-H��|`3e��N,��h�|�j�Yo����R�C�.9�I2�6B�KQ��3g�кh����J�={��"w�����EӍm	Z��I.E�.���j�f@W����V1Ζ-�������j���t����쉄������=%tD��JL��{4�v83[��G ���dN�-R�Zq���Qɤ�g��Lu��1L2��+���U�F�K�p�#�	F��4��>��)
B�0��a�b��f��8Bh��Q�@�8J�£4��(���!B��`5,�F�K0�vEw����#V4�H���L�8� @d0j\%�s&������k-ӯov���d�\�$ XJ�H�&��߬�sb���kؤsǵ�K��}�� �<���`��-4S}ZHa�t�F�:mNK}\��Uj5�Yv�跽Ǥ�r*������I/�u�U�P��������axaa�U[�����V� Q����̇m#6�nJn	ڄZ�
)pۣ)� &�Fy��kފ�PH��BG�.�Z�����N|"m��ki�-B<�,n�_�G� 7c�?�>��T���AkK���hL����r�C�\���&C�ظI�l�M��CbK�x&��9�t�$�#C�V�fUt6{��HG%���w�aH} �ARp��﫽��\FC4�|����:.m����S��c�fL�w�� ^nbB��'�ʌ̶�[�yrfC�LrF�>fKo����/�_�8I D�c�$6�9ֽ9���_���;=�u�4���GE2�js�� ��t����5�4�
n�L�=$���W���Q\����.�3�<��*�V�I��d�k�f@������P�ԟId�J�&w��n�Y쾊��y�*�ws\�|�u'���!�>���e0م�$��Q6y��3�"��ڙ�@��Iˉ�j�{�`��Qy��2�3�G'�+}�UH4��NÇV��t�Ɩp�b�&��i�Rݱ��ƀ�\2 ]q���)�xO�7;@w S!�o�	
�� �Pn�Gc�eɧ�����@�$���+����2�L��Ɂ,I���ߧ	�W<\61�-�P�m��"ɔ��H@unz�{ƍ�Z���W?���j��}0�0�ճ3Әǫ�@o��L�m0+9��� .�1-V;@�=�9��pxO�:'�ӦR1j�W�
�A3�Bռ��˹u!'�rO�r@���R�|.t�l/U�R�{��4�]��%�b@-u8R�ٙ�rgV��0P�~]n6��P����ֆ�ة�8h����^s$n�5��N�Mg�S�������%"��Y�}�D̦�wq�K�H�+Njiۿ�q�$d�0g��tD{/�R��i�U�k;����$�B�L6r�g3�K�m��ޘR"+4l�6�cf�\�Oy@�p�D�\C���"�]B��`"A�9�U�3����`l�`� /���O�d&s�f����	Q�a�y��C8򕅭=O�#�Cb���C	c.�:�!��@\i���(�^'�}�h��<���s�<�.{��:yK��x�Q��B�ۍ�BSX�q*���z�i=�|�(��p|ƭ��1̋��(��SyU�v����;��{i�}��{'i>���}�
gFF��D`\#"���������!�M\�����P��J�ǔ3�p1%w��E@�=>s�(�C�6�A6�2���(�E&����,<1.-d��"o��KEs��8nѭ��(y	��bxѭa�}��>Y�v�`���|̸C��F�FtKp�ՏkF�褐Φs����coS}�KIKn���֌}��͐���~���[0�Ѿ�i��Ԙ>iE�
��{M�$B�`��拧���@6��aob܍�y0[����y*��]q��ў?9����rA��&�uB�&�Jnf*qY�f��t|�F��1��p�ཛ��lt?�As���T�!�Ú}�9��ŕl)=�C�FH5���6�I@�qK�"�^�yQC��:<�l"L�/|� ��҃�t=v���ֹ�e�*���TA�k34����Yu4};�K=�rT�t�;�6%���L!�"q��T[�~e��#��9�E�2�3ŗ��K3�V�Y��9*ۮ�DW����f2Yc��J>
����6O\�t8�K�N��~V%�l�͛����O�J��o޾�˷��.�9P��k���ł�i�p��ّH;}�̇U��'c�q.b��3�&Q�2jJ����)�\c�$`m{�P�
����-r�|��2���fό��0���i�'$�ǖM���r�L#Ҙ�':�ݧd�.H�܆�@inG�#6u���J߲�`m��Q=��&��o�@\���4��9A��p�(�G��/r�&7��[�)	1E{�vy��6�0���6I�T�0�q7Ѿz���<Z�`8x{r���h6��i������?ѱ�����6�O>���I*��~���������O���ݧ�i�7����M�D���h�3x�>?e�E!&��w%�C����>�5j����"����ť�c��M�?�2������Yo����wD"�BV�J��)k_ݪ����-s���=}}>�?u��Zqj���k�:O��Y���J>T�E/.Hz����4���i~h|�yk<_�,��
endstream
endobj
142 0 obj
5673
endobj
139 0 obj
<< /Type /Page /Parent 140 0 R /Resources 143 0 R /Contents 141 0 R /MediaBox
[0 0 960 540] >>
endobj
143 0 obj
<< /ProcSet [ /PDF /Text /ImageB /ImageC /ImageI ] /ColorSpace << /Cs1 8 0 R
>> /ExtGState << /Gs1 11 0 R /Gs2 12 0 R >> /Font << /TT1 10 0 R >> /XObject
<< /Im12 150 0 R /Im11 148 0 R /Im10 146 0 R >> /Shading << /Sh9 145 0 R >>
>>
endobj
145 0 obj
<< /ColorSpace 13 0 R /ShadingType 2 /Coords [ 6096000 0 6096000 6858000 ]
/Domain [ 0 1 ] /Extend [ false false ] /Function 152 0 R >>
endobj
150 0 obj
<< /Length 151 0 R /Type /XObject /Subtype /Image /Width 488 /Height 282 /Interpolate
true /ColorSpace 153 0 R /Intent /Perceptual /SMask 154 0 R /BitsPerComponent
8 /Filter /FlateDecode >>
stream
x�x�������QT@A,4). �"X�bT�(  R�i
\z�MJ����"��jH(	�_���]�$�l�&'�o�͞�ٙww��7�����6�����v����������ݻw�֭[!!!���[Q�r�Y���n��#���]J �?�܀�R�x��o�~����ı�}��8����^�n��սg��;{�ПOn>���}a�ꊻw�2dȿ���/�n����g9�=�i��+�O������$�cǎ���6~��˗/�,��;��˗����z�z��u�ԩx/X�*��sWW����˭�e��m�z�9?��ÞY�_�}j���I
�ge'N��'O�W^ye�޽����{9�,ա�;�h��C��_�9��=���H���?��C9s�|����5j���ѣ^��2�ܹ�ĉw�Ď9q�����}���K�,Y�r�o��F�++#�u�֑�+�l�r�ҥX�H�p���m۶A�+zA����ׯ�x�O���ӧm�����>�=��3�S�~�G6n���*�5v	l�40�G�3�7�~��N�0d����W7��!�{���{��^�>!��ul��?M�xz��{�ӽ5t�E�&L����z��7oFVx�K�.�j�6lY2�Ǒ�I�&5iҤ|��E�-U�TժU;w�p��g��Ǐ�7�q��f���Nǎ�-[�o�3}���Z��iӦիW5jԕ+W��ϦM�>��c�p�gt��Uk�v�;w�q����;w�.\�^S�[�Fa���j��:U�)��\:x�~����sO]����
D���'/]9r/���4�a���ѣ�K&�3g֬YӶm۬Y�&K��y��1���ҵ��3g�\�d�ڵkW�\�`���=�X�ҥ��CCC#"�������\�reϞ���^3sN�&U

�;)蛐9��ҪU+(98)�$S�Lɛ7o�L�ʖ-Kc۸G6ݶ�gϞ^x!!������M�F����R���%����#�o]��ǅk�N\Z��Wɪ��?��#�?F'=s���q�ʅ�'Ir������|��ۯ�p~���9��1�����=e�z�zy���xtm:���)����#G�xoa�#��d�Ν3.�E]���;t�W?|��k׼�����y�";b����}�"�\߾q�nO�^��'���[�p���ѻx��"Jh)��|��J�*Vts�@���s�cǎmݺ��o�I��Y�f'O�����X�8֞|�Il��<�F�T����q𞃓_y�����%K43��=b�VeʔY�h�.��w�1��J�\�yAxs'��%�,�����?*����Ӊ۰a%�,ý�Q� #S>.j?z�g?����9������{�Dq�������8oa�����t�ү'l�����K���-�j�G8����4
s?�I?���W���tG����~��W;v젉�G7�O>�W��|гgO��A�����[�nР�ʯ��)�`��XD���q^[�;�"�LO�6��Y�fu�ԉ�0W'�]�.X� �[�^�V2>�k6o��C��y��gϬ�A_O8��n��ݳ��=��p��ƃ�u�tx�;�ѴE�%���(60Vk��`:��+}�����<Xژ�����\%G���8ҭ�u��Cœ@�����W��6uy��g���� � 3g�d\�V�J�*O<�Du�����1��BN����ȑ#���Kޯh��N��<"@#��z���U�X��o�]�p!�g;�^b�&��'�
R�ՠ?��]t�o�fC���������9���k��W�̐�W�M��sL��}�ф?�u��Y�����wN�.��ck�LkЯ{���9>���}�7]����z����[�v�Z���/�C���y���h���J�*���W_�Q��?�ސe,d�31C3�����4z��1�6l���n3zE���+T�@���_L�6-n�ɓ'߸q�̖�r�^����ƃ����M쯛ٸ$�l״��t���dn����GW�ڿ����e:��x &=&��>u�C�>}�ɂq�qѦM���m<x3���n�-"����4���̻u���i��L��۷�Ί�(�[o�E��P 6^u������8�m�1E��ҥۼysT��^z� �[4(��E�b��y� `�u�Kl�Pd�$9�j����n���Ɣ�;g#G�\�n�"�~�wʷO�7/`��%[/<}f��_Z<�hˮ��km��!WQZ�ͤ�O�7����u�C%f5�~���Vj�s�[�P��
�q��O=��Z�NԒq�A��`O�:�HƫW�D	z����<�+��O?���?�8�L֡��K�"�XJto c�#�v�@oڦ����C�y	����_I����GeȐ9�!c-�{9[��d���}��u�����G���¾IW{Xɶc��~����i�Q�����.�/�4�ȧnӪb��O �Eݎmw�lٸ��ᑥ��q�o 3fd��!9���g�y�kD��a\�c���ڵ����~�&4�T�crXm�֝���F]hd�2v¿��/^m>�a���9��^b+X��Dn�+|`�oaw#-��^�fd��uǾ�ͅ}'ͱKB���b-��<j�B�s~�5�7_��;F�/��"y����Ռ�k8F"̙W�xͱ�y����w��xiXiR�s��x��k�׊ 1�����6*�{���?��+q�<���8�j�N�r�N�����n���_7=R����o��閾����G[��n��cb��%|��S�=sp[�yN�	i�qy�<\��Wm:Q<r�S���>�Yk��\���)�ng~���>�ق�']T��tfy�p3z���"9�mn.������6���w���f����b�}��gϞ��T�%��r��Nt�|X�v�U�8�����`|>�c�jn���wL�廼�Q��~ψ��1���o2����^D��7�]�0�`��G`��)6�Hx��x��M�ɐK�à�?B�M��F��כ}d�r���N����#�����L[3����s{"%oM�e��t���D�N��h�͖�K��D��AM"�_�>ϛ�@G����Q�4M�X�m��裏b��"�+W�f͚x�����p�k��ٳ��u3���A����y��^d:���M��6Na+�{�m���D�yI��i��U��az��|���ݍ>o���g���)�1�u/4�[I�9{�l�mT�׳cfb<Nɓ'穳��*��F`�z5�D�	G-�IC66��*��xH(��~��A̾}��z�	#��M�^�fM���P�����m��9�����ս���?�M�KS� �㥭'�»��ވ?C*(!�r��h0�q�b�9�����2B�"�7�ɏ��Տw�1s�hq ���@z�q�Dث���u�V���$w��Ih�.{饗�F��r/�C,NtO�_cR��<���~�����#�v@�q�ܲ��q���ׄ>5����a�9s�`	�*�>�A�W����-g�@�t�tz����78G0l�'��el���<x0=>�"ځ.C��t�m��^ζJE�O��=7`���L<�7wS�|M�k�ht�f��p\�6o+CT1�tc�����fV�	Z`���3 B0ϊlK��C6F���d���h/r͘����a#���Y�s"�mjM-�&��ĝ�4"���,N���^b�:ى�n�K �-O|�#�vD��n��n3�uv��)1���m�0	�de���[�JC����;C�} �
�S���G�n� ���S�u��������ȦM����K�}��P��}��u��?w�6&1�&\>I:L���b�D<	������;�.^���1c��ܪU�Fx�B,��jt���&7�#t�FX��۴�8��/�p3I��ﾋ9G+fv��Z��ؼ��'�}~߉A/|�U�w��n�0Achɶ�I��[a�5���rv�1�q���m�aF|���������b�^�����i<�E�'∧��Yu�X�m�]�I΄���6�s�y�l��^�^���'�6�p�&ʭĉ�Պ��\d>1z&�����T9��qI4���WϬlG��LA�1�^s���ޠ���G87S�l':����O�y
}�ѱ�fv�n3]�&�� ��E��$!�iA�%��t��D��%�S�pV�ݒ��|�7Ȁ�>!���eۭ_��w��1�T���&��
��+��E�*�1��um9�W��V�6,y�F8��"Зāc�m�r��(���[����	L�;.4��������B�|b��3.hf�1��|L��%o��6����3��4.<���G3�nݺD��村�Ϝ���~L��c�����I�{bD������K	��A�����;���b�%�^��6ΐ%_��S�L�8��p���>�Du�Ȝ���:ڦ�Ļn�b�g@�"Ӕ��C��L���I:�/����1�ix�a�`#Yu��yʔ)�3gL��Cb^Ӡr/���n�D�۸ >��S�B�#��b>�`A�L}5��Nr���@%p��)�<ut嘖�<}��6o���q� w<W�������a�*VC��8�q&<�����>��1�/,F���Pl/>I��6���k��8�	�7�`����^��A'�M&��G���mƺ�>����ͧ�:�n�`l3�r���(_�ǻnS6,���,nX|Y�L�"J�jZϘ1��#�֌&�Ĝ^4���5�{�����"�%ϻ�O��p��&"�Ļ������2^�r�ys������w�&�߶	��l�dv�����Ǽ�����_�6�G	[sc�;m+�H�q��f�1s��)��D(���N�6��0�ȶ�p0�z���I�a���9YB�������ɳA���V*�9�wӺ�}\�I�<�=z��ӂ��� R�J�9�}�C���<֋Z��붿͗��a��m߽Ķ9�ӡn3�}��u�}�;w#�l�1��:~��sv�;��{#��۠�e��/�������F�m=Jz�t�Hɻ�I�D���<`��x�y>�d�)�!�IT!�{��ɘ�Jr Ԅ��Nq/g���d�P���-AA�?�6�uꚌJ��~�'����C��M�����8:��bHw�f��dD
�N�A�;�OX��^��#f]1BA#ˠ3�˞�Ȼ�D'9����g�V�r�a$�>�<�<T4螱�s������s���С��_���|L ��{��f�!���0!�`b�)��|~�?1��J��������,>^1�~_���<�T�y���gw]�m
�1�8�@ ��r���>D1\h��=%��"^G&Щ�y���f��2k˙yK�S����h�K����\ǌ'O^"��Z�}�|ـ�E���Mv/�k�y��C�
��]��oM��7��7�l����ۏ����\>��7�V��j�����#>���p�Y^6T/��Z�s��{Gk����n��l��f��}v��q	Z��L�d��N�?	��<KFSn���q���D��5ݾ}{�D�H;ϙG��3<��S"�Jx��mep��|��e˖���-����ͳWn߼eNx������ ��8F"{���y��#��\�fs��'��m�-�w�ض���^�f�ЎOݎF] �7�0i�i[��Cd�D#g ,v�:\ȵ��`\+9GVH��h��3�[�s#+��*�u�v��Hp��m��Ng�:Y>��(SΑ�nGFF�E �0t�ϡ3R�̲1`G�%&5��5��#O/�h��_9[�6���q�`@�XA�	n�S�/"����.�!������t`���m� 1ǥ���_�4����W鶕��E ��;�h�u�p�H��o|�6�%J9D�X9[�`c"k�w�fB��5��E@F���n|�)������jD�
���{�~��2�PZ�AD@D@D@D@D@D@D@D@D@D@D@D@D@D@D@D@D@D@D@D@D@D@D 	�I"�\=$/�<+��P6�_2t�g�S��+"�^��ʙ�q�X����좍B'����%d��]3u7v?+�jruVa�y���3�Q==����!C��y
f;�n汕3�=g���c���ؽG�M�� ����+�����1/0�Pcч(}�n˖-,�Ú,#F�����1/U�r�8q"YWی��^�V�c�]Vݢ�e�/W�O" �� �ʊ'�z�Ү���>vԸq�;Z����O@p�SO=ł�|��{��5��ճ���366+$�eQ��Z�lYd�{@GD@4Lb>(ʪ7x�c��m|^�v��8a��Ậ~���b|�4~�5f�cK]�͝X��6�ұ%�iI,��vD ���ų��ʸ_�ۿ?�d,��'��/��F�"�2;˗`��| Fbқ�y���F1LUǃ�'�����S`)-���,>���xK���|���S�|9k,��� �Q��q�u7�EX`3s� �,�f��44T�=|�0>
Oq��q�u�ֽ��tUX!1J�)����-3g�d5]E��nР���>,F)��1��Ҩ;v젿̈�%f,�j,TmMϺ�|�ߺ!n�˰R�_~�ue���YM�K��\����g�y�[Ӭ<���,Hi�K��jdF�r��������Ӻ�
��nY��u��p�����N��&"̚�,�L�۶m�Y�d��Ѵ>��mj�N�:��
FTQo��{9�d����6mZ�-��Ģ�-Z��e��/����'ĐE7�}�Y��jժmڴ�f!�ڦI����kעT�2eBI���r�����)����d�e\���,_�R%�Anh2�*S�6Y-y�����gϞ��ΐ!+�W���U�b�[�`�� U�^=U�T\���=�G�W�"�Ô���j�5�T�ª^l�2��u�1`��|��Q�ҥK������6!���6+��>��3����ʼ ��ط�������ؙ?>�a����Z5[2�)"�6F��[)R�DY�n���&Mz��P9�<k0t�,#8u��AL�4iB���N�j[�������6�Q�dI4j���6l�?~<ca,؄��'�,�&7�%gQ��#Gr	c#p%�(N��dE7߳a�̎�
�)Q�ēO>@yX�t��Q���_�~,ao�L���-s����^���Z�4oޜh�l�=o�<pQ;"'�#$���裏h��/}3[v���z���<%O���dK�?E@\%@���D�F0��85v /Zd�C{���^�c��kdE�#�4y�m��ӧG�q���|��3f��F̓�N�=�A�㒴)�#��#�Ŗ��O��ҦM
�����I�L�޽�d�R�X��;wp�m�`fA�p����az6�F����رcfb2z4=�M�ƽ���;��ͣ�>ڪU+[kn�ю�@hٲ%�Mp5�`U`fm`�c\a�Y#�X�D�?��C�~N��m�T�Rh��֘܈-,�#���GI��{���\l�[��鰂�,(m�dɈj�9.p�#�)R�0���}�7"Ll�M����8/��f@��J̑A�r�$����/�8Y[�S���{��-̸��*�ކJ�� ���	?�6��M���`�C��3�3g����v�f�~�t��K���5k��4�i�V�XaZ�F	�!�O@`G���r�����ŋ�� ?1���ئ��Ӂ��t@~��1���k����ٺ�3�{nFi�4����@l0t�3H y�����I�	H���28�m�O[4�ܹs�݁�6����?q��b;��U�hMp0tk��^$�����ׄ�s��N�9OH�M�)$N~�9�p���sN3�ۜ;b�m�r�U�����ʕ�g�'��:("�C��	��n����Yc�o���8��O?��%�&���iL���b;����ĺ�2��l�6_A1t��s�=G'�S���G�nq��^�k�|�iӦ1���ȦM����V)�O�t��b�v�|tPↀ�۞#�@4��C�0	rp^�x��v����d�a��c�

��Ih��ݸq㌸�3hG<�$�z�bt�jo3��?ə8y\ܦ}�>��6�v/�o.�lٲ᫷ŴD�X�8�
��_�^�����E�O�n�*66��3��oʚ���Q����0��v9�?g8�Оq)��+�(!aؘ��ö��5��|���f3Y��ĺ�F��k�F��~Xu۰��tk�@p .#�n�����'s���0�&q�=q�1_�(�K���	1��ۄc��]8I?f���4K��r(k�S�wC��Ƃ퇯��4Jm�5�$�8w�܅
����i����=���y7�q�h#�6g:R�r����O�	z'��,-6��{[u��yʔ)j|&F�8�`o�)0�\���ن�?)����aB�g+��`���d,̽��"%�}C��� �qc�����C����B;�5LP�QEc3>(���4pb$���j7�O�Q�o���ϸ�d�'��q�2{����X`�;etH���:���>:� '��g�&�M�	��|ă��mfPӬ�g̘��R�� e�sv(	�י5	g�M���,y��	��5k�P;D�yF$�8�[�.!�H7m��9���:� 4��j[2�)��8J9'��a&�@�s�LI�A7�NMKҨ�CY��Ko����0u���6�Fp�q�I(f�a4t��~t
șv�$[.D�������1�q>�O�M��V��,d]�k X�̠��&�F�qG[s�H?��#H�#�}�駭#}d��<-ē�'m(7�)�cƌ��M��0���{9[�Ͼ��a��ՁcK�?E� ��k�kBp�L�p/q���`�y�ELD���R�=�D8%���g�%�6��?/�s�&%������w�gb\��bԛ2c�� O��k�82m�驰&0�V�HL>DY�������g�?e�7a����o b�SN�CND"���pCQ;XYyҲp/0�����D�P)���D$�+����8���ɇ'��L��q7[[�W툀�%S�a���K 8i�>x\�$����Dּ�1�#�|t���H��ɏ�Em'ru� #>�m�@*>�&+�B�=�Ex�ɳ���Lei"	��W����l0����w6���8A���a�3b��NP!���+��gx���$�g"��b�^N���x'�tt�F�*{�r{���~e<~x������F@��"��t�0_��@�Оa'~uk��0xu�}�]�)�y�t��X��DO��mf>g��N��%��A���c�L��o�+H�
�˴��V�\�9O� 1'@�j�&����$c��ь���g1h݈u������P�D@D@D@D@D@D@D@D@D@D@D@D@D@D@D@D@D@D@D@D@D@D@D@D@D@D@D@D@D@D@D@D@D@D@D@D@D@D@D@D@D@D@D@D@D@D@D@D@D@D@D@D@D@D@D@D@D@D@D@D@D@D@D@D@D@�A`�֭AAA+W��~�����K���J " "`(Q�D�2e���듉{�}^Z	D@D@+VL�"E�t�6o�쓉{�}^Z	D@D@�Iq�r��pH`�С-[�l߾����}��^b��V�DI�ԩS;w�<q�ĝ;weU)HL��.]�ԪUkذa�.]JLUS]D@D 1��>s�̚5kڶm�5k�dɒ5o��;1�Qu��A 88x���lժU�ҥ�)�/_�T�RI���U-D@���\�r���.\�jU��}���ӧO/�N|�Z5HΟ?ߧO����ɓ'�ٳ'44�M�6���qsU�DI <<<,,����f��&
툀�@�  �N�I���t�D�H��	�6��" "`�n�(�#" 	��t;A�&RD@L�m�vD@D A�n'�ۤB����I@�m�Ў���!��w�\�r�ec��c�=V�B��~��8t��u?,��$" I���7jԨ�eK�.]��ɟx�ܹs�+V�x���$GU?$ҿ�Ͻn={�<}��^EHX����_�~��%KX���~�|�rxxx⨝j!" �� ��L�4�I�&�˗/Z�h�R�Xe�s��xppp"���#" 	��իW{���R��3g.Y�d�ڵ+W�\�`AV.]��+BCCzU~HL�Ν[�@T�U�V�/>v��֭[Ǐ��o�N��Y�f'O�LL�U]D@D �hݺ5�vٲe���w��}�:C�͑#G�B�v��iԎ���@��2e
�����߸q�Z���ϟ?k֬�QZ�k_D@D�?	0 [�l%J�����T" " &��bŊ�?�x׮]/^�h׎����8x�`�-2d�@X�m�������*���� �ܱcG@@@�L���^�hѭ[�DFD@D�?	ܻwo͚5���C�+T��`�M���;�R��� BBBj|��0��t=" "�p�L�>��W^ɕ+N�={�`{�miU0H��iϛ7�x��s��ԩӉ'�9�$�H��" ~N`�޽�*U"z�]�v|`�:e��K�≀�@$���i��Β%K��ݧM�6�c;r��&I��P�E@�� ��.V�X�dɘb�3gμm�'OF����*���$58F?�����bK�ڃ�����������������������������������������������������������������������������������������������@\�{�.k߬[�nɒ%+V�زe˥K�����������CǏ7n\�ƍ˗/_�h�R�J���;;v\�l�V(s�P�D@D ��?�s�ιr�ʞ=�k��V�v�ʕ+,X0M�4���zPPPHHH�F�I K;O�<O>�$���˱��n�:~��ҥK�N��Q�F'N�������<�M�6͜9�{�w��Q�E������ܹ�z\�" " �H�޽{�&M�֭�ڵkm��)S��͛S|����XB]ZD@D�	��W��n�:cƌիW?|���S�FD@D �	`o��޵kתU�z����/2L9s�L������D@D�!��v�ԉx�H�ԯ_�7o�tx�������1�m۶ըQ���Y�آE��.����qIt9'� I���	���{�L������������ŋNNW�x$���bH<	A�w�܉����" " &�7n0�gI�]�f4v�n�%�'O�����-���ǎ��O�,�ܹs����-[�,�ݧO�+W�XҾ���@|�|�r�
~��jժ1���%!�o���
H�*��hx|�P��>|��O?�.]��6l��ӦM|��7��ߘڷo����mg�O��"��Y6����{{��L�2%��U�VeP�6�=�ʩ늀����\�ti׮]�5kV�^�>�   `����w�V$�II;" "�op���>}�4�ȵ|#�v�T�����ضm۩S��'������V�jڴi���G����� �.!" 1!p���ڵk?��c=�P�V�Μ9��t������X��o�)P�@�,Yy�鶫�����Đ@xx�̙3YϽQ�FU�Tauw�v��tp��Ν;�z뭲e�nܸ���ӦM+�v�2��`����"E�L�8��͛�K�c�S犀����>|x��;v�x��9�%�v�2�X�z�+��R�V�}����&7�v��tp���c��ԩS�dɥK�����n�\9���@L�׭[�2��իfV�m�vD@D��,Z��.^���1c�[�jժ�I��f͚ӦMۼyspp�_[��$K�]�v2dȝ;7ҍ���2gΜ"E��Y�-Z�p�#G�$YD������I�&�A�m[�B��/�)^�n��ݻk��_�5FD )		�~��5��I�&̗lѢ���)��" "��4.���H%+鶕��E@D��	L�>�}���f����U	E@D@D@D@D@D@D@D@D@D@D@D@D@D@D@D@D@D@D@D@D@D@D@D@D@D@D@D@D@D@D@D@D@D@D@D@D@D@D@D@D@D@D@D@D@D@D@D@D@D@� +��ݻw[$��ӧ�޽��%D@D@شi��\=�m�رW�^u���������)S��͛7S�Le˖}�c=z�t;�.!" �	�1"gΜeʔY�h�n��ܹs���s��R�����M���Y�f�W�ޱc�ܾ���9�nݺ�$i֬٩S�b��rp�@�v�2d����:x��ƍ�ܿ?q&���n_]�����D�@��͟x�	�$]�tiذa�J�*W�ܠA��={�_��֭[Q�P�E@D@\%P�~�G}4K�,,W�\͚5�T��/_��iӢ�+V�		q� �\D@D J:w�\�B·�n�:\%;v�5jT�ҥ�s�s����Q�S�E@D@�#�g��������̙֫3���G�ԩ�͛w��m�O��C�����ɓ'0`��k����*���$Y̬��L��$E�xk�d�}6Tq#p����ӧ4h߾}��G�<y�x��<��$�v�T��L qf�{ʔ)?��3�K������˞={��LʈTw�+u�=��9s�֭[O�0!((h��$,0O�<Dq_�p��ʬ��@'��ݡC�_|���lٲ����E�ɝ;�K/��h�9s����ĉ��" "�Ο??cƌ/�����L�	�={��+W�l*����@d���pkc`�-;2J:." " " " " " " " " " " " " " " " " " " " " " " " " " " " " I����+l
endstream
endobj
151 0 obj
13903
endobj
148 0 obj
<< /Length 149 0 R /Type /XObject /Subtype /Image /Width 544 /Height 310 /Interpolate
true /ColorSpace 156 0 R /Intent /Perceptual /SMask 157 0 R /BitsPerComponent
8 /Filter /FlateDecode >>
stream
x�	�M�����H�U�\ɕ��+�9ޤ(�InuM�(�V�24_M�He�-�D)!Jd�L��y��ow��}w�<�����<���>k���ߵ���߰�����H@��$ 	H@��$ 	H@��$ 	H@��$ 	H@��$ 	H@��$ 	H@��$ 	H@��$ 	H@��$ 	H@��$ 	H@��$ 	H@��$ 	H@��$ 	H@��lٴyӺ�7lںu�W��xӦMk֬Y�v�-[�+>w�S�s��-׮߰z)[`	����5�]_�~��ի7l�`�����IW�������=�g�~�m�视�{�������v �S�N}��^y�%K�d�ڹ����+�,���a#;��컅[��7S��Pؼy�;���㏿��?��s����]�ĉ�����c����1ܮ�Z�x��No=}�m�o�v��;���C٫�t����w������A�v�a'�p)S�{��INY�������v������7nJY�&0a3�8����>�bŊ�r�ϟ�m6o޼�7&/���H�΢��G}��g�M�>}ժUY��<s��1c�|���F����/�-[��C�S�v�ie˖e\��O���ɴ�����z��ȡ׶;��+?�F>�#��m{O:n��k��
��Uʝȝ�||9���{��n����MY�#�hѢ&M������Ν�\j��lذa��ݗ.]��pF��#���o�}��w7hРF�g�}���_�N�3g&XF��^�`A�~�n���ڵkW�V��SO���۷o��ᤱ�|E����K�ӟ��>wYb�B��	#�4[!w��|�_i���K\���G�L�a��.��;-�;ɿ����|Y���3���yΫ���� ��/�p�!�����cr��yJ�T��駟�nݚA{�"E�6m�FȳpF;ӗ�nݺ޽{ӟ�+W��K.�[�n�J���]w݅����HY:�N�:�,J�.}���_p�g�uVŊ��k��5kb(�>p$��K�,y�u�}���)ϲs2dH�.]���E�'����p�,)�7oܼv���KV��a)��VE�����E�	���'�!"�jъ%��_>g�����rB	�c?�[��7��X����=Qr�{�c�ф����x���3f���X��a$����$	�Q�b�/D%�t �3g͚��gϞ�-�d��;�ir�غ�4Jؾ��	�n]�t�Ƶ�?���e3.��	[�9% �L�3��A&��ⓡu��x�(�����_�|9ޛ<�Ap#�s����{�~��;iǎ#�W�F�c�`5��V�Z�|��%J��v���d�xx�Q��~;f��͸���Q���������?��7�t۴�رcx��'s��u�iRT�QGE��Dz�=�}��g�EK�ۯ�����#�ĢĲ���Ϲ��&O���N<W�=�g/��A�����w��P��q��{�uO��K�Ϗ�3(��c�%��V/�q��o~vx�>��}�r���>狞��{�Յ�goZ�q�ٟ>5d�mϽ~M�7���G���y��$uK�SϞ=x��ɓ'��'M���SO�v�m�\s����7FJ���QC�Ϙ��Z�b,t��7c�c��gN�t��:t��=��C��4(O}b��g��B�v�xF���j��z�n�M�;�ыM�=��w��6~�6/��3u�gD�f<��1��:�ѿ�S�ox�Ç^�=j��5��Ȩ��L��_�����izu:jZ�v�Ϥˍ�;
������{_|�E2.� �|��Ν;�n$�ƍ����F��[;`� S~Z����|�1�|��y�AIթS�L�2�+WFu����+��?�v���dz��m�ғׯ_�v\��\��-�J��K��w܁l"�J�d�2�R�*Ux����ݸq�}����k�Mi¼�����?On~�*�S�(;����N��c��>��s}��aÆq�'�����a�������ҵ���� �ұ���s{¿ٟL�,�)>�q^��S�nc��Z�>z�u�o�VZ>kQ,�O���ۣyhߏ���_�>X�i�є��x�}2�6Z�Q�F{�je�����_y.��8�
*�4Ɣ�'��w�y��8~٨U����?�^��m��_�r��O?�N:�������ޢE��1����n���~�霗�'�gy���c���I�4�"hܰ������J^��=�P(/�}�sg�~��=�5����;fڶX��`F�Q%xT�+�"D�1
hkϴ;��mK�<��4�At�'�܌����3�pb�!U�b���ϝ�H�g�����c�9���/��"���&�Ρ�����۴i��%��(��8+�%#ɠ�r�+�B�ݺ�5��߇~�8�^K~۽z�jٲ�o�ɸ+Z�@F�������<�x�`Γ}T�e�m�{�]w-U����_w�=�Eo��֭��J�th�-}��Eqc�Ǯ1w�c'���%+��7᫷F��ܩbc�˻�5����	������	3�9�E������o��EA�7}���QI�}����m�����?\�����v��}���Q�7��x�?�5��ے���B�k�n���UW]EWO6#cKn��1�O�b���GMp?�z��8q��{��p��+,�����]��x��X�T�|pq����h�f��>����>}�P:Z�믿Ų�;�ѳ��=��A�~���(�$�c�n�G�R�>{J�uٹ��QS�}>��f����.x�M�ߦ3�MAs�)�``�`��I�*��w�m7���A��9��xH
�?���_αt����C�_}�#p
s�:tڴi��FO�7�-s � ��i�����w�3��G����_2���JU���u�Ԝ��hѢ<Yy��CD�n��t�I�21Fx�8;�7���~	�J����"���%!�Af`�m����77J�j���|3t\~�R���-_"u��s�_4���iF����?�ʧN�'X4R<�C>�:�����m^�釥��(��%�D��v`�^:�<G�œ����8�s�����(v46;*�F	jůA�Ę�8NxRT�Z�F1�°W~�)aa� X1t)8���^�$��-���,�~i޽M���å�~�=KC[���mP�|�8opH�-H��9S�y���>8�����6@qD�<As�3�3�qptӡ�	�-��=���f	����c�q���t�f,�-���OI�fK�$�"�d�+�3!�*�%4{0�⪋/޵kW�X�b�\<��������`�O�����;���+c���<�Xax8c?�_��蚰7�0*���L�Q�
��6��v٪gj�l]������W)��ٺu�=����۟GgR0U����уa��I�&i�!���.�삽@d6��y��"OZ�6g��Տ��B	|&��H�̳p�u���^C�i<4"g�^�:#�Z����߅��?�~��9��3'ݹx꯲w��N*��ߺ�9�(�2i� Ǧϙ¸P.X��N��J�fHPZ�a9�MZNԆ�3���l����A�WD?�ȟ0�}��#��y�Gu�F��s;�ȳ|�;�H4h���d���b�xGa�$W�W���}���M�?!1�����Γ|f���m�Dc��
�'=Vl'��Ƨ�W���.��)��p���S:���H�����e�	ĒF/��y�~�݀�a�\Z=���.�˅�0}�I^,6��q��D�+}>�� �1������G�ƨ1���U��1̣�DY@(2*K��I�� i���d	F�O��K�v��t��d7s����4[080M���R�GO��v	�O~b�L��".@�$Z�ᶨ~��9��(�/g�?$�OxG�E ��$]hʎ1zj��h�X�L�&��ZG}493������}�
 ���Ic������	���%&]�	��3�<3#5��}e�Ȗn�(?V9�'�e�3yZ��+�&�t��wN�\��}{\��������[��ܙ�Q=#}cͲ�.1���+�_
)gi�$�bt��x$��1���'��1���ܱ���_��F�9r$�F�Y@1�B����u�S����X�9yc�%w����t;M�2�g��
�:�3�u�����fr��9S8�/$�qT��A��xY��
�#��~��ī����=�_.�c'��v�C��07C�#��1{���?I���j--V��$�������3,�Q���C�10�@#O���7<�<�$AA��F��a���N��Q�3�ka�f,��eP��&x_�6r�3�ត��sW8#���L�E��� Q��y�{~�/��K�/�*5���#U,��A��<�c%
��}�~A�3�m���v::�!Θ~	�Q��w���/	 ����2��b蚘~ɝ��.<��i�R�s�_R�`F���@��[��~	�!4��4+$TF�?���[��H;�c��a0�3=�B>@�i���H���
��D2Y���̰�d����!:(�%dG��S��?���X�S�Mǳ3��4����ʯ�N��V0o���8�%���*1bDbnI�
�s:�%���*R������w�L�ܥ.)I�L��O`�t9������	��|~���������{/��i�RP��y)��OAl@L���>�Y��(��P�@�.�ۍ��N�@��K�̈34��/�iPn���$2F�i���6�)͝h�$i�;���K/M��IH�b%3��D2Y�R'��d��0�b�s$�_T	�,i,29yl���������h,'3�Q;ٯ��ȯ����o<;�Ę�����~�0�~��S�&���fq���ѵ�M�Φ�]��w�/&AX61�$z�:#15�&h�  6�_����/��Sԡ��ʈXYm1�%w����Q;�~Ɉ3ו�~��$׈n�\�h�2�~�F�ƈ�F d�Q81���gPA�p�6
�8�8K�e
�'�H��2vbz;F�!�N&Z8�N"�=�U3�b�i�X� Q��3V�'�өd�i���\�0fH���{B�Ѭ�h�`c���öY�b��=�P �˅-����0�]��HG���{�� K#�&��m{�?�Q��[-��W������&���&�v%F�W�A�����v�Wp'��	�Q�B�1�7�{(��1��R`?��H!��4G�$����v��g�+}�Ba��"�NR+�`dN��'�
�Q�B�`z;8ˈ��97	�}���ܫX��!�~6v��$���r\)5�f��$�%<��䒹R�p�Gc��|����vT�iV�xoL9�5�c���
�`t�rAj���鴨�<E��;ieV��{��S1w��0��d�����!w�0}���f}?fژ���v��L�������$(����@�"�D�.Ls&8`����3��vH"ĉ���Lҿ��A�~��޺�����_PI,0�E�۟�(79!~2<M�_Ì�I����[�f��S��k\�7��H�R���Lɯ�v��u�8�?��9����ˈsF��&�;%r͈��I��;��2H�闠���e(��W�	�2taF-��X����x�B�k,����y��u�Bt��Nn��]�F2(A�d<WD%±PTx��	1ӄD�L�2�r	��$4C�R�s,�j0��8���:�A/��i�:�W�9��r$�/y�q,�-*d'ئɳ�����t)w��_����&�=|ȵ$$�r�C,���'�k�������؉��j���o����/�>$�P���(0�}�;X�BL�D7��0��rΞ@,��q�a�yD&���#,	�,z�N`��Nr�y������u��]���� �K�Bk�;{_�(��B���)��&�7zr�?�ا8�����ٓ���w� u�;�Y����7�4TUb�Kr���0G1�uP,�Ϩ&������줆��\�^���&�D�@2��~NMx=�x	 �1=E:��@�����GT;���_"�Oj}��u�A��d�Ұ��F����f�'X�2t|�}���f�˲�,nɒ�}�|l�m�O~��+~5�,8v���޹��{��ʲ�yK+�^�� ��,J��2��5q���ų�d1��Ő�#��g��y�z����e��>z:\��A��,ƴ���$h2��ƣb�5k�N��p��;�)	X��{h�$,��R�A����Լ;#�X�L�:��܂7k�-�g�4��_�78�K��b��
��>��cRZ#j���q�S���Z���>�f�(rz	�����s���腐w���荇Xn~�2�	V/�Q0�XC��ܽ\O'�rɯ�O� '�����	%�������ɵ`|]x!z��6�1څ��(�"<܍� o!m�[�r��d�2�.1X���H���w�QO>d�<�?��g9�{�`��vR>w�����rN�����x�sc�K��"�3��26)�N/wTbGOMw�a�1�ǉK��T�m%Lcb��P����@.0����ߠXmXO�c������	H@�l�.�x��2B���!�B�-[�Ճ�X�V,Y�r`��`f(���R��X�2��:.ȩ /�,X�=J��oF U��t"h�`�z���Q�TY�� ��욂U����B��Br0��`r£X������K�t#�ՠ-�	J���*\��� ���1R�P(�)�(HV!�Y$�e��&i���H ,����W�*$8��_�U�ó�kN�AF�q������l�Y9��~K��M�� /��t�:H�
�i�U4']���L��� "��_�=V8w_sZ2��1��Y��T�%K@HN @:G�x}r!I~%�O> C�0�0IaH��� �� 	H@��$ 	H@��$ 	H@��$ 	H@��$ 	H@��$ 	H@��$ 	H�p`b���=��b%`�>��\��U&[��,Iñ@b�ō��UK@�;^G�kA:u���w����:
�w���,��=�R�:����W^����ْ�[Zx9��0_^�?JV@��J,��+h���5=xU�hF��n,^��kYL>�ڬX���hV��m��ۢ�u�lI���x�2+U����X��T9�@a&�"`y=�b�;(��P->.^��[y;U�lYŗCXH��n��{1M	Y/�--�X�lI�fau_���_�2|�p�e��r�$ �ߋ ��l���g�ǂ��;mYx<�W�r^�����Ϙ<[jn�fK$V#��q$��y�!/Ŧ��	H@��:X�[���y��V,�kby|JD
��?�/X��u������)~�c��j�+��u�̙($$�pR��Kr˗/_�~}�W�Hl~���9׮]{����رc�WSet��U��2
��Y��bAJ�.^�8�&�(D.����Q���S��*޺R�t�f�k�$P�0�7����?�ׯ_�6m��|�ͼp���=IϞ=yG-oB�O2iҤ��z��n��kx��{VM�|������gڴiyv��ZT����Ѡ�6m�롇����vἁ����p�}��R��-����s�α:��!|p��c��T�AɌ.u�O�j�*�־}{0�K�L��١C��s�=���	-�AYá]�v@��7�t�LNZ&� ̝��ݸqc�_{�0!7$ �$��{�x㍼"��7��5k�g�ߠA�%�p|�F���c���ѣy�Z"���P���g��H;z.
��OժUysn��~Pz]zQ��8���9�V�Zcƌ�V��'����eʔ�m����w_TLp��{:��{�袋J�(�+���K1��Jhg�\�r�U��U%XO�����b+W�|��+U���N:��רQ��E�$����B�V�\�\)@ H��Y^�u��(��I���m.�bŊԟ��^Z��_% 	��*U��C�t�֍�cܸq$�V�^������b e��B|k�~[ફ��'�<��^�z�����8U�����_��M�_�j�r�)u����fA����)P"XUQɤZ1���+�9/��|��r�q@E�l�B�+V�7�H4ʢ�ӿ@R����?j����@���{�70�oW$��W���[�l�6��JzL�O<U�/HCe�����O>���>}� e����믣Ν��Y��Jm�-����2��_% 	�4oޜ^�x��$a�)�GF���Q�z/ʂ�"�}�Y�_c�ï�G�B�藠����@����Jg�����`Oԁ�f|�a?� �}�c19��i^ �/4u;�s�w�x��0*����
��k�@��T�gD%�w�uט~�۷�W^���eX��cŠ"qf�η�I�np-��x��w��;�sB��ݐ�$p뭷ҫ�/��D5��>�h�����޽{/@S0�&�&���%�� YaQ��=���?������g;#���#�t�A�����E%�y��<pp)R$��9�$���B	�z��O=��<���~A��^Cw��z�3bTB���^#"8W�$G���808��/��y��N7$ 	�I ���֭WS/SЛ�߆���Aa��w�b'w4EO��~��FnU�����s:"��~�3�/�]pd��1�y��,����{*�&���(Q��H�c'��d�СC�ʚ�ȣ ��/��@e�GN���Qd���ͩd�'~�ڞy�)�t�
�@�$v�t�DC�͞y晨Ê� /~!��g��~!K�A{TlS&���3��8�)s�Ҽ�?��G�ç�~�0ۘ����G}��=P�h�3r�Ȩ��OAV[L� 7�Q1!���?�#xĴ"51��;ɱ�
���;��9�gywJ@��@�_�N������疦~!q7G�����RN��K�����/��%�|Yg�u��\�_���#𘑷�/A�'�_���2�QC�� Lf�`UQ1tML��Nr��K65�Bّ��gwJ@	���s4�̯�>�1b�Q�X���
E�:�r�w�/w�y'6W:� i^`�#��d����a�Pd�yV���c�m1���A2 �D� �drH�
��|�'��K�$�٦A���X[���)�� ��#F0��:j�y�
�w�z�_�x�F��ㅼ�X|!��7�$�%H�b�NL3�N|e�&���:!Q9���4/ÄU1R��A���aÆڄ`V��7,:{�_1�Hf��/���)de���ʈXL���u�s�$�@�d��^�^�X�.Z�m	�XH^��d�F8�KR��Nr���@���g��`�͵Эu�ڕ�dB�1��f���Ԑ!=5���_��։q��L�����щ.M�m��$:Q�_�p�Lc�=sX[d�H�TT��~���G���A�2������I�a�+��!��V��#�� ��]�F�NL9w�wDt)��f��"{��W{3�o?�}L6d����4�_,M{���}p��Ƿ� �n3��\� �
�A52�� ��<�6K(�����+d[113���C��t��R �K�Ӽ@
��L�3ii���8Yg ��<�+#jn3A���*?�p0e=B��_�_В��	���*�+"���A�aÆ��	���C3:�j�Nr.S�&O"�S�be�*��@�TFF�w8n�T8��鲮��zV8A˰b$���2�'tM�E��4�_��\p�������/D��o_��.�,t�@����i�Ɍ?�n%�p:��d� �����s���r8�;ꌹ�\	�_|1�`r�T^,Q5��C�*K��&��|L��p�bY��kAuIG&���l�&�	x��;�u�;�1D��@��;�k�2~��G O�?8��t���+���;b��c��B&co���YP�#����h&ٱnIr	i��>,���C����9��/�u��	`����3���q�ߨ3kl��&2�����V$!:jbӡ�*��Ҽ��@�`��!�ṳ{��4��
s�]�t��$c����q�qu���ĝH[�=�Y�}f�E�Ût�].w�C>(n	�/y��sC�@H �/�xk�N��~�{	�m��<ãS�h�2�`Q/�}�HS���; �K��V�4�$�#��J3%^l�$C�	�x砇���(d�r$ ���@L��|^2f#p+�}�R���#��� ϙ���@�
�~}#1&V�b�b0�1MJ���2�I���dr&^�$��@��/� |�R-�%)+:o4%�B[�|6�[�}��{YC�e�K@� ��<X��D�)����Ec�	��Κ��Yv���]���LF�?����d	�|�t"0MO�2ܼ�\;qs^_�P<1;n���,^�Dr��_x�,�S�$ 	H@��$ 	H@��$ 	H@��$ 	H@��$ 	H@��$ 	H@��$ 	H@��$ 	H@��$ 	H@��$ 	H@��$ 	H@��$ 	H@��$ 	H@��$ 	H@��$ 	H@��$ 	H@��$ 	H@��$ 	H@��$���ĉG�1jԨ�+W&/ɯ�+�����$ ��@���kԨQ�f�)S���y�
�<�$ 	H`�"p��g�뮥J�;vlʚ�p�S[@��v,�SIޱ�Y[	H@HI�k׮M�4��5k֬߱p�S[@��$ 	H@��$ 	H@��$ 	H@��$ 	H@��$ 	H@��$ 	H@��$ 	H@��$ 	H@��$ 	H@��$ 	H@��$ 	H@��$ 	H@��$ 	H@��$ 	H���ϟ?eʔy��mܸ��B<P��$%�Zy��6lؽ{��K�Fr[��$�)L��~�駭[�.[�l�"E�6m���T��% 	H@�5k�>k���Y�fժU˗/_�D	��w�$ 	l�9s�ԩS�L�2�+W�]�v�nݮ���}��W��-T=V��p�piӦMϞ='N��nݺ;�C��!	H@�H`˖-�7o޺uk(G��pC���H@��E����$ ����%D�$ 	d���%�0%	H@!�K��	H@�"�Ka*J��B����$�E�,�T�$ 	��/!
7$ 	H��X�rԨQ�#������^�sN�=��#F�X�re�O���$P	�84hP1�aq��E��,Y��v�k���B�K��$ �`��:4N����\����=P��$ 	H@��$ 	H@��$ 	H@��$ 	H@��$ 	H@��$ 	H@��$ 	H@��$ 	H@��$ 	H@��$ 	H@��$ 	H@��$ 	H@��$ 	H@ ���gΜ9f̘>��7&O�0a�ҥ[�l)�(��$ 	�ΝۧO�f͚ծ]�Z�j��zj���۶m��G�^�ZJ��$ ����Q%�zh�2eN8�.�ଳ�:�����s��O?}����֭+�X��$ �BN��W^�P�����߲e�w�yg֬Ycǎ}�N>��%J4n�릐#��% 	H S�7oF��.]��K/%�=���/W�ܑG9iҤ�~�% 	H@)	lڴ�G��[����׬Y-OD�|��v�����ݖ�$ 	��O?�ԢE�f��՛1cF��x�$ 	H�8��y�N���'�t����#܏���?G��$P`�)mڴiԨ�g��[��̀V�\Y`�(	H@��_|q��瓙|����|뭷4hɒ%β����$ �m!�D��C����?���W_M��1���O0�[�z�$ 	H $�hѢG}�lٲhV�a���'7$ 	H@)	�'�ϲc�qTL�5�-ڵk�+V�e	H@�@H`���͛7gٱ!C��濬_���b�/2˖-qC��$�� ���5k��n]tk&3�28�e-�{�ʕ+/^�_�~k׮M)���$ �("�d#��M�6}饗�FZ2>1������3eʔ�[�Fq[��$������۵kW�z���޻dɒ䌡nXْ���e�o�R�$ 	H@V�y����nҒq�1���#���_���$ 	H`[�#�����۰a�>�m����$ 	H@��$ 	H@��$ 	H@��$ 	H@��$ 	H@��$ 	H@��$ 	H@��$ 	H@��$ 	H@��$ 	H@��$ 	H@��$ 	H@�@a �r��o��fR>�lڴ�0p�% 	H �Ǝ{��7_�ϧW�^+V����&	H@���k��V�|�8��SN9;���s�-[��0p�% 	H �����>���O<x�	������.p�I@($�t�R�l��/�|֬Y�䒽L	H@��m۶t��M�4�;w�op:O!	H@��@˖-��o�;���|ƍ��_|���mٲ��@�2% 	H ��5k��>�4jԨ}��M�6�[�n�z������{l̘1k׮��(	H@�� �e�=� S�R%R��;�Z�j�QV�dIt͈#֭[W8x���$�]�[�>�3�ԩӱcG�	s-�=��3'�|���δ��ӧoݺ5�'U�$ 	�����Z�2eJ�N�ׯ_�
P1�ڰa�N����$ �߆��ի�S�h�nݺ9���a�Y$ 	�d�A��#y�����+���˗�d���H@�@N	,]�t���ݻw�6mZl��?�P�Z�bŊ������9���% 	H`'#0g��`ŋ���ۿ���p��O?������<���'L���]��#	H@�&�By��:�2eʴjՊ�>��w�}�S�NU�T9�Cڴi�hѢ\WC���$���la�~ժU�S�\�O<��C�u�Q(�d�����W$	H@� �p��޽{�z�6lР���_�f�۷/љ\�N���$P�l޼�W�`��&�6K�jz/V��$ 	H@��$ 	H@��$ 	H@��$ 	H@��$ 	H@��$ 	H@��$ 	H@��$ 	H@��$ 	H@��$ 	H@��$ 	H@��$ 	H@( ޏ<cƌII?�V�*�d��$ ��L�W��n��⤟ɓ'��
3%�]��2%�f͚�͛����N��?�Q�F�_2ky	H@�� �c���_&|&L�p��w�.]�nݺ�~�m!���K@�@�L�:�f͚+V�߿?>�l�U�$ 	f+W�lѢE�2e�뮅f^�$ 	d� 6K�J��W�>nܸ͛7gQ��$ 	H��X�dɅ^X�T�'�|rŊ���.	H@�%лw����W�Vm�ĉ[�nͮp�I@�@�$�t���,Y�S�N˖-+��j	H@�:��3V�r��?��9/Yǫ@	H@�� 
�Y�f���7�0o޼�	����$ �� ��O.V�X�^�V�^�u�
��$ ��I`���8�9��cF��=�UK@���m۲ �9�Ê1���L	H@(��4iB��������'�Z��rA�~��ŋoժբE�r!_���$P8	t�������b���% 	H@��$ 	H@��$ 	H@��$ 	H@��$ 	H@��$ 	H@��$ 	H@��$ 	H@��$ 	H@��$ 	H@��$ 	H@��$ 	H@��$ 	H@���7n�5k�����3��[�v�֭[��Z	H@��̟?�o߾7�tӹ�[�z�ڵk7nܸgϞ.ܲe�w9VX���˗/衇*T�p�!�ԪU��K/�S�Nٲe;����/Z�h{��u��$ ��@�>}P.�ʕ����Ǐ�x��)S�t����C-]����׭[��]���$ �ߗ��M�.���%J4k�l޼yaeV�^͞�%K6i�$�?,��$ 	H 	��jժ)R䭷�Z�~}��A�*V��i3a�~�% 	H@)	L�6��c�E��6�O�<�裏�m��>���O)�Z@��
9�`���.o��f�~!W�jժ�4`��6rP^�$ 	dD��K������r�-s��'�0��cǎeʔA����cժU���$ 	Hॗ^"���~����={��I���R�^�R�J�:{���/�'��$�)��K��h��B�2�̍7�x�%�0��{�T��E�X�H-/	H@�~���r�i��u�Y�_~9α�'�)V��ȑ#C���$ 	H@`��9s�|���cǎ]�d��͛G�]�JfY�4�H��% 	H@`��q�X�2�$FBr�v혿ߨQ#"2���$ 	dJ���_�3v��Ϝ93���\XB�F����ǬY�&S����$ 	2䨣�"U�u�փf�e�~��֭{��6l��FD��$ ����Y��c��{ｏ8�O<�|��d,_s�5D^��@��H@�� �lٲ޽{����C�r�.]p�嗏$ 	H`	�>/�/�,�H��% 	H@��$ 	H@��$ 	H@��$ 	H@��$ 	H@��$ 	H@��$ 	H@��$ 	H@��$ 	H@��$ 	H@��$ 	H@��$ 	H@��$ 	H@��$ 	H@��$ 	H@��$ 	H@��$ 	H@��$ 	H@��$ 	H@��$ 	H@��$ 	H@��$ 	H@��$ 	H@��$ 	H@��$ 	H@��$ 	H@��$ 	H ��ϯ�
endstream
endobj
149 0 obj
15247
endobj
146 0 obj
<< /Length 147 0 R /Type /XObject /Subtype /Image /Width 518 /Height 428 /Interpolate
true /ColorSpace 159 0 R /Intent /Perceptual /SMask 160 0 R /BitsPerComponent
8 /Filter /FlateDecode >>
stream
x�	�U���UJ�W�PH^*d�M/*�����E��2?B��%SRJJq#�Y�f�������~��s����v��|���w�u�^�����oXk��~$ 	H@��$ 	H@��$ 	H@��$ 	H@��$ 	H@��$ 	H@��$ 	H@��$ 	H@��$ 	H@��$ 	H@��$ 	H@��$ ��H`���7oݱu��]��c��M۷o߸q�M�v�ܙ�O]�ٶs玝�6mٺa3����$���ly��oٲeÆ[�nUP$���~��׵s�~�퀱_�0jB�a_<;r��2�g�Þ۩\i��3^z��_}Ŋ�RaXI�j/�����˿~��q=�Y���]��鲺hz�߱c��ѣ�z�>���~+0�M������o߾K�.U)�a:�~��q=�}��ۻԲk�K.����Wt;��O��(`��iw�Gyd͚5322r����SWs����쏿�ylۻ�j���I;�m϶�v��ԩS�ԩs�a����k֬I\��ŋ��-Z�m۶�%s�m25c�PQ��g�}��W�f�Z�~}VҞg�uV���/�]��R"�Ñ��O���cG\���-_�����?�w�=~�u��Q����)�7>��K��N]��2Y��!7<���}�~�l�[`�,[��M�6�ӟn��ƅ&�E��C�l���_\�re��9�6��q���{w�uW�-N?�����_{�h����c��_M�ꫯu�Q��r�'�|�)�Lڞ����ϔ[<����VRgv������X�?�b�/�v>�/l��۩���:���,X�r�bB	�4`�������/~����?�Ì�x�ub�x���/;w�̔�P�Bm۶E�gZ8G'��y���@�z���/��&M�T�\��t��	��i'��dɒ�\s͂rԶ�]x�ȑO>��!C���Օ�+�#�;��شz�������݅��s��y�8�#�_'����֬�i����7�ِUh���'�ɳvъ_\�r��ߖ����5'y�V%��gn����?Ξ=�'+Ss����O?�Ľ�Xws�S�b˗/�J �y��͝;��ϛ7�9�� u5'ɍb��=(��F(�lÍ+�m��qC�\5g骹˨a��F�t�䌀b8��<���9s�0:	F<Ǝ�$6��^�zժU�
��F�1�a�3��!�_~��A�ŋ�޽;���2�]c03�W�^�j�*V�X�X�߯rZ3�-��eʔ���[Ǐ�s�Â:C�x��d��t�	'��aÆ'�Z���e�2e��O�Гo��&����������{p[��(u�㯕���y�?z�������<rhk\ʸ�Fw�Ǚ�ߊY��&�}᤟=���o_�԰�_�����OX�xU�����'=�����m߲m��y_>;r�-/�u��\��g=��m��mK�U�~�x�����;}��g�}��[n���+���=z,Y�$�sǤI�0~��nf27�|s�n���4^z��rc?�����{�Q?�sG�A�?���8Z�n}�M7=��#D3����l�Ǔ�|np���E�cG=3�}EiބL�5|���!m�r�s�>�ּ��6�.A�F0yΌ^�	& ��0���a\�r�>��`��{���W^!֏y�gz��s#1=�<y2�3yn����S�СCQ%Y��*T8餓���LˠV5jT�\�*U��;z��}��#��F�Q�H��]�"՛5k�"r�>�-[{%C/��g���?������l̈́����?�W�X@��'��E�>}��17n�����ܙ��0u�sD�<�ךw{���{Ukw��-��+]��I�9������`V�1�����x��-�9��Ǐ���1ףGV�]��2����ׂ��_�0��^�iE���c�r�W�߇����F�j�j���C|��W]uw2���[�R%��L���<�<���_��kԨ��9�C���c��f�}N׭[��s���i��v���M�n��;�h��d.z��gs]&x<\孷ފ�P��氧I0�����Udy��=P����
x��}/��ܧ�=�5����ܻp���c�%?�9��ǃ�*G�1"�s�x3���?�>q�Ĩ�Ƞ<����!�rꩧ2ܵkצ��������oC�<Ũ���?�;-��(�<�I :��<���O�\p~��ا���ʎ�w��I<�9�m�ݖ+!G5���-Zs�b;`�.]��O?��A}�;��!��}��=��"E��*U�IZ�������v��� �wРA$`���7u�c.�՟W���������,�G_�F��o������ޡ�V_<u�����A-߽��GNB�/�<�gF�D(qф�C�AE����П.�"@5�>��AW����;��~<���O�?���0a ��"@�0��+�d�1�߿����6���~�A!�y�QL��%J0%C���?��cp�˝w��1�%��lq������a����#=H{x��~�!������J2�s?�.�o��1�=A�����R��θ�o���2w|Ƣ�g���P޻wӏ�ț�g��H�3�8��7�|��uf���{�����q�w���2y�2e
^�K/���" ��������w���u�F��9s&��f��Ċ�����6�"f�~���)�O�l�����9��ە��7!#�i9�s�y�pφ@�L�yF(�^˪LP>�4B�k�?v+��iӦ�ў$0���c��pt�#���q+���Q����a)���US_mx����+�4�1�V��gkފk(����Q�V������>����_VF���MJ�-�c�Yxy�3��Q�����aÆ(��Vg��݊-��gP�V�m O����a���&F#��1��q2��q`) p����^w7� 0d�4B�����8������e����6h� �ݸn�$G���s�p��|0ؙ������6@�G]�p�r2�3�#p�"ܪV�jF��]��O<������LE�G<�1_%�3�4B�%Ԍ���L�2�aڏ.�K�z�}��ի��j94����%b\m1� �&��s1_�?�[&Xa���yr;a<f�+u��ᜌFشj���ٹ�y_<;b����*�}�u�M�9�����f������ s��Y$Ӓ$ː����^{1''&�կp���!s���h1&����y��������3�̴p����T��	e�y(D�X�V-F�(�
SWs�G9=�^#t|	u��i�/��_9$S�}B���'w\����^4,��R>y��<G`��Gq��'��T?h��ԗ�&!$j'2�hy�Q���5��A~~�P̮��N��{���3��L���L�'2A�Çg��E<V<_�m�3̇���oDL���:D\�������p���V1�c����ЪȜ��;��%�\�I���NpQ�JF#`�.�\��YF�jI"Bn �q)lY���	��΅�'����q�a�� �7���b�.�7a8c�EJ#7��3N$��|1��`���m�z�TL��o�C����E��X�j{�Ij|}d�E���a�Y��i�n��O⏓���Ir�p��"�<zQ�A�K(��
�F8��z�wp�G�"l�իW�0B\@4>��������s��6f��+���Ks�@nǔ��	j̙O<�l����2F|an����3��%G�/��
�yf�Dė�U1ǘ�2g�Tɦ�p�`��?:�g����_�'n�����K録���W�g�~Ɛ/�}ғ�lI��x����H�b*��J�L��s��, &�|�t�1�̸q�B�@� c$F#0��>0�y�pG3�b�H��N�FH]�1��џIj��7�@�Q��C�"��z�ߣ�A��<g
��!~ms�$�:�'?#EnX���7�`��L��"8�q�C��p7C�O��1-�5�|�6'��r;Zl7������a�
�IG���ą��b�SG�hV��M�#7j�eU2��3�@K2��u	��Ĺ�E�Kp���TSW8Gؓ���L��FؿE�F ��R�{���zTn����x�s԰�
�{8���*6f�4o�F@׭[���4g�:~$�k1!pzG5>b�8�_B�L�^{�5�4��RWsVO�|����i�lG0G��u��N^#�n�ab������-X���!��0���ne��Ht�K��Ks�@nG���q����s��5���q �x��';F�E�@cRXѯ���SV�r8�DeBB/Y�cǎ��CH]�����F�FwjBzR�׈�K�Z�W�W�� ��?������q��O�xH�'�8�1��裏bt1#Bv��� ;�hr�`S��Ic���/�P3z�D�P�`V���E�RWs��g�U~�َ`�8���5�]� >=�\dcT#����c����o��v�؋/�8��8��r;�dN�LP3V�te�o~��xR�)1�q�E@��"q1Yv�2iuL��X<"f�,L����h�s$u��K�� ����ų�"(�B��k��y~�fv�j7�P�����9�F`��#�AR%������1)�|�4�TըF@�c0qB�D�12�bl��՜�Q�)�Gh�q���kL2^td2GSR�2��7FT#0g �����6�>� 
����3ن8��J�{	�'>H ��?d��ba�y�B&Z88NP3�84�f�ê��o����>��X�ѯ�ǁ%`�Ӌ�1�S���F����38�8"�4�g��^�
��d4�� ��o��$-40
>�:�[�V/�}���k#�?\#0A�)�/�f�/�٧х|�O �e�]�]>��0HG�j�K�G1�1bD�ky�v��Q-��>FÑ��wo��_�!G��W���l�C�dH"G���;��-�����^p�'
%07	����c-L� �'��'Nf�I ���r��SZ�̜$ArE��LH��ō�	m����"}��Q���E��̚�]jM=̻X6�F��P���Ex�b�2�i�
gz�lO&���,S��Bm�m/��pʒ�sL�9�ѽO����_��Q4k���F�d���ǃ��9����s� ���<�ѹ
�"׈<����3$�A=l�A�m�7�%�6��Q��	�q�\&��&���f���g��&d�|r�oڠq����Z�FL
N���0[l���OSGH�k�#�9�1��)s ��$�1��'j=F#��ld��|�W��	2�`M">���&%�C�5�J$f�8�N��	?�t�p�#����Hѻ��{��0E���g/��sZ3��"��bXX��{�H�	�D�*�1��	�4��i�1YL�U�3<���K�L]�L/���$5	�,1`iң�_M���>�f�8x�z����b.�4�y�o�^x!�$#�ȯ��?�	�MA�J�iK��&����Ԉ����T˒XG�DӨ�����(���������c�'�s�����>�d��$��C#0����<�>�A%�A#�s�4"�(���6 �!d��3�ڊ�%n	S�X�F�ۡpc�eB��L�f�%�6��l񣃨g�i�!�����d���$-�I�D�d!d�b�h��Q3��)~o.M�+�� ���Dx�Y����D���x�m�  (J&�����'��qL�A�\�4�҅�̛��L#� �m��@{��O����woOش濖��]<��������7��4��v�,��A�\2�e������%)����6l�GVy�79�1O����t�X S���s�r8�50��2��=���d��UF)�p���f'���9I��};"�r�,?g� �io���E� 1��f&�����&?�9�LF~	� 1�\�A�I�A|��1��=��8�\��Q�0$���8RtCLD5�p!�"c�Pb�xk�3Fn�l����W*z�Q-7?��Xk����=ؽ��8���{�O�:�I��c�Bb�̻�K�c���c��h{�Uy2_`w}�Q%1���F�4�Fs����<�/�<É'<�'$����y�q�s�9I���6�@�s2\�Dfc��lǦd$
f$��c�I�䎊����L���Ѕ�W�}�1��I�I�r��I�C:�U�<�W�/����P|Re|y�H@ȇ�#0_%��NZ�� (@�(��$���veD���F�S�d��֑܎u��%�
OtGs'�*Ƶ�{������ ոD��f�����bCRn���v�y�I�`��C��Z�ݫ'�[�D ���a�<8������%v.�Ac��$ ��C�, ��؏@�Ied���C�Q.�[T�A
�jr���EL�#�N~��B��?Iѷdܱ��;8�eJ�U�V�@� ��O� Y��A�Bcx�ʜ��?�Z^c����1�1:(�	9�IĠ�Ф\q����?% 	�!�$d)��V&�D:�=����q����x8#�0�%��$ 	H@��$ 	H@��$ 	H@��$ 	H@��$ 	H@��$ 	H@���J,,��oد���hO~X����V�,7c�؄-�Ƥ�����$�+��6�G�?���+�QI���t�	O~�m�=<y1�믿��[1�Vͼŀײek�U
I�����E!l8̋G���;���^�6��m/�ʍWw�us̋`�?u_���2���ܺVn�̫�y'{֡�rw�����H@{D7[x�&5ރ�[�L���R�ɋ��$I�8�	�K���%YC��-�߰ܪ��B�2��SN�M�8���	H@��i�۵x����<`�&D6N�\��R�Q3�33��-Ŕ<�LK�܎�<kƽ�&��^�J�q���g$ ��A���m*�o����1o��������G<-x��3_!�ٰ��{���{Q�)~���4#�-�?�̙�����`4���Z�7�7k֌݌���:2+Q�;@4hP�x��ݻ'x�J�:���G�-���)��|���{�@n���&����xl�Q�A��%x�o%�5�Æˑ�.l��@�'0t�P�0�7 	�Kһt��<��o�US�L�����Ǜy�-ރ�ӧ?�쳷�rogK|��Q�r�>}x�x��{�3k���������m۶ŷ��#��o|��Ơr���yޥu�T�Z�}���%z��ӆ�=��+T�����QQp�����w�p�֭qd�w5D7y5<xy	;�Z �A���P�p�]�@�Ŕ7�t]&�^�7�RWsH���u� ���5B,H��@��h׮/$�ʧ^�zD��K�h��L �U�V��E��_�J&��)_�R����3��������V��[LY���D�QOЌc�9�_�s�9'N�6�g��]�ʕ�{�<�@�Bp�oܸqL�� �.���bŊ����J��4	}�b���5j����&���dn5�֭[��s�U�\\�>�WO�ud�w�A�;F#�"tb�*U�JO@�1Wy뭷0���SWs�*�٣�>��3�Ѯ��O	H`�%��T�RիWG��ݛ�}��ɤ֪U�٩S'&����>�"@r2߾�+�]�g�ۿ�_�5ZWû�����@N&�A3�8�F�1��.@���%�X.њ322�?_v�e��W72E���d�▉�!8^�^�hѷ�~;����O���-!�:� ;�A�mE�y�<0�o�"ۊA�@y=���WcV�z�(��@m(Y4��������8p �Q(�~�!�����
Ǹim�1�p��|��@ СC��>��ô?�-�/�@c6���uS �� �I>AP��~����!h-��Ĥ7��)t�ҥQ�f�
O�gʖ-�dd��5�m��b��3��B�Ӷ����93Q�B4���
��m��S��WD��ъ)�x��_��W^X��c)��p�.���^7<�/�+s�}���۲rͅ�=���D;vD#�De;�N<�D&��������F�3e%ܙd���A3�r�A����Gq��'������H#<��c�gT�>�h�Iv�=n�B�
E5iP$	�"�g3�3�<3��,F#��q:�m�@<���n���7	��J]�Q&�1n��>�y��4Oz 	�(nҤIt�J���	����:@S?M�~�"JR#��"'�C����𨣡��9ΑF |�{'Q�d����M8cZ��F�!��z�t�S(5Ό5*�^)O��H�F�<?�(�}�y��Q=��VK����%������_�U�1?�O	H`� h�xQ��«��y���nD4�E�%��$��$55L����L��S#0'2K�;�<�$;�駟������s̔���x��Ǚ�s�@ Vgƍ5��*Ȁ��@�ył>̴�;gAs�Qq����9�S�����fj�eZޓ���E ��)��593Ȣ�{��F -3E�Vh��.U4B�3f�T�x����nݺ�\U�F �TǏD�<F#a��F�SD�Á��g�嬼�r�ah�����3\rei���LxRأ	��g4�I�ȓ	�FD9�^�@`�6C�4�������oǮI&�d��G�x��%'�M�U���G�l.ΐ
�5"�6CSa���䩙�:�=�!�������3� ߀�HL�S��=)��c0v�X�WQ�EV�J]ᬮ�G�4~��Y_�� )�O����a�
����h"F��\:���od~�
�4�L�'�� �����,IA8�>���@��	������	���Tը����-@�-�&�>�)�ax�6���H��2v�:��b�N�2K �HM�"a>�G%�b�
'���U�pP��B0��/�^�z�}J�4FS$)0c��B#-d�LÉt�u�?wɴ��Lp�dq٧��C{�f�v�ʴ?�p�o���bb�4l-?d�8�JT#�\�?�� #F�7�@뱊�j)�V�ᚋ����?iv��H��x�/�	��l�%I2�hf�
�Mg��*�F`�-��7�x��-�ZV���r-v��6)I��5ǖ�����a<L2t�iV��8�4#Gq�aΌ�e�S����G�9,m������y;ɴ���Ѯ�Iv��d���J
��\7k���L��GMZ���':�裏�ΐ�ĻY����^g;x��>�P"�8��L˖-�����Ŏ C�D3RWs��9�D_�KWb����@�|�j΃���%Q�����kه���qHo��8d�Q��KR`���iӦ�Ƀ�EA#���sU/�����������N�L�0gp� u���RTc����B�d�9��9:E��^�%X�A� %"G�bS���R�څ3���K��I���jY�M_Pv�p��������J�5�ASD�j�A�
tZ�Č<��&�)�����Ĳ�l/����^zO,�b<d�0�e.J�����;?�FG�L���H�ľ`{��a�jV]1����.���4G�Y�h3���ub����Ʈq��DEC�M��%����ԃ�C��� (�ie��"(Lg�|�I�IZ)~v�9�#z�(O�l��-��f�E�)��(�4���S��9�
�� �������M ���� �Ì:�H�]�u�<-�@����m6"�3���VI� n�l��o�2b��l��4Q�/2L�M]�PbI>+衒����h=�@~ ��C�R�D(Sqf�,�Ʃ���NQ3��jqO.��\��'��m�@��G# iF���yX��K�R�#�@~2����d�4gb�%P 	��F`	��+�H����+���+�"��0�{C�l��+�[�$��$I�#qL<���U�k	��!�K`�w:D�_��+��5�2�X6,,]m{�h�~	$&@V!Qdc������A��e{���T{P/򬩸�ȃ����C���$ 	H@��$ 	H@��$ 	H@��$ 	H@��$ 	H@��$ 	H@��$ 	H@��$ 	H@��$ 	H@��$ 	H@��$ 	H@��$ 	H@��$ 	H@��$ 	H@��$ 	H@��$ 	H@��$ 	H@���tӦM;v����׭[�m_RW8�K[@��RM�C���~z�z�222��V�
g{iH@�@�	ԯ_�H�"�J��4iR��J]�l/m	H@H5��	�՜�nZ�$ 	dK�W�^mڴ�4w��?�p����$ 	H@��$ 	H@��$ 	H@��$ 	H@��$ 	H@��$ 	H@��$ 	H@��$ 	H@��$ 	H@��$ 	H@��$ 	H@��$ 	H@��$ 	H@��$P`,^�8##cѢE۶m+0��#��$�S(��z�e˖/���ʕ+s�s�K@���N s`�ҥ_~�e�Ν˗/_�P��mۢ��~�~	H@H��ƍ?��,��^�zժU�X�b�b���3��$ ��A`����5*W�\�*U4hлw��/���T#�����'����A�.]���7mڴ͛7�v�mj��ZR�@�!�s��;v�ڵ+�!D�$ �4'�FH���K@	�BH@Hsj�4��$ ���!D�$ �4'�FH���K@	�BH@Hsj�4��$ ���!D�$ ��"�w�Ǐ�4k֬x��6�۷opz�ر�֭K+,vV�@@Էh���ȇ-,
.\�d�#�<28�v�����]��$�V�����>����sg촺+�$ 	H@��$ 	H@��$ 	H@��$ 	H@��$ 	H@��$ 	H@��$ 	H@��$ 	H@��$ 	H@��$ 	H@��$ 	H@��$ 	H@��$ ��ؾ}��9s&N�8f�޳��߮Z�j�Ν)���K@�@~#�dɒ���k׮A�5j�8��3�7oޭ[7TÆ�[km�$ 	����5kz��q�QG�)S��Onڴiݺuy�r����ի��g�mٲ%E��Z	H@�WF�q�q����7�t���&M����/׮]�X�b7�x�/Y�W�ec$ 	���m��V�lٳ�:+##c׮]ᅞy�C=�jժӧOOz 	H@�@������w�yg�ڵ�n�9�c�)W���ɓ��=��$ �t#��SOa#h�vH���_	H@	̜9�aÆ%J������|�����$�V~������t�Ag�}6.#�*�U��$ 	@������-�k�Y�&�G7n��$ 	�l�/���u��,L�S��СCׯ_�n�$ 	l޼y��э7&����e�i�&�H@�@�@�2��N�P����_��m۶��+	H@�F�E� u�y����w�$ ��$��?6jԨt��;vdÊ���b�% 	�'�6�ԩ���r�c�=��hx������=�$�VfϞ�~��
:���8�v@��0�����+�$��.\إK��	>l�M&Rz����$ 	H@��$ 	H@��$ 	H@��$ 	H@��$ 	H@��$ 	H@��$ 	H@��$ 	H@��$ 	H@��$ 	H@��$ 	H@��$ 	H@��$���m�6gΜ�'�3f���S�N]�r�Ν;s�BV(	H@�� oR8p�7�РA�5j�y�͚5�ڵ+oO�E����M��r��������%��ʕ�Y�fӦM�֭{�1����g�}�'�|�+5s��UI@��^��J�*t�Aw�y��ѣ�Ν;iҤ�_~�v��Ŋ���X����M��r���;��eʔ��⋉#D�|ꩧ=���?~�����K@�@�$�}���}�v����O?ݸqc��D*V�x�GN�2%z�c	H@H+k׮��;p%�w�y�g�N���Y	H@ ��hѢ3f|���O>�d���	4c)���o�$ ��"�-ХK�V�ZթSg���C��[�.� �Y	H@��7�|s���wZ�lY�Q;v�8|��+V�N��C�@�`a¨Q�^y�G}�u�֤��t�IO?�4�������$ ����e�����ˣ�ׂ=.¯<��$ �I��1�d�3���N?�����k͚5��vJ��B����С��92f=-[������jժ�'H@�@�$@�^�z{��\�~�,X��w}�Q�*U��g���oڴ�@v�NI@�@� �crM<���m۾��~�!I�x�0�/�����صkW�'K@�@�$�z��|�V�Z%J�(Y�$�E(��c+T�I�}�M*��$ 	س��޻뮻H:�}�ڴk�������~K4AJ��$�np�z���dmݺUOQ�� �W��$ 	H@��$ 	H@��$ 	H@��$ 	H@��$ 	H@��$ 	H@��$ 	H@��$ 	H@��$ 	H@��$ 	H@��$ 	H@��$���m�6k֬�ӧ/^��㼼�ג�$ �|E`����ڵ�������;7�U�l�$ 	���lٲx��{��-�܂��g��B��$�lذ�[�n�{l�2e�-�F�?CcK$ 	�%��;w:�NhݺuÆ8� 5B^��Z��������u�Y&LhӦMɒ%��gtl�$ �<#�bŊ:T�V�_�~����M7ݤF�3�^H�@�!@�i�>}�;�N�:-Y��������	H@yI 7ѩ��ڬY3GD��!/�{-	H@�� 馗]vY͚5���͛7�R#�ѱ��� �?����߻w�U�V��U#�(<��$�&>��C�ɧ�r�k���Y�Ӽys�]t�E���ԩS7nܘ&@�$ ��%p�w�.]�bŊ�jժ��+W�H�"�˗�Q��u�]7w�ܴEd�% 	�	rM��b>�+Wf�r�*U0��E��	�)	H m	lڴi�ڵk�>�	�,�x�?��#�v�ؑ���$ �4'`d9�o �/	H $�FQx 	H �	����۷8p ��4Ga�% 	H@��$ 	H@��$ 	H@��$ 	H@��$ 	H@��$ 	H@��$ 	H@��$ 	H@��$ 	H@��$ 	H@��$ 	H@��$ 	H@��$ 	H ��[���)O��dɒ�۷�ֵ�G���3�I�&�|��f��߿��Q���g�$ 	�"�7�|�bŊ|�g�Q?���K/�Z�*/gU��$�o	��ӧB�
g�}��#���,^�X�Q�;&	H w	<���˗���K�Ν��5[�$ 	�Y�v�Z�L�6m�,\�p�j����$ ��%p�w�.]���o��ߟɓ'��7?��9H;w���kY�$ 	�g7�p�ЪU�nݺ�m۶I�&�w��W_��OL�8qӦM���M��r� �`���#�P�reҍ��׿�s�9d�,Y�0v��͛7���J���-�Ν;שS�Q�FݻwG��Z����?_�v�}�ݗe
�f�ڵkW�m���$ ��"�beAFFF�-0x��J�*���u��ܺ��H@��G`Æ,R(\�p�޽]������$�{X��"ш�E�!ļz��ݫ�_I@���B`�ʕÆ{��gΜ�6��_~�Q�FѢE��e˖=�G�S��v�����q��>��z��k׮}ꩧ;�c�9f�ԩ�W����$ �=� *��8�Cʕ+w��wM&�����ѣjժ�~x�.]�-[��ȦJ@��n�4`�r�j�X�p衇�z�իWG�p�	�|G�!�ݾ�?��$ �|N`�ҥ�رc˖-[�hq�עD�!����I@�@*�ر�W!`�s�vA*[�$ 	H@��$ 	H@��$ 	H@��$ 	H@��$ 	H@��$ 	H@��$ 	H@��$ 	H@��$ 	H@��$ 	H@��$ 	H@��$ 	H@6l�;w�W_}�駟N�8���l߾],��$�n/^��+��k���s��Ś��׿뮻ƌ��H7�W�@:�U�]�v�P�BժU�4iҬY��5k/^���;v�-[��}��$�>v��٣G�r�ʡ^~��3gΛ7o�����/_�|H�T�@:�?��g���?�����ׯQ>uЫW�e˖�'=��$ �L ����oذ�Y���$��u�V,��I�% 	H� ���J�(ѭ[�%K�,\��믿��O���Kl4B�]��$ ����-��K/4���ooܸq�5�9眛o���ڵkc���$ 	H��q��
jӦZ�A�W]uU�֭�ԩS�T��ի���&�ȡ�S��b�\�����ګbŊ�&MB���kt�e��,Y�^�z3f�صkW��S��
��˗�#B#�x��|�M4���R�JŊc	�;
X��$ 	�@�,*R�Ƚ�ދv�~K�B��y��	Q2K@(�Z�j�J�x��_��OQ�����'�X�zu�+�% 	H�@,7m�t�����X���N#���olܸ1�����$P 	|���lmW�lپ}��[�.���͛���w�G�x�/���
$;%	H@@�?��C�vX�Z��}�Y���n�>��Ij�N��[P��$�&X�|�}���X�|9�����ʌ����6����Ď����nkٲ�%�\5�4��"�	H@�I��"2�HCݶm[z����$ 	H@��$ 	H@��$ 	H@��$ 	H@��$ 	H@��$ 	H@��$ 	H@��$ 	H@��$ 	H@��$ 	H@��$ 	H@��$ 	�:^�3{���	?�ׯ���Z�$ 	�7�6m�ܹ�	?�}��oR�og{$ 	�:��7v�С~f��5k��g���j�\'o����D��Y����L�:����*S�L�&M~����l�#	H@yF`ƌ���;�裇�g)Ϯ�$ 	H _X�n�w�Q�\�N�:-]�4_���H@�@^�.�\�r�Z�&O��cǎ���ג�$ ��C`Ŋ͛7/U��3�<�f͚��0["	H@yL`��+V�Q�ƴi�v�ڕ�W�r��$�O�\��E�%K��ѣǪU��I�l�$ 	�=��C��_T�J�����5y��+J@�'P7�p�p�7.Z�(���fH@�@� Ѵv��E��߿���^Q���	�aÆ�2:���qS�'�b3$ 	�!�v�ʶ6d_�?�^T���	�6m�D���k,X�O�d3$ 	H�!ЬY�}�����^�l�� /*	H@��@Ϟ=1�{�=_��OF�fH@��$ 	H@��$ 	H@��$ 	H@��$ 	H@��$ 	H@��$ 	H@��$ 	H@��$ 	H@��$ 	H@��$ 	H@��$ 	H@��$ 	H@(�6o޼p��)S��;�����駟֮]�s���Y;%	H@Y�5�����-��Ҵi��O?�~��W_}u��ݧO��u�֬~�y	H@(`P�=�X�J��V�ڸq�k����/�U���|�e�M�4I�P�F��H@Ȋ��A�P�{�s�=��?�>��_>�������:uZ�tiV���$ 	$�ڵ+Y�d���Q�~����v�i��6cƌ�y�% 	H���GT�X�����_���O�>*T8ꨣ�N�=�$ 	T=�P�2e�)GޱcG��6\.Q�D�f�~����w�%	H@Q�}�¿r��;v0` ٧#G��ݻw�j�p�����ׯ���X��
0�iӦ�nݺT�Re˖E���wߚ5k8pݺu��vM���X��!p�UWU�^�nݺ���<�L��{�#�<BXy۶m��K@�@�$���7�|щ'�Ȫ��'Ι3g���$5i��C���,X�k׮�};%	H@!��+W6l�p�}�a��U���|���Y+]���ѣ]�%�$ �I`���E�7n\�!�R�ڵk*T��kF
���)	H@Q�F`=1c��Ӡ )F�Fx����QhK@(�X�V�N�"E��*!�B{ᣏ>bk�$�52�\ G�NI@�@�P._�|�*Uz���uj�|�Ͱa�H:bw�-Z�B-J�c	H@� �u�ܙ�Sv1"�M-�2�:`�;�	�l�R��o�$ 	H J`��������~�W\p��\r�u�]׫W��3g�/���X�@���D�7�PP�ɠ�M	H@��$ 	H@��$ 	H@��$ 	H@��$ 	H@��$ 	H@��$ 	H@��$ 	H@��$ 	H@��$ 	H@��$ 	H@��$ 	H@�@^��s�����?��Ӊ'�&�M�6�Ƅ�l�ג�$ �?���ŋt�M75nܸV�Z4��������7w����7�H@�@�����<�oU>����9看/��Q�F�˗?��#�u�lٲ�i�W��$ �?����Q�z����?eʔ�˗gdd<���GqD�2e��y��?��6@��RM`���͛7/V��7ܰhѢ�r6l�Lɒ%۴i=�@��
,�5j*T��w�ݲeK�wÇ?��1�N�=�$ 	H3g�����F �(&���wߝx�{��g�}�U�Da�$ 	�9�%K�`#��^��N��@&j�j��j�С[�nMsPv_�@�'@�Y�f�ڷo�p��p��w�^�\94B߾}ׯ__�Q�A	H@x��WI4�P��O<A�Ѽy�O��b���;�T�R8�^y�5���$ �t �r��;��@*�B�v�.��"֩�s�=�+WF#�5J���>J@���/(���:�nݺ�^z).�iӦb(Z��q�Bo��$ 	H��`_����O�0aҤI+V�رc�_|Q�jU֩�J*�ݷ���$ �M�<�m�	E��>����Ynժ�AI@�@:x뭷��z�s��	�C��?=���K�.�7nL�Q��F�y�	'�VԹs�#F�Tm���M�4)[�l˖-�D$	H@iB��~c_��N:�D��{쩧�Z�bE�Q���J"�҄�ݔ�$ �Z�j�����������O�D"�,	H@HC�b�+rx!�vA��]��$ 	H@��$ 	H@��$ 	H@��$ 	H@��$ 	H@��$ 	H@��$ 	H@��$ 	H@��$ 	H@��$ 	H@��$ 	H@��$ 	H@��$ 	H@HO�JR��
endstream
endobj
147 0 obj
17978
endobj
154 0 obj
<< /Length 155 0 R /Type /XObject /Subtype /Image /Width 488 /Height 282 /ColorSpace
/DeviceGray /Interpolate true /BitsPerComponent 8 /Filter /FlateDecode >>
stream
x��1    ��g/�@a��0`��0`��0`��0`��0`��0`��0`��0`��0`��0`��0`��0`��0`��0`��0`��0`��0`��0`��0`��0`��0`��0`��0`��0`��0`��0`��0`��0`��0`��0`��0`��0`��0`��0`��0`��0`��0`��0`��0`��0`��0`��0`��0`��0`��0`��0`��0`��0`��0`��0`��0`��0`��0`��0`��0`��0`��0`��0`��0`��0`��0`��0`��0`��0`��0`��0`�������
endstream
endobj
155 0 obj
624
endobj
157 0 obj
<< /Length 158 0 R /Type /XObject /Subtype /Image /Width 544 /Height 310 /ColorSpace
/DeviceGray /Interpolate true /BitsPerComponent 8 /Filter /FlateDecode >>
stream
x��    ��o7�@a��0`��0`��0`��0`��0`��0`��0`��0`��0`��0`��0`��0`��0`��0`��0`��0`��0`��0`��0`��0`��0`��0`��0`��0`��0`��0`��0`��0`��0`��0`��0`��0`��0`��0`��0`��0`��0`��0`��0`��0`��0`��0`��0`��0`��0`��0`��0`��0`��0`��0`��0`��0`��0`��0`��0`��0`��0`��0`��0`��0`��0`��0`��0`��0`��0`��0`��0`��0`��0`��0`��0`��0`��0`��0`��0`��0`��0`��0`��0`��0`��0`���3S�
endstream
endobj
158 0 obj
759
endobj
160 0 obj
<< /Length 161 0 R /Type /XObject /Subtype /Image /Width 518 /Height 428 /ColorSpace
/DeviceGray /Interpolate true /BitsPerComponent 8 /Filter /FlateDecode >>
stream
x��1    ��g	O�@a��0`��0`��0`��0`��0`��0`��0`��0`��0`��0`��0`��0`��0`��0`��0`��0`��0`��0`��0`��0`��0`��0`��0`��0`��0`��0`��0`��0`��0`��0`��0`��0`��0`��0`��0`��0`��0`��0`��0`��0`��0`��0`��0`��0`��0`��0`��0`��0`��0`��0`��0`��0`��0`��0`��0`��0`��0`��0`��0`��0`��0`��0`��0`��0`��0`��0`��0`��0`��0`��0`��0`��0`��0`��0`��0`��0`��0`��0`��0`��0`��0`��0`��0`��0`��0`��0`��0`��0`��0`��0`��0`��0`��0`��0`��0`��0`��0`��0`��0`��0`��0`��0`��0`��0`��0`��0`��0`��{` �{
endstream
endobj
161 0 obj
990
endobj
162 0 obj
<< /Length 163 0 R /N 3 /Alternate /DeviceRGB /Filter /FlateDecode >>
stream
x���K�@ǿ����E��!S]��֡"���BiMi[�iC�b���@�I'�G''�Ap�� 8T�H���Sq���}�{��{wp5%]��hU�(,��յu�ӂ>�1��$��d>�%�>���=�Y���������}��s0;_�s�W�*j]�!�.k��ND����8�k���*���q��/�E�],Θ�TH� �H�a�q���rYR�'K,85�b��%��p���ߢU�N{����e���f"2�CQ�%7�&�H��=c�T6�$��ʧk��0UC��rD���X����1�v?�񧞶}L} �=M�n怀��&Ψ�O�vE�ɉG+�q���oN�mΗ�,�<�@�Ȳ�/,�{I�[�]���k}
endstream
endobj
163 0 obj
383
endobj
159 0 obj
[ /ICCBased 162 0 R ]
endobj
164 0 obj
<< /Length 165 0 R /N 3 /Alternate /DeviceRGB /Filter /FlateDecode >>
stream
x���K�@ǿ����E��!S]��֡"���BiMi[�iC�b���@�I'�G''�Ap�� 8T�H���Sq���}�{��{wp5%]��hU�(,��յu�ӂ>�1��$��d>�%�>���=�Y���������}��s0;_�s�W�*j]�!�.k��ND����8�k���*���q��/�E�],Θ�TH� �H�a�q���rYR�'K,85�b��%��p���ߢU�N{����e���f"2�CQ�%7�&�H��=c�T6�$��ʧk��0UC��rD���X����1�v?�񧞶}L} �=M�n怀��&Ψ�O�vE�ɉG+�q���oN�mΗ�,�<�@�Ȳ�/,�{I�[�]���k}
endstream
endobj
165 0 obj
383
endobj
153 0 obj
[ /ICCBased 164 0 R ]
endobj
166 0 obj
<< /Length 167 0 R /N 3 /Alternate /DeviceRGB /Filter /FlateDecode >>
stream
x���K�@ǿ����E��!S]��֡"���BiMi[�iC�b���@�I'�G''�Ap�� 8T�H���Sq���}�{��{wp5%]��hU�(,��յu�ӂ>�1��$��d>�%�>���=�Y���������}��s0;_�s�W�*j]�!�.k��ND����8�k���*���q��/�E�],Θ�TH� �H�a�q���rYR�'K,85�b��%��p���ߢU�N{����e���f"2�CQ�%7�&�H��=c�T6�$��ʧk��0UC��rD���X����1�v?�񧞶}L} �=M�n怀��&Ψ�O�vE�ɉG+�q���oN�mΗ�,�<�@�Ȳ�/,�{I�[�]���k}
endstream
endobj
167 0 obj
383
endobj
156 0 obj
[ /ICCBased 166 0 R ]
endobj
152 0 obj
<< /Length 168 0 R /FunctionType 0 /BitsPerSample 8 /Size [ 1365 ] /Domain
[ 0 1 ] /Range [ 0 1 0 1 0 1 ] /Filter /FlateDecode >>
stream
x���W�p  ������{m�ݵ���23��V�pA�e����>�X������*�S�zdE�'%E���ʒle�&K���K�$Y+	���$����9Qr9Q;9gs�ڧsQ- ϧ�kV��A~�j~����	/��	�1'�I~��팧W�x�OM9��)�>ˑZ��g�ꐝ2��〙9N �L��)��L]�����^�Ƭk�����.�x�Ҍ�A�'����ѤM��P��&�9�=l�c-�"�ݲn��A�447��U��=UX��=N�L�8�HVq}'�Yq,c�K������>�#��aa�|o�����\w�,:X1��<�Mwp����R,նO����'�8���qm�/�b�}��[��u��[�FZ�����f�7�0�?�P�!�7А�s���q�w������޶��O�ǵ�#r\S.W�����8��*��G�}�X�}���_��[�y�gI����}/B������ 96
�oy�_��\�k�~���\]�5��gk��3�=��^F�k���.JW+�ҕ�S�R�d���}��.YV'���%�o��7��7q�N���wL�cE��vL�:Z ~-#�W�/#y�H~��rn����<gν�����g�����YV�yzf�<q�8�yJ�O-�������`�x�z�|�$	|�8	��{lH���	$�w��������Ql�(v���Ql�w5�����@/�
endstream
endobj
168 0 obj
744
endobj
170 0 obj
<< /Length 171 0 R /Filter /FlateDecode >>
stream
x��K�d�u�y��3H�n�,U�{� �cCB`��"�%*`�y	!��@��q~l�w�}�N}���GXuv�˺�w�}�������ԝ�'�;���r��t9.s7����/���}����?��7?t����X�_�����7����_w_u�k�]溟-|k���z�O�}0�e}�2^��������|�������?���ز.��<��>����m��_}u>u?|��&�G�7!����4\���C?��S����2�ˁp~�������x��y��~�u�G[��i쇮��ǵ?w�qǓ��t>㒑s?̧�0��c?Lk�����`���8�v����-�~9��yz��08i<��1|��8M��Q��o����x<�ҍ�y�eA�p<O�ˎ��د������g�4����8��l䁐obՍ�#�/Cw��㸌=��_Ⱦ;�ӑ��n��2�r&��iZ����qY�3�ͧ�b����|\畔��0�,�����Ә��+m����cOwkw��<����3�>#�az���4��	s8���u�x�8���/�<_�޺�i^gf�Os.���:c�Ds�3ϗuD�qZO���|��ˌ�#�`@3���͡G���6,7�ǋ�;wu0},�&�y.�q�����v8a�Y~"��L��_Nt��/���q�D�_ț��c'F���@��n�D\k�{9��2������3!��rZ���6/��/̣�F����d��M<�<˪�������س��<�n�Ǣ&:�9e��x�,ǅ?�@�Z;J��	#O=O<�M���!���
Y��	3��<���:�+�N�����9���N�b�nt;<1�����8t���"��4	9|�|�p��Q/�:p���5j^V�E�ۜ�|\VF}��	bo����0��]Oy̍J�a�m��1�w^/�)��1�c�.�B駵gw�39���Q@�7|b��7qF1��	v^�/'QIȰ�#��E���q���A�>^�1��0I0n6��xu�sz�+B!�.������|��'��m��*_�G��lw�ڣ�ć^8E� U��U#�lη.sp� r����b�"��]��`�Q��4�2E�S�cIS�����/be\V��M��"���-+N#։q�(2���&BY&�:{�n?E/�̗x/�ISj�N�3"Ü�:��8�\�R��q�7C�0s�i=f��)�e�!���X���4+��yF�@Oәw���Ӂ�	Hb��6r����a�Ӕ�+O�0�ſJb��Y�fM(�_z^极zr�bۘY<\؏�!y�b�Y�-�c�����V�g���D�3w�)��u���U��n�A.�(�x�aXm��6"�ĵ7����H����u�19�g���>��*$��y*�P��?8��:�������'��J��ǥ�@3s�4��Q�:Qxt^I+�_W�5�y����<0��e�d
�q����brm^����v��|�{>>.���m��{"��.t�� �S���pI6o�J�v^t?���E�j2�%);氢#&��T �6RM��[�NN�5P49���^1����b��%�
��������hR	�3�����S�A9Jn� ��r��5��m�z&��$2qdb���8�l���:���bY�r5�F.�.ǁ���C���98׉"(/�\�2��s�0�
��)�'�ɲ����t����C����a$v#�
��M}����$\^�L<:/a�O���\���ɺ� �7|]��\�bIL
K<�BF���V�� �cIuc'�k��<�_�炕��a*I���6!2S6��!M�Ub�n�����u X/�	xUF
�%���	P��<�1{)�K u,13h�\��"%��d`J���!>4�&_V��o��EF w?�¶��E�Q���va�����;�)����O���y�b)��!�2Hؖ1i�.�;ȟ"c|����c2�Ғ�1��
=3;ZSըt|�J01���/���U}6DyD�e����5�����,���9�̧�(�]PM��̊":��P�du�����"�Ć`?A�x���Ȥ�24�	u�(x:�V�r�eL^!�e$B����B91a/��P��>��`�~�
蒝��(�?q.@��*D�����e����q�$�g��U]����ԋn%d\�����R��Q��В!�d�R���W{���W6Q�sEЄ��#'\Jd�nY�b�7���\��'��B��=w�NJ�0Y|�N�)���5w|�Js 0t
��e�;jC��!�a��dT.נ���pp�UA}�X+��X��L�NQm��خ�<�~QSrj�t>�� A�u��~�r�OR@J��z$s����Ƙ�,<�F��q��Hp�Z��d%���їL~�F%��<���%}Ɂ�KO`��2M `���6w}.�SA��bk��)���%(��E��B٢����3�診��X��tē�ԓb׈�Γ
��u'�V��:�-�M�	aŲ�ށ��ғCab��>�C%���9�Vã�3z[Ty��& �}Qe�������"� e�C�K/13�A(���3,����V�f4⇌�9���/�U%D�8��Ġ�x� �5!0$.!iВj)hA�_�Q9�S���*��6�����{|�oz|}z|�F��SUJ0�/��Ő0�.��.�P @ =����!fѓ���I!l�B�p
��YXf�"q��	��}*��28Sl/��Ip^�w�H�[�����i��U�7Đ�	 h~�!�	C�I��:A�����$dY<f��� Wra�i�p�T;�׼�V����j�Ƥ7��ή#%��mS� X�g������:�EA���b佈�X�+�4"QX�$N�	#��F8��&\<�ڃE��sT�˰�3`�'�Ʈ�T�C��Y-��*��n����%��HY�e_�TT	i����f�V�
�uP��.�u���?!Qdp���ۺãݟ��F��3������;l~�<b�Z�Ƀ#X�A(S#���D�I6e>�R��8a��B����ϙ���D	�N�\��y=��TQ��6V;^ν ��$��Gƙ?�����A҅��Tuem�*��'v%$�p�`�e�8��3kb�t�l�^�Dza9U�t��%��$�o�F��f)(�,��#�*��W��)�gM;��U&��B�`�Tcs��Zu�K�|���r��� ����_m؅��eq(��/x��SPAm���) �l���c)i�pA#�_v"Ri�8�Dj���*,�����A�,E�h�p����\����E�A�)'�_�E���(d}��I�2�=�I��͙����?p(B�9IN�4s��� Z��0� q�:�G(��Qd�.A���rX��ĸM�MX,-�HQ�"H�;��"�Q�*6��Ϻ�F4�(P]i�z}v�� "S�
K���
�DmX�͎!; ZQ)�,c�:�+���\��kԧ|M`�g�>-("���f�O1i-̀.�(U��)�kӱL-'��N
��uD�,G��@{�:Q �p�R_'�2d#R�1~ PZ����5�{�'"�Ձ'�D��m6�nrn���mL-G��Q'�j ��N� �W�)�"��Y�@*9:��ͮ�hc4�������0��aq.�"E`1����Q9M6�h*��4N�Fw�K)�7�I��l�D�7i�0h����b>���<�s��|��\Ҹ�,��z����������ۀH���8�%�����n#��J��a)�/*.e�F��X'�c�b��Mw�����X�O�4��-�[�Y1�&��0&>�rs���U�r��6�� �����^w�@#�cm�������Ĕܩa)��o��i�>HH�ȝ�q�%�%���
jh�=\G�v��/G�����g�z]�Y��,V�I��dĿQȦAP��Yl�R�t�+#�,wB1��nan�����[d3Ua�ͱ�Xµ�7���S�]�����Hv !�!kL3���3����a�A'Ddʝ4��\Z������J7O�����V&Q6uj>�L.L�j,7KFrr��2+�J.e�Б�K�#�RB��n�Y��:�	!�o�	�u"�D���E��&�ş.�&�,��H�8�)��%k�p2F''dq��_ �z>��&��LJ�-l�F�eFw#Bunz�:���^%�W_���r�����əh��e�^Do�J��_Jc�R�x�q��b�� (����c˱�u�W�g��P��Wď 4=+Pͺ�i�_�V�T�����oΥ��\��^���dn� =C*B�J ���±��M����8��,�@��U=�YOfL�Fr�Y�/����\J&�Z� C�Vw+J>.�~��2"\�������2����6�#l6�~r縤����$���KW@B}Z�F���(��OaV�^
��ҫH���t6r��0�K�-��ވ�#K4d+7c��<i�Ҁʡ�D���I �[p�w	QU��	H$"��i�B�1��=U#S	�� ��Boj�d�tf��!jr� W+`���K�H �S G޲pԵ�Is�wpl��M�kp�����&�2HH��F���X<�:�Jxo7�������{�[U�)ܢ�̭ �r�*�L�X0��II���C�y��|)qZ��Z#m��������T�v��m'$T��QqxD�u4�:���Pa�������0%"��pFM�ӥ,���7Q	��&~�W�<��)�K7�����:�C�	J��H9H��+Fi�-:3)�'�5�D\�`pn���YUX.�YK���Y�d.�dTo�ࢍ���ĺ������Y�)��n����r�/I$���'��M�"�r{��u���\R���FM\�ي�k�^�P/^@�a��,.���L9 /E��RBA!C�PG��]�p���4d�썍���&k�=��Ff%���,W\u���ns��K4�lrށA��8^��F��t%��7-�B�m�;`�m��$|��������I�9q@A%�: �!2��w����%�H�!YTF��J'&���-�o�U���.�u�lL�/����R�$u]Oc���R�K��'CPqe@���Ȣ���h�vq.����P�ԑ;�x�/�ڈ$��A����Z�1f��|z�ҥɧ�ϕ�K1LV̙�W�m���ʑ�rٌ'+��(��ՠ��ܑ^es�D�Kۛ�����ײ���Y���^gV������7�&��� %C�N�[������s�!�t���r��,�\�"�zTeD�K�)�J-�YJ��J��`�~�H�FHZB�c ۘ�z]ؾ�ٜ�6wL-�e��
	�1g�N�]���H�4��
��j�*�K��cDC�/��9�c��mlc��U*��攑���D�e��"��"��JXI^�%��4��pn��H�a �uY��f@������riQ�������3���Ѭ���ݧ�Y�ëQ^x��ϋd�>G�T��O���s/E�9_�>�]�߻W�����O�����O��!��}mޫ/���_������_v��s�T?e���'��
�.��2Ds]�琾{xL����u����R"�^��o��}{��$�ȶQ��(�"���(9<���EJK���W�y��������8g��S�x��G���Ӣ��^��{c�������_w�u(�Nݫ����L��K?���}}���p��~��SL	m��o˂����C�i�����l���?���V2o��P��n�M��N
�se���*�������	�CJs�I��/Y�#��5)F�7�|S$C>���B�s���6�2�n�|[��h+l��۔M=;��a��fo7"�Lj*�ݶ]ڮo��bo�J�7a�o$�]���W�痝�B��?oT}���",�F���JL�K�;b��;b�ڋ��k����E���v\k;�할��:ySr�X���I���W�é��:�W�X�~����M�ޜmO��B������W��~)ՠ�A"�~�@����wΣP=��~]T����]ڀ|rs�[�~�6R{*��r���jo�%8����r�.���r[���c�׋f���
~Y#��"���+���G|�s���뗛��"���M8`�}�'���T��<�W+��xp�oE���=4DL����9�NLW@�g�X���Gq�}��&1	_�ë7�ӣ.���/��b��O�E�����[Ob{۩<�)m��[[����~�Ý+!���m�zntԃ����*5�MoG���ݍ�$�+_�����]=�����^$�QI�i�UMt���f���훤|�EV���mm�=�ݛ��i"����x�~k��-���i��?��-+<yWvr��~�˫��Y5�%t��J�Bm�	-N$j���:B	���+�O&^}A|��W��*J߅����qo�me=EcB=�ڲ�\ޓU�ד���d�mU7��+)���uy��Vi��m�!�Ѳ?���u��X�U7������▨ٟ�ߵ2s'���ovLA�-B��t#yS�����N��U�uצ��K��Re�f��3ڌ����nz� �������'�Yqމ��HL�W���8��~�ϊ?՚������k*E�igl{�W��/��Dc�����sW���mtT��fg{K��ko�^{��L��\�+̥���U>"�����ګ.������Ȩ��?9�:26��Ъ�n1D#�K������Tgs3h����o�{�O�[mձ�e}��Śj4��!fW���Y��d0gEs1�=�������֧���(D�H�?UB��տ�	w]�Q��#�u�Է�L�=v��ac���x�ͪ��t��&����+bjJ���F���V��ySv��������0�k�Zs��Lg�!����O��������/hf�:���w�e�c�m� I��X;������ImO,�A�'b"����<ܯ��i���ݙ?���;����d���G;9�O���[#�2Z���j�����t�?�_�'YD�d���0�X��Ձn�>����VZ��!f��f�� j�����Ʈ^8��8��
Ż�b�!`2S�cv~`�����!$J�>�{?�p�����O���K�f����m�R��?�M�:Rg�� 3��J�FPƿ,)���|4�aΤv����R��rG<o�^�{J�5�(��oA��N#Ò�J�}��.k��N��h����<|�����{Ǥ�ͅ�J��Vœ���[�氣�kee�*���wI�梡4W�)mn��=5z�)���Kh ܣ�J�ve���vy�m�3���Qr�~a����طm��sۡq����t/��T�4A�d�(�Vl���}9��f�=yX����om�FO�Rf���U�O��	������<T�G[ϩ��W���،|� �Գ5�n����1���m�!�}H}5�S�����c���M�e����Ϫو�M��QcA�Ր?k��d�)���M�[ܶ�8L|��7�rM�l��ۦk�8p,�vlGo��%Z�xW�=�w�����¯ڗ�`��A��j{��}����o�O�X��}��&��K2���;wL4�:����F��rm���ow[}�Q�H,��|�u��yo�T�����Կ�(D�F�yT&k�������7BI�Uxjw�t����|�ձ�;k��JXR��h�2�XDe۩���j����ޟ�6Z�I=��+�ӳ��&��������V��_��vR�GD�OoQ���B.V��o^p��~^��B��N �*T9y�MA�|����D�Μ��&Ea�m�Û��7B�I;0be�gn��C��l�����t;S\�T=�>z��=����� �=��ہ�kF�W4�nrx^�7�f��gWbx��cE�O9��1,(.dxoH��[K �4��+`���̹=uء��>����Wu]�����Q�
��-8��Cg�!��P��?VB>I���ɟ�E��b`�2ո��%	'�3Xgo�~WFݧ	����*�%� �_��.���#^����r�^Vy��wsM�*���Qy)��<�_�?�CA�=�e�O��s���?v����q�DTO�-�� ���8����{˭�M�	�ƞ�!�)��n�w"�SK�8�Ӎ�釿�}����4\�c�]y/K��o^PT��y��S�v��5/�=!�{;�u-e�D_����?��PJ/���W�k[��ߒ���r<g��}�X�艺~k�jZ�6�O
��!c'�0���T{}���]�� ���	��|}�<��l_�yA����x�a��r���V�#|V��zs�&��4P|�y�>U�E|Z��짥�6*h�ӛ�?y`���R��w���~���>����s�W�_���!��D"!R��8A�����c�X���܂�j`c�uV�����������!��~�H����|m���6�����	k����?�z��|}��M$I6�Eo��"�4��p�c�~O4�D�~�IF���Ϋ��i^�۪X���~zj�vV�ꎰ�آ���Cѝ����+�Q7�*/�mn#�-���Վ{@��ڤdCg�81�;rim}�+�ڠ��*�J���i���'��a{�����~���;S{>�(8�n�&�.��e�R�2�����pA�g?��m��={���v����[��W�`�Y�W���գ�b�?��[��o�}ȿ�����C����d?�������j����Oş_EW̍N�w9Ÿ���5�`5S|�	b��J��:�y(珼�}�CJ*����4�C��G���WԑV���֏����%ΐ�D�,��A�8��2xMs������_yj��$�gD驁O�̠7�2���_$��o��J5cm~K�h����/\2��
endstream
endobj
171 0 obj
8958
endobj
169 0 obj
<< /Type /Page /Parent 140 0 R /Resources 172 0 R /Contents 170 0 R /MediaBox
[0 0 960 540] >>
endobj
172 0 obj
<< /ProcSet [ /PDF /Text /ImageB /ImageC /ImageI ] /ColorSpace << /Cs1 8 0 R
>> /ExtGState << /Gs1 11 0 R /Gs2 12 0 R >> /Font << /TT1 10 0 R /TT2 175 0 R
>> /XObject << /Im13 176 0 R >> /Shading << /Sh10 174 0 R >> >>
endobj
174 0 obj
<< /ColorSpace 13 0 R /ShadingType 2 /Coords [ 6096000 0 6096000 6858000 ]
/Domain [ 0 1 ] /Extend [ false false ] /Function 178 0 R >>
endobj
176 0 obj
<< /Length 177 0 R /Type /XObject /Subtype /Image /Width 326 /Height 186 /Interpolate
true /ColorSpace 179 0 R /Intent /Perceptual /SMask 180 0 R /BitsPerComponent
8 /Filter /FlateDecode >>
stream
x��w�<E�?�G�9gŬ(0� ��.&�(�"�Y@@DAPDTT�WP��b��}
�����z�홝�ݝݳ�|{�8�ޞ�����TWW�����iO�@�@�@�@�@�@�@�@�@���$���ih��(��.�Jc�I�I���$h�Kh��K����$���@��^�@C�^�֗&���6������h��4	4D�9�$��$��#����7���I�/���W_��/}ij����������;��nG�'?���,��}�c#%	��}�{����~���;F�(���|��׽���?�y�X{��%�G=ꑏ|�NusÈ� �[�����=������|�XE�=�񏇣|>��1���fE����cj�������g�%'|�������C���&lb$�O��SY;#[\_���_�D)��}�{r��N�ڥ�?�Ϙ�������w���@�u�F������p�E�W���+^�^�x�;߹t�L�k��泟�,��\D�#�8Bɇ?����o����1�����G<��y�s������JIf��d��ЇR��
��u�dM?���_e�K^v�e)�*��G?�L��_���w��{����,�?����k��0����g��[��֊<�	A�AzЫ^���/�����Ӟ���>�yE���r�-��E�[���׼�5�����}�Fw�]DtO}�Su���y�3�q�{�;��g=km<���3-��sK��W�%=��������
�Z���q�^���^����:��o~�%#
of��� �I�w4�A6��?���}�|��L�l��_��W/�����s����C��ʢ�����M~pK\���ӟ23����w�}w����;�+_���>�9@�����-�PΗ��e2|�ӟ�����ϖ�af��~Qѝ���ed����"��o�����2�L��p���ԧ�e/{YrE��z׻���V��Y~�6���?6��s���>�����f��7�A_��WV,Pj��x$p�'V������xU��9�#ɲ�S㙺��O~b�S
$��k���,���=._u
?�	O�)�{������.���"Z����h�(6�_G}t�ƈ��f��a����}-����G?�Q���$����0)x�:��SS�A�]q�M7%ͥ���w-��s�U`u[��h�Qwil{[�i�#�C�P�	��S�l �D��*�K�����7��h3�%/y��_��@7��^�"z$Y��^���:�v�_z�_�0FM&�#y�<�v-�O|��bk�*����=�k��{���D���'=�B_���Ѷ؁�T����W��'?W鰵���>����R�E�ʿ4y�3�(��N;�y�{���e�E� ��NM0��P��E4U���(�[�5j�����(_m8]!�_���O�N8���++�����۷/���ɼ����wf�/8L*5��Z����g�8ы�5�c���y���4g,O0bX�l�wh�u'$@��cy>���wi��	D��������?��h>�!�:����������d��c�����oڛa���t>�y�u���=�y���T�,�-��f�g�����x*�oQj�w��_��0�oJ0�J�|Mo%Lr+HY`c�
ѩ0C,��,��$̕��नg�R{X 5��O��կ~���峚���8�l�|
��<��2ч~8�9�RMe]�	���?��M�S�e�W�[}L��#:��$���1���+���⊊;�����W���ô�Vn���u{K���'K���[����,��b�%ךS!�ǆ:�08��̱B�Z[���3Co3���ǖ��-�1��CS�}�_<����^�l�|Gc�Z��������'9��|eݷss�vaG9��?-�Y,*
c��D����!����y�gzkC��vd�!���e2Ye�X W�K�-�u�D������.���,�O��]џ���"�'���/:N����FA�f����5�d�4�� 3���|o� ��A���Z�n�V~��V���h�V��Sd+�{L�ցh;&��:��袋�e�W������m9�'q���C�����.���(/�-���� ��������*���&����/��%Ȏ��� Z��vz1���BIpdz�Uà�Qc�����c�rL���N����D�lo�p:[�};>�׿��m���_eV���Xtlu�T�#<>vVVwr��W��jo��At�H���p������vd�y_%t���+V�'�a�{	�cf~��0�_�җ��)Oy
��%}�9��[����M��X�)c��x.X��Mni��Tw}�����Z�����X\h��<7+�O����m\�0��P���n�L�ܘL��S�_36� �lђ��È���R�mif�$�4J��w~��y���r���j�`�Z�d��,��%Ȏ���@�1�8O�#QQ�X�c��d�"�`�7�
�2x)��/��6���m�U騣��g���;(���r��G?�ιm���b��s������<'���du�4��d�Wp!�]D���K��뮋L��mcl����\�lh!>��È6(F���TD��L'�y��7>cu�ץ�6��!�!��'��ɫ�,)Z4���ʓ�⧿�H�����hW���$x�GV=�0����������)���a]��x�|�Ú%�ݢɛZ��r@���K����J([D���[z�@���I'�}a{����I���aq
���G�A��4����Iq�Lr����[��ܼ�sg��o�$]�7�Bk��|_ԗ-�EntܧDF�R���M�9��ڊ����^��&�"y��Qdq�L�=�_4�C�Q��k.�F�H�q�X���\�@,���:[9���e�߸�U��O+c��U�&Y����Z6D>�O��5>�0K�:�75�b� �)%�|���-t:R��9�-�t�x�ɭT��g��{��I��:�#�$�D ի����}9`ޚ$�ia�p82��{0����B�|��bbMd�ʬf<������@y��=��x_��?��6�fd�Xs��?%}E7Vn�E)�X�!�+�Y��f�4{�b���@�贝b�!z�$��ݓ�#�O^n5�@�'c#�$�%h�ޒ�hl4	L"���I�؈4	l���d M�H�!z16"M["���-��F��$h��D��H���H�!zK���$0��'c#�$�%h�ޒ�hl4	L"���I�؈4	l���d M�H�!z16"M["���-��F��$h��D��H���H�!zK���$0��'c#��\L侣%*�*h��W.Fs%ژ�禸[o�uLT�wͺ`m��=����`y{������-L�ۘ{��=؅rB��e��$ǭ��o�/CA���-�WV��v��t��;s�JA��S�K��sn�:׌�a{Y��̥��݉��U������`wcӛA������uos���ֽd���U�ޘ�>Rd� �9�U���ХqO{����(E����|�a�����!6��#�8B�Y�;˒;�^b�(@�2�_��e���ppwD[��f�^���Cu�z�� J{L�~��!�Zh����h��=�}���� k!yj(�6�
1��׋��RbqO�۵���)]a��Y��5h�`5.v��C�Ul��N�Zb�\|MԔ;��:�,Ə8!����N�v�v7�蒽�1��I�&W�1[ڲ����'����X{ߖ�%�h2f�,DG8u{���#̺`<�P�!���:��W7��(9�lې�?sb�)��фc��s�[Zb$E��ԹD&D� /���W_-����RU�������O-@�p	K��(���t�ۺ]D��"�S�褥�e����,!�݂h
<������w�TД��6!�m!#d�փhӍ�9+�2���)^�`���W ���P^}�ދ�Y�[��8f��a��ۅ$�+-�P�mC{��:�-���߻��9"qh��O=�T��A�`����`��eo���Z������"z`��ʍ��@Ze��1͵2��ZD����yr�e��:ܝ�oa*Ln!��V`ZD����#�
4	n���{paW�����P�x|j���Ǐ�h_B����?h��/�
�|�|�Ϙ�������3�=	Cq��v���e�ʜќ`H���e/{����ؘۯ�
�Me�ڷ
�h}�d��6F��^_p�t�=����s5[54�g�*D�u!�Y}�Kg|�HD��h��'�xb0ӍK;��,)"dP�ꪫ2s 1!�/��R�ş�,��y_��Wx�(�Z}���_�V����^��܅^#"�y��^���a����Y��v�B�&p>�p(A������M1�|��섈N&�;NfYD����ɷ�D"z�����v�$_╈���x��p T}���w���o?��@��%(,ZeQD��J�����c�6W��;���U��u �Az�;�����o��^d�y�
�x�粳J����,4iYkV�
ъ�/^���F�J�� ��aV-�v�u'�)_g��]��)��7�ݷݜu � *L�?���mZ٢%'��x�c[f.��:�\#�0�\�
���u�]��{��ޗ��ǽ�cC�XZi�FJ`3���#���O|~iŉ��'��Il�ƹ�Y���g�����j&�U������#��%"�Җ�q�9S�WJZ�1�֨~��s�{^/�}	��8��@�=�ܘҾ6	�r���bF>?��#����+;�҅���h��ߗ.��%u��lη7���y+0FCt�4��kv�� X����G6���a���8���ElNhh֢`'�!U�iTg�{��e� �{y�|ʮ	i0F��OzK�t�4W�^E���)U�k�*����ΤҐ������j����Xy���^+A|�d�������,�Z��9�s�F����۷:�F���~�h��ɖ�4`x�"�ٴ�&VK[eg������fB��T��v:�'���R�|F9�Ƥz�W(�n��-o9����
���-gx�D�A9��e����:��=���Xk+��^��~�h��k��߂�Ԉs�O��N���ݼ�gDo^ڭ�&�uK�!z�n��6)���MJ���$�n	4D�[~��&%��Ii����-���uK��oؤ�7)��V���%��n	7�M��@C�&���jX���-�F�I`�h�ޤ�[[M�@C��%��7	lRћ�vk�I`�h�^���&�MJ�!z��nm-'w���ۮG#���1R���w���!!��pY���w��w#���1�����	y����׌'/�w�����׬T�w�}�냢�D��L�)�vэۧ]譺�3������!�&��x�M���V�#>�M�
3�Z�|���^`�Z�׼�5q��[�����~E(�m�?�T�O����4����šox�LU&	ҕ��������ʜ���K_���	'��o]�We
s��ed�+�a�6�ݨ+�\rIE*
�ewx^�kD�%����k6Mθ*�M��W�վ�z7�۹�rA=7�6�w[o�	G���b������o��e�5��5�q���w��9�A���Gqġ�z�!�D4dC#�1u]^b�\��3��7�yߵ�/��J��9�!(��t��+�.�w�׀qK!��������r�)�#s���DJ��Y�Q�/
PYb��r�ᇗU,�2]�:M�e?����A)�����n�w\h'��N�>��x�}UEw%{5���9眓�@'��Z���f]�q���̲��(?�,/�fQ�~%K~�ӟ�#�E�GU"��9�%%�C�� bo[�/�C�R�MF�ا?��%��!��e&���Gn.�Y�����"�I�.�IrB��:����[0��	��g�ݓ�+2W��S6���[��Z^��h+�k�U
�p��|E,�������*A:�`L6�Dn����qk�)C\E�:+uY��@�]p����6+��,i{L���.�lx�¾Ʋ8I��
���@�����/�Lkw��ꫯ��Ԕu����"��_�"��Ic��h�^�i��D�������,��p�p9UɁ�\R��R�T�Ö�0�3�{���Jt�H&zWHt�J�<�ـ/�o��:+fF�-�g�gd��b���q�B��"F�46�� ������"��?�����6c���.��X������׽����<��;f�ޥ��Q�ZMI��w��M����;����N������v��>�j��ڥa"�+�o�ȱs	��_~�%��U*DS�F�A�>�hYR:�rze���jwUwU���fD[gc	cy�.�e:։��ϲ��b���lWs��x����7�i�y���/���'���+����o�X��v�x�㵯}m�%^U����:^U����9��̎ߏ���ҽ
�n:�����vz50j��SNx�YO�> ��*����1k������܋he,pv��H̶�]� ����vacЎs��'�Se��r>�i����w�����X�MQ<���0몫�*+�,�o<ض��m�`9�̶�Q+���d�H��j��O��]}��@��\�`��a���/��V��?P/ї��J��<aIiW�t�.-���ap�Q�]rb����8����,h�X�B	�8I^��T��.�����]B#��P�,�m��'�t��7�M�؃�IY�Jۀ(��*K~��Mk9��f뎔nV0r��>�ۖtg٨m��36n�{�{���eV�����N;M�<�:��c�k�Ny&%�B��eb5����c��|-2o
��3����^{��`�띋Hv���\s�u*�����V�F-?�(<�d�r�-�oL��Dt���
�z�YgU��W�_����v5@U}��Y!zrX�X���8�[":,������(�gU�r9�o���p�:٥V���oK8�jE�j7z饗b�	���?�|o���Ogve�2�ŭ����\Yl|�J$4�.���ɒ��3��~��(˱�6}9�5t��$��v�綷Dt�ͼ*]F�w��>�̣����̱�������L-�V"�3���b�V�`����h�)f-�c<����#�Y�5�einN���!�^Cb.��@�h2���s�SJ/$sO�h ϭ7�~I��K	l�l'�#�x�#OU�4XV�`���V4�0ǻ��<>�#K�[B/�B��g�xv\{��G'��Y}�W������"k4Ϗ̖�%��p��(���-Oդ����:\=�{�7t����D��9>�Ի�����6*c���L"M��U���{F<���?!6^q��Z�����e{�CLCVy��b�*�1D��K�$�0^�5��ZyT��������,��袋r�|-B�7ɲ���YL�	���We1	j_������K�MN�L�K��S2�?���#����z� ����a��=a������~��h��$�H�����ˏ��� �_	F+�Y;��T{�%��EU6��I�F����_3��u�]LYG]<H�ce�h�9gq�җ���m��_0��E���IxC�'.f�ee.A0q\N��d��]��VE*�[�en.'#�W�=<��TŘ=���7ٽJg!zˇ���L�k�B�����g��n�x��>p�@[{����	��SO��Lxr�o���z:%��ͅ�46V�mfr{xk��p,,�枽y�|&$>L���.8|�����a���.�@C����3��mQ�8����[��V~�$��m#��iXEѫH��m�6	4Doۈ4~�V�@C�*�ku��M��6"��&�U$����Z�&�m�@C���H�I`	4D�"�V�I`�$��m#��iXEѫH��m�6	4Doۈ4~�V�@C�*�ku��M��6"��&�U$����Z�&�m���#�5D.�s��N�m�ة��v�Jn����[��R�刎�O������_f�+�\��[f�����3](�j���4����q{^JU�jh��V�ݟF��,])��X�۹����ܕ�C���|��p��#��9���p��k�C�k��-3�=���Y��_� 
R�s<�X�@x�ᘳf�+�{�|v)�H��$t� ��a#����BZ��&�)	���W7���������21 BzǅYzt@�Vq{'fz��Z�<b�
�3\loie�W|�;	#(F9�� �;��q-����������شG��cL���D�S��?��G[��!tZ֊�譃]���D�q���g]�w����7/�g��bo�"|�,Do��YM�ꅱ�~�Y%ם�}��]�5��̔ȧר6+t?�g�"5Y ����x����X�" ��ϙ+���:�^��-�d�{��*�s�9?=��� :�2
����<y������+3#�`M�g��,&�2�p�on�֐��M��`��ŢV��^D�d ��Y�uW���Hd�Hh��;���W�z�嗻0|��]Ѯ�׺袌�	�)�l��A���?��l�Bt�;(ʘ�f��TEEw�O�
xEGaҬ˶��dz�h�Zvet�a��d������f��0�͖J5yU�<R��fW�����<��<���K�f��D�S�z�.:��c�.�*.�MN�.}�G��\�]�>PƐ�y�������G�	o'z]�8ԝt>U����e񤒲i w�}wX�oL!{�ԁ�P�hV����|""�VL����&��.��Y%�c�9�^]]D�U&�e�$2Ł%�����g3���U��]�zC)���o7������b%:��C�����B���i��V{�}�C��( ΁A9�|���1�9�f��!�RF�ѐu3g`��v�#6Ѝ�&�	�]���M�FI����OuD\�Iy�}C�պKPS%M��M������]j�)���;#%�+H�mqʺ�#5�-�S�r̱eV�#�{M�G�2X[.ڵ{˦7��}���ަy�iޡ^DG/�X�a$���u�r'{*M W�,G̊Y���	?�����0��33�������U�2�1k�h>�pgX���|���t�熟A��X&�7	�B��S��Q����b8�L>�ؒ��t�	�*l/R��Ȭ �U�#��xA߈s2����߁�G�"���0�O �r���Q&:�vwM����5j·]����J	�e29(��=�H�	ZF�5I��j�	 ���αf��K�TLW��c ;���<��կ� �zU��1�������I���k��{����1�7k$ ��EE�� ���%Fw�j�8� �S�bes��`�w{R����3*ʳ�����X �^b�xҨ���Kǖ3�`@1/��%#�B4��́άg��6���g�Y���ce	�wO.��HDWr7��.�LJ�&_ũ������*-���Vg��m%-�	�}-@�O&� :�Uꮬn�Ze؛��{!I�޷�d:C����c;<���uP}�V�*���e�X�T�lwk��I7ے.9�mZ@��a?�/�hM�<Y�g�U!����<�"�P~��0,��^P 8�T}�z8�і��K��66kK �i�ƢlzV���wT�E
R(7[`����̎~�:�vꡀumWs�mZQ`��-�J���2�p���馬��r��Q��d �s�w3g���Mɧ]�5*�0��Dy>#¤�թ
�>bᱡg=���,�o���Zn�,����ebD�L(7�,�G:B�/�h�0�ڞ�RGe[�l�-:��.6��8����(C�ע�d�t�;�h�Z�k��O�<�q�HjP��h�EBŉ#��n�m�֭��,����v�_]0����#ϬYW!z��U^��:�A�'6؛u@9	�5���[u���,�h�b0��@���C絖��8p��k���T�Q%�>b>V�ޏ�@��4[4ߖ��V_��	�:Kwq�ӄ)������������%��c�B����҉��e�� ����^;�b�%d�j}3�f$�3�-��	%s�i����L�,3��p1�,���f�0!I��@4&-+�2 8�r����)�|
6?���cb�)�`�t��\~/��
h�Y8�K��#���j+&�Z��>tĆ�y��\"q���۳h!�t�Eֱc�"�p� ��_&�H�-Wt+��F�����gR��&Րp���c$�.�U̕�4��R���I��l��-4f���8��M��y2m�m��.��������,5SWu;�8�RK:�%�����Y��G�Dh���	a������K<��F��Up�~��*�w�y�0��,X:9��y��gIBX��I�pt�9k��=K.�0�4��eb	"Y�k+�� >i!�)r��Y�ɝ2��Ŝ)���"A3��X����y�]w�HA�_i|ݪ$��Q7���龣����M�?�o�iev��%���U�˟�At�P��$�r��bo�2���~��c_��/fI��c�B袿� f(����öQ�(9�� �Ҡ�z�`���馛�@�5��W�&��j�
?g�yf����1E0��._(K{ �Y�����$!@���V���O��X뇍�
�+��	A0���Į�@YEZg���"H)�tU,~r��I���E��Gfr,���t�gg�������9�U��q�����a���^�i}3�����M0p3����خ��h�e;e7'O������H��	6 {�U�S���[����.?�md�x䪤b�އ�`X�Z�';�t�XV!R֥g���/�EX�W;�����j]�6.��d嶪
��'�P�cZ���p��l�|���$��Z�&�upѷ�:��h��!�=FJ�ya�Q�g�fQ��e�'����xޘ6�����%�ݕI˩$`����|�ʊ?�Ԏbv�+6�+�7D�a�q&9M���ˀ��m3�]�ב���6�M;%��蝒|k�I`h�^�T�&���@C�NI���$�	4D�C��f��NI�!z�$��mX���!�F�I`�$��S�o�6	�C��j��$�Sh��)ɷv��!���uH��l�)	4D��[�M�@C�:��h6	��wJ��&�uH`?G��~�(r�H��V��(�m�Bm�u]�$LϬ;r��:��K\�p�xw�N������ļ�$fF��ݒ.�Y�F�$�B]�q�~�n��,�=��_q��G+�e	q	���3�z����~��]n����mA:����͝��K�u�����5�4WX��Ӭ(QC�[�~6�cw+.��B��z���b\�z�I'-����WޜL�FpE6_��ʹr����s�wz5��2�����?Y��$3P~c�Ɔ��zeb��t�kE]KE�9�d(x����v�{q�3KȽ��Q�T�-�s��쭾D&��c����i,\�+���NRe	q���*�wz��\r�2�g�;s�:^��|�X>pm�f��8n._u��_��c�I���$n@��h�����t���«�����\��2=�J�S��W��K?uٍٜ���������{�ȋ�3TJ��[�#j��(쑰��K�A�˙q"~DyO�{�#��u�}e{�jk��A=���CV(��t�����6�{ȣ���8u�R�pǹ�UP�_GU��3��|����}U�p�$�#��һ�r&"
9^�Yݦe���nQq1����k ѓ���$?�Qr3¢�H�u��W+��n:�9p!y�hVU0�X�SznO#���@UTJ�T�i �U}@,��@x%���I��:S����S�l��1s�i�^��"��nB�V�r<Ƌ����2g<��PJ�0�8�"��>��OeVe0b9�zR,#�uE��M&#�����Tz����0F���B{�&��n��c�9�⒊�����]D�KkE7ˀV�<�=��K��J��o+DGĖ�Y�()�I�*S�g�R�Gf���f�xU�n�h�i.�G�e��$�s���U#j����w�ɿu��+�r�w�?_U	ѢC��c[xI|��AU��?�#��ۈ=1�h@�"^d5b �˸��X"vv�4�V7�dR�b����Mu��P�rb\J�{}��<��4�iU��ًh�M�o*c��p��R�ǴU!���<��u18��}��ň0��d���/�Nyܷ�L'���������s�(Y�>�i�5�hp�L�^c�i��,D�NH��N((*���*�ۏGt��@�Ob��^�E:n��~^��#�s�'�����":+��� �+b��sK3F ��('��*X�j]s�T�dvg|��h�吡��&,I�0i��_���]��������rîH�08Y����=,���>�0j"��Xͥ���������iN]�Ь���X~w���ɄL����iM��O��ѱ.���DG\lCP)Ovo�^�`��2�������?Ѭ���=���K��(�(��Wݒ�S!���:8��%�����q����,Ƃ}���?\V���E��(�{�,Gݹ�^�l ��X��@z�1(V�.'�a^2��o���B����-M��6�FGLX�pY8,Ƣҫ�@t��4A��8�ND�U�Ѩ�"���%�X:�&��S�-��q�hMEV8Ψ��}tš�9�#9j'U1;ι@ގ�Ӟ�Q�Sȥ��@��A��ޜD�T(�Y�}��b�Kyn�,DҪ]g�]
�s�� "�,֍h�@�ˉ@�sv����u����9��m�I�:]�ل]^�S>�#3��X��M�����k�Y�ߊr�Spg^�n��V%p����1��TIA�/��%�N�h	������bX,�ݷcrf!:�D*( �V���W�i�z]����Tr�}�������!\v�F�U�ٺ���n�m��͒s%�����blT�e��Uh{f�zr�Z�]���g84��O���s�h+&a�\�<��㕬�K����%�N���
���.ٖSV��6�W#N�h�OǠT�h��w^U�>�Sd�L�ܞ��2�C4:ᚳU7��U"z���Qq�-b��eǧ+D�Ⱥ��pI'�c{ms;�����,K��� :<*ض(g��i���=�$�y��q���UV���U�҈^�초v�����	��*�M�h��	C�����k"q`F��
�ΩeZU}~�n��_ю���8��!MhE��/?�V���+�v�>�ȉ=��"Z�\yK;-75A ���Z/��f��B���S�裏��) ���^�C�Cڱ�����4��O�<I-~�Ki��'��]�5�A6	y��`���Q�^U�<:֔��pX�h:����p��gɑ	�ͅ��6��D芰�y�x-�@̍��e1��E!����x��
�Lt��.W�(����b��r�lJá(�K�6�`K��u�]�;���oJ�F�;��y��g�=loCf���v �}��%��B��D��%�E�w:n��h�Z�{.���(�<���o]B>Y�L �}I� K"e��������2���s?|�e_�����D�|o�>�f�݄��%��rv�D��)O����O7������+�wD�h��$}�zw�QG�0���,$.�ń��E�"���(�;�˴�M���X�R0 tK� e���$�3�8#�b�۔闶�E�/aa�O�i}3������[ƛybeq��T��S���t����~Y~dzMdG��Ř��Ȝ��̭MX>��Y�V@1��~��Ek�	C�c���3����K�Vn�������V6��1��2�/�Do?�CV�5���Ӆ��1R����'t�����Zv�&9���;�����D�VS�i�.���]	����At<7�xc�p��q	4D��l?8L��q��%����6D޺��%����um?�@C�~8��{X�{xp[��C	4D޺��%P"�������������!���-�
endstream
endobj
177 0 obj
14167
endobj
180 0 obj
<< /Length 181 0 R /Type /XObject /Subtype /Image /Width 326 /Height 186 /ColorSpace
/DeviceGray /Interpolate true /BitsPerComponent 8 /Filter /FlateDecode >>
stream
x��    ����(0`��0`��0`��0`��0`��0`��0`��0`��0`��0`��0`��0`��0`��0`��0`��0`��0`��0`��0`��0`��0`��0`��0`��0`��0`��0`��0`��0`��0`���� ����
endstream
endobj
181 0 obj
288
endobj
182 0 obj
<< /Length 183 0 R /N 3 /Alternate /DeviceRGB /Filter /FlateDecode >>
stream
x���K�@ǿ����E��!S]��֡"���BiMi[�iC�b���@�I'�G''�Ap�� 8T�H���Sq���}�{��{wp5%]��hU�(,��յu�ӂ>�1��$��d>�%�>���=�Y���������}��s0;_�s�W�*j]�!�.k��ND����8�k���*���q��/�E�],Θ�TH� �H�a�q���rYR�'K,85�b��%��p���ߢU�N{����e���f"2�CQ�%7�&�H��=c�T6�$��ʧk��0UC��rD���X����1�v?�񧞶}L} �=M�n怀��&Ψ�O�vE�ɉG+�q���oN�mΗ�,�<�@�Ȳ�/,�{I�[�]���k}
endstream
endobj
183 0 obj
383
endobj
179 0 obj
[ /ICCBased 182 0 R ]
endobj
178 0 obj
<< /Length 184 0 R /FunctionType 0 /BitsPerSample 8 /Size [ 1365 ] /Domain
[ 0 1 ] /Range [ 0 1 0 1 0 1 ] /Filter /FlateDecode >>
stream
x���W�p  ������{m�ݵ���23��V�pA�e����>�X������*�S�zdE�'%E���ʒle�&K���K�$Y+	���$����9Qr9Q;9gs�ڧsQ- ϧ�kV��A~�j~����	/��	�1'�I~��팧W�x�OM9��)�>ˑZ��g�ꐝ2��〙9N �L��)��L]�����^�Ƭk�����.�x�Ҍ�A�'����ѤM��P��&�9�=l�c-�"�ݲn��A�447��U��=UX��=N�L�8�HVq}'�Yq,c�K������>�#��aa�|o�����\w�,:X1��<�Mwp����R,նO����'�8���qm�/�b�}��[��u��[�FZ�����f�7�0�?�P�!�7А�s���q�w������޶��O�ǵ�#r\S.W�����8��*��G�}�X�}���_��[�y�gI����}/B������ 96
�oy�_��\�k�~���\]�5��gk��3�=��^F�k���.JW+�ҕ�S�R�d���}��.YV'���%�o��7��7q�N���wL�cE��vL�:Z ~-#�W�/#y�H~��rn����<gν�����g�����YV�yzf�<q�8�yJ�O-�������`�x�z�|�$	|�8	��{lH���	$�w��������Ql�(v���Ql�w5�����@/�
endstream
endobj
184 0 obj
744
endobj
186 0 obj
<< /Length 187 0 R /Filter /FlateDecode >>
stream
x�ˎ%�q���e�N�bU��^�6-�Kv^X^�Z=d=3��W �ah��ϯ�T�Kߨ�@��9ٕ��q�������E�u?��0�i��~�b������������c?�o��߾�=���/ǋݟ-�տ)�Ub^�%�T��q��Ȳ'#��K(�����?��ps��o~����p����Ғ�8E���t��������j���_!X����E	�0-�[����:ꓟ�}�P��?E[_~�Ӱ�>�����QX��Ϯ�W?,���a�~d����|��4�8.��ava�oz7����wSbd�y��%ݜ�prT��ɏ��G�3�0���c�7��&?�.��q�SJ��)���h�0/�����f=��nA%���92r���F�񗽟�_]?E?��g�癿��~�a@G�nH��aB�RG$�)���㼲�66M��ܞ�@)����0z-4-���n���-���]�:Od�Y#|�Ю�R�$f�p�sM̛��PoB�uX}�k?3oc�&�h+Ϭ4x�<Ɩ��Ў�u�3�e�Ü��9�c�@��M7#�K�;�9�s���컰1z�͢��}�.�8�s���$x����9L(�s���:�|�n��W��؈Sr�݀Ċ��u-��4SJq��O#n�r�:.2ӌ5�n!��W��y�#�<΄
��H�!A���²�s@7�}�9����P�n��c26'2��wn�ݚ�D<b9(f�1jp<�:"��_f�#�y��xa"���a��)��;3�,�0��/�X&�A4����h�.��C?8�{�dš���� �Ӹ	�Nq	'[�u��ӂw����2i���u.���2��_����n�Ի���6�
�iY�)��#�b늻`�q��;�9"��M�: ��1���F�f�3��I�2�J@���T�2��G������a��@�0����O��Z���vI)��n�Y\*��Kh��#��/f�ChY�@����aN��фW#:O|K"0���4/���b��`D�Z3�4c�^���m�&PpӅ���� є������pR�������)7�� k�=�s�]\$��^�'�MRSُ2�h� P�8)�p)/�v(/�4z	̰L]DyD��Lp�]�i��7g)^D,�)"��Na"��"��C� 	lq%`����@�<��96�7"��8M�7ބD�;�8�`݌�A=yC�)"�����K#��c6����VYkA��v��	m'b�mɑ�oIa�Y�x�.������ڹ���@G�]�!��{�?ʵ�J^9x��
�,plJ��#_�J� ��.�8��x��n֡��\{�r�H�*8�"l����f8�tx'��Mڒ��
��y�ω��p!��Qt
?#�D�&� �M���7긊�WlO��$�'��	�	Xm�8�b,Y9�Uټ̳��~�}���A��2˪�-wX�C.SGP�(eɮF�3?qVQ�Ɉ��x���s�T}� �G�Cp5��� ����8�c��|�En#��u$�sz������GK B	x  ���<�O��u�-��h�B�5�rҥwX^�	��S c:�P� ִ��A���Zr�(91��n��86E���lJz+r�3�8��Z����{��e�Rx4%�0�ir|�	Pكdm9�7��p����Ib�0�)�#��5�`/_P��~�
m�L���7W�#�`I��k��x��m�i�Y�l��]�j����+eDgt%�C3H��^��p{R!�#���bc�x!,�$R������V�AzP2�<�.xqC~Nd��/g`��!�A_�P��v:*1Kn�]7ax��Q�8��=�I�$!�wu$l���0;9���#���}����4���8��N�V������FM�/y��H��*?Ed<@��<Pr4�����v�����@�UjcT�t%$	fA"l�$��Պu���&�	�la����\:���N �) �Ǒje"��^y�&�
�8�SPN��z���mwĀ8�dl����HN���X��
��Zlf����a0O=�;���P«Vs�9Π�A�F �RULt��ԋ8�2�Wf�z:���ye�|�����N�K�F��g�	�!3�R
�$n"�4����T��i���r��AJ�g�b�� �Qxxu%O��5DC��Z�zǨ6��w2.���J�*�N �x�I��>6V��:�#9\�LSv�ڌjk��P?�I	Y5�:�x0A�k��~��@>QI��֥�6����p�<�F()�ۈxޒQ�dE*Me/2y'��<�O��&�IH���=c�� �e��2"׾[�����4�˨���(��A�*��R*
�ty\�D�����3�PJ��x�N�Q��y�H2*�Nt'�V�r�Z06*L�<��-JM���ȡpb�&�A:9���H8����t��U�j�� v��Re����ߙǢ� b�@:�2���vO3��s@i����`�	 �nKE�QU����TZ�+�J@	#a;�7d�D�agFA$'X�!
	�V�Z[ �S�6���Qְd�X�F1d��_���7�Ǉ�P3�TJp>��:��������H�0� G�0f�US�*���+6��`Q�S/��FX��O
/r<l�\�K��ސ�NG�
Q��U�yJV�<'G"M@� �7��B� rע^#lX�7��dti���� .��U+��Q���4o`�����UmV�Ho��ꬍX��� �X6��
�iQ���b�`����@F�H�@�R	�UN�X� ��b�1��ܔ˙ڃf��I&�ːD��8� L5�lIqL��d��	ȡ`���|��*^�PIp�/��(Y$��=L��L�
����(��.0�6���S(���A{��6�;[����M��a�+��oީ��A<�LkQ.=��
c҈(�W�@hb�,���7(�bP
��1�ψ��S��V�l05-SXz�c��ž� �r	`�~�G�I�)��l;D]HP�J]��b�'��\�<C����Bdrb�`ƛpZl�l�^oHH,�J!r���I��"n4K�r�g�VE��߳�rϢ*6����.r:U5崈J���"i�X���y�j� ���w�i�&|]Z@�����nPؕJ�������H���jc*�b�� #��VB��=|�=�9=[
�)x��S�a�)�Z2LF���R]�_(QLR����B�h5Q��Fp�G�'�5	s\|O��3��d�����f.4[��*B~�	�R+�̶X���"D����0�q�]5G����H�B�՝�va �����i���Y�l$�Ni�z=�;��TPU.��C�)|�DZ90�7V�غ ���i80�����qI�a>�W+qF�G�!�m���c.MS��h$U�̱Їkcc259qK;*����J)�����@��^��BV������ B�|1<�0�*[P�/�P��zL�?��Qw��f>=7�V���D
��(�� ��ā�Ϭ%-A9@./����r�ڟկ;�҆�0M%�_y..Z,F�1GԀn��~%{-d��Mh4YMY� 历�dO�4�y�&�l�Do`�Mv�����A���������	��|��li��L��S��P�vT�q��u $��$�CJƋg/L��!�A4)��f*�W*.��*"	ZXG� ��h�����nbD��Oh7(3d��ܔ��3�䀢�pp&b��U|���X2�!�8p�2�� G�xl[YA Q�nG��#Ur��-�P1�u�ڠ���A�B�G8V�dLR$�@L��j�6��K�?9ʋ�¥P�f�p@/�j@f�E�V"-I��J �F���x܀K!���ȳ���*v�pu,'�#�;����<7����5���.�)ҵ��|��S�uh�� k�H�|�S�B���RG'dҝ41�d�:\�y�S�����Nl+�ɊK`cN��ɁiU�p�dDNVr��Rv�%[t�������N������: R!0_�	$�@���al�tL�r7����pҳ����p�L[� �I�ɂ,�L�'��Ld���e
�c<�z�؍����F�j���<ڍ��,��W��ir�;S��գgTC?�,o��&S���Wk��<�q����@�"9p<���X��^��:E2J5~E^?D��YA՘g�����T!�sqO�� �_ԥ �9�Uz{ʚ	Q�G�!��.����d��H��B�m�tG�D�`����z�f3:�UX���SV���$]إ�r.�8$ܦ�x�|l��ugq"N	m��t��@c�v,UǞ1��*����NiB.Nr"���V�IPcaVC�d��@ �$J������ܥg�pRgC7zl��xMq�W�$�I4��(��6s�}���J(���	xo!���Ȧ`B$��f5Wa�rt�=�
��0��+ <ɫZ^\��qP5z�$�V�"�>L9 �Ȍ"z˂�Zͣ��A`é�Crc\ ,ڡ�0.�(�-]#�ze..��Ɛ��{����z�$zJXe�"-o��LXA��ƕDТq*vGK��H����I������*�І�v�C��T�4�K������z �)�3Y��Is�K�+4���GRB�K���4���
�����!�� ��~�ڈW�y���\L��;����:�`�H`�Ȇ�AT�{E�(��7�ģk��x�.����Q�M�� ����Y�p���n�9E�`��(^T%��Փ�����G�;���NK+���ɹؕJ$����٨�$d��Cۛ�>#d.R
�č�g3e���yj^@�Â]4��#2�-�@������(b &�=�B� 6�����t.�Ր$��+�F�~0���0,4��0�[L����{b��B
�J7گ�!�_������J�#�j!����Hw��� >��p�ད�AmT�Q�Y�X� ��a�D���9��`S�!=�;BdQ�ppD�ub����pK܅h�U�$D
:���C�M��^Y���B�A���n8+E�Un��׊�aP
� ]�A#�^9fɣ���9��@�R���|�����j��B�k���P�Ľg�<!���8b�tj���'��S1��pgB=�(�V�#Y	dR9ٌH�0�:#�_��t뎴�Y��R}s.At��=Y��Fܘ��[�oxJU��y��wO�]��JJ^:�o�XhP=MN8�vd�r:��&���X��h�B,t�A��FHvj5)SQ��)J9c�� �ж�B"BA�$�(�c���e �[�՞js۠jY^��WH�Q�i�D)�zj�J]�BAe��*N'�޶a���lG�F4q�ǲ�u��ֲ�j;>�؈�_U����!FL�Hi�$x�^�E�x�^��Lvr�FDE�ڴb��@ւ����X4��K���q7a�=�z?/������+����F����\�fE��2���'�c�K����B������o��Ws��?���:������G�r�������/�y����nc�&:U�q����I�̰d��p�,�w_Υ?L�U�MRԫc��IҕO$��D���Y�X�� ݩ��(���g������-?\(�?��}��ޔ��U�_}(�ʓǫ|}���U������<��,U��`�ݘ�O���1r���e7�����m{�\x���X�wy�w_r��P���=��\����6�|)�j2�eu��ڋ���,��N�E{�F[w���Pd(j;:�N9&x�����@1قs�\T�����w}+q(�'["�T�!*"_�P<�)�o�_g���!c{�̸-+��2?Z����%@�E�w�&��e����2k�~�7d{�}��4E?�����r�_��7|câ�"�1{)O�+�S�/>���U�b�*N��G�s^T��i�y�#���L�򵜩<��_5�5���y㒏ڟ���b���`9_�j1���g�~W��,��^&�x��_���˷��eU�|*3m��5�`}f�AR(�̦��D먀!'J�����(�e,������?�������M��f�k�ϒ�1�p�]�|�o��
��J������-6j�W>�R4��ß�z��[��_X��ʵ�����v-g~d�Lk:�|�s����{ ��((�^p O͔F��Z��ݓ��� bXAg������
�a7�1n��:w�����Y���t?����V������M��(gK��l�党N�sF;{��ɺ���3���>�Z���{H1���u�&"3OM����e"v�Dy�r��2��w���tA޼@{:��:D9N���X{�������.:~7�HJO���=;�.���w}:ȷ*bn��ڪ��N�1#�[��^��WB�;�7]lDL�O�l��"�8��ȿ;Ľ�W�YU���Y�9�;bjA�b�F�]�tF����s%�cȭ�tO�$�{Ӟ;���?��t/'R��M��r�T�9ͥ����z���E}GQ���C���ܣb@s�a�����	�e��{�d֧"���θ�.���tgU��� Nۿme�Ҧ

�O������h������H��8�t|��3NXؿ(�B�g�o��/��/��|��B�)�u̡��w�	@��,tq��'����{w�U�N�P<m�[e�<��YE�"��ReT�ã�[��eT�(e,��%����'lVw��,R�˿�.a�����-;����
Z��J&F���$u^#6��Dh�������*�׿������B=ҥ�"=W&�K��d$��}���ʇ�p�"�(�y�pz��63ya�[~z�*�w_^\��R~�;���(V�����L��X}��G�g����m��ƣA��߶(�Ra���Ql� >�]�cy
'Wp0<�U���q�5�E.�+c.���G��w�,iZ��T\	��}fl\d���al,�1��D�Y�v���|�-� �� ��5̦��J��#F�QzF��xƆ���ܺ��M�1��)Wj�ï>l�/�͟�D��k�7#9l����O��ט� =Ã��y��y��3@�$�Ҁ���J�	����i������$�р�?����=�r����S5��/�/�9�4��p�Nn�����١+)v� �p����'���Z���u�
�6ȾW���V��d�Z��M,�_�l�,y��ۻ�zi�z�Z�����m�Ӧ^~^u�U��
]G6D�H��	�ԝ�Q�e5����t�?\j�AX�F^�-���m�fʀ�'DZ���I~Zq�s�ڣ�k�7��&�����y�_�V�:]�n�5+��#�]�l'��Yg���#n�a��`�P<�c��e;�mq�晅FPW����K:ۻ��I�o��{���/-[(�	����
�W[�z�z�y����w�97�N��}�\��s�m�"<��z!xz.^h-W/4��e�gU?lQI�s�ٛO]	*������߹*Es>�#npf11r��f��8ܶfCs�{|ZQ\���p��������SC�$�l�)y�<�d�����Y�&C{�h��`^�=w�m�c��Ԟs۹��@�ͩhD�x�v���#g�O����s=s�v2��a�7��o�r���=�g�烹vg yW3Pv����%�Yj���ny�;ͫ���:̀y��A��.O��Q���� }����0��&}1t^� ��r��|�(�%�ß#�C����ui��^��`�R��X��+Z��]�S�����#�m�G�l{��o}�8��zּ猕e[W�9��]��W ��ۇ�~w��_V�6�ޟ��ǜ����=�����s��͒��~��8��Y��=��
@�v����:��
endstream
endobj
187 0 obj
8004
endobj
185 0 obj
<< /Type /Page /Parent 140 0 R /Resources 188 0 R /Contents 186 0 R /MediaBox
[0 0 960 540] >>
endobj
188 0 obj
<< /ProcSet [ /PDF /Text ] /ColorSpace << /Cs1 8 0 R >> /ExtGState << /Gs1
11 0 R /Gs2 12 0 R >> /Font << /TT4 192 0 R /TT1 10 0 R >> /Shading << /Sh11
190 0 R >> >>
endobj
190 0 obj
<< /ColorSpace 13 0 R /ShadingType 2 /Coords [ 6096000 0 6096000 6858000 ]
/Domain [ 0 1 ] /Extend [ false false ] /Function 193 0 R >>
endobj
193 0 obj
<< /Length 194 0 R /FunctionType 0 /BitsPerSample 8 /Size [ 1365 ] /Domain
[ 0 1 ] /Range [ 0 1 0 1 0 1 ] /Filter /FlateDecode >>
stream
x���W�p  ������{m�ݵ���23��V�pA�e����>�X������*�S�zdE�'%E���ʒle�&K���K�$Y+	���$����9Qr9Q;9gs�ڧsQ- ϧ�kV��A~�j~����	/��	�1'�I~��팧W�x�OM9��)�>ˑZ��g�ꐝ2��〙9N �L��)��L]�����^�Ƭk�����.�x�Ҍ�A�'����ѤM��P��&�9�=l�c-�"�ݲn��A�447��U��=UX��=N�L�8�HVq}'�Yq,c�K������>�#��aa�|o�����\w�,:X1��<�Mwp����R,նO����'�8���qm�/�b�}��[��u��[�FZ�����f�7�0�?�P�!�7А�s���q�w������޶��O�ǵ�#r\S.W�����8��*��G�}�X�}���_��[�y�gI����}/B������ 96
�oy�_��\�k�~���\]�5��gk��3�=��^F�k���.JW+�ҕ�S�R�d���}��.YV'���%�o��7��7q�N���wL�cE��vL�:Z ~-#�W�/#y�H~��rn����<gν�����g�����YV�yzf�<q�8�yJ�O-�������`�x�z�|�$	|�8	��{lH���	$�w��������Ql�(v���Ql�w5�����@/�
endstream
endobj
194 0 obj
744
endobj
196 0 obj
<< /Length 197 0 R /Filter /FlateDecode >>
stream
x��ˎW��y<ExF�Sq���}�=0lX���U��.�T��x�h�P���;�HfJb�$�y��}Y{]���A�������k�[�~�}��}�o���S������������S߾�����Oo,�o?\�6��/O7{�l�����]���-|:�O��/�m�i�>B/�r���?�y���?��}��\�\l�֩뗲�/�,o�|h�����?��ɳ�%t�~��}�>�w�4���LkC9��{����v��ôLs;l>��Da�m�al�}�mC�.�m�:c���i�H?�K�5c�݆q��7�x��C;��mY�4���ϖ�ަ�����8:i���\���6���Q�����q�t��em�۲�s���_�6܆m�0��C���4���q#_(�y������ȿ�m�L�i�ڛ�����FGs;��u}����]:�M�����t�n��X�߶e���,Z�nn���M٨���Fo�y�l���8ޖq�Id�CF|r鱝��n���˹s��S�
(��ɻ��iY�v��떵��0���.:O�uƶ��hg���6�6o�ú��u_���18�B�|�}�$���e��F���߹��9�smj^��>Q;���|h݄fyG�sO��mX;6�R�݇e���������>�qJ���Bv��tԵŻ��֯�ҷ[��׎�P�w[�4���lba��jb�e�g��ę�P-��t�h��x�U'f����.��"�L��ѯ���\d�i�����*Y ʬ-���L�I���H�ny���pcB^�
�mv������yf�J8l�m�y�q�X}hQ���_Fϱ慱�<�L�qd�V��z���y9b��vA�r�u���Ͷm�b�u�]t|���ۺq��>/�p�m��ʹ�����N�����!S���`�7fr�Pl߹�w���9����~��FL�s�&�3ہb�5��A%�a�'N�����o�g������ǁ�a�`�l�Du�s���E�Ӷ}�yT����=�ɫ�� <�����@��8%&���ī�n���V�9:v��Ö��\2,�>܀�@ZmcB�.��X�37��E�L�Ѵ�]����usS��:�B����(e��u��9�0�.�"�D/�YhSj�;��a�b�2� ��.ՍGy�ю�����Y(O������.bgi��rx�XX���#;ͽ��E�ӑ��$��<F�]&`���瀮<Iî�:�ċ�~�&�/;��������^��3K�� �6��xL0��<0޵��V��=׾�7m{1�X9R����ubV��v�AvQ�H��7N�?G�NB��B��O��ŵ�;M��<U0ǻ�|��/a%U ��m�i�&�v���0��H5V"�)�[���9/���+8H:�I�У~���~���lL�]ſ��ȅ³�Q��)~&�B�6�m(�E�c�K��X]���������a�� ��v��`�Ewd�eܓ͏u%s;/�����P��̶'e�6r�e��
�<G��	w��I�YCP������N?W˩/�
0C8*: 7c-�hR	�3�e����%�I ��w»�w�MZϤ�� � �Af ��E?�}!��D[�
��lj�F.�.�����&h�������A���ם�#ʸ��/�'�@O��e���lJ�N��C����q�v#ӆ����C��ث�w)�G������xQ ��u�A4 o���ʺKŒ�<�B&���V�� Ƙ�Iu�'�5hkĝ�W!1c_��9�0�%	faM�̔�n=��*l���ާ#8P���l�{Nȫ2�)t����������(!��	�`f��^���*%�j���Z��>2&�O7��*#л_`[���w$Txm�]�*f���5=ó�S|7�hq/:KA�G�}��-�Ҙ](�w�?!cb_�@�)�Fi)�8����܎�T5*��RLM�W^��*��ghC�g ���J��m1�׌�d���Qd>�Fa�@5I7BJ0�؜"e���:(�M�E��p����`#�<:)��N�u&��N�������B��D����92�rbv��[c�>h�(�A�9&`K~;I.��t��'�k�`�}���&�8w����ʫ��:��Э@�>w �k�*�Q��ђ!�d�R���w��+>�l*��犢)�:GN�2[��s�Y�[�J� W,��TP��=Oʝc)��d�1;�.x�,�p��J��@h�K��U����NM���`ɨB���'p�p�UI����88W���5d����"0��.��/fJBN���G2&���\�0���$�T�G3�����e��-��2��L�>F���TMc/���E%��=����>����%��+V�	�,�?F����K�T�Wl�r�ra<���r=*�b���!�.��$�1u�/�L*���u�'Ůy]$*���I�[��Ʀ�İ���ޡ��ړCqb��>�ӅJ^]�s譆GIg춪�R��@�{We�����w�l��	�A:D��1ǰ�:H�\n��Y{�
�9�t{T�M��5co��V�.](1ǩ���BⱳB�@��hHBB�`%�R��_ڨ7�S��򮱻53!?��k?�i��������I���pBGG��a|��.�I�@ =�XN�3��j�oR��OaQ
5˕y1$NR谪�O��\�g�������{��t�*����N����1�$M hH�i�H 'p��a����$tY"沈�Wr�i��T;�׼�V���`5��cқ����#%���S� Z�gAA�Q[H�ǣ� �`Y1�^!�+�t�(�jg�@C������_>��N��`1�⡏	t���p�	a����-��`�5'8 ��'�Ca��v>��X��E�D�� �}�R-PY�x�I)�R��먈�]0��H��H<�Ptp���Ǻ���/I��.��2�Î�`����qp5k-��у	� ��q�� ��d"�2�P�pC9NX椐�2��P�}�`������A����s�v���@(��_G�E<��ɶ �BBa$U]Y�
1��_��3�� l�,"Ӎ�1`�M���M���҃�T)ҡ�.��N2�6B�4KQ��3c�P�h����N�=[�ؙn2�.9G��[�Dժ\��V8�Co��� Y������q�,e���<Aq�*�MU�|�
����},e!+6�2"�e'*����3
R�������Cd2���)J��@G��d���2]�/J�L9!��/���U!냭:8e���ZS�sE��>�r(!�tR�f�\4;��B?������I<�@�-��ta("���ri~Ɲ�hNS�biyD��)@JݙnCh@ �4F���t���,���F��J����퇩P�*,q��+��q`�7;F�< ъJqf���pm��!	\c>�k�U����|��P���>ť�0C�D�T�2��>���2���H;)���Q�����=� ��<᥾�rbR�1q�PZ�\u��|�?-3���0��0�-�&�M�m�����娐O{Ł^�8_'�|�Z��	<�P��H%G��y�u�?�6NcYJ*��x��K��3�'c�?�>��d��RA+K����. {)���379���M��w��$��A6AN�-�cN��s{ᒑ��4�K��e�A�]}#Q��vR߹�&�9 �5����P��69���6������Wq)�O%�`�$�"�4m����$&�J"����l� ����3kr��g3*��1��XZe(O\���'x��� �F��:�������)�S��H1Pu��*ڐ�W�T�D��Y�YҭQ�F S0á��>��˩9j
ť(>�8���8�ʽd!�OZ�$��S�P6��G�
�N}�H<�3��jb�\�����=���U��'�����7XW�t�������Ɏ4$8d�yw��:-�[�Ȕg�bb�hкt0<ؑy�Y��i�������%
`3��C��`:Uc	�E2���ܔY��Xr)c@G.i�N8K�P�n�Y��P��@�[x�Dc� A�^�(l�˱����d���8��qE�gadmA�I��@� ����o}��K6Q�9fR�m�qI��^F@u���uڍ��Jb��'���{��Gbԫ�g�я��y��2�6/�KcV28<U�A\�[,wP�%rp<}l9V�N���~��(��+y~���Y�j֕M��roUH�\�z8��[�PP.tUo/Ys%�u��0�]��1�d@mU86��陽� N�$�0P�~Un6�W���fV)Ë�ypPJ&�Z�
H�Vw+J>.�~��r"�D[ˋ<AKdLmg�s�+F�l���Y��&�⒓\Z�/u\!	i,ih�¢PJ�x�e��\ֳ��w!P:y��0�K�-�cިR K4t+7�c��<k���ʡ�D����I �-�E�{QM�D$�rs��Xg=tOU���T��t�W �țZ><���q���+��
�⢞�%�D���[���<i����S���\�v�C���x��[]�<��\<�>FJ|�2������E�aUyK�\x�V��B��W�f��©�NK����΃��C�i��F;�0�������T��x	Y;OT�(���y&�u�4�:�(���QM=Ia"P��FM�n/ˮa]��&&�����W�Mx%�c��Nx0%vنy@�=^s��E�ҩA6RR����(�z��MJ��c��x�.c8��՞YUx.�YK���y�d.�dVo��S���`�y�b��B�yy�v�m����r�I$���'����-B��{��u���\R
X�D��lEٵ|/���.^@�aa�,.��L9 ���F�I)JPP���+R$���n8x���i��썏{"�Lר{ ��FfC<�,���:ҳ'�=�).4�nr^�!�o/�i��f�Ǖ�oZE��P�;`�s�N4�������t�I�9�x��
s�Ê9}�9�x�+ؒz���,�	�#JP��V{��E4]�y	QA��:LB6��^Y�x�F�A���qVE^�܌��ʁ��TA��fhd�W�Yy4u;�K><bT'u�w��mmBR���B�5D���4TK�2�~A"_rŃҥɧ�/�ڗb����P�1*ڎ�DV�,��f"Ya��R^
��3һn�8p�|s��^�}/K�X��������f���;o/}��i����d�Չ� c�`z�!�8pN4���c��2\�'b2K;���=�2"٥ՔL���,�\a�F�$�v!$����8�9�^l_�l�L�����2my��X2Q�Y�)��4� ���B��ڼJ��ԏc�h(�j�"�ӱ*�9v^��U*����)#����˹�!#E�?7��M�K�/�󜼠�L��6z����ݗ�<�� t?7J���BR.�J�y6Q^{�y?��`8x{b���7�yx5���m�l(з������]������V,��~�����_}~�~3����:�5��y�~g̏������l��O��~����1���yGs�]+������I^�����si_�����x?�������zI_��qr{9�&���|������}�/�[z��۟��>�����۱}�c��O����~|�XX�ԩ��ʤc��u�c��ۓ�����yU�~�������Ǌ��~��C9����<�����u�c���Ǉߴo.�~_�r��b��^�n��s��SG�h�]��xw��Pe{�������4�ơ���G_g�_�]{t^/qQB!�,�hK�U���N%W�:��t����/�����\M��g:������w1��мj������:O68�8�]-����?�y��z�8����ɵ�p:6������/�=�ZL+��"�_��X�ND\N���/:�	��	�/A�/�p*JX�M�G��΁���tx��;�6cι���l|f�
HF�ʟu~�\W� 3z[���
U�/��#?�/�,�nM]��|�;�$䨿����T��߾/�UW�+�tl��ˊ?WA��]���?���yo���U��8u���u�w���V�����z�O2�����ծ��n��mQ$d�<iٿ+:�<���K�L���(���������Nu�)?�Wc���0��)Z�Wii��O/EKM�ކT]�+�-�����|����Y*��j��}�!_p�7��뤥��:��z���ӪÜ��O�٫w�uב����ߜf�É��U�����g�1���ծ������y�٩��Q��"��#~��@��Ҳ��#��U�s���ƎS��b�sJ�R���c��X��_�d��g�q��e
��a�N�~�NW|���CS�$��.��gu�g��!ue��*滺�>�
+T�9�y��0���>�������P���D=�z���c�1c2Ս=�x�< �%�z��h�&�6�	��ʏ��_�Y���Bm)�?ì����1R��(3�BN�Y�	�\�~w&������U��y�la���:ę|�P����Z}}��N���y2�������?;�o�'�?�~�==�鏻��J��{��C�r�z¡�)�O���H	��8���x����]������1���~�3�������S���!���ڴ^�g�(�
1����NHǪ����_DC���&��[���|w�N��#�T{�S��-��~�)MFԨʗ�:��\v �J�ܫ|߽��~s��:�aM��Ϻ�)tUC6�����D�^U}X����;g4rݯ^�mݪ~�T�/��e������q�o-�u�P�<�\|�k��1�"�oN��������}�r���E��͑���u�� v�.~>5�	��]mz�nyݥ�[/q�7 ����nyu�j�8d���^m�E�d�z��Vq����>T�9}}_����q�_��d>�,��|�Բ�Pj��ո�bU_U�2�ZuqYM�2��B�6]yJ�5��[���� �1��{��N�iڛ���k/c/������"���x���������O�� �?�6�
endstream
endobj
197 0 obj
7112
endobj
195 0 obj
<< /Type /Page /Parent 140 0 R /Resources 198 0 R /Contents 196 0 R /MediaBox
[0 0 960 540] >>
endobj
198 0 obj
<< /ProcSet [ /PDF /Text /ImageB /ImageC /ImageI ] /ColorSpace << /Cs1 8 0 R
>> /ExtGState << /Gs1 11 0 R /Gs2 12 0 R >> /Font << /TT1 10 0 R >> /XObject
<< /Im14 201 0 R >> /Shading << /Sh12 200 0 R >> >>
endobj
200 0 obj
<< /ColorSpace 13 0 R /ShadingType 2 /Coords [ 6096000 0 6096000 6858000 ]
/Domain [ 0 1 ] /Extend [ false false ] /Function 203 0 R >>
endobj
201 0 obj
<< /Length 202 0 R /Type /XObject /Subtype /Image /Width 878 /Height 332 /Interpolate
true /ColorSpace 204 0 R /Intent /Perceptual /SMask 205 0 R /BitsPerComponent
8 /Filter /FlateDecode >>
stream
x�w�E־��HɊ�2�"�AF�� c���EQ��`�0��  *"C��
�{�����}�>��x��Ԯ�^�����w�
���M��$ 	H@��$ 	H@��$ 	H@��$ 	H@��$ 	H@��$ 	H@��?7	H@��$ 	H@��$ 	H@��$ 	H@��$ 	H@��$ 	H@��$ 	H@��$ 	H@��$ 	H@��$ 	H@��$ 	H@��$ 	H@��$ 	H@���`������N�:u���?��C�i��;��~c{���ޱS�@�&;v�߅�ĉ��r�$ 	H��8y��֭[����m۶�V{��aہ���%K�|��7mPQ��b������Ç���ʕ+;�w��?��|�-e��W_��_��Rf��9��pu�ƍ]�tI|R���-rUԨ�]��$ �
/^��V�Ǐ�Z��OҮ���:��5�D�����/o㧋�)S� ��?l�ü|��gC��`�R�G���z�'p�(�S�@������I۠A�p�Ɓ$ 	��}��رc�թS�]�v%7n�����)��k���VJ���~�������,b�-j)oǌ��v�$�i�q�(�v�@��8���7�L2�5X�L	H@�@{ @�6��؞}��p��Z���*��s��U�V-[��Ȯb�����K�g�1�����/x>�S����}Æ�����ϱ�pc�޽� �X������Sf�D�5[����?��z���z��##���$�:T,� (�e�P82�$�*�@�(�''k(�z�f���.� r.�7�xc�ڵ����[do(I^�ZĚF$ 	H@m@ ���$:Աc�#FD����zd�����˺A��\�3��9g͚��((L��ޅ^|�ũ�����W_e��|��gΜI��ݻ�f�Ʊ?��S�0�5k�\x��`$���Z�m��_~�|����￿�k��!ԕ;${x�tIjX���Z=t�P|7n\"@b�ҥ��Hw���:�hH��ѣ�K/��+J����c���z<�@V4�v�mad���a�Եk�d��O?�Z.� GQ��G��8d�1��I�e6�O�ty��ɽ�KR�I ��KY\��0N���[n�+�`��
i�dh"	H@����_�����oGe���!
!��SO�����#�<B[߾}'L���`�g� �dFI��W^ye�jR��+�H�-�}���0����H�Gb���Q �z�w&�<ͳ%��1��Թsg���ӧ	�AϞ=�a��!%�%(i�b��_ß��梂��y�Ds��U	�ܔ�P����$�y`�O89���.��2 ���c�eK�3ۜ��޽;�1�q�[�n�I8�S���f����ˁ�>�������L\Mm�F^v����l��ҡ$�_ÛQ�^��?r����ˎ�% 	H@mF��Q��Bf�x��'�-�zZ#gҤI���P}�'OF&�{�PI�$P��iH���t�#���?N%�|�͹s�ɧ0鴡p$������^��*����I�f�Y'�Q��ͣu<����#��-Y2]�M�%^���O�jB��I�f"@"��v��Q�p:�?Ɖ���9�`c��$���ׯ���!�Y��F+&��e�OJ2���� ��YNk�I�ؼy32�L���,o6��d��8���o̎� �;����~4���hҥ1�L%�O//�\�8�]��$ ��'s����?3���b��Ëj�\I�����:>^v�eŇ��-+�BI��6*z����f��k�$���>R
��:M��u�����1�$�8$Aqo���(_E]�$9_�@ƿ��۠�8q"�s��P�����������MƩKIF��t ��T���"�C3�dI��y���=�܃���ߤw�]�o�p�v�$����$�3��p�P��1 .�y��U�G	H@�@{ �|�rUw�u��OJ���f��+$
�?�n�cQ���BAFa�����d��)�Bp)'�$����Nn�{4g���$?����j9�:P���J��a����ā�U��P�0����a	����u)ɒD����3� �sJ��٢��r�r�~d\⍃>���e/J/W�o���7��}��H�,��ӦM��?����		H@ho���s��8�,�(��,d�H�tg�fk,�Ǔ���_-	%�|�l������g9$+�n��o��-��5�$��nTNWp�|]e�$ٗ^z)�i�D�9B��22T�Yy��a(��Ѕ�J��3f̠����*U��_�+�$˛MF�L��@�޽q��F}vPG���T�Y�.A�RƵ#	H@h&�X�<&���H4f��ᱮ��`MJ f�d�b����BI|&eVP���tx���_��%��b1߶�dlH���$����Ȥ;��r�9�0�1[,�T��͖�t�$�̙CI"�r`��.;N��1c����Y3�Y%Y�l�Zc9u9@��&�X�^�بZ�1̠��p=�~����Zj�$ 	H�T�i5�+:C(���0��3���X���.6fL';u)����hc�k�RoԒS����@e.?<����IVs i2�q��]�����bd���b~�nӿ������2�ZX)زzR�����e�dy�M������8��f�{M&�r �]p�4xҋMԴX#�S�i#c�{�b����[�|SZ��$ 	�8��,C�h�r,�ǳ5v�1B�1��_~�L2��b��⬑��$R'�?��3�(g="��0z�ghZ�/������E����s�=7TPk+Ij��@�I�tL�@���%�\��8�4M���bR��F8�PQNa���ę�$9�D���M��p	S1B��;1/�(\�����,� s�c)Q"��P���U��8_٘dy��f��� �ǂQh�ԏ��\�,v�5��b�1�g4��n�j3�R�4��-g�G��1�}FK�>ֽ��$ ��'@�1�S(��'c��eȌXۇ]t�C�Š����(֐A��w�y�e�^z���Ҥ&���)�r��5��4�l��S��4�+�:c-�x��46�%J"]Bd"���Idb�tl���[W��u����hm�y�"�v��Fd�,2i`*C������;�����R�L������1y9�P{�8�e)_ҁ�̕���L�<e��P�k6�v�ty�����jaPǨQ�hx���|ީR~*���b��X�kX���/��:D�;��n6�r��-#	H@�@�Vz�	��[I"R��i<��K��`c$�E����	2�&=�y,�L�@�
��*��#a1"o�����'�`�Zj��\ʐ`q�M�6%�����d1�$����N�M�w�^�Q���9)�����D��2]�CO�BQ�D�9&=qj�M�0?�4f���|�ы�5Np�f_}�UhGNZ���c4X2���={vZYIIp5
�e6�o2Q�L���a��|�����S�����Y ���%j@�:\ ��^͠GI@���':^���ʼ�r�$Cs:3k��G�P#��#6��Z/����x�]�
�ls�1Gٓ]�=[��4����(b�0�e�y�,V��j!RZ��z�f=��.�@�۹�p��S��-(�+��J�P;] ,���VC��f1	H@��$ 	H@��$ 	H@��$ 	H@��$ 	H@��$ 	H@��$ 	H@��$ 	H@��$ 	H@��$ 	H@��$ 	H@��$ 	H@��$ 	H@��$ 	H@��$ 	H@��$ 	H@��$ 	H@��$ 	H@��$ 	H@��$ 	H@��$ 	H@��$ 	H@��$ 	H@��$ 	H@��$ 	H@��$ �ӎ���z뭍7�v��$ 	H@-E��ɓ۷o_�t�c�=�`��O>���ѣ~��m�Z�
�y:4`��:t���ȑ#g^m�$ 	H@Mعs�Q���m��[n����-��%0k֬t�<x����K@�������s�==ЧO�����_�6mZ߾}C!\s�5X26�6��g�uְa���բ���˽��$ �3� ]�^x!2��+�ܵkWj��;�9��G��2S��U��-[���;v,�Gb��ݘڷo�����/_����ٳ�]d����~����!|<q���X��7�X�v-�ˤ�|��K�,�����|�G"��f���իW3���>k�,~��޽{��T�3��WHa361Hf��`������׿�{�=\c�eZ��+j2��o�
Q���U�MⲀ$ 	H��#��O��)���O��=��s���$9y����.]����x�8����]�;w�t|�ի�/�@��E�s˖-��֬Ys�%�$�$:u����U:���(O����ѣ�8~�x2�ĝ2eJ�˒e����K�	i��֭[���{Z�q2	�=�����~�l"G�|�EE�����~Te��v�J�j�}��l�j�nڴ����ۑ�H���iڅ�7�x#T��1z�$ 	H�&0x�`�����[l�%3cƌ��G	�C���	�O�>bĈ�!������o���e�]��I�IS����Dz2����'��)t�1c"��8�w�y������'4j|������?�<2�9$�����T����W_=t�P���k����%��={�?S�2	���]w]׮]9<'e� z��M��{������sϸq�b���I%+x�t��0�_`�V9�J猃��4FT��Iz�$ 	H��%�]�x��&[�r��Є�'OΆ���֭mF�1�B�79h���׿�UCX���^zi޼ysh-�[��F&	~�o�L�cǎ�X�/���F��ؕ�������q;*�p��"@�l�Đ!C�O�7o��D�a{��Q5Y=�Z��/�<�쳡�P�ф�~��!T�*�>ā�>��ty��H����o�+�fy�l��8w�\��*��$ˣ��$ 	H��!��uA���Fd�01�$��!��^���LJ2
0|1j��?�I�4�HT3��#Z�~�����mvd�"2�"B��2�@L����$cC���+�.�RT�ĉ������f�RDl�~���$	�f�7���}|`��谎�"�Uā�>{Q�]彅}�QH�3U�G�����H#9U��2��$ 	H� ���ez<����ņ�B.��9%��Fj��8Bp�=>�7v"�~#��ۢ��t�R��7�$�`�#��0����FE�48�c�6z��l�H�6cBPqW��P��<�L�pz�q��� i����裏���uy�������9;>B�0��MJ2UN{MH@��$pF�_5z�	*�n �1�[c�~���7�4�$�(� �Eɤ$����XohC�DL��'�d?�ӵ]��tdӁNyz�9u�Tz�����l��j	%I8���m�݆o�&Mb]�/���b1r-Z�^ ����lAos�����k榛nb0glx�F�؁�K@��$p�e�ę�A�����Ҡ�d�v�d�,ԥ$c�}܄�cS��i�
�͔S�[��ѫ�ׯ��G|�oK%���Og�t`gn_~��p�X���������z�$C4׭[��Y��R�H�1�5>7�f�s$ 	H@8S	�[z���b�'��;�D>3b(y��g'SǮ������ԥ$�r ��A}H�4-��w߅�EmF�9ybFO�4g�
�#:��;�,��!�j�8��߈I���?f������ۯ��:>25)��o���RnW]�2�&�ѭwE�\�|d,S��[gjRL�.b�$ 	H@g$4��(� r�87By�Ǐ'� Th9&��``�
����i�Ȥv�R�6l��w�xiapT%�͜9��pB���z��2�&F]�%Y�'�Q�pl��(FR��q�1����C��fqH�$�����L-gTdLu��=�g�R����.7�2AW]u�(*���r���a������v��i�d�c=D��$ �Ӛ s�Ӫ�H�1�1����:��ѳ�r@�����J�I`*-HN<��gcI>ӷ��|�a~��̢��p�S���Kd2|@j><v1w�t��P��U4]�Q��,!V��4R�Y���C�@Z�H�v�7$��$���L��0:�d�h,O�^�i$��R�1�3��UV��f���/��mf����
˜��{��6=\��$ �ӎ �H$JD�B��#����B ��+�=%Y�)��kD�^TP���I�C~��.f�qKu�����A���_�\B�#8Y��|�={vV�b�Xe�U��aH2���AVű8ɴhl�f*�K4s�_(�����#Z(:$7���n��0l2{
�w�����T�y��j��"�)�<��Dx��}~��9=V��$ �ӗ ���D/0�,u47�d���6t�Mn�X���į�`�Uk��V��$��R�
�`&Wdjv��b�V�IJ2�O=�)'�@f�*� ����|D�#��c�c% 	H@��C ����^f=̶oxQI���(	H@��$P$@|��ݩD&UX,p
s·��q�2݆��9�.Y�$ 	H@� l�Jd�HQ(I~�]���O����`�P�slW��	H@��$p�`ED:��|df�Ċ��!eM�;����ﴟ&�$ 	H@8�0%g���tp�;�Κ�J@��$ 	H@��$ 	H@��$ 	H@��$ 	H@��$ 	H@��$ 	H@��$ 	H@��$ 	H@��$ 	H@��$ 	H@��$ 	H@��$ 	H@��$ 	H@��$ 	H@��$ 	H@��$ 	H@��$ 	H@�@s9r������㏛c�c% 	H@����^x�:t���������&8p��mǎ;��Y�$ 	H@mI I�m��~hK������%��n=,ߖӫ��O?�|z�Eo% 	H@h�E=��Y�vms�h�cW�Xѻw�+���ĉ�T�f$0a������׌J�AbfJ@���Tg�}6 =��߷.]���K.���z���{�w�6�vU p�}����s߾}�c_y�.��z(�iZ��$ �3�@H�4�0B���y�zʔ)ȃ7�|3���;	����+s�"JRf���G���7o���;�lٲ%r�7JQ~Æ�/��oH?~��/��>ӱ)� ����u�С��M$b�ޯ����˖-۾}{�X6�!?����ի�z��>��9�ʚ�+�`��>�`�֭��=�����J���o9SW]u��W_}����$ 	H@g*�
O��'OFsJ�{�a�E��5k�������өS�|������1cƤ2�&M"g�ܹ}��M�<��޽{� ����]����ѣ��3fd-��̲I{�;��ޔ���ˣ���_����d:d���9���D3'g�d�=^z�d0eڕ;��G4$L�~����O?�pű�6m���ߎHε��{�����v���B�]޽��$ 	�XHЭ[�Ԗ������?�| �G64��w�=k֬�����d��0����ߟ�cǎE��~\�s�=7�҅^�~C�D:{�!Q>Jv�ܹ_�~�)��O?%�L��}Ȑ!�b/��]���ٳ��b�\sM`9��_�&�v�ޝ�|�͡*����h�ve-�Le����@�B,	�%K�`�.D:fQ�-�U�b�?�8�#V�bI	H@��Nw�d$"05$�$_|�E���c:�Ս7ޘz��'H��s�N$`ꈿW^y%�U�gϞ��_�>� ��;b�:��'�!�7	s�1���7g����s`cJ�H��}���2��뮻�L�h� Uϟ?�ʕ��G>�C}5��ʴ+k��t�aA��Z�*&JB��(���
�K�o�4��%�C�n�3��5ʣ$ 	H@(C��_~ٿ*�S��m۶E�e�t�<���л�JaF�s3)���LՑi��OD&�NL������C"]RI�s�9Y��D-���a~����o�*'N�H�[n��X�L��G5��{�n*b+j<�wF��瞋�+��\t�EQ�И'��#�K<�5�ͫ��Q��$ 	�9%��a�ȑ萮]�"�r[��:�Cqo$��5�M�Q��'�|2�D�x�^�XRIҩ�=��r�$���d���ɓS�7�ƈ�l�H�iW��r�FuLZɁ�c�{��W�+�偉Bn̍��ӦM���p���<P��$ �ӗ@%��I_5�`�!�ٶ��7n\63�nP͛7/��{���%Iwv�F�|�*I:�/��R2�\:t�ԩS��~�G��'����ݮl���1���jl�F*��C��{c!�4߿�)��$ 	H�t'PCIZD��ǝV��&�X<�J2��<݌��t�R��J2������HS��8麪�$ưnݺ���d�r�1�Pbr�]ەz�$ 	H��!PCI�C30i��i>Ƭ�,��BIΙ3��Q\w�yg1?ZW�]Y����N]1G�X��J���K�4��;w���s�M7�yq�ge�(	H@���K���d�pV�A6 ���mDU���̙3�����j�eW� [�q�M�n3��F!�CH`���˗�r�lm��$��E\4�D���A��d.�
��F���O{:t`Ş��>�����eKY֎$ 	H@���i��l!6�H�ٸ�y�O?�t*���Q�F�#��,?}B/*�/,0ћ|��L�������?2�P�����;|�pV��,9���.,�&���S��U���s�eE ~%'�sx��c�#kWnܸ�|f@�ў,V�ꫯ�IH	��j����/���e��,ٮp��������y�Lu�Ր"��j��+|`hh@k��˷�,X�MΩ]�5(�K��$pf@dW�	��_��G}�k;?&Hw*C�)�D��!�������-��ؤd�D7&�D���ӇD�"�����S�Yq����!풵\���0����A��L	O�
��
#�����/� �bitj|��G1[�]�@���2�9�Mc���{,~����Q�4�g.n��TH�����	H@����X�mƏS�ŜV�>�QMeotr��tھE�z���c	ZP��t>�ϖm����&�lZ��$ 	H@��$ 	H@��$ 	H@��$ 	H@��$ 	H@��$ 	H@��$ 	H@��$ 	H@��$ 	H@��$ 	H@��$ 	H@��$ 	H@��$ 	H@��$ 	H@��$ 	H@��$ 	H@��$ 	H@��$ 	H@��$ 	H@��$ 	H@��$ 	H@��$ 	H@��$ 	H@��$ 	H@��$ 	H@��$ 	H@��$ 	H@��$ 	H@��$ 	H@��$ 	H@��$ 	H@��$ 	H@��$ 	H@��$ 	H@��$ 	H@��$ 	H@��$ 	H@��$ 	H@��$ 	H@��$ 	H@��$ 	H@��$ 	H@��$ 	H@��$ 	H@��$ 	H@��$ 	H@��$ 	H@��$ 	H@��$ 	H@��$ 	H@��$ 	H@��$ 	H@��$ 	H@��$ 	H@��$ 	H@��$ 	H@��$ 	H@��$ 	H@��$ 	H@��$ 	H@��$ 	H@��$ 	H@��$ 	H@��$ 	H@��$ 	H@��$ 	H@��$ 	H@��$ 	H@��$ 	H@��$ 	H@��$ 	���9�������gd�l�$�G#�o߾|p�ԩӧO���O�-Z�W�؎;�ޱS��������}ۭ18%�A���'N�8�����G���?�Μ1���:t�ر��ÇO�Fq�������sϝ.n7��cǎ�ߛ��~jW�����w۲e>G���r��������9(μc�o���+��F_��8K�,��oZ��ʕ+�������El����ׯ����ͺ����ƍKM�&,XP��nAm����7�f�Kq���ͷ�JZ�~�J���������=�d�㫯��nJÆ��=�>�1z�왚�K,]���4���Y߮��p,]ci�1��)�2e
d>���l�*͋.���i5o.�}�ِ!C�ٮ�$�˗/疅c�DI��#G�����s���?�|��k�T ���A'[�={��s�9qAΜ9��ji�ٖ�6ә���X��w��W\q�ߒ���b����'O<���AIn޼��v��������~�$]��x�w��$�֬Ys��><��������80~�x����~\jcO�WC�_�~-X�1c�ٮ�d�n±S�$�ށP�_~�%��i;~�x�hMU#pʯ�jn7�o����VI�����������b�#(ɟ~�		���g�&ʟN
���S����3�<�I���O�<��h�.��\>w�ܹjժe˖�J}��v��e�W�T�L�1Sɺ�w���!�o��n�"��|�믿6h�����p,�^�hq���Y�����?��z���z��[�g?��'G�M��J��;�0� �TH�q�^���9z�a�Nz�c�.�$�`:T,�)(客�6�/^�a�������95��u�M��L�� ��7�|���֭��&�h�@(INVc*���d⛻n�:�)9�����׿���{�����*M7,���ŋ�@�h�7�x���C�#�$���R��/8��t�R~�ƍt�~��4�A?#��ePW�*j��O��v��⍫��F��]�,�qMΟ?���d����P�c��a��a\3\6{��M>psF�˥gk���H;����=���?9���a5�X���
]cJ�5�Ѯ����Mnŷx�Ϳ��<�-p"nq�;v���n���y��e��ҽ���O[�.]f͚�� �@
<8���ڵk:��O?��,�~衇�p�M��z��Űa�]}��ɉ�2��E�_��?�0���'@��{� pS}��g�JF��N[1��w�~p�)�A=z�x饗��H���b�&M"s�ܹ}��M>���C�|,�@kQ�1�/��"�|#���Ob� ʙ"��{JjH$�x#�s%R�W0s"x�p,mO�MdC:A	8�_�����p ��ѣG�}���֭�0���d]fs.��X�nڐI4� ߸
_��?��$y�80�&\��!��Of�^q��w��E�1�x���T�&C�9w��3fd�օ�Ao��rޖ�~�Zʕ����⋓���W_}��3��/�&q�����&���$��+}�ݐ�T��p�1bU����d��J��L�{?,y�B�����[ߗ�����-��Y����|�y�5����8����^�|�}�Q��3�w����`��I�����U�v� 󒙓'O��m���M�x4�~�������-�c����?g�A�q����/)��G�	l<&L��Њo:9�k�t�$���.��L�]� گ��j�q��O�͒���~���.�X6#��:�-�+6mڴd������>�P�|a�:}�嗓������@cs���?�<J�jd��7�O@<�I�̒``*�71lu�ر���=��hx��K��;P� _�,�"��9S�����;�!q�-�ܒ+J2����n���D���E�tj���U�$4(g���O5"#���īV�w��ٜ?5>�w��Zz�o@\3�ՃxW�Zj�
%�[g���w�q��G�����O�I&w���3���,A0�nEa����sw'��c5y�p��{�|���9Y�`U����p��Ω�%�_�����tK�7��� aF%�$�_epe-�L�9�rE��yS��&�|���
7䒵�b���5�!�E�d�v���$����r���:n>��a
��4��y������?��g1�J�=j����qx��a]f��G�?�sO&��Ѭ�l�/B��U�v� 𒙼����2h���3D�KZn~1VW�����[�F���[o�5����V$1ߠ�OT����G>�AOJ2�~�
Jt�b��w|>�}��<�a����^u��-��c�C܋�n4!�C��K����B"?�B�N[�Q8�OR��q��1B�����9E���8������:P�2�4ň�\ҩ�$hlq�?�$���N���g�7��ӊ��^��3��˸sr_%'<�J��$#3:��J���7m�;W/��ى�&e�S�%͆oe���@��HOG2η2��֚��J\u�U��-�=����HtdX��w�}�@�����Gd���o�cy�1$��W��0
���;�y$�Û,97�x,L捃����?
��U�[,�����~\NDo8��+*d�3������eDM<�o��F" �bYq=�w�}�I���27�d�d��]xWr�d�v��0��u?,&b"��O� �n�����:�X� X�6�$�\�����71.�2�R
_Nbt�yR���E�]��W]�� V�/D�Λ~c����Ll���X���ʌ�bK2�it+&?�񄤋R�JC��$�ޟ�9X���$g۶m|�%:���m\����9�E`�xHjfJ�5N��7�3�D�Q�'N�l1"��$s��To�Dy�ۯk\w ڎ����<��S;[c� �vv�8��li2N|�K*I,�q �T�};��ɱxCaWNI�4��4�(� ����ѡC�.��jľ�J6Yc��I�[A�`d,_����B�5xH��8Yt���%y�C!E��ыv1�6[�4"��`������,��H茽���>� �c]��{���+��SO=�$�e^XRf�ˠ.\�~�	����ݡ�8����͎g:v��	��o�M֛+��6ul���+����yR�c��a]�a�4�$q�|��&*���J��c��m�K>m���k. �\KzOLJ���u���칫���o��<��f��xom�dkd>��c��d�0�#��t3eEct'eoz�bG�/�䷁������;������|����6�mz�R�HF� /���H�T��ă/۫��ظ�fCIfɉ�bɒ9�:P�,���9�����_ ��O�5[c(I��H� �4��.%Yҁ�`tk�����,i�h�����L	���N�-���m��z��� �j�D7n�|��	�̙3��'�����-�������u��IC.c|H�ׅ���8V��+�d��N<�F�ӑ�Y�2�W��d"���u�ǈ��p�	s����z�x��2Ez�HJ2���=��t�v5i�X������0UJ2�I�"Q�,�T�%���%����r�q�͵����n��E��|���S>MB?_�5���2^�{ A��Zc���sM�
��Kp͛�"&@xSf6c�R$�͔dRz�J�^o��&��m�ڛ�gw�Q�td�Վ����͐��\�d�P����uUNWp�|]e�X��#�q���o��hI��A%�^F�΄t��H�W�% ��?l���� �Rve�dI��B����m�wgk��Jk���"P���R�p^��k�N�&�G��EJѱ4������;M���{)J�<.��˵���~�BI��r�Q"II�uԅ+[i�t�����)���5L�afoȵk,�區��al!��r�/�#*Z(�oW��&s���_�����m+�+ҕ�BI%Y�X����Ӗ�� /��&�:Ʈ�$[�P��*;*6�|C�hx�⡼��.!��\�12�oG���bvݑ!DY�#�CIrω�a*̋-(��
�����m�k;�"�$��RN1F�{!�Sf7v1�!�9S��$*8P���sr��>$"<��_r�ALmPI&1��1I�W�J2W�IL�͍�,� eHC��HǄ���,i�h�����˕�2���Xq�@m����q���_�CR�d��rK0\�F�n�\��@�%+�W���x[�������2�Wf���]�/�x]�C0$���uC�QcqWv5.������!M�oW������S�����~X�i�8�;�	EJ�KeR���E��|���VTH�s���K���Y�Q(Ž����$N�q~�߻\u�`�Tn�!�����qG�@�Ð� 8�Ű�d]ޖ��SC�7n��I��{i~���3KD�������@����x���!=V��N�sb�����O�J�x$�i\e�r���,�>�����*ɺ�u�	�1~;k6F8S]��.�YS����q�D�R�6[VI�-]�թAO�dQ\e�e�+�B�.�:|�Ȩ�:��0M�)�Wc.�m�߯2J\�/��p5vv���ᎀi�ͷ�`l�zJ�!�|��W�7��7�؄sʷ���kg���u��ڿ���~X�i˨x�8[��.�x9MJ���u���tf�MD��Ggv9��ЧOX&W�k�����8}�!�h�p��"�-�D�|����&�W��;3g�^f�l�6P�uy[��N��Q3���TS�%��9�Q,�y@��
�@�e�w��)�8�e�dR�LМ��o��a��JF�*"�Ł�Ec�����O��4�$��Ô�C<�X�'"�ڤ'��#�Ⱥ���&�*I|(� ũ!l��;$-"���Zy�M�L�r��5^��ǥ�,p� �}�\�)�|�!���lg':"��N���AJ2_;�Yrm�Մ0KOM�����p�Y0;+��*f�c'�V׭�<.:S":ݤ��~�J*ɺ.��ʟ2�l�	�������*�|y91����d��4N���dN�v�4�-V�~X�:L�ۿ��պ�%��\]1�/�[��f£3n�II�@k|0[�|�u;J'���I>jԨ�G��������G��޴�)w�4�9[O�����ʚ���3&0���!1W��B�;��Q�{Qn�E���<�c��N0��/oX#���(��1F����>�X�:��c�ďo6�[���Du4-n����?���@d"�R��Qԅ��?K�w����e@:6Z�]!�A2�e�w�1��鳎֡��D��\)4� ȤQ�'(�%�W 2���X���4��2x��t9�6�� ����t ����vUs�8)d�@S��fk3������u�C�|,��C8-۞���t,8�����1�5�k���
��	��P��ڒ�� ��\�d��o�b�8�X�X%�։�L��ށ�{�(�����Ǻp��֢��Nޖ�~�Ɣ&�q��7bQ� ͣu]ep%����)  ��W:_dFܾ���ْ�qp5��&d����l���2�*i�X�����uH\�V� 8'�τs�?nR�Y� ��0�a�25����X,?��,_�8��럞�)��B��J+}ʜ�
�����d��ŀ�]��i�7^�j�o����Z����B��Ly�N�x
#$�>�![�άX��2l\�<PbN%����c�id�R.*n/���w9F�r�UL�ҥ�e�x��x�Ɋ5��O���S��Q��<9�o%�W�����t�e���mNt�N�9LG�02�1R���(��ډ��6��^Z��:.��	��r�Cx8r�%,��
�\0q6����"'�<vq3�:�|$����g@)�)���R�y�4^���0�M�OM����͂����>X��D��Dy0ś���U2��1~񚬫���[n�n��ti�
F�	㤇�����܊OB���j��M�t�nL*S����q���Z�4�I�ׅ�o7�ݐyT�3��ΰ�dU���,�tQ�$�N1��1]�T�lN���ĕu�|�N������/<�Ur;�[}�ryR���	�Rd;�)�h�]�M�J��rH��0:�l"���,��~�fIs��']]����ú̂��M���!b���C�9w�4=���M��j������GD5M��}�6v�U@q�����ղ��/��j�����M��@%�
��7i�v���[��zk�28z�2k���eܾ*�Gg�UH��D����E'�#C��t�KW��X�L���T�uXT#9�u9 1n_|sk�(��e6�R�������[�R7�Tc��F�_k8_{w.�r��ʄn|e�j|�xN�6[~o]��Շ��q�k��W]�A+�g���}�obvE����g�VmW��C��u�O�E�Z�~HEX�"��I�J_�S~�➌�(bo0��T�e�$ 	�%��%'�X��ҷ-��.	H@��$ ��O�h$��߶��P��$ 	H�`|/ˆӿ�"T�$\��zh���$ 	H@� �bӚ �n3S�}��W��$ 	H@� +-��CqM���^I@��$ 	H@��$ 	H@��$ 	H@��$ 	H@��$ 	H@��$ 	H@��$ 	H@��$ 	H@��$ 	H@��$ 	H@��$ 	H@��$ 	H@��$ 	H@��$ 	H@��$ 	H@��$ 	H@��$ 	H@��$ 	H@mF�رc�.l'N�h3�U������G}���j���Ǐoܸ��Z�x����O�<Y��-[����kk֬9z�h�$ 	H@�� :�K�.
[���>\ͽ;v|���.J�t׮]��y�f�k5�٣�{��z�������^�lـ�hG��=<x���W_�
w����O?m�����$ 	H��X�reR/�ĠA��9R�ɵk�f��ۺukǎS��ɓ+X��gϞs�9'Μ93����,X���ӧO=zt|<xp,z�I5nܸ�C��FL�l'��	H@��$P$J��o&�݊%K��ܹs��ᡚ����́X��;"�_�~�J���X���kW\qۧ��6m����ъ+V����g���7�|î�~�-��Ǐϕ��$ 	H@h?BÌ;�]b�߰a�PMC�I�E��s�Ygџ�̺�[D8G�9�|l�O%�XǇ~8ۏ� Ɂ�028G �H�ԩSS>m$�s��D_S�		H@��$Ю�������֭Zhƌ|d�d׮]�X��K���#F`ꫯ�j��\�|��57�`c�N6V>���L��+УGZĸʔO3���C�;３2MH@��$ �vE �$�k����^�z16�Xc��L���F2R�c`ek�@�6cs	�4_I�Վ��[t�'*'6m�ԩS'�z�7�FP��@n2Θ1c��\d���$ 	H@���U���
�����M3�Lc#�I�.K5� ����<DW�$a��kn���K��<=�J���s`���s|P��Ͼ���X	H@���H2�#�N2/f߾}�f�
a3w��f6iD�3��^����8�����T�d�]*c���&M�s���)�;�믿D�8p��)���G	H@��$Ю���緙^���?����'vG�i��"OJ\��(ς���u]�x����{B+���+ES۷o����"&�ds�@s$ 	H@�@;$��d{�����cbZp�V�23�ջwo�[���pr.���a�wd*o�q�YIGy�:t(�$�2[��#�س��% 	H@�@;'�T��6?��s5WQP7�tFȰ@��&�t�����A�J���[�o�y1E��؈"Vx�[M$6�|ꩧj4<VY_�ti*ñ10��w�M�&$ 	H@�@�'��ϢP2�]�_xA:n۶#�����dZa�^��Z���-f�0��j��l��hiF���D����f���E����� �庼���$ 	H����f�at�&Oӡ �@��L�u%֭[��͊=�@��Aa��d�lf"��l���8�9�!#������*;n���\���6���_���Q���~��$ 	H@� s�c��-�VB��j���j�߼��˱�6F���أ�L����CY�ߘ&d��+'d��ʯ����O�1زǢljr6�ҝ���` �s���[i���f�A��% 	H@�@�!�8@~;�sHO�8q���՜�'7�(s����#�'o�"Tk3��#�<���gϞ��j��QHt֍�z�M�,VJ�??ҝ�1�(~��X�	H@��$Ю���,Y¯EW֐�E��3�����[[�4m�nK@��$ 	H@��$ 	H@��$ 	H@��$ 	H@��$ 	H@��$ 	H@��$ 	H@��$ 	H@��$ 	H@��$ 	H@��$ 	H@��$ 	H@��$ 	H@��$ 	H@��$ 	H@��$ 	H@��$ 	H@��$ 	H@��$ 	H@��$ 	H@��$ 	H@��$ 	H@��$ 	H@��$ 	H@��$ 	���;���v�ĉ����=x�`�t��?�q�Ʒ�zk����ׯ?y�dc��^�j��K@��$��"���ҥK��ֿ�ÇWC�cǎo߶lْ�]�"s���h�j�ǍW��?,�f�U�Z�lـ��5
8�JO�v�7G��$ �?&��+Wf�NJ4�ȑ#��]�6!1{�l�lݺ�cǎ)���,s�ȑ#����ܹ���?_�`����?���ӧ�=:><��4jW�Ӳ$ 	H@��P�7�|3��V�!;w�>|x�&"r}���|�wDf�~�^��j�Cq}��YW�A�f�U��6m�,��Qъ+��sU�F��y�G	H@����BI�;�!=ztذa��!C���ۢE��9묳�O�\W(�6T��f�Y������3Hr���@�뮻rn�F��y�G	H@����ZCI��ݺuC5͘1�����ڵ+�Ḻ෸�Z�|��5���������2eJ��-ޮ�}?J@��$ �� J��5�^{m�^��wa�_�)S��B��x2t�P�+�l-�u���_xᅄ7	��i� ��f�jǱ�[t�W�"�iӦN�:Q�o��2#�������$ 	H@h�V�J:*tN|$z���il$6Q}����&\u�UEo	~2��eT��5�y�楁�ժ����1bΣ��`[�]�q�c% 	H@�@I,JӧO��S��d˾}�f͚jm�ܹ%�4V�H�3��^���b����>t��$j��_\|����۷/�����%!9i�$�d������X�iڮbC̑�$ 	H@1�f�@=�����i<߾}{���3��A�憮n�FEF�s�=!�_y啒N6�]%k��$ 	H@hq_�u(��{�V6�gϞ�x��W�5d[ek5����S{jkpWk����H:�����洫1��K@��$ ��&�T��~?��s��PP7�tFȰ@��&�t������G�?�ťuj�v1L���QD:�S������O=�T]�R�9�.�K@��$ ��"��Ϣ�X�`���q۶mA���$6Yg2�0Y�x��C�1��/��B6����Ҍ>�VM���.2��s�vۮ��~��$ 	H��L���Y�t)�%A L�D1Z2e֕X�n]���k���d���,�ɔYW�����H�4Ŭ�	&`�!YӮS��9s&���{�?�wcUv\���۳�^��znZ��$ �?2�V��?�%ZHwj�T���ע��~���/����w��)�h?3՚ߛ�L��5��]��6#X:f̘[n��w��a� j��Z�<�1��Rjx$X�3[�iԮ�ۦ% 	H@� � �u�ԙ8q��ݻ���'7�(s����#�'o�"Tk%ɠM&�D�39�X%�Z���;
�κ���\�(e��Ө]Y�MK@��$ � ��~�k/Y��_���!�&�ׯ_����.=�e���cͬ�LmW3�x�$ 	H@��$ 	H@��$ 	H@��$ 	H@��$ 	H@��$ 	H@��$ 	H@��$ 	H@��$ 	H@��$ 	H@��$ 	H@��$ 	H@��$ 	H@��$ 	H@��$ 	H@��$ 	H@��$ 	H@��$ 	H@��$ 	H@��$ 	H@��$ 	H@��$ 	H@��$ 	H@��$ 	H@��$ 	H@�@�%p�ر�'N�[��c���ˊ+^|��%K�Њ�߮{��]�|�����v���~���o[�ly��֬Ys����%�+	H@��N9��7v�ҥCa�߿��Ç���cǎo��EI��ڵ+27o��|Շ6;��^��Gռm��P�Æ�رc���K/x�5<x�ꫯN%�w��駟6X�L	H@��$�N�\�2��lbРAG���$����ٳgcd�֭YA5y��
���z�<�HT1`���3g�DF6�\c����N�:�'�pܸq�]w]8p����s6�ۣF���9�C�C�Ɓ�ׯϕ��$ 	H@h?BI�|��D �[ew��9|�p�J/B�X��;"�_�~���ze����;O?�t
xV��z:t�LWu�ExN_|��8����v��#>9~��\I?J@��$ ��C 4�رc[�%�����!C����E��9묳��-� c��ag�ܹeʷ�2'O�<���q����9�b$�ԩ)IIN�Ν��ٓ2MH@��$ �vE�5�$d0d�n��B3f��##$�v��ǅ6���ec��援7o�d�m����`l���XDu�`�O��H��уv-[�,�n�ӧ���N�4!	H@����P�̯���k{��Š��#G.X��������̶G�󩧞���ϟx�9s� ��*]�xX{k��<H��n���z��M_�J5`�R6̘1�s.���% 	H@�@�!�jժ��b�H|=z���Ǜ�g�M�,5���G�3tir��k�abx5˄�k��1,���Ռ�Q۷og�hx��bo5ӑbo�τ	�'ۜ�=V��$ 	��`��2B��$��}��͚5+�M��""��s��իW7�̆S����锾��I�G�w�4�z�������a�P�I����:�悫ӦM#����j=ߴ,	H@��Z�@hz~�i����2eJ3��$��S����!�Xͻ��ŋ?PsCW��+X�B(�Q��>���e4!WQ�$~��la���$ 	H��HQ2�JWv��ӂ�ȶ��8��~ŕ�HJ}�?��3���8���u�p��YWY/(څ���%��=�\6Ӵ$ 	H@h��jچ�j�2��n�Ȉ#�̝>}:i��|��w�r�,FL/���WY�`�a�H��+���� S��t�ҥK�@+r�1����$=�10��w�M�&$ 	H@�@�'���"xP2�]e�qH�m۶a1�ڒ�0�:�0Y��e�]��lL��*�/�T0�ƇĲ�L���;i�$ڕ���� ­�.�܁~��$ 	H@�� ?7C(���a:��FK�̺�֭���fc:pӦM�M|2e֛��ap��ކ�X:��a��z��jy{�a3���o��v��n�U�Ol����_���2��S,�;Џ��$ 	H�T@�D1��K+!`�0�K��R�{/��r�%���ۗ��9��nLNlH,���2����ӟ���9G����Pq1�<|�!��a��/���k{�2G��z+?zNI��f�+�G	H@��$�~00�vʇ�'Nܽ{w5's�;$X<;��� �
Tk5%�)�{�p�\%�F-8��Z��G��K����3�*cG������ϯ���,`���`a3% 	H@�@�!��~�k�w�Z:�5d[6���~�!?p��O?�e��օ`F:���r�?��c��3��>��>��d�Z@��$ 	H@��$ 	H@��$ 	H@��$ 	H@��$ 	H@��$ 	H@��$ 	H@��$ 	H@��$ 	H@��$ 	H@��$ 	H@��$ 	H@��$ 	H@��$ 	H@��$ 	H@��$ 	H@��$ 	H@��$ 	H@��$ 	H@��$ 	H@��$ 	H@��$ 	H@��$ 	H@��$ 	H@��$ 	H@mL�رc�.l'N�hc7�Tנ�����2���2{��]�|�����v���~��18�;	l�����$ 	H�=ظqc�.]:����>|���;v����m˖-I��ڵ+27oތ �`z��Y��3�.]Z�f��bŊaÆu��1�|饗�X�q�R�lb�����H@��$ �vB`�ʕY�҃:r�H'��%#$fϞ���[�f��ɓ+XF�b�S�Ng��-�koJ���U|�޽;B��,FPG�����ܹ���?_��H@��$ ��!J��o&��*׾s���Ç�"0`�G}�),�q��ٯ_��_����~�		���g�%�I-��}��e�Oy�СC��^{��ѣ�(���%Kr���/������b~��$ 	H@�@(ɱcǶ�Wh'zuQMC�I��E���l�{�d�Eq�j�*��p�%-��b'O�<����6'�q)��N�{V-	H@���%�J��֭�iƌ|d�d׮]��p��z=�]��f��R�Xc{��d�m���-5�Q}�9��-�'s��$s@�(	H@��iA �$�k����^�z1�U�D�4S�r+"�pZ�l�СCI0\���D��0����4�IW;��ޢ��IS� �o��6*�ݻ7]ع¡$����/���-c)���\1?J@��$ �vE z�CJ��H�=�ؕ\��il$6QG�rS����/^�eX�b5��r�k��͛7��yjXhr�����TA�gϞ�!W]uU�o:u�����H@��$ �SE�{���3u�T���ʘ�2k֬P5s��m�WHG�am���ʹV<���W^y�����|�����@��E�~�}����8$��/����/搾}����D���H@��$�>	L�6C�o3�C=���L��Lk�Ùʍq"xF�r��HT���E�N"#�Xfm"�1��A�9o�$ 	H@h����눡��,��C;�(ī��:�!�*[+Hp��%�����8�p)�����o��1e�|�,)	H@��N-�Z��cy�j����M7݄�#FЙ;}�t�̎���,u�%�`�^*�*��0��jnt�'Ȕ��+����Ld����+�����S����*�2G��$ 	�[�>�,�!��=d�7��۶m�b��%�a�ɴ�de���7�`I��/�4�N���fN����9�)��/4Y���$ 	H����f��[R��P�hFK�̺�֭����^ҁ�6mb�	f�O���	�bjԨQ�-���,��{���h��~�G��=iҤl��d�J��)���&L�$�B��]&$ 	H@�@;!�ȉ9 �%ZHw*��6~����7/��r�%�0��Dc��<x����������;v��b��_�l��de�ho�qN3�sqԙ3gFI��cƌ��[Xs2r���ڗ�$ 	H@�	00�vꅿ'Nܽ{w5��:u�s����#�'o�
Tks����w��U��68��X��gϞ�������z�FerMDqSaD8��6��*$ 	H@�@3	�߿���K�,Y�fMe�L�NLr���[�l)ȩ*�`F:�	Y�����F4�S���2��5
�K��$ 	H@��$ 	H@��$ 	H@��$ 	H@��$ 	H@��$ 	H@��$ 	H@��$ 	H@��$ 	H@��$ 	H@��$ 	H@��$ 	H@�@k�7	H@��$ 	H@��$ 	H@��$ 	H@�@�'��~�|�
endstream
endobj
202 0 obj
24590
endobj
205 0 obj
<< /Length 206 0 R /Type /XObject /Subtype /Image /Width 878 /Height 332 /ColorSpace
/DeviceGray /Interpolate true /BitsPerComponent 8 /Filter /FlateDecode >>
stream
x��    ��o(0`��0`��0`��0`��0`��0`��0`��0`��0`��0`��0`��0`��0`��0`��0`��0`��0`��0`��0`��0`��0`��0`��0`��0`��0`��0`��0`��0`��0`��0`��0`��0`��0`��0`��0`��0`��0`��0`��0`��0`��0`��0`��0`��0`��0`��0`��0`��0`��0`��0`��0`��0`��0`��0`��0`��0`��0`��0`��0`��0`��0`��0`��0`��0`��0`��0`��0`��0`��0`��0`��0`��0`��0`��0`��0`��0`��0`��0`��0`��0`��0`��0`��0`��0`��0`��0`��0`��0`��0`��0`��0`��0`��0`��0`��0`��0`��0`��0`��0`��0`��0`��0`��0`��0`��0`��0`��0`��0`��0`��0`��0`��0`��0`��0`��0`��0`��0`��0`��0`��0`��0`��0`��0`��0`��0`��0`��0`��0`��0`��0`��0`��0`��0`��0`��0`��0`��0`��0`��0`��0`��0`���
w�
endstream
endobj
206 0 obj
1294
endobj
207 0 obj
<< /Length 208 0 R /N 3 /Alternate /DeviceRGB /Filter /FlateDecode >>
stream
x���K�@ǿ����E��!S]��֡"���BiMi[�iC�b���@�I'�G''�Ap�� 8T�H���Sq���}�{��{wp5%]��hU�(,��յu�ӂ>�1��$��d>�%�>���=�Y���������}��s0;_�s�W�*j]�!�.k��ND����8�k���*���q��/�E�],Θ�TH� �H�a�q���rYR�'K,85�b��%��p���ߢU�N{����e���f"2�CQ�%7�&�H��=c�T6�$��ʧk��0UC��rD���X����1�v?�񧞶}L} �=M�n怀��&Ψ�O�vE�ɉG+�q���oN�mΗ�,�<�@�Ȳ�/,�{I�[�]���k}
endstream
endobj
208 0 obj
383
endobj
204 0 obj
[ /ICCBased 207 0 R ]
endobj
203 0 obj
<< /Length 209 0 R /FunctionType 0 /BitsPerSample 8 /Size [ 1365 ] /Domain
[ 0 1 ] /Range [ 0 1 0 1 0 1 ] /Filter /FlateDecode >>
stream
x���W�p  ������{m�ݵ���23��V�pA�e����>�X������*�S�zdE�'%E���ʒle�&K���K�$Y+	���$����9Qr9Q;9gs�ڧsQ- ϧ�kV��A~�j~����	/��	�1'�I~��팧W�x�OM9��)�>ˑZ��g�ꐝ2��〙9N �L��)��L]�����^�Ƭk�����.�x�Ҍ�A�'����ѤM��P��&�9�=l�c-�"�ݲn��A�447��U��=UX��=N�L�8�HVq}'�Yq,c�K������>�#��aa�|o�����\w�,:X1��<�Mwp����R,նO����'�8���qm�/�b�}��[��u��[�FZ�����f�7�0�?�P�!�7А�s���q�w������޶��O�ǵ�#r\S.W�����8��*��G�}�X�}���_��[�y�gI����}/B������ 96
�oy�_��\�k�~���\]�5��gk��3�=��^F�k���.JW+�ҕ�S�R�d���}��.YV'���%�o��7��7q�N���wL�cE��vL�:Z ~-#�W�/#y�H~��rn����<gν�����g�����YV�yzf�<q�8�yJ�O-�������`�x�z�|�$	|�8	��{lH���	$�w��������Ql�(v���Ql�w5�����@/�
endstream
endobj
209 0 obj
744
endobj
3 0 obj
<< /Type /Pages /Parent 210 0 R /Count 8 /Kids [ 2 0 R 20 0 R 35 0 R 64 0 R
79 0 R 94 0 R 116 0 R 124 0 R ] >>
endobj
140 0 obj
<< /Type /Pages /Parent 210 0 R /Count 4 /Kids [ 139 0 R 169 0 R 185 0 R 195 0 R
] >>
endobj
210 0 obj
<< /Type /Pages /MediaBox [0 0 960 540] /Count 12 /Kids [ 3 0 R 140 0 R ]
>>
endobj
211 0 obj
<< /Type /Catalog /Pages 210 0 R /Version /1.4 >>
endobj
68 0 obj
[ 64 0 R /XYZ 480 540 0 ]
endobj
173 0 obj
[ 169 0 R /XYZ 480 540 0 ]
endobj
144 0 obj
[ 139 0 R /XYZ 480 540 0 ]
endobj
39 0 obj
[ 35 0 R /XYZ 480 540 0 ]
endobj
199 0 obj
[ 195 0 R /XYZ 480 540 0 ]
endobj
128 0 obj
[ 124 0 R /XYZ 480 540 0 ]
endobj
24 0 obj
[ 20 0 R /XYZ 480 540 0 ]
endobj
120 0 obj
[ 116 0 R /XYZ 480 540 0 ]
endobj
7 0 obj
[ 2 0 R /XYZ 480 540 0 ]
endobj
189 0 obj
[ 185 0 R /XYZ 480 540 0 ]
endobj
98 0 obj
[ 94 0 R /XYZ 480 540 0 ]
endobj
83 0 obj
[ 79 0 R /XYZ 480 540 0 ]
endobj
192 0 obj
<< /Type /Font /Subtype /TrueType /BaseFont /KAYZLB+Wingdings3 /FontDescriptor
212 0 R /ToUnicode 213 0 R /FirstChar 33 /LastChar 33 /Widths [ 891 ] >>
endobj
213 0 obj
<< /Length 214 0 R /Filter /FlateDecode >>
stream
x]��n� D�|��C�rDHU�H>����0�-�xA���R{`f���{K.�Eo:L08�g�D����5G�Τ�T53��x��uN8�4x����)��{���}Ѯ�bt4����U�[Bx���@0��␯���SO����fߥ�����}�Q&�g%�-�A��FdR%/Ő�?k�aK%�џj��)h�⫒Yb�m�j�R��V|(��}�pF
endstream
endobj
214 0 obj
224
endobj
212 0 obj
<< /Type /FontDescriptor /FontName /KAYZLB+Wingdings3 /Flags 4 /FontBBox [0 -211 1027 928]
/ItalicAngle 0 /Ascent 928 /Descent -211 /CapHeight 723 /StemV 0 /XHeight
723 /AvgWidth 773 /MaxWidth 1112 /FontFile2 215 0 R >>
endobj
215 0 obj
<< /Length 216 0 R /Length1 2764 /Filter /FlateDecode >>
stream
x�VolS�?�����!v����/�2l�a(KM�g��6��=���ĉM�bA���|`�g���݇~��I��P���&�&5UŔ��I�:MSWM�4MK�/�k��}��U7��wϹ�sϹ��������
��
��g�`�������.(�N�@�3��yG�&ėg���8z��b!;�����-‣���(�/�s���{�N�x��Q�����Ϩ+�f��};�(�:��Թ]�|�д' �x{:�����%��V@�'@
^�{��� �~s���ܵ�>d��;���/\X�:n<L���۞8�=�0�K�����H�(oB��
�>9:��I���vB4��{�?B���C�Y�2�N ��|y9�������y���O��r��{��r��7��]�e�,�TX����#$ɖ��)�#Z����1I� �;	ɣ�;@�˗��H�ѫuG�:i�y�r�u��I���@�7M�~���� YJ�X2[�<	܀<bE�_Gʨ�0a�N8�-�ю2՜�����pϨ����"��4�G�`��|%����6�pW�_|F�%7���}�����7"��Vֹ���5���oO�D�.���yx�!iEZ���>��4>�PAɢ��UD��p�a�L�N�!r~�u1)�(�(�p� ��O�=�%���<���3LLr�B�5YCZ�)���-�U�*<'�B�<���M�D�xi̵�P3ֽ��a�k���>m�i�3�[�^a�pPxSX��}�GA��t\zE��#��\�����#�w.�O��WjkW�^�3pOzE8G�"��'ύ�H�}�n�<�Ě�h������@��Z�
u�d�Y-bT�!���"ø)b	�t��j�.��q���Ȟ�w����w|{�[C��vU��ԓ���'�[{�l���y�6uz:��d�KJ �k��2L�&'�\ײ8�}d �J<n�>/��c�Q����eԱ��,�W���!E�������ci��q�Tؚ-?g�␭t���8C��Ÿ�HF�Y�l��3�p��:�cZ��A����XB+�Hb��M��j�N̑��:��p*���4K�=PU3b$��r���M f�a�s�a��t���B�ֵ�r��gZ�Ξ0��E:��A-�^X��Cu��Q����/�8ԨԦ*�ɣ�G�m�ͷ^X��/)U˺����w�����4�i8�<l��jM���4v��Gp�|���$\�t>�9��6mB+Z'3�Y}���ե�C�;�O���XGMe�43�m���[SQe�q$�y}N�k������Q����`�d�s	W�Qj�W�M�(����+14F#�Q������`3	V����X�}����b�<��?�6G\����A~\ZG���̂A�c?)�n-�l�ֿ�eI��UXK)'��F���w�Z�BVI��@.�����,o [^�HeiM�hx�o��[�<��uy{{��>Fz�\pp|}t�&J�V��Z��Pƺf�N�[mY	MIX+[oTr��լZ2i�u|����j�E��E�Ee��j���!(?�(р`��Wŭ�"g��9w~'q!�8B�_��B�
^C*�� �����_"kxq�iV�F�y���u|����S}��O��e��C�V>�T���HL�k�)\���:��Q$�qYۻ�?Fw���H�����]%�/��Fk�A�hlX�eak���i�~�	�%���+�,�K�ӥ٢}�#�mo`�>�����'�?(�:;�|f7��]��
endstream
endobj
216 0 obj
1774
endobj
175 0 obj
<< /Type /Font /Subtype /TrueType /BaseFont /CUQSGX+CenturyGothic-Italic /FontDescriptor
217 0 R /Encoding /MacRomanEncoding /FirstChar 97 /LastChar 120 /Widths [
683 0 647 0 650 0 0 0 0 0 0 200 938 0 655 682 0 0 388 339 608 0 0 480 ] >>
endobj
217 0 obj
<< /Type /FontDescriptor /FontName /CUQSGX+CenturyGothic-Italic /Flags 96
/FontBBox [-192 -307 1173 1059] /ItalicAngle -4 /Ascent 1006 /Descent -220
/CapHeight 727 /StemV 0 /XHeight 538 /AvgWidth 486 /MaxWidth 1194 /FontFile2
218 0 R >>
endobj
218 0 obj
<< /Length 219 0 R /Length1 8484 /Filter /FlateDecode >>
stream
x�z	|T�����sg���3k�If��LB��$̅,��a�N�@	$1)
VLA��XA[\J)��Mp@�+���<�ڴVm�Z��%3���������3��;˷�$]+W7��������b��*�/Y�勷�~ �饝�:�m�= ���]o۩0�kinl���
�Z�#��qTf�tt�o�کӾ|��m����w��S���Ǝ�8��
߹|U�p{?��:W6�c@�왦�2���ծ�K@�2��Pe�V�����.#|16����"�ܾ�R���b���S+}��#k��K��u4��Wh]�12@�YyEjd�psu�v=o�����N�� �죾�l��mv!�|�]8��8s����(/�|7��(���ӔE��0�;T�*�ջ��Xٽt������yv�j����=/'�����_s~�_q~�bb[	hk|+MVk�l�m�g2k�5ɗ�K��$����t� ��au
�Zc�(A���Q����}p
>��L��!��"
;���'xwL�c[�}��_b6��UK�͙�����"����]���Oq���0��s�K���n�8� !TT�&��|�������������]T�����N��hK�G�@�@�� Ml��Єk��FǚΏu�q��ozy���*�`�q�F��s�o
�=���ZSt��M��N��5�d��h��ᦣ#]w� }����ŧ���Z��-h:8�us�I�V�Յ���s�X;������!b�al_�2�	IM���\�{���N�t��Y��BW����U�e�/ώs��:R_�]<�IQO�UO���6/?�j��k����`�\�+�j%zz�X+�{�)�|%��{�Ş;Ğ�Ş�bO��� ��{��L]�ΧK�ytɺD�K���tV�Yg��u:�V'�H(t`I�O+I;�֟�A�ΫY�ܩX��/���>��\���+�TTl�P=o�R��`�21P��f��E�Y��-a�yt�$��)E�����6�HQ��uu�����'��.����Q��@�\��Ī��ʃ�s����:e�Z���U+����6mldy�q6R-���mh+�����eu�.�q�Q�`L�*�kU�0�˵�Q�r�Ԃ��@{l�v�L��������$�T�A�1�Z��{p��փ���_�-1�[_T+���z����zz�(��1� �D]+�id�0H�5��붋èk�2�IWa��;	ɿ��U�W�o+#���j�1��k�����_�P����j����ڇ��z�����]jO�T,oUpV�WS�J�*jy��$O)�uS]�Λb¥�UҞr��!P���S�*��$�Ř�5*Z�)��xcz��������M�CyS�Cd�ԅ��mJ\cz�	<<<d��R��Vuuu�^�*�V]{T�WC���[��Ly�"okP|�2ET;~=ܑ�'�6 �)�R� � ��������j�GE/j� +� ���u�E���}6��מ���!�������'�6Q���l�M� ������]J�mЉ&(��V�B9����諰��JA\�1�ށK��ތ�;$�hX� Ĳ�]�����	��}�#8'�����LI���@���O�vI47�\�dZy":)���/i���d����Ћ�1;{K�"���D����(z�b�dZs
,&'��>:�X��F�AȊ�9Z�M��e�%�	+	�����_Q��c�I�:��_�o�!�?�Z�����ѿ��ΕC�.����t쀇(=
���Ez1g`ގ}�"�f������͵|��w��K<*؄D�I�"�z(r&j���.����,�p�q�����p�A:L��*�fP��[�&-p�C��n�@g�B���:��a/<a8	�(�S�\!��A'�8��<�ƍ� �����'��<,�Ma-���e��#�.q��B�0V�#�+����W4C�#鑕��#�E�E��}>��蟢�P�!��BcaqO&.̆y0@4�N��{%Qn��'�v���<�� <
��	Jg�ex~��7��Ex|��E��F�`�2e�N�,�F\��	�Mx/����~�)>��� >�OSz��9|?�?�x��bJv��R��<B>�&�J6�����B�,F�.��"j��eO2���W�9��>f_0�Mn�I<�����Kx_���~�?�����S~�̏��7WXMI��	�^._h@#h<�|�M�懚��G���E�U��N�Vi;���Oh����}�������t�Jv�����.��8���$`�/��2&������؂SI���w�?�^�Z�f���ć��?F����Rҫ\���!�z�h�p:� i�C���l��"�#����	s�t��V��B��������+l�LJ=(�N?�z��h�x��C6���Y����+��sL��5DI+�g�ð�>C.L�<n��F��s0�!�)Ќ�"��3э���&�7�w�g�2�S�%��z��i��-&k�����|��[c���)x	Γ��l�S���t��	�#M��&�8��p⸂�7����5rDNvV�?#��MK��$'%�]N�ݖ`��MF�^҉Z��Bn�����d7(B���<��o����:�}PW��a�:����)���R�C�� ��+��\_�ߧ�+���8v��;��u>e0V��Յ�X�D��t��+Ol)�)��+W*ִ�(v���^���_ڬ�˅^����)��^��	cVQ>���L��R�/+W*�4���Y�Mʬ��������*X�ĿX�-b P�Fі*bl_�B��6_onh{�
��&S゠�i�r%!�L#�;m�@b^n�*Ri,d=U�����2
�h7
6_��C剭>uv(�٧��n��tuI�l�r�r��������>�9��(&����>�8���r���ͧH����P[1+9�����}�U����PU���ӕ�]c����9k�Uʾ�����Z��5[�+F���f�B|,V���5:�UR�z"�"��-��I�~�e���B-)$��S�D�V�_C�:��S4YV�/�� �������m��PUq�&r
Y�a�Se�(UR�Rb-��X{|^����i�)�D2��Iu�����*���eXL�{v0����>��)�c�H��g�:�}u���?��3�u 8]����겗�LR������>�^A���nmK�nm�#�� ��*���PC�1�^��Y�����Pg9ic�p�[�"o�kA"�R��b/��J&�X
�Z�\���A��p)B�*���M�$B݋ۈ_�kܮJ[zȪT^&쐺���gQA����1�P����J��i������M���������5P�&(`�<-QJs;k�(�$�f�ǐ����ՠ�)��s�T� ���jKT⪷8Z�� �t1��0ʜ�w�@�]��R�<}�f����o$3�lɏ���HӮ-����Ȁ�ݖ:��ܙ�!��>Њ'�C� 3>�9赚0��qQ8I��������c�[Oӷ��b�P�7��o���Z��1�	�	Y�B�0��x�Y���OKG���`凪�kt]��G����d�tY,�6���u���{�����b{��^ּ"���O8a;���M�m'$��sTsT�!ף�#	<(-��J��6�3]����79��h6#ւ����ZwP/��Fg�a��������B&�l�"�-UiRr�W��y������Tp7��>�gX/կ���a��>@�+@_S5C�[��r%$@�`	�lEE�5�wYOo��O��a��@}��֟�P0��X�co��㲩��p	�;�/^�0�	��זs�I��n�p�[���|���~L�=E�W�}�J��_n?�f��7�|S�#��O���[�صڵɵK�ez\�O�ו)�������6�lv�|fg��f;�1m��r2&�f�l�*��$�u*N�Lq6�"1@FQ���+��5�3��k
�B�� �T�Nv�P�"�bF�#�N��6�ߧb�>�%<�j�=_������(�j:�D>�;�~�
�-=�=�a�s��f�^ӁI��+��$M"�vnnH�����4.�1��&�jS��VSk��M	���������WRM�#!,qH�4)̎<;S���w��ٞ�Ѯ	)A�nWR��Ǿ�P
�6ٓ�����b�*6Yd���ǲ�B�JocobL1��k/�����~�V�?x�~ ���1P_��zL׺]�Qa�-�H�t�F�Vv^��[Z�\uZn���H�I�8�;�m֞y�ߎc�K˗/��m^������C�?�7�dϩ�/��fb|}s�M�b���rp�>��s�>P8�AʹiU&b�clP*e�W
N���	I�wL�H�t�Y�\��
m�:��sML�UQ�p�﷾���>Ǒ�[��������M�9[*6�{�ĕ�{�{L�ć�$����C	�<��3�OΩ����z~��>��w���	6��a�;S��<>�7�� �L��ϟ�ӽ��4����NK��[m�Z;��v�'-�֛�9$�������@��fl�IA�1+���U١Ak��;��^ȵ�M������6�|���֑���KLW�^j"[�$������yv�ם������������|i�"�'d��j"CYRR38XlL����]�
�f�:h�+���C�w�h����3��%@<o"�r��jA�����	1#b���꧶�JN/�sQefջ��d����}���3U���4o����m������hE��/�hz����`я6��]f��&������"�G�B��G��fH�G�ɦ
V�+�J�ͼN�4�K��t�6d2�Ix9��v����ɋ<�֖D�Ԧ'8��c�s��:�%br�,�{.Ty�Mr�a��*Ӝ��]��kV��N���D��<	��?A�F���I[HO�������z�Ff�	��%�sǬ��joG#;���F���^�1���?�����/|BX�i���#��E�Oa��M���������O7���Jᯄ?y6xU��ҭ3�ЅL�a��O��o���yR[�k���M�&3��R=T�2��-��d:�A�l��2X̖�`�&7��s2Z\E>Q&gT�Sb��z�e%YܖT�N2�$u�H�_��� Y�z�Tꈵ�Y�N$�׉"I�fs�i]�*W1����'�CRFv��U���_��|�oajd翶�v������~���g1� ��T��G�D��Z;�O��M��Mt_4��#zeï��.�~�A'�[4�gF�1�1�;�8�>�;>�\*˾Y��ݜݕ}O�.�Q�O2�KOZ�e$�IC�'��!m�$�$��fL�:� �����a6�����ы`'&�Ev�'M�H�WО`@�L1�\R04V�d�T;N޼�� �lz~`�ra�j�ռ�<:��|9srpq�u:H)9��s&�v~���l5�G�t��~�`���޴�{é���]�s�y�wo��6g?�b�¢�#ʛ��d�3ǖ<��zra��o�\���T���H���m��L�k Q�u J����P���֊�IzP������2�k�Ϙ\/1�6�4��L&fR�pl��O�K"[էU��*9C�(7H8F��Y�=%U��D��I��$���T�A�{ݱH �k�5W�w�{�ԯ��,��z�z�A�J�x�TR�\3T\���WM���^ �ɢ�)8�m�w��ܳ}�Ʉ��#��L�g�.CY�Et'����	�2M���)6�����X���؝p0Ag�Z͌sTo�`1[� w9��5�6[��F��H�a8��1kR��JyU��Z78h�	� �3h�mc���VZa�,Y��f4Wy$����ǳ��gy<�����Dc�3{�{݊�7�;��n>�-�g���\���v�)z���#)&��L��\�)��\���5��"Ϙj�c��1J�^G���j��Hl�ϨU��5O��|���W��U��$ӪO�0��<��-�D�����$��֕�3mI3�������j�k9R���w=vG�
�E�"�~���'�4�T�o�Q��I��It� I�z��빨U�v��vQ�ZN�Q���K���ڍzNY��*�e�	�R7l4Sh��Y}���eT<8�.�$�_�
W��WIT|U�H}�]�7����_iPS(J��?$vV�L�L��*��)	E�t���VBu�[�S��B}V��$���~��J8�p�+N���x��<2��� �,dB�G��?�.���۩��,�D$EFu��t�ۈK�۱�nq;qv�jT��?�e��[w(��=wZ0P���.�v�����uI^eWc{��o���d
endstream
endobj
219 0 obj
6375
endobj
10 0 obj
<< /Type /Font /Subtype /TrueType /BaseFont /ZIIVJE+CenturyGothic /FontDescriptor
220 0 R /Encoding /MacRomanEncoding /FirstChar 32 /LastChar 231 /Widths [
277 295 0 0 554 775 0 0 369 369 425 0 277 332 277 437 554 554 554 554 554
554 554 0 554 554 277 277 0 606 0 0 0 740 574 813 744 536 485 872 0 226 482
0 462 0 740 869 592 0 607 498 426 655 0 960 0 0 0 0 0 0 0 0 0 683 682 647
685 650 314 673 610 200 0 0 200 938 610 655 682 682 301 388 339 608 554 0
480 536 425 0 0 0 0 0 0 0 0 0 0 0 0 683 0 683 0 683 0 647 650 0 650 0 200
0 0 0 0 655 0 0 0 0 608 0 0 0 0 0 0 0 0 0 0 0 0 0 0 0 0 0 0 0 0 0 0 0 0 0
0 0 0 0 0 0 0 0 0 0 0 0 0 0 0 0 0 0 0 0 0 0 0 0 0 0 0 0 0 0 0 0 0 0 0 0 0
0 0 0 0 0 0 0 0 0 0 0 0 740 ] >>
endobj
220 0 obj
<< /Type /FontDescriptor /FontName /ZIIVJE+CenturyGothic /Flags 32 /FontBBox
[-169 -307 1153 1059] /ItalicAngle 0 /Ascent 1006 /Descent -220 /CapHeight
727 /StemV 0 /XHeight 538 /AvgWidth 486 /MaxWidth 1194 /FontFile2 221 0 R
>>
endobj
221 0 obj
<< /Length 222 0 R /Length1 21288 /Filter /FlateDecode >>
stream
x��	|U�>|Ω���}Kg��$@BB���!	�H$� 	@Q� ��"�����$,T�u\��������ѫ��U�J:��Twxg滿��}�N��T��s��.����tˊ�:b"�@ԅ��7��|����U-�Ĺ�!ⷋ��,K��_���K�'�=����G}��E�sr����8��qP��eu�ܱ�W�&������_�|?�=΃��_V��?�67�lI�_1��W�%��JBt�\4��|����7%����4�M&�0b#!2��ߺ��_��gUw����:�P���H�:����z��G*kpj���x�b�_J�~G|_����;�.�L�b+:��3���Κ�?�ӳ%$B2XC�XϖtD2��X��C�fO�eK�Uؚ�m�����~�Mǖ&�v5���%��<�"6�L�V������'6lAl��D���a���O����$�f��l�`�bkf�ՙ��g�}A��S������)�E�6��-�y�)c�X��&o�^�Kū�Ut'�I� 	ҩd*E	��|K��O2�?=N�{���Φ�к~<(�;n���Y��mk�ha����Gդz�ĉx�í������t31�O��3�w�[:��3������x��N;n�l:s�o�hgtѼ���q:��5~�
:�4hC�M/E�,��皇f�nn��p�K�U����)�P�{����	�d\��n�7;2ښ��ǝM��g�#5Mr<s��J{��Ϭ�G�;<W67����1o�tsǼ�p��1��܎y�f<G��q5�}����K=?Λ���.���X���ʷ�{>��$㷕��z^XsT�,}���d�!�'�5ރf{n�w"cWe���Q��5G�7��#������~��G�|ܽ[5gL$�D�J�ޥ��<����.����~u�n��]�t�6�v��v5�v-��Z��U��5[7@�R�J����(>ţ��bS,�I1(�"+��Q�5#/clFSƉ��g|��;y�~G(�9�
V1c<���\H*cgf���azuL
��1G��9>62��K!WĊs+bʴ9�(��*�n�d&����7b�	�G����;��{㎪*�BVzr���G/�F+��=���gЂN]F��+f��.��.~u�v՗�]1�2�DZU��zӪ*b��έ<JO���J�������(���.��_g��VUUtQ�V����Q�4��o�:^�ԉoi��݉zs�}�k��3֐�Z��ƚ�h�[Vz`.v�:MZ��di8ց�u�S��x�L�ju�z��琊X�V��u�a�:t!���T҅�]���U�$�l诲���h��;<���W�І:�D�~Fe��̉e�JA�~6_;�h��XV*�-�������5�MV#�v_�"軨����v.~f��:�%TV��6�mU�/�qA0x`�3�F0&Dj,����u�gBu��ա������~v{3��8Tz�l.�Yy`�ZWڱX]\�_ZչvU��kk��jW��w�����Z�}�gﺑ�^��u#׍�]kյڻhY�i�2�j�;�� ��dV��ؚ�h�4*ӷ>pL$�1b̭��B�cfl\Ά�2�߂��,�lM���8FK޲��|��ʖ���y++Wⴵ�Qknn��%1�����+����jc�PiL�/\���*�%��I�t���&�$���O�u�c|Eo7�ϏBN��{0���Fz�8z����7��#�?���󸾿�?-$�Hn�M�����d��l"#���&��\�󕤞l&[�/X3�� �h'���\C�H�C�ɞ�z_r;C3{��t|c=�I�!��9݆�G�e���e�{P��3u���!�-�&mxKi w���Q��{�H.u��E�2�,#�!�3l_�1"/�$�d��w��'a^�d��*�Dv���g��x���R|{!ـ����%�t}���QB���{��o��P�N�d$��� �ن�����"�p:�N�u�	z���jY=[��n�?��M���[�F
�u2���-!��/�d9D^#��A��et>m��Efb��u���K�,�S��D�l7�w�g�#�'d)&У
<q���ᯉ��5h�-������O9N�%o�����/��͠!�q$��NF��Ǜ�h�k�7��	�+��Yю"��	l�s-{�=�:��;�v�B��,�
�§�_!B.q��\l?�>�C��������{7�~����RR��NŸT�K��@1қ��h�mh�^ry��'Ϡ��;HN���F�=�g�����h���i�������n�;ЗG�������#�a:���2Y5�ǖ�GkX;�����$d	��/L�	u�ra��������%�c�+�7C\&nc�[��RD*������J��}��rH�\�#��o����7�R�C�' %BJ�2]yY9�������W���%���nz��I�P?�1R��_S�<���S���A�0����A��I+�5N:U��`o*��^�ENP	��������_��"�t$�Q&��gA�y�D��
t;h���1B'�1/�7 '��N�3�
�2	��n!�R/�N+�=�T�'�7��G��np�n`�3���D�1���r7i#��e��y�q���A穣F���dd��a�yC���40;��f���R�>���r:�6��l2�N�D�Q2�,4�6����HhҤ!�<4�_p��&^\'�ߛ�[�TQs��j���jMj�&������7KC�.Z=�����`�V���ňvb�If&�,�՗c�6X�����`�`z�h��Pg2�0Q4��j>@'��Z�M,�� #�}���J�b�������bӦ�23����	Cb��\�
���&&O���b��<0�d��.YP�kZZ4neL��g��칱�`�.[��2���Y�O���QR޻�@tc)��۹���������no��=0��2�#����!�+���D�Ce�a��@fZ�P��C��5��D��$\{u0��շ_]��Ji��+�2;R�գ����`���Pfll T5�4����_��U�ы�|�fOP��Ś,���0
�{ZI��Khu�)oc(S�c�hIe(��#��n$i_8#�OE@��v�%�]L
�B��!t�o_���"�m?~��K?��`���͍��pN�M�Тec��!�W�*BͶ`���L�ė�.��33�(o�R���6N�L�ɂ@Q�{X-�s���J~gcߝ��׆�����;�D���6���������u�����Q
�O���o��Զo�WO�T��O'�׶���ݸ ���TT�7�A]��=�-S�W�S5V��F�9�R0Ι(���RŌP���J>��bb��E��E`����x��v�m��X�zGq��N�5��q�bt��-#���Gc�w$n�AVT5�t�Md�\H�����N�u�bR�{���x\�@&��8���p����6�l��ʰ-�u���ߑ���d����7�&�4�QN
"�򏤕�M�>!�XH�;(�&+�gI��	�u��z�)]J�tϐZ�Z�Tj%��!�AZK�I���m&S�d��'r��Tcۢ�D��s|����v5�'K� �����v	��E[��G��l�|�����|���s�wB��}��Er����`{��`
4V"@W2}�A�NT���%�9J
��5�f!V�?��{�<��H��Dz��@[i$�2�\<HH"jp#��M�4��?9$�&C�P�G�a��
�d8�&G]#I	�(D�SR��>�pc<�	�J�,8!�aK|&����ݧ������^ſy����05Y��D��bv�HD�	X��Lq��+=$������_)��;z��Őjx�h1�1�5�4�1=c��<�|�Eoy�����uo�k��:;�8�t�]���ϻ?����{�}ķ������N��ro���]��Rj uhjijujs�M���O}/�t��;�x���c:2��$vQ_�uǩ�G采�d��z+��P�{���r�Ӿ�)�ӣ'�0z����ɶF���m=����L{�=���
'ϩ��œxpgo7}�� �>�f䨩�:�"Pf��rI��n��^sԶd���ɧ'T!,�ط�Қ�U=�]PǾ�i��Օ���()!c�N�˧���Y �$��"E�G��[�'M*�&u��]l����F����|�X*G yd�VsFkk}-���Z�m(���;��!Oz�ǽ/��a��]�S� t�����n�ml�s�Xj��:�6 7�6-p�0Q2Z��M�D}W�g�vwI�j!
L��pF��R�.E7P�fBX����&�G����y����\V�J]�vZe*w1֑��t�u�"�S?�ARhJ#��]]�W5��N@.͕�h�3���Q��M��M���,5K�:F����C�h���	��:]s
c;��%y=���9]�]�<pbk[����-�`�A��m�G|�`��B���өWɶ���:Y��ʲ�=^{${(->��-���z��18�d3������-TV�h[2�u���w�-����9W^Q���bnQ��5��nm�+G�9�VϾ�7�Ϻ��k�fZ���%���w���ɩ��RS}w�i�\\3rRAi��-��~��
��[�d��λ�R5��h�"0Ad5��(�XLK����#����ZF�l������a���)��QE��n8Li(��-���<2�mP��P���im�蘪����IP��h����؞3�lݧOi����G�ih�r���a��	m��KYz�-�iͦ���$`Ǯ$w�lZ<�h6�4��a(e郳I��Tk�lzI���d�P�F,�M��c�V��lڴ����%ˡ�~IC���R��v���^ j��Ku?�s����gG�9q߭/W����=ͯ��97Ι�i{u����[�L��-��Cg�n��]���:Rӆ��4'q�g@����7���aA�1>��Ƹ��p5��Dq��DY��K^���Q�w&��s���S�ƀ� �Aef�9��?��>�`UՔ��+�e�Zϗ�������37���,����F��>;q��BIQM��F-W%T%���鞋���ez���?��﬘]����4�Я�u���?ſ�������N�U'w�&��`�Q�#�c�e*�f��(�2E֛,V�h0;�>�Y&=�@L>d�:�ݓT�=��*�[b��8���=��N��k��lgȩ�B��t��ig�ǿ���gҮ�83���_�?#u�?�5_�v�3��g����9���ޙ�j��-耚��$��v1�!!*^�<9<ZK�.ϛ|J��M�����Z��M9�y����X��V��� �d��S��?���D��U�ۘR�x�3ӝ9�Ez>f���)�a�`��HrU�I\X'�h�I�
-��iI_�j�#7�TͰ���NG$����[J&��J5��LZ�+��bJ� B����K�C,*^����� c��u.�[���s�J{-���Δ��ȸ�O�!x����;Cq�7��֋��I)ϲ5�hf�ה8{j�a��ch���<>&;"��D2�,�6�?�N��sD`QJP��]�C��Kѥ}N�;P����9���6ǈ�����eNW:4Ĉbh	eY��w��rˍ_����۪���������]�T5���Ⱦ���W��]�>D�����7l�t��H�7��x!t�Ą%2Ru0
�~������H��Ŕ)*C$o)Ir�)�%�=��	#�ki�/��N�8N��@ ��@E/y\Y�&��K�(�
�ד���B���bg0�[�.��j4[V���	��A@�����&������c��L����,�i4J�{,Lk	��h[��Aلf�8]����)���i.��55��RX��������eɧv�����?�~:���9?+xr�ћv�����?v\���x�-�#��|�K�$�P��%/����9�
K��Pm��5�Fw����A�x�㡣�PŐ�ޚU�Ų��1���P�z���.fT��@CV�'Ҥt1ב�&K�����x����?#T"�'���|��9e.f�Z������@)�Ha�I�nP#�q!,'�����eJ�n��Ñ����\5[U4|(�.*�����}+_Y��ե�7t�x>��+rٜ�0��'��W��zU�x��:�?ߔ;��������w��On���r��ˮW�})�D�H�#AE=<�e��h2mǤ�^O�":����U��H����mt�j��b�(�"b��S3�G���̫�W3����������	�Q ����g��T�O�踭g;�
xۻ#��������H��H�!?i$��:N:�pG��E&�S�\��i����l�9e�$AQ�҈h�{rł�5�B�d��f%i�BR�吭�M��(u%����nM�tk��h~^�_�[,Cs�~����FԎ���e�<zW#��R8�kc�,ug
�.�8�Yo��tN��=����_��M���<��>}K���<{��Go�Nl�7�ƿ���6}�̕W����;�Me�1k=\3��êo�;�t� �;\�Ip�g]�N��U���fF=+8ٮ���6�M�t�AO�ڬ�����
5�&Ǟ#������)NM�
�Є�G��E1�S���g�4�t	���o$^vi���{����k����!��3_������+�M���U�����U�y4m�C�I�S{�z�nx������W����om:Ľ�2Pf(����p��^!���������y��.)o��n�q�.h�G�7�x9��-�g߄��|s��!����	�:\��xH(�/4ҡJ.d��t;�� Sn#Z�YVJ�QN�ab^#��.�4�4;v9Ɓ�Ԕa�l$� ?)��(������~f�p��j
��q�%���֐i�jJB�'�!�~�wlj������nl\����/65ğm����룻���V�}�>���]�|���O���}i���W�i���E��v.\p����V������wMy~����E���$9�Q�;���f���`D�<#Z�>�i��S�t��5}B�	�����a}����G9j,�1�Ɔ3��w���}�Vօ5 V� ��Fw$Xo��z�?o:��Xx
�N罱f���缲}�Ɛ`J.���y��x��:�;i��u�?	���OZ��w�ׇ�N� �p:�څ��E1�>�ƣ |�N>|Gn�6��oLC���XI�(@���L�6L� ��m=�?"l2�ʢYQ[��L��Q3��C
j����Y��5g ��M��@.#+�	q	�<>3Q5"$(H��6 >��ny�N�dA�����U�������@�q�Mjgh�;��o�s&��9�H�n�Oں#0�9+G�<��Y���1E/J�����Jx���0i��sɲN�� �Deq�^/#�#+
�޳4@��M� ���5X͋ g ���<`UۙS��O��Gc�%����y�8�4�W�[l/"��9�B��N�M����鯏�#������8	��m���FD�l�k�Z2]	8�J�q�Z�lv����Ǧ8$m�MI�G� �-x��Sm��D�ŧ�3�M�S�l��śp�|���'mC��	���-:�)�Q,�ጰ!���d���*�����[2[iX��*xdg+��ĔV4���,c�����r��4�õ�&g�}d]:'b(�i/L����	�Y�|vYm��ue�㍻f޵k掻�8���9�+0�3�jX�`Av��� ������[�sG�co����XP����l֬�cj�F_5���;*�J_g�������Yx�=mz�,�l�����[��fv�_�X������0�~�#���y3Kyj~*U�����>�B�Ό.�ro����ȗ��J9�K^e18��y�ET�2.J�$bh���E0�*2��d���

;N
D��R���X��}t9f���i�&~����O�ӗ�o���g����x�/���{���~����t=�0�r��2"�b�*VLF�Y��7�#�oE�Dͺ�S��/�MF�ov^D�~s�>b�[��(Qo8�N&[�E�#`gW̋�S�.�?'~X�=3��bbf�0X<�,;���h�������G���V��������E�[z���EFP��С#s0�!8�Z��:Q0荊���/��'�F��3*��l�b���5���:cԴ���E�f������F����Tp�ܞ�
=�XG��q�t����]='n��z��ez2K�u�J�[�����LE/�r�R��.l��	݈H���.���N���ljρ_h-���{����;���&=�<�|���_~cf�]Ha�~�s�9A�cy�>)[�wѻ���Ւ��	�櫅�N�Q�Z�yv�hZ�NȁA\�&��V�mS��fGy�����A3���<^sh���0�4yR%#w�����T�����"�˅��/P�/�c����!ige2	�c�c@!�c̊��O�=�z���K����7�c��o��K���8-_ml������IJ޸%�d��z~K��A�_��G�>�a�x�ƍ�&��Z��!l����$�d$��5:��n���u��Y�L\�;�£�U�U��TE��"�Pݖ5Huf=%�:V��G���w����g" ��aV#��Ur�R�`A�W��΅���$�F����~�e�WU=�0e���c��N����si���陞���$�tZ)�<Ջ|�y��g\�$��X��O���y�dw!�����b���[�4H����Z��X�$\��(PFb�F�*�&���S�Y�H����cJ�>E'JHUB(P@�:�ܨ�&2��;a���ta㦸=lIƠ7d˗�ᤈ����`Px���s#�?�-.�q�X��cŭ�ll�l�H�4��	�a���k�����h�ż|>.U@�pJ�6Fܒou��H��d1��]��C���̋�̀7|ڎ6� �
{�7��p-8@h�S�����G�cޤ>x8��G�RJ����������1�CO�1�ӫ���D����w�G��/i�	޿ �(����������d6�M6?��<��b��� ?�f�w�\0�Y�)?W���c����0���A&;�6�2o�ap�R�Υ����o��srs���r�s)�8�^����>W���{�.��p�mg��>m��;���_������R~�$���|�p��8�� � o����9`�s��Q�Qf%_qX�f$"�M�YF��h4��F��`,� ��<�'�M�����"Z���@�#M5�Ӭ@N�q �}\�O��a��u��@��0�6:����GKQ"�$����)��'���'. ����H�C��b2��fo~d��G��pϷ3o���S�]�t�ҮՇkh�L���7���V�pHe �h5�=�P[0�JŜ�M�C��m�X�m�v��l0L%�jS�9��ҕ��z#G(1��~^���{)C8��"}�$�Ǽ�}�1��9B��vg�R��?afz�1j��ȌY��h0K�4{���e�Ɣ5N�����LCSY�z/%���5�{����;��5��V�*X�u1`����'�lt�Y� l�A��h;A����p�@�`$;�js��="��R1[�JSm@�rD੿�T&cs���� tY�Пó#�/�@z�:��9b�O�b8���nx���҂�#]C��}tA����3Z˪�,J{��-�?s���Q�}Y˸���oS�V{ߜ%�s���85��(���oz�o;1F�@���:r��0H��:I�>�Ó>����0���Q�� '�C.�
%%p@`��8DA�MȎw��w���)���.DOn»R�f5P�X����n��-��)�x�����au)�@��9��y}@`W��D�$G�;#�3fH�,G|~���z����I4;�؁��5�R�G ����2L��(��NڱHQ�m�q���ћ����&�HG<7 v�}ٳ[���f��g���n~���Ol���U�@���D��FAoԛ���7��Gꊕ���J�4[�4-Q�(7���T���?f:"v�L/��dXf��Y�t�ሤ�h�`W�՝�^�G�Rf2�R*�x�[���(�2�]�^@�=i�L��"&��L@�&L�U	��H'_���ª]�A �F���qF:�罨8 a L��MQI�l<��ĶI��b;�2���ף�Sb�0|�����Ȟ�L����`����P��PO�?a*��N�K�����������	pT��8�o0�U?=
�\��-~����d���a�X�PM�A�5>9�6{�IG6�_)�W%6��g���`�~d����7
kÙK���u܃�4����gاsW�;��&.���ϼp�٦��3̖t��^�0��Sx{t.��HI�@8U�׋)�B�>��PR��ᘸ�x�$L	%BkZ�M����뿈��_���+�խ/��ze�ʷ�Ί�O'�/m�S���NY��ե+�iY�nk��랋sk�+п�J�Լ�j7���?A%PӲ��^	Ҭ���<噶�$\{�4J�؞���'��a`�r2QN�L?��4�80C�O��I(r��$k�y,An§,��>�Qʳo[���A/���Əf�}���|�����`������-ޑ�O˻��	�P� .z\�BnQ}/��Q�zJ���aƔU`��C�ͨ�R�8�S�P��,�<UnpF�P��&�y��y�%�{D�;�DD�\M�v�$�PMuC�y� ���q0D�	�8��;�T|�i��W�g����힦)�����_�.�+;�K�\�nˉh�&:����u���9/,C_?N��au��å����J�?J˿����b�?������H�?�^ )���~&+���o�^$?��sH��R�٫��&������C[��}-�]?B��D�/�x�-t
Gݯ�n�>�Sa�{`�EX��|�Eȃ#g�1Q�Hi��D,-H�`0U�Z^�#�����R2���i���V�eoP���XAX�;5prq\�Ã�}�nZ��)�Æ�S�D���$#�йpЧV��4K�ݸ~_.�r군P�V<��K��<�?�:�2�(�:1�%{�_?ÃXv�ٿ��*~�Ԍ{�QS���?�rf.m�b{������z�O����Z����+�T솵D ���/�M��W�6��l�f�ՠ3)6�V�xz�.�,TZ=�C��ݡS��ɬ�Ί4F�����_�4�6�*Z���Ҧ<�� w�j&#���5 ���Њ�&�H�®���m$�S���yIn���%���PQa���������{�Ν�K�H^ؚ��[s��s#�WW?Ѻ�嘯���ea8O%fx���$��x�Ռ�$%k��ȡ�]N�� ݒ���:+��dI&���`�.�!�o���E�#|F�引>`�/��dQ�&���p8����j:ȗ]M�c���d`JN5���4����p�i`���`f^dhf�^����Y?Sѹ�ݞ��z1׃�nW�68H��6�d[va�g. t �U��N�km~r(�v,�{b���G���;_�9�{���?v���ּ� ���7Z�=�_�s�~~�޸��~�CG.Zzǹ;�Ҟ��+0���՗ϭ�U3ǘ��C�=�#O�cG	4K���
�x�^f&핒��3 ����>�����Cy�wn�w���O�E�k(����p����>� � ���m���l53�&���Y��0S����D���f�[ Hp��z@��0 d9�hr��y8����u���g��o\����֔�M^��ê��ܴ�?>�y��۸�u�>�/��W��l���뀄��j��P	�L��ɹ���;���ܓ�w�L�v裶�F��*� J��>�~keH)]^UÓJq�'�|A�L�}�n%s�����	��c(j�@<���y��iA�$o旖�畖zw쐉V��/���q�1'�Q ����D$l."aے��HX"�e;��#�(և�dqyW�$+�uif�Ңo�ޠܠ����T�8#{���4���4�C EDv2�]g�!UHK�d��&;�:�X~G��t��;(�����|����Wઌ�i�;�N	~q�FSJ�oJ�&FC��S�IR]"���� Y e��^��f72�8 �^�6�k 9��n�N��u�-ՙ�m[��̝m3?>e۰53�?>}��>[��٬ڍ7�x㍞g���<m��_!]p�K;�l}��x!��&W����b�������e�!^�+.^�t����K�p�$:��Z���� �RP�J]$`3�X�f�'LT�z����k��	��(�P�L��;K%ѹ+uF���]�!�z���(~�;#,l�xd?�2t�w(Y�(�$�c�K,��fĎ��/l��*��f��Y��J�Y���?������޽��3?�x���?�s��Kw�Ize�����Y�FS��� !���
Ɉ�p��:4]�P���X���Wi4�0#��a���<�:��/�n�.t���!%���82d�z���8P� :��u���,��k2{"n��^��p�l�LɁ��~�KM���Pz߶��%-�����+����g��^���U��+��X������ƥ=G����ֽ����ʖwV�>W�W�&��?03��I�!g��
3��8���K�V��w���̢�c��+��b�&a;@;iT#0�f�):��1�o�L}Sfmv]��6�uԾ��R"��'/@0-���h6Y0�'������ S�nd�k�OCKv��L�d|tp���Rv����j«�+�j��wAw���f'����:���A�AӋ�Mrnp�il�Ӷ���{31���z�O+��E�
~���^�s���eχ��ތ{�O0�-�-�	��J:0�˭������D��SBeX��q37?y+�F`%r]J��|`�@`��T�NfѬW4��>�[��ym+b�b����X�&��� ��ʒ8@�H|���T
���ލ	7�/��QE841�����?����7���KK���������ʥ�g����z[Q��v��,�]�?l��˯�����5FG��xyy�U��b6�b��>0H�Z`$:���dIPY��Q� 2T6]�� �
7�%xf1��wv�su��;z������<�t"��M�s��$�|��:����w�8!�oL sޢvh��
�c��U���f��t-Df3!��5͵���\o��-�&}�5�i����{�`�Yt�Ê�Ov1�s����ʛO='B�ɬ߾H#r��w��om}8ý������AT�ⱉ�Z���=��՟�7m��Kއ"��"�A&7��]�+ҫ2bZ�_�Qr�"�@��?Le!-O����
�� "�h�������=��>������o�� ��o�&'�T�'��̼d؎���aw��H�R�i��,�ʟ��FdT�1�k�[�]�`5g����?c
�L�zZ��:�  �)�#�٠�ƀL�b��#r9�6V�K�C��!C�t�Ѥ�9�y��I�%�&���lǧ��'�����A�$+�(|"Ƀ�4�b�N~"މ�kzFh��秞��k�b6��M6��0�VG:�ˮe�Kp��b=~O�Qx��!��^�B���N2�A2�E�1�.:�ɯb+��f'����H�bn��@@��J����N�B�W%%Wzi��\Q��D�i�XY�)H��A�09�o����;z���]�1a��3�Q	a�ֻMj���$pelN"
��(��]`:��x�b8�+���-�:����9�c ��TS_aS���W����&��ײk%A[U�'�����	BF�6��qV��[;z��~�#�ǰ����H9� �j`$+KO
� c�hnQ]���dr����n�gu�o��N!?�����8_�!~�*��`�S)_iĺ��,��/�-��MZK�&[����PH�]��D]��D�����d��a^7����%�K�'��;9Q��"R������H�!�����������P���D]�M�sSR����$�c��+��b��t��	���q{8������X���?}������1�7@-�N������a+�ޣ���ћ͊R�,Amk��6�)���}�"������c�����NI��2t�5�X�x%eX�V�L�T�(�t�[j�j���*��`��z�c'���Q$�3���]�\Ou�X"��7�o�͹��DnI_�7��d8��@�l]���F�ƺ��r�w��R@ȗ����r5�E�un���L���0��"���f�v�|3~����k�z뙺mH8/@�c7�/&�Ɛ3͑"GYe�����I�']>��K�=~�MjՕÊ���J:����f�M��7 ����6%R�;��d-�#��F��f��kR����� c�Q��b�����'�����/��3D�S�	�<�]�Xl�C��O�M	撱��y��.Z��7�P��'�����JG�+�^��UM�#+Fg����.:~nz�+�jOAZ��O�(rm����4��U�:�5O�3�[e޷�����CL�,��+�A/�5�y��RؿR��W}OĊ�I$J�I�q�i���+�KB3ɕ����E�*2���/�4�wX���4���ٲ������;�G�����������:�U^�;��m�5��7,$�� ���;
endstream
endobj
222 0 obj
14996
endobj
223 0 obj
(aula1)
endobj
224 0 obj
(��\000m\000a\000c\000O\000S\000 \000V\000e\000r\000s\000�\000o\000 \0001\0000\000.\0001\0004\000.\0005\000 \000\(\000C\000o\000m\000p\000i\000l\000a\000�\000�\000o\000 \0001\0008\000F\0001\0003\0002\000\)\000 \000Q\000u\000a\000r\000t\000z\000 \000P\000D\000F\000C\000o\000n\000t\000e\000x\000t)
endobj
225 0 obj
(PowerPoint)
endobj
226 0 obj
(D:20190807000845Z00'00')
endobj
227 0 obj
()
endobj
228 0 obj
[ ]
endobj
1 0 obj
<< /Title 223 0 R /Producer 224 0 R /Creator 225 0 R /CreationDate 226 0 R
/ModDate 226 0 R /Keywords 227 0 R /AAPL:Keywords 228 0 R >>
endobj
xref
0 229
0000000000 65535 f 
0000495625 00000 n 
0000005857 00000 n 
0000468570 00000 n 
0000000022 00000 n 
0000005837 00000 n 
0000005961 00000 n 
0000469306 00000 n 
0000009511 00000 n 
0000006126 00000 n 
0000479089 00000 n 
0000006276 00000 n 
0000006323 00000 n 
0000006738 00000 n 
0000009547 00000 n 
0000006368 00000 n 
0000006718 00000 n 
0000006775 00000 n 
0000009490 00000 n 
0000010454 00000 n 
0000016167 00000 n 
0000010474 00000 n 
0000016146 00000 n 
0000016274 00000 n 
0000469220 00000 n 
0000016492 00000 n 
0000016643 00000 n 
0000082532 00000 n 
0000086797 00000 n 
0000086760 00000 n 
0000082554 00000 n 
0000086233 00000 n 
0000086254 00000 n 
0000086740 00000 n 
0000087704 00000 n 
0000093540 00000 n 
0000087724 00000 n 
0000093519 00000 n 
0000093647 00000 n 
0000469090 00000 n 
0000093889 00000 n 
0000103790 00000 n 
0000115964 00000 n 
0000094040 00000 n 
0000103769 00000 n 
0000115986 00000 n 
0000129027 00000 n 
0000132101 00000 n 
0000131521 00000 n 
0000129049 00000 n 
0000129461 00000 n 
0000132064 00000 n 
0000129481 00000 n 
0000129913 00000 n 
0000130978 00000 n 
0000129933 00000 n 
0000130452 00000 n 
0000130472 00000 n 
0000130958 00000 n 
0000131015 00000 n 
0000131501 00000 n 
0000131558 00000 n 
0000132044 00000 n 
0000133008 00000 n 
0000138782 00000 n 
0000133028 00000 n 
0000138761 00000 n 
0000138889 00000 n 
0000468960 00000 n 
0000139107 00000 n 
0000139258 00000 n 
0000159584 00000 n 
0000160994 00000 n 
0000160957 00000 n 
0000159606 00000 n 
0000160431 00000 n 
0000160451 00000 n 
0000160937 00000 n 
0000161901 00000 n 
0000167653 00000 n 
0000161921 00000 n 
0000167632 00000 n 
0000167760 00000 n 
0000469432 00000 n 
0000167978 00000 n 
0000168129 00000 n 
0000213367 00000 n 
0000217211 00000 n 
0000217174 00000 n 
0000213389 00000 n 
0000216647 00000 n 
0000216668 00000 n 
0000217154 00000 n 
0000218118 00000 n 
0000223905 00000 n 
0000218138 00000 n 
0000223884 00000 n 
0000224012 00000 n 
0000469390 00000 n 
0000224244 00000 n 
0000224396 00000 n 
0000261091 00000 n 
0000261114 00000 n 
0000304486 00000 n 
0000309235 00000 n 
0000308648 00000 n 
0000305739 00000 n 
0000308117 00000 n 
0000309196 00000 n 
0000304509 00000 n 
0000305717 00000 n 
0000308139 00000 n 
0000308627 00000 n 
0000308687 00000 n 
0000309175 00000 n 
0000310144 00000 n 
0000315903 00000 n 
0000310165 00000 n 
0000315881 00000 n 
0000316013 00000 n 
0000469262 00000 n 
0000316234 00000 n 
0000316387 00000 n 
0000317296 00000 n 
0000323006 00000 n 
0000317317 00000 n 
0000322984 00000 n 
0000323116 00000 n 
0000469176 00000 n 
0000323337 00000 n 
0000323490 00000 n 
0000335677 00000 n 
0000336925 00000 n 
0000336886 00000 n 
0000335700 00000 n 
0000336356 00000 n 
0000336377 00000 n 
0000336865 00000 n 
0000337834 00000 n 
0000343628 00000 n 
0000468696 00000 n 
0000337855 00000 n 
0000343606 00000 n 
0000343740 00000 n 
0000469046 00000 n 
0000343990 00000 n 
0000373789 00000 n 
0000391992 00000 n 
0000358294 00000 n 
0000373766 00000 n 
0000344143 00000 n 
0000358271 00000 n 
0000396677 00000 n 
0000396090 00000 n 
0000392015 00000 n 
0000392833 00000 n 
0000396638 00000 n 
0000392854 00000 n 
0000393807 00000 n 
0000395542 00000 n 
0000393828 00000 n 
0000395012 00000 n 
0000395033 00000 n 
0000395521 00000 n 
0000395581 00000 n 
0000396069 00000 n 
0000396129 00000 n 
0000396617 00000 n 
0000397586 00000 n 
0000406665 00000 n 
0000397607 00000 n 
0000406643 00000 n 
0000406777 00000 n 
0000469002 00000 n 
0000407013 00000 n 
0000472091 00000 n 
0000407166 00000 n 
0000421558 00000 n 
0000422632 00000 n 
0000422593 00000 n 
0000421581 00000 n 
0000422063 00000 n 
0000422084 00000 n 
0000422572 00000 n 
0000423541 00000 n 
0000431666 00000 n 
0000423562 00000 n 
0000431644 00000 n 
0000431778 00000 n 
0000469346 00000 n 
0000431961 00000 n 
0000000000 00000 n 
0000469474 00000 n 
0000432114 00000 n 
0000433023 00000 n 
0000440256 00000 n 
0000433044 00000 n 
0000440234 00000 n 
0000440368 00000 n 
0000469132 00000 n 
0000440591 00000 n 
0000440744 00000 n 
0000465559 00000 n 
0000467640 00000 n 
0000467601 00000 n 
0000465582 00000 n 
0000467070 00000 n 
0000467092 00000 n 
0000467580 00000 n 
0000468549 00000 n 
0000468799 00000 n 
0000468893 00000 n 
0000469966 00000 n 
0000469643 00000 n 
0000469945 00000 n 
0000470203 00000 n 
0000472069 00000 n 
0000472346 00000 n 
0000472600 00000 n 
0000479067 00000 n 
0000479814 00000 n 
0000480060 00000 n 
0000495149 00000 n 
0000495172 00000 n 
0000495197 00000 n 
0000495511 00000 n 
0000495541 00000 n 
0000495584 00000 n 
0000495604 00000 n 
trailer
<< /Size 229 /Root 211 0 R /Info 1 0 R /ID [ <c3f87b98aeac22cfb7e83e43170940da>
<c3f87b98aeac22cfb7e83e43170940da> ] >>
startxref
495776
%%EOF
                                                                                                                                                                                                                                                                                                                                                                                                                                                                                                                                                                                                                                                                                                                                                                                                                                                                                                                                                                                                                                                                                                                                                                                                                                                                                                                                                                                                                                                                                                                                                                                                                                                                                                                                                                                                                                                                                                                                                                                                                                                                                                                                                                                                                                                                                                                                                                                                                                                                                                                                                                                                                                                                                                                                                                                                                                                                                                                                                                                                                                                                                                                                                                                                                                                                                                                                                                                                                                                                                                                                                                                                                                                                                                                                                                                                                                                                                                                                                                                                                                                                                                                                                                                                                                                                                                                                                                                                                                                                                                                                                                                                                                                                                                                                                                                                                                                                                                                                                                                                                                                                                                                                                                                                                                                                                                                                                                                                                                                                                                                                                                                                                                                                                                                                                                                                                                                                                                                                                                                                                                                                                                                                                                                                                                                                                                                                                                                                                                                                                                                                                                                                                                                                                                                                                                                                                                                                                                                                                                                                                                                                                                                                                                                                                                                                                                                                                                                                                                                                                                                                                                                                                                                                                                                                                                                                                                                                                                                                                                                                                                                                                                                                                                                                                                                                                                                                                                                                                                                                                                                                                                                                                                                                                                                                                                                                                                                                                                                                                                                                                                                                                                                                                                                                                                                                                                                                                                                                                                                                                                                                                                                                                                                                                                                                                                                                                                                                                                                                                                                                                                                                                                                                                                                                                                                                                                                                                                                                                                                                                                                                                                                                                                                                                                                                                                                                                                                                                                                                                                                                                                                                                                                                                                                                                                                                                                                                                                                                                                                                                                                                                                                                                                                                                                                                                                                                                                                                                                                                                                                                                                                                                                                                                                                                                                                                                                                                                                                                                                                                                                                                                                                                                                                                                                                                                                                                                                                                                                                                                                                                                                                                                                                                                                                                                                                                                                                                                                                                                                                                                                                                                                                                                                                                                                                                                                                                                                                                                                                                                                                                                                                                                                                                                                                                                                                                                                                                                                                                                                                                                                                                                                                                                                                                                                                                                                                                                                                                                                                                                                                                                                                                                                                                                                                                                                                                                                                                                                                                                                                                                                                                                                                                                                                                                                                                                                                                                                                                                                                                                                                                                                                                                                                                                                                                                                                                                                                                                                                                                                                                                                                                                                                                                                                                                                                                                                                                                                                                                                                                                                                                                                                                                                                                                                                                                                                                                                                                                                                                                                                                                                                                                                                                                                                                                                                                                                                                                                                                                                                                                                                                                                                                                                                                                                                                                                                                                                                                                                                                                                                                                                                                                                                                                                                                                                                                                                                                                                                                                                                                                                                                                                                                                                                                                                                                                                                                                                                                                                                                                                                                                                                                                                                                                                                                                                                                                                                                                                                                                                                                                                                                                                                                                                                                                                                                                                                                                                                                                                                                                                                                                                                                                                                                                                                                                                                                                                                                                                                                                                                                                                                                                                                                                                                                                                                                                                                                                                                                                                                                                                                                                                                                                                                                                                                                                                                                                                                                                                                                                                                                                                                                                                                                                                                                                                                                                                                                                                                                                                                                                                                                                                                                                                                                                                                                                                                                                                                                                                                                                                                                                                                                                                                                                                                                                                                                                                                                                                                                                                                                                                                                                                                                                                                                                                                                                                                                                                                                                                                                                                                                                                                                                                                                                                                                                                                                                                                                                                                                                                                                                                                                                                                                                                                                                                                                                                                                                                                                                                                                                                                                                                                                                                                                                                                                                                                                                                                                                                                                                                                                                                                                                                                                                                                                                                                                                                                                                                                                                                                                                                                                                                                                                                                                                                                                                                                                                                                                                                                                                                                                                                                                                                                                                                                                                                                                                                                                                                                                                                                                                                                                                                                                                                                                                                                                                                                                                                                                                                                                                                                                                                                                                                                                                                                                                                                                                                                                                                                                                                                                                                                                                                                                                                                                                                                                                                                                                                                                                                                                                                                                                                                                                                                                                                                                                                                                                                                                                                                                                                                                                                                                                                                                                                                                                                                                                                                                                                                                                                                                                                                                                                                                                                                                                                                                                                                                                                                                                                                                                                                                                                                                                                                                                                                                                                                                                                                                                                                                                                                                                                                                                                                                                                                                                                                                                                                                                                                                                                                                                                                                                                                                                                                                                                                                                                                                                                                                                                                                                                                                                                                                                                                                                                                                                                                                                                                                                                                                                                                                                                                                                                                                                                                                                                                                                                                                                                                                                                                                                                                                                                                                                                                                                                                                                                                                                                                                                                                                                                                                                                                                                                                                                                                                                                                                                                                                                                                                                                                                                                                                                                                                                                                                                                                                                                                                                                                                                                                                                                                                                                                                                                                                                                                                                                                                                                                                                                                                                                                                                                                                                                                                                                                                                                                                                                                                                                                                                                                                                                                                                                                                                                                                                                                                                                                                                                                                                                                                                                                                                                                                                                                                                                                                                                                                                                                                                                                                                                                                                                                                                                                                                                                                                                                                                                                                                                                                                                                                                                                                                                                                                                                                                                                                                                                                                                                                                                                                                                                                                                                                                                                                                                                                                                                                                                                                                                                                                                                                                                                                                                                                                                                                                                                                                                                                                                                                                                                                                                                                                                                                                                                                                                                                                                                                                                                                                                                                                                                                                                                                                                                                                                                                                                                                                                                                                                                                                                                                                                                                                                                                                                                                                                                                                                                                                                                                                                                                                                                                                                                                                                                                                                                                                                                                                                                                                                                                                                                                                                                                                                                                                                                                                                                                                                                                                                                                                                                                                                                                                                                                                                                                                                                                                                                                                                                                                                                                                                                                                                                                                                                                                                                                                                                                                                                                                                                                                                                                                                                                                                                                                                                                                                                                                                                                                                                                                                                                                                                                                                                                                                                                                                                                                                                                                                                                                                                                                                                                                                                                                                                                                                                                                                                                                                                                                                                                                                                                                                                                                                                                                                                                                                                                                                                                                                                                                                                                                                                                                                                                                                                                                                                                                                                                                                                                                                                                                                                                                                                                                                                                                                                                                                                                                                                                                                                                                                                                                                                                                                                                                                                                                                                                                                                                                                                                                                                                                                                                                                                                                                                                                                                                                                                                                                                                                                                                                                                                                                                                                                                                                                                                                                                                                                                                                                                                                                                                                                                                                                                                                                                                                                                                                                                                                                                                                                                                                                                                                                                                                                                                                                                                                                                                                                                                                                                                                                                                                                                                                                                                                                                                                                                                                                                                                                                                                                                                                                                                                                                                                                                                                                                                                                                                                                                                                                                                                                                                                                                                                                                                                                                                                                                                                                                                                                                                                                                                                                                                                                                                                                                                                                                                                                                                                                                                                                                                                                                                                                                                                                                                                                                                                                                                                                                                                                                                                                                                                                                                                                                                                                                                                                                                                                                                                                                                                                                                                                                                                                                                                                                                                                                                                                                                                                                                                                                                                                                                                                                                                                                                                                                                                                                                                                                                                                                                                                                                                                                                                                                                                                                                                                                                                                                                                                                                                                                                                                                                                                                                                                                                                                                                                                                                                                                                                                                                                                                                                                                                                                                                                                                                                                                                                                                                                                                                                                                                                                                                                                                                                                                                                                                                                                                                                                                                                                                                                                                                                                                                                                                                                                                                                                                                                                                                                                                                                                                                                                                                                                                                                                                                                                                                                                                                                                                                                                                                                                                                                                                                                                                                                                                                                                                                                                                                                                                                                                                                                                                                                                                                                                                                                                                                                                                                                                                                                                                                                                                                                                                                                                                                                                                                                                                                                                                                                                                                                                                                                                                                                                                                                                                                                                                                                                                                                                                                                                                                                                                                                                                                                                                                                                                                                                                                                                                                                                                                                                                                                                                                                                                                                                                                                                                                                                                                                                                                                                                                                                                                                                                                                                                                                                                                                                                                                                                                                                                                                                                                                                                                                                                                                                                                                                                                                                                                                                                                                                                                                                                                                                                                                                                                                                                                                                                                                                                                                                                                                                                                                                                                                                                                                                                                                                                                                                                                                                                                                                                                                                                                                                                                                                                                                                                                                                                                                                                                                                                                                                                                                                                                                                                                                                                                                                                                                                                                                                                                                                                                                                                                                                                                                                                                                                                                                                                                                                                                                                                                                                                                                                                                                                                                                                                                                                                                                                                                                                                                                                                                                                                                                                                                                                                                                                                                                                                                                                                                                                                                                                                                                                                                                                                                                                                                                                                                                                                                                                                                                                                                                                                                                                                                                                                                                                                                                                                                                                                                                                                                                                                                                                                                                                                                                                                                                                                                                                                                                                                                                                                                                                                                                                                                                                                                                                                                                                                                                                                                                                                                                                                                                                                                                                                                                                                                                                                                                                                                                                                                                                                                                                                                                                                                                                                                                                                                                                                                                                                                                                                                                                                                                                                                                                                                                                                                                                                                                                                                                                                                                                                                                                                                                                                                                                                                                                                                                                                                                                                                                                                                                                                                                                                                                                                                                                                                                                                                                                                                                                                                                                                                                                                                                                                                                                                                                                                                                                                                                                                                                                                                                                                                                                                                                                                                                                                                                                                                                                                                                                                                                                                                                                                                                                                                                                                                                                                                                                                                                                                                                                                                                                                                                                                                                                                                                                                                                                                                                                                                                                                                                                                                                                                                                                                                                                                                                                                                                                                                                                                                                                                                                                                                                                                                                                                                                                                                                                                                                                                                                                                                                                                                                                                                                                                                                                                                                                                                                                                                                                                                                                                                                                                                                                                                                                                                                                                                                                                                                                                                                                                                                                                                                                                                                                                                                                                                                                                                                                                                                                                                                                                                                                                                                                                                                                                                                                                                                                                                                                                                                                                                                                                                                                                                                                                                                                                                                                                                                                                                                                                                                                                                                                                                                                                                                                                                                                                                                                                                                                                                                                                                                                                                                                                                                                                                                                                                                                                                                                                                                                                                                                                                                                                                                                                                                                                                                                                                                                                                                                                                                                                                                                                                                                                                                                                                                                                                                                                                                                                                                                                                                                                                                                                                                                                                                                                                                                                                                                                                                                                                                                                                                                                                                                                                                                                                                                                                                                                                                                                                                                                                                                                                                                                                                                                                                                                                                                                                                                                                                                                                                                                                                                                                                                                                                                                                                                                                                                                                                                                                                                                                                                                                                                                                                                                                                                                                                                                                                                                                                                                                                                                                                                                                                                                                                                                                                                                                                                                                                                                                                                                                                                                                                                                                                                                                                                                                                                                                                                                                                                                                                                                                                                                                                                                                                                                                                                                                                                                                                                                                                                                                                                                                                                                                                                                                                                                                                                                                                                                                                                                                                                                                                                                                                                                                                                                                                                                                                                                                                                                                                                                                                                                                                                                                                                                                                                                                                                                                                                                                                                                                                                                                                                                                                                                                                                                                                                                                                                                                                                                                                                                                                                                                                                                                                                                                                                                                                                                                                                                                                                                                                                                                                                                                                                                                                                                                                                                                                                                                                                                                                                                                                                                                                                                                                                                                                                                                                                                                                                                                                                                                                                                                                                                                                                                                                                                                                                                                                                                                                                                                                                                                                                                                                                                                                                                                                                                                                                                                                                                                                                                                                                                                                                                                                                                                                                                                                                                                                                                                                                                                                                                                                                                                                                                                                                                                                                                                                                                                                                                                                                                                                                                                                                                                                                                                                                                                                                                                                                                                                                                                                                                                                                                                                                                                                                                                                                                                                                                                                                                                                                                                                                                                                                                                                                                                                                                                                                                                                                                                                                                                                                                                                                                                                                                                                                                                                                                                                                                                                                                                                                                                                                                                                                                                                                                                                                                                                                                                                                                                                                                                                                                                                                                                                                                                                                                                                                                                                                                                                                                                                                                                                                                                                                                                                                                                                                                                                                                                                                                                                                                                                                                                                                                                                                                                                                                                                                                                                                                                                                                                                                                                                                                                                                                                                                                                                                                                                                                                                                                                                                                                                                                                                                                                                                                                                                                                                                                                                                                                                                                                                                                                                                                                                                                                                                                                                                                                                                                                                                                                                                                                                                                                                                                                                                                                                                                                                                                                                                                                                                                                                                                                                                                                                                                                                                                                                                                                                                                                                                                                                                                                                                                                                                                                                                                                                                                                                                                                                                                                                                                                                                                                                                                                                                                                                                                                                                                                                                                                                                                                                                                                                                                                                                                                                                                                                                                                                                                                                                                                                                                                                                                                                                                                                                                                                                                                                                                                                                                                                                                                                                                                                                                                                                                                                                                                                                                                                                                                                                                                                                                                                                                                                                                                                                                                                                                                                                                                                                                                                                                                                                                                                                                                                                                                                                                                                                                                                                                                                                                                                                                                                                                                                                                                                                                                                                                                                                                                                                                                                                                                                                                                                                                                                                                                                                                                                                                                                                                                                                                                                                                                                                                                                                                                                                                                                                                                                                                                                                                                                                                                                                                                                                                                                                                                                                                                                                                                                                                                                                                                                                                                                                                                                                                                                                                                                                                                                                                                                                                                                                                                                                                                                                                                                                                                                                                                                                                                                                                                                                                                                                                                                                                                                                                                                                                                                                                                                                                                                                                                                                                                                                                                                                                                                                                                                                                                                                                                                                                                                                                                                                                                                                                                                                                                                                                                                                                                                                                                                                                                                                                                                                                                                                                                                                                                                                                                                                                                                                                                                                                                                                                                                                                                                                                                                                                                                                                                                                                                                                                                                                                                                                                                                                                                                                                                                                                                                                                                                                                                                                                                                                                                                                                                                                                                                                                                                                                                                                                                                                                                                                                                                                                                                                                                                                                                                                                                                                                                                                                                                                                                                                                                                                                                                                                                                                                                                                                                                                                                                                                                                                                                                                                                                                                                                                                                                                                                                                                                                                                                                                                                                                                                                                                                                                                                                                                                                                                                                                                                                                                                                                                                                                                                                                                                                                                                                                                                                                                                                                                                                                                                                                                                                                                                                                                                                                                                                                                                                                                                                                                                                                                                                                                                                                                                                                                                                                                                                                                                                                                                                                                                                                                                                                                                                                                                                                                                                                                                                                                                                                                                                                                                                                                                                                                                                                                                                                                                                                                                                                                                                                                                                                                                                                                                                                                                                                                                                                                                                                                                                                                                                                                                                                                                                                                                                                                                                                                                                                                                                                                                                                                                                                                                                                                                                                                                                                                                                                                                                                                                                                                                                                                                                                                                                                                                                                                                                                                                                                                                                                                                                                                                                                                                                                                                                                                                                                                                                                                                                                                                                                                                                                                                                                                                                                                                                                                                                                                                                                                                                                                                                                                                                                                                                                                                                                                                                                                                                                                                                                                                                                                                                                                                                                                                                                                                                                                                                                                                                                                                                                                                                                                                                                                                                                                                                                                                                                                                                                                                                                                                                                                                                                                                                                                                                                                                                                                                                                                                                                                                                                                                                                                                                                                                                                                                                                                                                                                                                                                                                                                                                                                                                                                                                                                                                                                                                                                                                                                                                                                                                                                                                                                                                                                                                                                                                                                                                                                                                                                                                                                                                                                                                                                                                                                                                                                                                                                                                                                                                                                                                                                                                                                                                                                                                                                                                                                                                                                                                                                                                                                                                                                                                                                                                                                                                                                                                                                                                                                                                                                                                                                                                                                                                                                                                                                                                                                                                                                                                                                                                                                                                                                                                                                                                                                                                                                                                                                                                                                                                                                                                                                                                                                                                                                                                                                                                                                                                                                                                                                                                                                                                                                                                                                                                                                                                                                                                                                                                                                                                                                                                                                                                                                                                                                                                                                                                                                                                                                                                                                                                                                                                                                                                                                                                                                                                                                                                                                                                                                                                                                                                                                                                                                                                                                                                                                                                                                                                                                                                                                                                                                                                                                                                                                                                                                                                                                                                                                                                                                                                                                                                                                                                                                                                                                                                                                                                                                                                                                                                                                                                                                                                                                                                                                                                                                                                                                                                                                                                                                                                                                                                                                                                                                                                                                                                                                                                                                                                                                                                                                                                                                                                                                                                                                                                                                                                                                                                                                                                                                                                                                                                                                                                                                                                                                                                                                                                                                                                                                                                                                                                                                                                                                                                                                                                                                                                                                                                                                                                                                                                                                                                                                                                                                                                                                                                                                                                                                                                                                                                                                                                                                                                                                                                                                                                                                                                                                                                                                                                                                                                                                                                                                                                                                                                                                                                                                                                                                                                                                                                                                                                                                                                                                                                                                                                                                                                                                                                                                                                                                                                                                                                                                                                                                                                                                                                                                                                                                                                                                                                                                                                                                                                                                                                                                                                                                                                                                                                                                                                                                                                                                                                                                                                                                                                                                                                                                                                                                                                                                                                                                                                                                                                                                                                                                                                                                                                                                                                                                                                                                                                                                                                                                                                                                                                                                                                                                                                                                                                                                                                                                                                                                                                                                                                                                                                                                                                                                                                                                                                                                                                                                                                                                                                                                                                                                                                                                                                                                                                                                                                                                                                                                                                                                                                                                                                                                                                                                                                                                                                                                                                                                                                                                                                                                                                                                                                                                                                                                                                                                                                                                                                                                                                                                                                                                                                                                                                                                                                                                                                                                                                                                                                                                                                                                                                                                                                                                                                                                                                                                                                                                                                                                                                                                                                                                                                                                                                                                                                                                                                                                                                                                                                                                                                                                                                                                                                                                                                                                                                                                                                                                                                                                                                                                                                                                                                                                                                                                                                                                                                                                                                                                                                                                                                                                                                                                                                                                                                                                                                                                                                                                                                                                                                                                                                                                                                                                                                                                                                                                                                                                                                                                                                                                                                                                                                                                                                                                                                                                                                                                                                                                                                                                                                                                                                                                                                                                                                                                                                                                                                                                                                                                                                                                                                                                                                                                                                                                                                                                                                                                                                                                                                                                                                                                                                                                                                                                                                                                                                                                                                                                                                                                                                                                                                                                                                                                                                                                                                                                                                                                                                                                                                                                                                                                                                                                                                                                                                                                                                                                                                                                                                                                                                                                                                                                                                                                                                                                                                                                                                                                                                                                                                                                                                                                                                                                                                                                                                                                                                                                                                                                                                                                                                                                                                                                                                                                                                                                                                                                                                                                                                                                                                                                                                                                                                                                                                                                                                                                                                                                                                                                                                                                                                                                                                                                                                                                                                                                                                                                                                                                                                                                                                                                                                                                                                                                                                                                                                                                                                                                                                                                                                                                                                                                                                                                                                                                                                                                                                                                                                                                                                                                                                                                                                                                                                                                                                                                                                                                                                                                                                                                                                                                                                                                                                                                                                                                                                                                                                                                                                                                                                                                                                                                                                                                                                                                                                                                                                                                                                                                                                                                                                                                                                                                                                                                                                                                                                                                                                                                                                                                                                                                                                                                                                                                                                                                                                                                                                                                                                                                                                                                                                                                                                                                                                                                                                                                                                                                                                                                                                                                                                                                                                                                                                                                                                                                                                                                                                                                                                                                                                                                                                                                                                                                                                                                                                                                                                                                                                                                                                                                                                                                                                                                                                                                                                                                                                                                                                                                                                                                                                                                                                                                                                                                                                                                                                                                                                                                                                                                                                                                                                                                                                                                                                                                                                                                                                                                                                                                                                                                                                                                                                                                                                                                                                                                                                                                                                                                                                                                                                                                                                                                                                                                                                                                                                                                                                                                                                                                                                                                                                                                                                                                                                                                                                                                                                                                                                                                                                                                                                                                                                                                                                                                                                                                                                                                                                                                                                                                                                                                                                                                                                                                                                                                                                                                                                                                                                                                                                                                                                                                                                                                                                                                                                                                                                                                                                                                                                                                                                                                                                                                                                                                                                                                                                                                                                                                                                                                                                                                                                                                                                                                                                                                                                                                                                                                                                                                                                                                                                                                                                                                                                                                                                                                                                                                                                                                                                                                                                                                                                                                                                                                                                                                                                                                                                                                                                                                                                                                                                                                                                                                                                                                                                                                                                                                                                                                                                                                                                                                                                                                                                                                                                                                                                                                                                                                                                                                                                                                                                                                                                                                                                                                                                                                                                                                                                                                                                                                                                                                                                                                                                                                                                                                                                                                                                                                                                                                                                                                                                                                                                                                                                                                                                                                                                                                                                                                                                                                                                                                                                                                                                                                                                                                                                                                                                                                                                                                                                                                                                                                                                                                                                                                                                                                                                                                                                                                                                                                                                                                                                                                                                                                                                                                                                                                                                                                                                                                                                                                                                                                                                                                                                                                                                                                                                                                                                                                                                                                                                                                                                                                                                                                                                                                                                                                                                                                                                                                                                                                                                                                                                                                                                                                                                                                                                                                                                                                                                                                                                                                                                                                                                                                                                                                                                                                                                                                                                                                                                                                                                                                                                                                                                                                                                                                                                                                                                                                                                                                                                                                                                                                                                                                                                                                                                                                                                                                                                                                                                                                                                                                                                                                                                                                                                                                                                                                                                                                                                                                                                                                                                                                                                                                                                                                                                                                                                                                                                                                                                                                                                                                                                                                                                                                                                                                                                                                                                                                                                                                                                                                                                                                                                                                                                                                                                                                                                                                                                                                                                                                                                                                                                                                                                                                                                                                                                                                                                                                                                                                                                                                                                                                                                                                                                                                                                                                                                                                                                                                                                                                                                                                                                                                                                                                                                                                                                                                                                                                                                                                                                                                                                                                                                                                                                                                                                                                                                                                                                                                                                                                                                                                                                                                                                                                                                                                                                                                                                                                                                                                                                                                                                                                                                                                                                                                                                                                                                                                                                                                                                                                                                                                                                                                                                                                                                                                                                                                                                                                                                                                                                                                                                                                                                                                                                                                                                                                                                                                                                                                                                                                                                                                                                                                                                                                                                                                                                                                                                                                                                                                                                                                                                                                                                                                                                                                                                                                                                                                                                                                                                                                                                                                                                                                                                                                                                                                                                                                                                                                                                                                                                                                                                                                                                                                                                                                                                                                                                                                                                                                                                                                                                                                                                                                                                                                                                                                                                                                                                                                                                                                                                                                                                                                                                                                                                                                                                                                                                                                                                                                                                                                                                                                                                                                                                                                                                                                                                                                                                                                                                                                                                                                                                                                                                                                                                                                                                                                                                                                                                                                                                                                                                                                                                                                                                                                                                                                                                                                                                                                                                                                                                                                                                                                                                                                                                                                                                                                                                                                                                                                                                                                                                                                                                                                                                                                                                                                                                                                                                                                                                                                                                                                                                                                                                                                                                                                                                                                                                                                                                                                                                                                                                                                                                                                                                                                                                                                                                                                                                                                                                                                                                                                                                                                                                                                                                                                                                                                                                                                                                                                                                                                                                                                                                                                                                                                                                                                                                                                                                                                                                                                                                                                                                                                                                                                                                                                                                                                                                                                                                                                                                                                                                                                                                                                                                                                                                                                                                                                                                                                                                                                                                                                                                                                                                                                                                                                                                                                                                                                                                                                                                                                                                                                                                                                                                                                                                                                                                                                                                                                                                                                                                                                                                                                                                                                                                                                                                                                                                                                                                                                                                                                                                                                                                                                                                                                                                                                                                                                                                                                                                                                                                                                                                                                                                                                                                                                                                                                                                                                                                                                                                                                                                                                                                                                                                                                                                                                                                                                                                                                                                                                                                                                                                                                                                                                                                                                                                                                                                                                                                                                                                                                                                                                                                                                                                                                                                                                                                                                                                                                                                                                                                                                                                                                                                                                                                                                                                                                                                                                                                                                                                                                                                                                                                                                                                                                                                                                                                                                                                                                                                                                                                                                                                                                                                                                                                                                                                                                                                                                                                                                                                                                                                                                                                                                                                                                                                                                                                                                                                                                                                                                                                                                                                                                                                                                                                                                                                                                                                                                                                                                                                                                                                                                                                                                                                                                                                                                                                                                                                                                                                                                                                                                                                                                                                                                                                                                                                                                                                                                                                                                                                                                                                                                                                                                                                                                                                                                                                                                                                                                                                                                                                                                                                                                                                                                                                                                                                                                                                                                                                                                                                                                                                                                                                                                                                                                                                                                                                                                                                                                                                                                                                                                                                                                                                                                                                                                                                                                                                                                                                                                                                                                                                                                                                                                                                                                                                                                                                                                                                                                                                                                                                                                                                                                                                                                                                                                                                                                                                                                                                                                                                                                                                                                                                                                                                                                                                                                                                                                                                                                                                                                                                                                                                                                                                                                                                                                                                                                                                                                                                                                                                                                                                                                                                                                                                                                                                                                                                                                                                                                                                                                                                                                                                                                                                                                                                                                                                                                                                                                                                                                                                                                                                                                                                                                                                                                                                                                                                                                                                                                                                                                                                                                                                                                                                                                                                                                                                                                                                                                                                                                                                                                                                                                                                                                                                                                                                                                                                                                                                                                                                                                                                                                                                                                                                                                                                                                                                                                                                                                                                                                                                                                                                                                                                                                                                                                                                                                                                                                                                                                                                                                                                                                                                                                                                                                                                                                                                                                                                                                                                                                                                                                                                                                                                                                                                                                                                                                                                                                                                                                                                                                                                                                                                                                                                                                                                                                                                                                                                                                                                                                                                                                                                                                                                                                                                                                                                                                                                                                                                                                                                                                                                                                                                                                                                                                                                                                                                                                                                                                                                                                                                                                                                                                                                                                                                                                                                                                                                                                                                                                                                                                                                                                                                                                                                                                                                                                                                                                                                                                                                                                                                                                                                                                                                                                                                                                                                                                                                                                                                                                                                                                                                                                                                                                                                                                                                                                                                                                                                                                                                                                                                                                                                                                                                                                                                                                                                                                                                                                                                                                                                                                                                                                                                                                                                                                                                                                                                                                                                                                                                                                                                                                                                                                                                                                                                                                                                                                                                                                                                                                                                                                                                                                                                                                                                                                                                                                                                                                                                                                                                                                                                                                                                                                                                                                                                                                                                                                                                                                                                                                                                                                                                                                                                                                                                                                                                                                                                                                                                                                                                                                                                                                                                                                                                                                                                                                                                                                                                                                                                                                                                                                                                                                                                                                                                                                                                                                                                                                                                                                                                                                                                                                                                                                                                                                                                                                                                                                                                                                                                                                                                                                                                                                                                                                                                                                                                                                                                                                                                                                                                                                                                                                                                                                                                                                                                                                                                                                                                                                                                                                                                                                                                                                                                                                                                                                                                                                                                                                                                                                                                                                                                                                                                                                                                                                                                                                                                                                                                                                                                                                                                                                                                                                                                                                                                                                                                                                                                                                                                                                                                                                                                                                                                                                                                                                                                                                                                                                                                                                                                                                                                                                                                                                                                                                                                                                                                                                                                                                                                                                                                                                                                                                                                                                                                                                                                                                                                                                                                                                                                                                                                                                                                                                                                                                                                                                                                                                                                                                                                                                                                                                                                                                                                                                                                                                                                                                                                                                                                                                                                                                                                                                                                                                                                                                                                                                                                                                                                                                                                                                                                                                                                                                                                                                                                                                                                                                                                                                                                                                                                                                                                                                                                                                                                                                                                                                                                                                                                                                                                                                                                                                                                                                                                                                                                                                                                                                                                                                                                                                                                                                                                                                                                                                                                                                                                                                                                                                                                                                                                                                                                                                                                                                                                                                                                                                                                                                                                                                                                                                                                                                                                                                                                                                                                                                                                                                                                                                                                                                                                                                                                                                                                                                                                                                                                                                                                                                                                                                                                                                                                                                                                                                                                                                                                                                                                                                                                                                                                                                                                                                                                                                                                                                                                                                                                                                                                                                                                                                                                                                                                                                                                                                                                                                                                                                                                                                                                                                                                                                                                                                                                                                                                                                                                                                                                                                                                                                                                                                                                                                                                                                                                                                                                                                                                                                                                                                                                                                                                                                                                                                                                                                                                                                                                                                                                                                                                                                                                                                                                                                                                                                                                                                                                                                                                                                                                                                                                                                                                                                                                                                                                                                                                                                                                                                                                                                                                                                                                                                                                                                                                                                                                                                                                                                                                                                                                                                                                                                                                                                                                                                                                                                                                                                                                                                                                                                                                                                                                                                                                                                                                                                                                                                                                                                                                                                                                                                                                                                                                                                                                                                                                                                                                                                                                                                                                                                                                                                                                                                                                                                                                                                                                                                                                                                                                                                                                                                                                                                                                                                                                                                                                                                                                                                                                                                                                                                                                                                                                                                                                                                                                                                                                                                                                                                                                                                                                                                                                                                                                                                                                                                                                                                                                                                                                                                                                                                                                                                                                                                                                                                                                                                                                                                                                                                                                                                                                                                                                                                                                                                                                                                                                                                                                                                                                                                                                                                                                                                                                                                                                                                                                                                                                                                                                                                                                                                                                                                                                                                                                                                                                                                                                                                                                                                                                                                                                                                                                                                                                                                                                                                                                                                                                                                                                                                                                                                                                                                                                                                                                                                                                                                                                                                                                                                                                                                                                                                                                                                                                                                                                                                                                                                                                                                                                                                                                                                                                                                                                                                                                                                                                                                                                                                                                                                                                                                                                                                                                                                                                                                                                                                                                                                                                                                                                                                                                                                                                                                                                                                                                                                                                                                                                                                                                                                                                                                                                                                                                                                                                                                                                                                                                                                                                                                                                                                                                                                                                                                                                                                                                                                                                                                                                                                                                                                                                                                                                                                                                                                                                                                                                                                                                                                                                                                                                                                                                                                                                                                                                                                                                                                                                                                                                                                                                                                                                                                                                                                                                                                                                                                                                                                                                                                                                                                                                                                                                                                                                                                                                                                                                                                                                                                                                                                                                                                                                                                                                                                                                                                                                                                                                                                                                                                                                                                                                                                                                                                                                                                                                                                                                                                                                                                                                                                                                                                                                                                                                                                                                                                                                                                                                                                                                                                                                                                                                                                                                                                                                                                                                                                                                                                                                                                                                                                                                                                                                                                                                                                                                                                                                                                                                                                                                                                                                                                                                                                                                                                                                                                                                                                                                                                                                                                                                                                                                                                                                                                                                                                                                                                                                                                                                                                                                                                                                                                                                                                                                                                                                                                                                                                                                                                                                                                                                                                                                                                                                                                                                                                                                                                                                                                                                                                                                                                                                                                                                                                                                                                                                                                                                                                                                                                                                                                                                                                                                                                                                                                                                                                                                                                                                                                                                                                                                                                                                                                                                                                                                                                                                                                                                                                                                                 