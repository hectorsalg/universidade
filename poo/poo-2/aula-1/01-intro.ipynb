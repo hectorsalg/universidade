{
 "cells": [
  {
   "cell_type": "markdown",
   "metadata": {
    "cell_tags": []
   },
   "source": [
    "## 1 -  Analisando Dados de Pacientes"
   ]
  },
  {
   "cell_type": "markdown",
   "metadata": {
    "cell_tags": []
   },
   "source": [
    "Estamos estudando inflamação em pacientes que receberam um novo tratamento para artrite, precisamos analisar a primeira dúzia de conjuntos de dados.\n",
    "Os conjuntos de dados são armazenados em valores separados por vírgula no formato CSV:\n",
    "cada linha contém informações para um único paciente,\n",
    "e as colunas representam dias sucessivos.\n",
    "As primeiras fileiras do nosso primeiro arquivo se parecem com isto:\n",
    "\n",
    "    0,0,1,3,1,2,4,7,8,3,3,3,10,5,7,4,7,7,12,18,6,13,11,11,7,7,4,6,8,8,4,4,5,7,3,4,2,3,0,0\n",
    "    0,1,2,1,2,1,3,2,2,6,10,11,5,9,4,4,7,16,8,6,18,4,12,5,12,7,11,5,11,3,3,5,4,4,5,5,1,1,0,1\n",
    "    0,1,1,3,3,2,6,2,5,9,5,7,4,5,4,15,5,11,9,10,19,14,12,17,7,12,11,7,4,2,10,5,4,2,2,3,2,2,1,1\n",
    "    0,0,2,0,4,2,2,1,6,7,10,7,9,13,8,8,15,10,10,7,17,4,4,7,6,15,6,4,9,11,3,5,6,3,3,4,2,3,2,1\n",
    "    0,1,1,3,3,1,3,5,2,4,4,7,6,5,3,10,8,10,6,17,9,14,9,7,13,9,12,6,7,7,9,6,3,2,2,4,2,0,1,1"
   ]
  },
  {
   "cell_type": "markdown",
   "metadata": {
    "cell_tags": []
   },
   "source": [
    "Nós queremos:\n",
    "\n",
    "* carregar esses dados na memória,\n",
    "* calcular a inflamação média por dia em todos os pacientes, e\n",
    "* traçar o resultado.\n",
    "\n"
   ]
  },
  {
   "cell_type": "markdown",
   "metadata": {
    "cell_tags": [
     "objectives"
    ]
   },
   "source": [
    "#### Objetivos da atividade: \n",
    "- Explicar o que é uma biblioteca e para que as bibliotecas são usadas.\n",
    "- Importar uma biblioteca Python e usar as funções que ela contém.\n",
    "- Ler dados tabulares de um arquivo em um programa.\n",
    "- Atribuir valores a variáveis.\n",
    "- Selecionar valores individuais e subsecções de dados.\n",
    "- Executar operações em matrizes de dados.\n",
    "- Plotar gráficos simples a partir de dados."
   ]
  },
  {
   "cell_type": "markdown",
   "metadata": {
    "cell_tags": []
   },
   "source": [
    "### Armazenando Dados no Computador \n",
    "Nesta lição, aprenderemos a manipular o conjunto de dados de inflamação com o Python. Mas antes de discutir como lidar com muitos dados, mostraremos como armazenar um único valor no computador.\n",
    "\n",
    "A linha abaixo atribui o valor 55 a variável weight_kg (Sem precisar declarar o tipo).\n",
    "\n",
    "Quando terminar de digitar, pressione $Shift + Enter$ que o notebook executará o comando."
   ]
  },
  {
   "cell_type": "code",
   "execution_count": 1,
   "metadata": {},
   "outputs": [],
   "source": [
    "aula = 'pooII'"
   ]
  },
  {
   "cell_type": "code",
   "execution_count": 5,
   "metadata": {
    "cell_tags": []
   },
   "outputs": [],
   "source": [
    "weight_kg = 55/2"
   ]
  },
  {
   "cell_type": "code",
   "execution_count": 3,
   "metadata": {},
   "outputs": [
    {
     "data": {
      "text/plain": [
       "float"
      ]
     },
     "execution_count": 3,
     "metadata": {},
     "output_type": "execute_result"
    }
   ],
   "source": [
    "type(weight_kg)"
   ]
  },
  {
   "cell_type": "markdown",
   "metadata": {
    "cell_tags": []
   },
   "source": [
    "Uma vez que a variável tem um valor, podemos imprimi-la:"
   ]
  },
  {
   "cell_type": "code",
   "execution_count": 6,
   "metadata": {
    "cell_tags": []
   },
   "outputs": [
    {
     "name": "stdout",
     "output_type": "stream",
     "text": [
      "27.5\n"
     ]
    }
   ],
   "source": [
    "print(weight_kg)"
   ]
  },
  {
   "cell_type": "markdown",
   "metadata": {
    "cell_tags": []
   },
   "source": [
    "e fazer operações aritméticas com ela:"
   ]
  },
  {
   "cell_type": "code",
   "execution_count": 8,
   "metadata": {
    "cell_tags": []
   },
   "outputs": [
    {
     "name": "stdout",
     "output_type": "stream",
     "text": [
      "peso em libras: 60.5\n"
     ]
    }
   ],
   "source": [
    "print('peso em libras: '+str(round(2.2 * weight_kg,1)))"
   ]
  },
  {
   "cell_type": "code",
   "execution_count": 17,
   "metadata": {},
   "outputs": [
    {
     "name": "stdout",
     "output_type": "stream",
     "text": [
      "O peso em libras eh 60.50000000000001 e o peso em quilos eh 27.5, 2, 3.\n"
     ]
    }
   ],
   "source": [
    "print('O peso em libras eh {} e o peso em quilos eh {}, {}, {}.'.format(2.2 * weight_kg,weight_kg,2,3))\n"
   ]
  },
  {
   "cell_type": "markdown",
   "metadata": {
    "cell_tags": []
   },
   "source": [
    "Também podemos alterar o valor de uma variável, atribuindo-lhe um novo:"
   ]
  },
  {
   "cell_type": "code",
   "execution_count": 9,
   "metadata": {
    "cell_tags": []
   },
   "outputs": [
    {
     "name": "stdout",
     "output_type": "stream",
     "text": [
      "peso em quilogramas: 57.5 valor 5 5.12\n"
     ]
    }
   ],
   "source": [
    "weight_kg = 57.5\n",
    "print ('peso em quilogramas:', weight_kg, 'valor', 5, 5.12)"
   ]
  },
  {
   "cell_type": "markdown",
   "metadata": {
    "cell_tags": []
   },
   "source": [
    "Como mostra o exemplo acima,podemos imprimir várias coisas ao mesmo tempo, separando-as com vírgulas.\n",
    "\n",
    "Se imaginarmos a variável como um post-it com um nome escrito nele, a atribuição é como colar a nota em um valor particular:"
   ]
  },
  {
   "cell_type": "markdown",
   "metadata": {
    "cell_tags": []
   },
   "source": [
    "<img src=\"img/python-sticky-note-variables-01.svg\" alt=\"Variables as Sticky Notes\" />"
   ]
  },
  {
   "cell_type": "markdown",
   "metadata": {
    "cell_tags": []
   },
   "source": [
    "Isso significa que atribuir um valor a uma variável *não* altera os valores de outras variáveis.\n",
    "Por exemplo, vamos armazenar o peso do sujeito em libras em uma variável:"
   ]
  },
  {
   "cell_type": "code",
   "execution_count": 22,
   "metadata": {
    "cell_tags": []
   },
   "outputs": [
    {
     "name": "stdout",
     "output_type": "stream",
     "text": [
      "weight in kilograms: 57.5 and in pounds: 126.5\n"
     ]
    }
   ],
   "source": [
    "weight_lb = 2.2 * weight_kg\n",
    "print ('weight in kilograms:', weight_kg, 'and in pounds:', round(weight_lb,1))"
   ]
  },
  {
   "cell_type": "markdown",
   "metadata": {},
   "source": [
    "<img src=\"img/python-sticky-note-variables-02.svg\" alt=\"Creating Another Variable\" />"
   ]
  },
  {
   "cell_type": "markdown",
   "metadata": {
    "cell_tags": []
   },
   "source": [
    "e então mudar a variável `weight_kg`:"
   ]
  },
  {
   "cell_type": "code",
   "execution_count": 17,
   "metadata": {
    "cell_tags": []
   },
   "outputs": [
    {
     "name": "stdout",
     "output_type": "stream",
     "text": [
      "weight in kilograms is now: 100.0 and weight in pounds is still: 126.50000000000001\n"
     ]
    }
   ],
   "source": [
    "weight_kg = 100.0\n",
    "print ('weight in kilograms is now:', weight_kg, 'and weight in pounds is still:', weight_lb)"
   ]
  },
  {
   "cell_type": "markdown",
   "metadata": {},
   "source": [
    "<img src=\"img/python-sticky-note-variables-03.svg\" alt=\"Updating a Variable\" />"
   ]
  },
  {
   "cell_type": "markdown",
   "metadata": {
    "cell_tags": []
   },
   "source": [
    "Uma vez que `weight_lb` não \"se lembra\" de onde seu valor veio, ela não é atualizada automaticamente quando `weight_kg` muda."
   ]
  },
  {
   "cell_type": "markdown",
   "metadata": {},
   "source": [
    ">#### DICA\n",
    ">Você pode usar o comando% whos a qualquer momento para ver quais variáveis você criou e quais módulos você carregou na memória do computador. Como este é um comando IPython, ele só funcionará se você estiver em um terminal IPython ou no Notebook Jupyter.\n"
   ]
  },
  {
   "cell_type": "code",
   "execution_count": 10,
   "metadata": {},
   "outputs": [
    {
     "name": "stdout",
     "output_type": "stream",
     "text": [
      "Variable    Type     Data/Info\n",
      "------------------------------\n",
      "aula        str      pooII\n",
      "weight_kg   float    57.5\n"
     ]
    }
   ],
   "source": [
    "%whos"
   ]
  },
  {
   "cell_type": "markdown",
   "metadata": {},
   "source": [
    "### Carregando os Dados\n",
    "Palavras são úteis,\n",
    "mas o que é mais útil ainda são as frases e histórias que podemos construir com elas.\n",
    "Da mesma forma,\n",
    "enquanto muitas ferramentas poderosas são incorporadas a lingaugens como o Python,\n",
    "ainda mais utilidades nas [bibliotecas](http://swcarpentry.github.io/python-novice-inflammation-2.7/reference.html#library) são construídas.\n",
    "\n",
    "Para carregar nossos dados de inflamações,\n",
    "precisamos [importar](http://swcarpentry.github.io/python-novice-inflammation-2.7/reference.html#import) uma biblioteca chamada NumPy\n",
    "que sabe operar em matrizes:"
   ]
  },
  {
   "cell_type": "code",
   "execution_count": 5,
   "metadata": {},
   "outputs": [],
   "source": [
    "import numpy"
   ]
  },
  {
   "cell_type": "markdown",
   "metadata": {},
   "source": [
    "Importar uma biblioteca é como tirar um equipamento de laboratório de um armário de armazenamento\n",
    "e configurando-o no banco.\n",
    "Uma vez que está pronto,\n",
    "podemos pedir à biblioteca que leia nosso arquivo de dados para nós:"
   ]
  },
  {
   "cell_type": "code",
   "execution_count": 13,
   "metadata": {},
   "outputs": [
    {
     "data": {
      "text/plain": [
       "array([[0., 0., 1., ..., 3., 0., 0.],\n",
       "       [0., 1., 2., ..., 1., 0., 1.],\n",
       "       [0., 1., 1., ..., 2., 1., 1.],\n",
       "       ...,\n",
       "       [0., 1., 1., ..., 1., 1., 1.],\n",
       "       [0., 0., 0., ..., 0., 2., 0.],\n",
       "       [0., 0., 1., ..., 1., 1., 0.]])"
      ]
     },
     "execution_count": 13,
     "metadata": {},
     "output_type": "execute_result"
    }
   ],
   "source": [
    "numpy.loadtxt(fname='data/inflammation-01.csv', delimiter=',')"
   ]
  },
  {
   "cell_type": "markdown",
   "metadata": {},
   "source": [
    "A expressão `numpy.loadtxt (...)` é uma [chamada de função](http://swcarpentry.github.io/python-novice-inflammation-2.7/reference.html#function-call)\n",
    "que pede ao Python para executar a função `loadtxt` que pertence à biblioteca `numpy`.\n",
    "Esta [notação com ponto](http://swcarpentry.github.io/python-novice-inflammation-2.7/reference.html#dotted-notation) é usada em todos os lugares em Python\n",
    "para se referir às partes de coisas como `todo.parte`.\n",
    "\n",
    "`numpy.loadtxt` tem dois [parâmetros](http://swcarpentry.github.io/python-novice-inflammation-2.7/reference.html#parameter):\n",
    "o nome do arquivo que queremos ler,\n",
    "e o [delimitador](http://swcarpentry.github.io/python-novice-inflammation-2.7/reference.html#delimiter) que separa valores em uma linha.\n",
    "Estes dois precisam ser cadeias de caracteres (ou [strings](http://swcarpentry.github.io/python-novice-inflammation-2.7/reference.html#string) para abreviar),\n",
    "então os colocamos entre aspas.\n",
    "\n",
    "O notebook executa nosso comando. Como não dissemos a ele para fazer algo com a saída da função, o notebook exibe isso.\n",
    "Nesse caso, essa saída é o dado que acabamos de carregar.\n",
    "Por padrão, apenas algumas linhas e colunas são mostradas\n",
    "(com `...` para omitir elementos ao exibir grandes arrays).\n",
    "Para economizar espaço,\n",
    "Python exibe números como `1.` em vez de` 1.0`\n",
    "quando não há nada interessante após o ponto decimal."
   ]
  },
  {
   "cell_type": "markdown",
   "metadata": {},
   "source": [
    "Nossa chamada para `numpy.loadtxt` leu nosso arquivo, mas não salvou os dados na memória.\n",
    "Para fazer isso,\n",
    "nós precisamos [atribuir](http://swcarpentry.github.io/python-novice-inflammation-2.7/reference.html#assignment) a matriz para uma [variável](http://swcarpentry.github.io/python -novice-inflammation-2.7 / reference.html # variable).\n",
    "Uma variável é apenas um nome para um valor, como `x`,` current_temperature` ou `subject_id`.\n",
    "Podemos criar uma nova variável simplesmente atribuindo-lhe um valor usando `=`, sem precisar declarar o seu tipo. Vamos rodar `numpy.loadtxt` novamente e salvar seu resultado:"
   ]
  },
  {
   "cell_type": "code",
   "execution_count": 6,
   "metadata": {
    "cell_tags": []
   },
   "outputs": [],
   "source": [
    "data = numpy.loadtxt(fname='data/inflammation-01.csv', delimiter=',',dtype=numpy.uint8)"
   ]
  },
  {
   "cell_type": "markdown",
   "metadata": {
    "cell_tags": []
   },
   "source": [
    "Esta declaração não produz qualquer saída porque a atribuição não exibe nada.\n",
    "Se quisermos verificar se nossos dados foram carregados, podemos imprimir o valor da variável:"
   ]
  },
  {
   "cell_type": "code",
   "execution_count": 15,
   "metadata": {
    "cell_tags": []
   },
   "outputs": [
    {
     "name": "stdout",
     "output_type": "stream",
     "text": [
      "uint8\n"
     ]
    }
   ],
   "source": [
    "print(data.dtype)"
   ]
  },
  {
   "cell_type": "code",
   "execution_count": 16,
   "metadata": {},
   "outputs": [
    {
     "data": {
      "text/plain": [
       "array([[0, 0, 1, ..., 3, 0, 0],\n",
       "       [0, 1, 2, ..., 1, 0, 1],\n",
       "       [0, 1, 1, ..., 2, 1, 1],\n",
       "       ...,\n",
       "       [0, 1, 1, ..., 1, 1, 1],\n",
       "       [0, 0, 0, ..., 0, 2, 0],\n",
       "       [0, 0, 1, ..., 1, 1, 0]], dtype=uint8)"
      ]
     },
     "execution_count": 16,
     "metadata": {},
     "output_type": "execute_result"
    }
   ],
   "source": [
    "data"
   ]
  },
  {
   "cell_type": "code",
   "execution_count": 17,
   "metadata": {},
   "outputs": [
    {
     "name": "stdout",
     "output_type": "stream",
     "text": [
      "Help on function loadtxt in module numpy:\n",
      "\n",
      "loadtxt(fname, dtype=<class 'float'>, comments='#', delimiter=None, converters=None, skiprows=0, usecols=None, unpack=False, ndmin=0, encoding='bytes', max_rows=None, *, like=None)\n",
      "    Load data from a text file.\n",
      "    \n",
      "    Each row in the text file must have the same number of values.\n",
      "    \n",
      "    Parameters\n",
      "    ----------\n",
      "    fname : file, str, or pathlib.Path\n",
      "        File, filename, or generator to read.  If the filename extension is\n",
      "        ``.gz`` or ``.bz2``, the file is first decompressed. Note that\n",
      "        generators should return byte strings.\n",
      "    dtype : data-type, optional\n",
      "        Data-type of the resulting array; default: float.  If this is a\n",
      "        structured data-type, the resulting array will be 1-dimensional, and\n",
      "        each row will be interpreted as an element of the array.  In this\n",
      "        case, the number of columns used must match the number of fields in\n",
      "        the data-type.\n",
      "    comments : str or sequence of str, optional\n",
      "        The characters or list of characters used to indicate the start of a\n",
      "        comment. None implies no comments. For backwards compatibility, byte\n",
      "        strings will be decoded as 'latin1'. The default is '#'.\n",
      "    delimiter : str, optional\n",
      "        The string used to separate values. For backwards compatibility, byte\n",
      "        strings will be decoded as 'latin1'. The default is whitespace.\n",
      "    converters : dict, optional\n",
      "        A dictionary mapping column number to a function that will parse the\n",
      "        column string into the desired value.  E.g., if column 0 is a date\n",
      "        string: ``converters = {0: datestr2num}``.  Converters can also be\n",
      "        used to provide a default value for missing data (but see also\n",
      "        `genfromtxt`): ``converters = {3: lambda s: float(s.strip() or 0)}``.\n",
      "        Default: None.\n",
      "    skiprows : int, optional\n",
      "        Skip the first `skiprows` lines, including comments; default: 0.\n",
      "    usecols : int or sequence, optional\n",
      "        Which columns to read, with 0 being the first. For example,\n",
      "        ``usecols = (1,4,5)`` will extract the 2nd, 5th and 6th columns.\n",
      "        The default, None, results in all columns being read.\n",
      "    \n",
      "        .. versionchanged:: 1.11.0\n",
      "            When a single column has to be read it is possible to use\n",
      "            an integer instead of a tuple. E.g ``usecols = 3`` reads the\n",
      "            fourth column the same way as ``usecols = (3,)`` would.\n",
      "    unpack : bool, optional\n",
      "        If True, the returned array is transposed, so that arguments may be\n",
      "        unpacked using ``x, y, z = loadtxt(...)``.  When used with a\n",
      "        structured data-type, arrays are returned for each field.\n",
      "        Default is False.\n",
      "    ndmin : int, optional\n",
      "        The returned array will have at least `ndmin` dimensions.\n",
      "        Otherwise mono-dimensional axes will be squeezed.\n",
      "        Legal values: 0 (default), 1 or 2.\n",
      "    \n",
      "        .. versionadded:: 1.6.0\n",
      "    encoding : str, optional\n",
      "        Encoding used to decode the inputfile. Does not apply to input streams.\n",
      "        The special value 'bytes' enables backward compatibility workarounds\n",
      "        that ensures you receive byte arrays as results if possible and passes\n",
      "        'latin1' encoded strings to converters. Override this value to receive\n",
      "        unicode arrays and pass strings as input to converters.  If set to None\n",
      "        the system default is used. The default value is 'bytes'.\n",
      "    \n",
      "        .. versionadded:: 1.14.0\n",
      "    max_rows : int, optional\n",
      "        Read `max_rows` lines of content after `skiprows` lines. The default\n",
      "        is to read all the lines.\n",
      "    \n",
      "        .. versionadded:: 1.16.0\n",
      "    like : array_like\n",
      "        Reference object to allow the creation of arrays which are not\n",
      "        NumPy arrays. If an array-like passed in as ``like`` supports\n",
      "        the ``__array_function__`` protocol, the result will be defined\n",
      "        by it. In this case, it ensures the creation of an array object\n",
      "        compatible with that passed in via this argument.\n",
      "    \n",
      "        .. versionadded:: 1.20.0\n",
      "    \n",
      "    Returns\n",
      "    -------\n",
      "    out : ndarray\n",
      "        Data read from the text file.\n",
      "    \n",
      "    See Also\n",
      "    --------\n",
      "    load, fromstring, fromregex\n",
      "    genfromtxt : Load data with missing values handled as specified.\n",
      "    scipy.io.loadmat : reads MATLAB data files\n",
      "    \n",
      "    Notes\n",
      "    -----\n",
      "    This function aims to be a fast reader for simply formatted files.  The\n",
      "    `genfromtxt` function provides more sophisticated handling of, e.g.,\n",
      "    lines with missing values.\n",
      "    \n",
      "    .. versionadded:: 1.10.0\n",
      "    \n",
      "    The strings produced by the Python float.hex method can be used as\n",
      "    input for floats.\n",
      "    \n",
      "    Examples\n",
      "    --------\n",
      "    >>> from io import StringIO   # StringIO behaves like a file object\n",
      "    >>> c = StringIO(\"0 1\\n2 3\")\n",
      "    >>> np.loadtxt(c)\n",
      "    array([[0., 1.],\n",
      "           [2., 3.]])\n",
      "    \n",
      "    >>> d = StringIO(\"M 21 72\\nF 35 58\")\n",
      "    >>> np.loadtxt(d, dtype={'names': ('gender', 'age', 'weight'),\n",
      "    ...                      'formats': ('S1', 'i4', 'f4')})\n",
      "    array([(b'M', 21, 72.), (b'F', 35, 58.)],\n",
      "          dtype=[('gender', 'S1'), ('age', '<i4'), ('weight', '<f4')])\n",
      "    \n",
      "    >>> c = StringIO(\"1,0,2\\n3,0,4\")\n",
      "    >>> x, y = np.loadtxt(c, delimiter=',', usecols=(0, 2), unpack=True)\n",
      "    >>> x\n",
      "    array([1., 3.])\n",
      "    >>> y\n",
      "    array([2., 4.])\n",
      "    \n",
      "    This example shows how `converters` can be used to convert a field\n",
      "    with a trailing minus sign into a negative number.\n",
      "    \n",
      "    >>> s = StringIO('10.01 31.25-\\n19.22 64.31\\n17.57- 63.94')\n",
      "    >>> def conv(fld):\n",
      "    ...     return -float(fld[:-1]) if fld.endswith(b'-') else float(fld)\n",
      "    ...\n",
      "    >>> np.loadtxt(s, converters={0: conv, 1: conv})\n",
      "    array([[ 10.01, -31.25],\n",
      "           [ 19.22,  64.31],\n",
      "           [-17.57,  63.94]])\n",
      "\n"
     ]
    }
   ],
   "source": [
    "help(numpy.loadtxt)"
   ]
  },
  {
   "cell_type": "code",
   "execution_count": null,
   "metadata": {},
   "outputs": [],
   "source": []
  },
  {
   "cell_type": "markdown",
   "metadata": {
    "cell_tags": []
   },
   "source": [
    "### Manipulando os Dados"
   ]
  },
  {
   "cell_type": "markdown",
   "metadata": {
    "cell_tags": []
   },
   "source": [
    "Agora que nossos dados estão na memória, podemos começar a fazer coisas com eles.\n",
    "Primeiro,\n",
    "vamos perguntar a qual [tipo](http://swcarpentry.github.io/python-novice-inflammation-2.7/reference.html#data-type) de coisa `data` se refere:"
   ]
  },
  {
   "cell_type": "code",
   "execution_count": 28,
   "metadata": {
    "cell_tags": []
   },
   "outputs": [
    {
     "name": "stdout",
     "output_type": "stream",
     "text": [
      "uint8\n"
     ]
    }
   ],
   "source": [
    "print (data.dtype)"
   ]
  },
  {
   "cell_type": "markdown",
   "metadata": {
    "cell_tags": []
   },
   "source": [
    "O resultado nos diz que `data` atualmente se refere a uma matriz N-dimensional criada pela biblioteca NumPy.\n",
    "Podemos ver como que é  o [formato/shape](http://swcarpentry.github.io/python-novice-inflammation-2.7/reference.htm#shape) desta forma:"
   ]
  },
  {
   "cell_type": "code",
   "execution_count": 43,
   "metadata": {
    "cell_tags": []
   },
   "outputs": [
    {
     "name": "stdout",
     "output_type": "stream",
     "text": [
      "(60, 40)\n"
     ]
    }
   ],
   "source": [
    "print(data.shape)"
   ]
  },
  {
   "cell_type": "markdown",
   "metadata": {
    "cell_tags": []
   },
   "source": [
    "Isso nos diz que `data` possui 60 linhas e 40 colunas.\n",
    "`data.shape` é um [membro](http://swcarpentry.github.io/python-novice-inflammation-2.7/reference.htm#member) de `data`,\n",
    "isto é, um valor que é armazenado como parte de um valor maior.\n",
    "Usamos a mesma notação pontilhada para os membros de valores que usamos para as funções em bibliotecas porque eles têm o mesmo relacionamento parte-todo."
   ]
  },
  {
   "cell_type": "markdown",
   "metadata": {
    "cell_tags": []
   },
   "source": [
    "Se quisermos obter um único valor da matriz, devemos fornecer um [índice](http://swcarpentry.github.io/python-novice-inflammation-2.7/reference.htm#index) entre colchetes, assim como fazemos em matemática:"
   ]
  },
  {
   "cell_type": "code",
   "execution_count": 30,
   "metadata": {
    "cell_tags": []
   },
   "outputs": [
    {
     "name": "stdout",
     "output_type": "stream",
     "text": [
      "first value in data: 0\n"
     ]
    }
   ],
   "source": [
    "print ('first value in data:', data[0, 0])"
   ]
  },
  {
   "cell_type": "code",
   "execution_count": 31,
   "metadata": {
    "cell_tags": []
   },
   "outputs": [
    {
     "name": "stdout",
     "output_type": "stream",
     "text": [
      "middle value in data: 1\n"
     ]
    }
   ],
   "source": [
    "print ('middle value in data:', data[15, 2])"
   ]
  },
  {
   "cell_type": "markdown",
   "metadata": {
    "cell_tags": []
   },
   "source": [
    "A expressão `data [30, 20]` pode não surpreendê-lo, mas `data [0, 0]` pode.\n",
    "Linguagens de programação como Fortran e MATLAB começam a contar às 1,\n",
    "porque isso é o que os seres humanos fizeram há milhares de anos.\n",
    "Idiomas na família C (incluindo C ++, Java, Perl e Python) contagem de 0\n",
    "porque isso é mais simples para os computadores fazerem.\n",
    "Como um resultado,\n",
    "se tivermos um M&times;N array em Python,\n",
    "seus índices vão de 0 a M-1 no primeiro eixo\n",
    "e 0 a N-1 no segundo.\n",
    "Demora um pouco de acostumar,\n",
    "mas uma maneira de lembrar a regra é que\n",
    "O índice é o número de passos que temos que tomar desde o início para obter o item que queremos.\n",
    "\n",
    "<img src=\"img/python-zero-index.png\" alt=\"Indexação do Python\" />\n",
    "\n",
    "> #### Nota\n",
    ">\n",
    "> O que também pode surpreender você é que quando o Python exibe uma matriz,\n",
    "> mostra o elemento com índice `[0, 0]` no canto superior esquerdo\n",
    "> em vez da inferior esquerda.\n",
    "> Isso é consistente com a forma como os matemáticos desenham matrizes,\n",
    "> mas diferente das coordenadas cartesianas.\n",
    "> Os índices são (linha, coluna) em vez de (coluna, linha) pelo mesmo motivo."
   ]
  },
  {
   "cell_type": "markdown",
   "metadata": {
    "cell_tags": []
   },
   "source": [
    "Um índice como `[30, 20]` seleciona um único elemento de uma matriz,\n",
    "mas também podemos selecionar seções inteiras.\n",
    "Por exemplo,\n",
    "podemos selecionar os primeiros dez dias (colunas) de valores\n",
    "para as primeiras quatro (linhas) pacientes como este:"
   ]
  },
  {
   "cell_type": "code",
   "execution_count": 32,
   "metadata": {
    "cell_tags": []
   },
   "outputs": [
    {
     "name": "stdout",
     "output_type": "stream",
     "text": [
      "[[ 3  3 10  5  7  4  7  7 12 18  6 13 11 11  7  7  4  6  8  8  4  4  5  7\n",
      "   3  4  2  3  0  0]\n",
      " [10 11  5  9  4  4  7 16  8  6 18  4 12  5 12  7 11  5 11  3  3  5  4  4\n",
      "   5  5  1  1  0  1]\n",
      " [ 5  7  4  5  4 15  5 11  9 10 19 14 12 17  7 12 11  7  4  2 10  5  4  2\n",
      "   2  3  2  2  1  1]\n",
      " [10  7  9 13  8  8 15 10 10  7 17  4  4  7  6 15  6  4  9 11  3  5  6  3\n",
      "   3  4  2  3  2  1]]\n"
     ]
    }
   ],
   "source": [
    "print(data[:4, 10:])"
   ]
  },
  {
   "cell_type": "markdown",
   "metadata": {
    "cell_tags": []
   },
   "source": [
    "O [intervalo](http://swcarpentry.github.io/python-novice-inflammation-2.7/reference.htm#slice) `0: 4` significa:\n",
    "\"Comece no índice 0 e vá até, mas não incluído, o índice 4.\"\n",
    "Novamente, o até-mas-nao-incluso pode levar um tempo para acostumar,\n",
    "mas a regra é que a diferença entre os limites superior e inferior é o número de valores no intervalo.\n",
    "\n",
    "Não temos que começar, necessariamente, intervalos em 0:"
   ]
  },
  {
   "cell_type": "code",
   "execution_count": 44,
   "metadata": {
    "cell_tags": []
   },
   "outputs": [
    {
     "name": "stdout",
     "output_type": "stream",
     "text": [
      "[[0 0 1 2 2 4 2 1 6 4]\n",
      " [0 0 2 2 4 2 2 5 5 8]\n",
      " [0 0 1 2 3 1 2 3 5 3]\n",
      " [0 0 0 3 1 5 6 5 5 8]\n",
      " [0 1 1 2 1 3 5 3 5 8]]\n"
     ]
    }
   ],
   "source": [
    "print (data[5:10,:10])"
   ]
  },
  {
   "cell_type": "markdown",
   "metadata": {
    "cell_tags": []
   },
   "source": [
    "e não precisamos acessar todos os valores do intervalo  --- se fornecemos um [passo](http://swcarpentry.github.io/python-novice-inflammation-2.7/reference.htm#stride),\n",
    "Python pega os valores espaçados com o `passo` definido:"
   ]
  },
  {
   "cell_type": "code",
   "execution_count": 21,
   "metadata": {
    "cell_tags": []
   },
   "outputs": [
    {
     "name": "stdout",
     "output_type": "stream",
     "text": [
      "(4, 38)\n"
     ]
    }
   ],
   "source": [
    "print (data[0:12:3,:].shape)"
   ]
  },
  {
   "cell_type": "markdown",
   "metadata": {
    "cell_tags": []
   },
   "source": [
    "Aqui,\n",
    "nós pegamos as linhas 0, 3, 6 e 9,\n",
    "e as colunas 0, 2, 4, 6 e 8.\n",
    "(Novamente, sempre incluímos o limite inferior,\n",
    "mas pare quando alcançamos ou cruzamos o limite superior.)"
   ]
  },
  {
   "cell_type": "markdown",
   "metadata": {
    "cell_tags": []
   },
   "source": [
    "Também não precisamos incluir o limite superior e inferior do intervalo.\n",
    "Se não incluímos o limite inferior, Python usa 0 por padrão;\n",
    "se não incluímos o superior,\n",
    "o intervalo corre até o final do eixo, e se não incluímos nenhum\n",
    "(isto é, se usarmos apenas ':' por conta própria)\n",
    "O intervalo inclui tudo:"
   ]
  },
  {
   "cell_type": "code",
   "execution_count": 35,
   "metadata": {
    "cell_tags": []
   },
   "outputs": [
    {
     "name": "stdout",
     "output_type": "stream",
     "text": [
      "small is:\n",
      "[[2 3 0 0]\n",
      " [1 1 0 1]\n",
      " [2 2 1 1]]\n"
     ]
    }
   ],
   "source": [
    "small = data[:3, 36:]\n",
    "print ('small is:')\n",
    "print (small)"
   ]
  },
  {
   "cell_type": "markdown",
   "metadata": {
    "cell_tags": []
   },
   "source": [
    "Arrays também sabem como executar operações matemáticas comuns em seus valores.\n",
    "Se queremos encontrar a inflamação média para todos os pacientes em todos os dias,\n",
    "por exemplo, podemos pedir a matriz pelo seu valor médio:"
   ]
  },
  {
   "cell_type": "code",
   "execution_count": 52,
   "metadata": {
    "cell_tags": []
   },
   "outputs": [
    {
     "name": "stdout",
     "output_type": "stream",
     "text": [
      "6.14875\n"
     ]
    }
   ],
   "source": [
    "print(round(data.mean(),5))"
   ]
  },
  {
   "cell_type": "markdown",
   "metadata": {
    "cell_tags": []
   },
   "source": [
    "`mean` é um [método](http://swcarpentry.github.io/python-novice-inflammation-2.7/reference.htm#method) da matriz,\n",
    "isto é, uma função que lhe pertence\n",
    "da mesma forma que o `shape` do membro faz.\n",
    "Se as variáveis são substantivos, os métodos são verbos:\n",
    "Eles são o que o assunto em questão sabe como fazer.\n",
    "É por isso que `data.shape` não precisa ser chamado\n",
    "(é só uma coisa)\n",
    "mas `data.mean ()` faz\n",
    "(é uma ação).\n",
    "É também por isso que precisamos de parênteses vazios para `data.mean ()`:\n",
    "mesmo quando não passamos em nenhum parâmetro,\n",
    "parênteses são como dizer ao Python para ir e fazer algo por nós.\n",
    "\n",
    "As matrizes numPy têm muitos métodos úteis:"
   ]
  },
  {
   "cell_type": "code",
   "execution_count": 53,
   "metadata": {
    "cell_tags": []
   },
   "outputs": [
    {
     "name": "stdout",
     "output_type": "stream",
     "text": [
      "maximum inflammation: 20\n",
      "minimum inflammation: 0\n",
      "standard deviation: 4.613833197118566\n"
     ]
    }
   ],
   "source": [
    "print ('maximum inflammation:', data.max())\n",
    "print ('minimum inflammation:', data.min())\n",
    "print ('standard deviation:', data.std())"
   ]
  },
  {
   "cell_type": "markdown",
   "metadata": {
    "cell_tags": []
   },
   "source": [
    "Ao analisar dados,\n",
    "muitas vezes queremos olhar para estatísticas parciais,\n",
    "como o valor máximo por paciente\n",
    "ou o valor médio por dia.\n",
    "Uma maneira de fazer isso é selecionar os dados que queremos para criar uma nova matriz temporária, e então fazer o cálculo:"
   ]
  },
  {
   "cell_type": "code",
   "execution_count": 22,
   "metadata": {
    "cell_tags": []
   },
   "outputs": [
    {
     "name": "stdout",
     "output_type": "stream",
     "text": [
      "maximum inflammation for patient 0: 18\n"
     ]
    }
   ],
   "source": [
    "patient_0 = data[0,:]\n",
    "print ('maximum inflammation for patient 0:', patient_0.max())"
   ]
  },
  {
   "cell_type": "code",
   "execution_count": 24,
   "metadata": {},
   "outputs": [
    {
     "data": {
      "text/plain": [
       "5.45"
      ]
     },
     "execution_count": 24,
     "metadata": {},
     "output_type": "execute_result"
    }
   ],
   "source": [
    "patient_0.mean()"
   ]
  },
  {
   "cell_type": "markdown",
   "metadata": {
    "cell_tags": []
   },
   "source": [
    "Na verdade, não precisamos armazenar a linha em uma variável própria.\n",
    "Em vez disso, podemos combinar a seleção e o método de chamada:"
   ]
  },
  {
   "cell_type": "code",
   "execution_count": 39,
   "metadata": {
    "cell_tags": []
   },
   "outputs": [
    {
     "name": "stdout",
     "output_type": "stream",
     "text": [
      "maximum inflammation for patient 2: 19\n"
     ]
    }
   ],
   "source": [
    "print ('maximum inflammation for patient 2:', data[2, :].max())"
   ]
  },
  {
   "cell_type": "markdown",
   "metadata": {
    "cell_tags": [
     "challenges"
    ]
   },
   "source": [
    "#### Exercício\n",
    "\n",
    "Uma subseção de uma matriz é chamada de [fatia](http://swcarpentry.github.io/python-novice-inflammation-2.7/reference.html#slice).\n",
    "Podemos pegar fatias de strings de caracteres também:"
   ]
  },
  {
   "cell_type": "code",
   "execution_count": 1,
   "metadata": {
    "cell_tags": [
     "challenges"
    ]
   },
   "outputs": [
    {
     "name": "stdout",
     "output_type": "stream",
     "text": [
      "first three characters: oxy\n",
      "last three characters: gen\n"
     ]
    }
   ],
   "source": [
    "element = 'oxygen'\n",
    "print ('first three characters:', element[:3])\n",
    "print ('last three characters:', element[3:])"
   ]
  },
  {
   "cell_type": "markdown",
   "metadata": {
    "cell_tags": [
     "challenges"
    ]
   },
   "source": [
    "1. Qual é o valor de `element [: 4]`?\n",
    "     E `element [4:]`?\n",
    "     Ou `element [:]`?\n",
    "\n",
    "1. O que é `element [-1]`?\n",
    "     O que é `element [-2]`?\n",
    "     Dadas essas respostas,\n",
    "     explique o que `element [1: -1]` faz.\n",
    "\n",
    "1. A expressão `element [3: 3]` produz uma [string vazia](http://swcarpentry.github.io/python-novice-inflammation-2.7/reference.html#empty-string),\n",
    "     ou seja, uma string que não contém caracteres.\n",
    "     Se `data` contém nossa matriz de dados de pacientes,\n",
    "     O que `data [3: 3, 4: 4]` produz?\n",
    "     E quanto a `data [3: 3,:]`?"
   ]
  },
  {
   "cell_type": "code",
   "execution_count": 10,
   "metadata": {},
   "outputs": [
    {
     "name": "stdout",
     "output_type": "stream",
     "text": [
      "first four characters: oxyg\n",
      "last four characters: en\n",
      "all characters: oxygen\n",
      "\n",
      "\n",
      "the last character: n\n",
      "the penultimate character: e\n",
      "all characters less the first charactere: xyge\n",
      "\n",
      "\n",
      "data array empty: []\n",
      "other data array empty:  []\n"
     ]
    }
   ],
   "source": [
    "# 1\n",
    "print ('first four characters:', element[:4])\n",
    "print ('last four characters:', element[4:])\n",
    "print ('all characters:', element[:])\n",
    "\n",
    "# 2\n",
    "print('\\n')\n",
    "print('the last character:', element[-1])\n",
    "print('the penultimate character:', element[-2])\n",
    "print('all characters less the first charactere:', element[1: -1])\n",
    "\n",
    "# 3\n",
    "print('\\n')\n",
    "print('data array empty:', data[3:3, 4:4])\n",
    "print('other data array empty: ', data[3:3, :])"
   ]
  },
  {
   "cell_type": "markdown",
   "metadata": {
    "cell_tags": []
   },
   "source": [
    "### Plotando"
   ]
  },
  {
   "cell_type": "markdown",
   "metadata": {
    "cell_tags": []
   },
   "source": [
    "O matemático Richard Hamming já disse,\n",
    "\"O objetivo da computação é gerar insights, não números\"\n",
    "e a melhor maneira de obter estes insights é visualizandos os dados.\n",
    "A visualização merece uma leitura inteira (ou curso) própria,\n",
    "mas podemos explorar alguns recursos da biblioteca `matplotlib` do Python aqui.\n",
    "Primeiro,\n",
    "digamos ao IPython Notebook que queremos que nossos gráficos sejam exibidos inline,\n",
    "em vez de em uma janela de visualização separada:"
   ]
  },
  {
   "cell_type": "code",
   "execution_count": 41,
   "metadata": {
    "cell_tags": []
   },
   "outputs": [],
   "source": [
    "%matplotlib inline"
   ]
  },
  {
   "cell_type": "markdown",
   "metadata": {
    "cell_tags": []
   },
   "source": [
    "O `%` no início da linha indica que este é um comando para o notebook,\n",
    "em vez de uma declaração em Python.\n",
    "A seguir, vamos importar o módulo `pyplot` de ` matplotlib`\n",
    "e usar duas de suas funções para criar e exibir um mapa de calor de nossos dados:"
   ]
  },
  {
   "cell_type": "code",
   "execution_count": 11,
   "metadata": {
    "cell_tags": []
   },
   "outputs": [
    {
     "data": {
      "text/plain": [
       "<matplotlib.image.AxesImage at 0x140047f0280>"
      ]
     },
     "execution_count": 11,
     "metadata": {},
     "output_type": "execute_result"
    },
    {
     "data": {
      "image/png": "[encoded data removed]",
      "text/plain": [
       "<Figure size 640x480 with 1 Axes>"
      ]
     },
     "metadata": {},
     "output_type": "display_data"
    }
   ],
   "source": [
    "from matplotlib import pyplot\n",
    "#import matplotlib.pyplot as plt\n",
    "pyplot.imshow(data, cmap='inferno')"
   ]
  },
  {
   "cell_type": "markdown",
   "metadata": {
    "cell_tags": []
   },
   "source": [
    "As regiões azuis neste mapa de calor são valores baixos, enquanto o vermelho mostra valores altos.\n",
    "Como podemos ver, a inflamação aumenta e cai em um período de 40 dias.\n",
    "Vamos dar uma olhada na inflamação média ao longo do tempo:"
   ]
  },
  {
   "cell_type": "code",
   "execution_count": 43,
   "metadata": {},
   "outputs": [
    {
     "data": {
      "text/plain": [
       "(60, 40)"
      ]
     },
     "execution_count": 43,
     "metadata": {},
     "output_type": "execute_result"
    }
   ],
   "source": [
    "data.shape"
   ]
  },
  {
   "cell_type": "code",
   "execution_count": 33,
   "metadata": {
    "cell_tags": []
   },
   "outputs": [
    {
     "data": {
      "text/plain": [
       "[<matplotlib.lines.Line2D at 0x7fa64cc92b80>]"
      ]
     },
     "execution_count": 33,
     "metadata": {},
     "output_type": "execute_result"
    },
    {
     "data": {
      "image/png": "[encoded data removed]",
      "text/plain": [
       "<Figure size 432x288 with 1 Axes>"
      ]
     },
     "metadata": {
      "needs_background": "light"
     },
     "output_type": "display_data"
    }
   ],
   "source": [
    "ave_inflammation = data.mean(axis=0)\n",
    "pyplot.plot(ave_inflammation,'-')"
   ]
  },
  {
   "cell_type": "code",
   "execution_count": 89,
   "metadata": {},
   "outputs": [
    {
     "data": {
      "text/plain": [
       "array([ 0.        ,  0.45      ,  1.11666667,  1.75      ,  2.43333333,\n",
       "        3.15      ,  3.8       ,  3.88333333,  5.23333333,  5.51666667,\n",
       "        5.95      ,  5.9       ,  8.35      ,  7.73333333,  8.36666667,\n",
       "        9.5       ,  9.58333333, 10.63333333, 11.56666667, 12.35      ,\n",
       "       13.25      , 11.96666667, 11.03333333, 10.16666667, 10.        ,\n",
       "        8.66666667,  9.15      ,  7.25      ,  7.33333333,  6.58333333,\n",
       "        6.06666667,  5.95      ,  5.11666667,  3.6       ,  3.3       ,\n",
       "        3.56666667,  2.48333333,  1.5       ,  1.13333333,  0.56666667])"
      ]
     },
     "execution_count": 89,
     "metadata": {},
     "output_type": "execute_result"
    }
   ],
   "source": [
    "ave_inflammation"
   ]
  },
  {
   "cell_type": "markdown",
   "metadata": {
    "cell_tags": []
   },
   "source": [
    "Aqui,\n",
    "colocamos a média por dia em todos os pacientes na variável `ave_inflammation`,\n",
    "então pedimos o `pyplot` para criar e exibir um gráfico de linha desses valores.\n",
    "O resultado é aproximadamente um aumento linear e queda,o que é suspeito:\n",
    "com base em outros estudos, esperamos um aumento mais acentuado e queda mais lenta.\n",
    "Vamos dar uma olhada em outras duas estatísticas:"
   ]
  },
  {
   "cell_type": "code",
   "execution_count": 45,
   "metadata": {
    "cell_tags": []
   },
   "outputs": [
    {
     "name": "stdout",
     "output_type": "stream",
     "text": [
      "inflamação máxima por dia\n"
     ]
    },
    {
     "data": {
      "image/png": "[encoded data removed]",
      "text/plain": [
       "<Figure size 432x288 with 1 Axes>"
      ]
     },
     "metadata": {
      "needs_background": "light"
     },
     "output_type": "display_data"
    },
    {
     "name": "stdout",
     "output_type": "stream",
     "text": [
      "inflamação mínima por dia\n"
     ]
    },
    {
     "data": {
      "image/png": "[encoded data removed]",
      "text/plain": [
       "<Figure size 432x288 with 1 Axes>"
      ]
     },
     "metadata": {
      "needs_background": "light"
     },
     "output_type": "display_data"
    }
   ],
   "source": [
    "print('inflamação máxima por dia')\n",
    "pyplot.plot(data.max(axis=0))\n",
    "pyplot.show()\n",
    "\n",
    "print ('inflamação mínima por dia')\n",
    "pyplot.plot(data.min(axis=0))\n",
    "pyplot.show()"
   ]
  },
  {
   "cell_type": "markdown",
   "metadata": {
    "cell_tags": []
   },
   "source": [
    "O valor máximo aumenta e cai perfeitamente,\n",
    "enquanto o mínimo parece ser uma função de etapas.\n",
    "Nenhum resultado parece particularmente provável,\n",
    "então, há um erro em nossos cálculos\n",
    "ou algo está errado com nossos dados."
   ]
  },
  {
   "cell_type": "markdown",
   "metadata": {
    "cell_tags": [
     "challenges"
    ]
   },
   "source": [
    "#### Exercício\n",
    "1. Crie um gráfico que mostre o desvio padrão (numpy.std) dos dados de inflamação para cada dia em todos os pacientes."
   ]
  },
  {
   "cell_type": "code",
   "execution_count": 38,
   "metadata": {},
   "outputs": [
    {
     "data": {
      "text/plain": [
       "[<matplotlib.lines.Line2D at 0x7fa64d0a31f0>]"
      ]
     },
     "execution_count": 38,
     "metadata": {},
     "output_type": "execute_result"
    },
    {
     "data": {
      "image/png": "[encoded data removed]",
      "text/plain": [
       "<Figure size 432x288 with 1 Axes>"
      ]
     },
     "metadata": {
      "needs_background": "light"
     },
     "output_type": "display_data"
    }
   ],
   "source": [
    "aux = data.std(axis=1)\n",
    "pyplot.plot(aux)"
   ]
  },
  {
   "cell_type": "code",
   "execution_count": 37,
   "metadata": {},
   "outputs": [
    {
     "data": {
      "text/plain": [
       "4.613833197118566"
      ]
     },
     "execution_count": 37,
     "metadata": {},
     "output_type": "execute_result"
    }
   ],
   "source": [
    "aux"
   ]
  },
  {
   "cell_type": "markdown",
   "metadata": {
    "cell_tags": []
   },
   "source": [
    "### Resumindo"
   ]
  },
  {
   "cell_type": "markdown",
   "metadata": {
    "cell_tags": []
   },
   "source": [
    "É muito comum criar um [alias](http://swcarpentry.github.io/python-novice-inflammation-2.7/reference.html#alias) (alias renomeação de bilioteca) para uma biblioteca ao importá-la\n",
    "para reduzir a quantidade de digitação que temos que fazer.\n",
    "Aqui estão os nossos três gráficos lado a lado usando aliases para `numpy` e` pyplot`:"
   ]
  },
  {
   "cell_type": "code",
   "execution_count": 14,
   "metadata": {
    "cell_tags": []
   },
   "outputs": [
    {
     "data": {
      "image/png": "[encoded data removed]",
      "text/plain": [
       "<Figure size 1000x1000 with 3 Axes>"
      ]
     },
     "metadata": {},
     "output_type": "display_data"
    }
   ],
   "source": [
    "import numpy as np\n",
    "from matplotlib import pyplot as plt\n",
    "\n",
    "data = np.loadtxt(fname='data/inflammation-01.csv', delimiter=',')\n",
    "\n",
    "plt.figure(figsize=(10,10))\n",
    "\n",
    "plt.subplot(3,1, 1)\n",
    "plt.ylabel('average')\n",
    "plt.xlabel('dias')\n",
    "plt.title('Média por dias')\n",
    "plt.plot(data.mean(0))\n",
    "\n",
    "plt.subplot(3,1, 2)\n",
    "plt.ylabel('max')\n",
    "plt.plot(data.max(0))\n",
    "\n",
    "plt.subplot(3,1, 3)\n",
    "plt.ylabel('min')\n",
    "plt.plot(data.min(0))\n",
    "\n",
    "plt.tight_layout()"
   ]
  },
  {
   "cell_type": "markdown",
   "metadata": {
    "cell_tags": []
   },
   "source": [
    "As duas primeiras linhas recarregam nossas bibliotecas como `np` e `plt`,\n",
    "que são os alias que a maioria dos programadores de Python usam.\n",
    "A chamada para `loadtxt` lê nossos dados,\n",
    " o resto do programa diz a biblioteca de plota os gráficos\n",
    "o quão grande queremos que a figura seja,\n",
    "que estamos criando três sub-gráficos,\n",
    "o que desenhar para cada um,\n",
    "e que queremos um layout menor.\n",
    "(Perversamente,\n",
    "se excluirmos essa chamada para `plt.tight_layout ()`,\n",
    "os gráficos sairão realmente esticados e mais próxima.)"
   ]
  },
  {
   "cell_type": "markdown",
   "metadata": {
    "cell_tags": [
     "challenges"
    ]
   },
   "source": [
    "#### Exercício\n",
    "\n",
    "1. Modifique o programa para exibir os três gráficos em cima um do outro em vez de lado a lado."
   ]
  },
  {
   "cell_type": "code",
   "execution_count": 16,
   "metadata": {},
   "outputs": [
    {
     "data": {
      "image/png": "[encoded data removed]",
      "text/plain": [
       "<Figure size 1000x400 with 3 Axes>"
      ]
     },
     "metadata": {},
     "output_type": "display_data"
    }
   ],
   "source": [
    "plt.figure(figsize=(10, 4))\n",
    "\n",
    "plt.subplot(1,3, 1)\n",
    "plt.ylabel('average')\n",
    "plt.xlabel('dias')\n",
    "plt.title('Média por dias')\n",
    "plt.plot(data.mean(0))\n",
    "\n",
    "plt.subplot(1,3, 2)\n",
    "plt.ylabel('max')\n",
    "plt.plot(data.max(0))\n",
    "\n",
    "plt.subplot(1,3, 3)\n",
    "plt.ylabel('min')\n",
    "plt.plot(data.min(0))\n",
    "\n",
    "plt.tight_layout()"
   ]
  },
  {
   "cell_type": "code",
   "execution_count": null,
   "metadata": {},
   "outputs": [],
   "source": []
  },
  {
   "cell_type": "markdown",
   "metadata": {
    "cell_tags": [
     "keypoints"
    ]
   },
   "source": [
    "#### Pontos Principais\n",
    "* Importar uma biblioteca para um programa usando `import nome_da_biblioteca`.\n",
    "* Usar a biblioteca `numpy` para trabalhar com arrays em Python.\n",
    "* Usar `variável = valor` para atribuir um valor a uma variável e gravá-la na memória.\n",
    "* As variáveis são criadas sob demanda sempre que um valor lhes é atribuído.\n",
    "* Usar `print (alguma_coisa)` para exibir o valor de `alguma_coisa`.\n",
    "* A expressão `array.shape` dá a forma de uma matriz.\n",
    "* Usar `array [x, y]` para selecionar um único elemento de uma matriz.\n",
    "* Os índices de matriz começam em 0, não 1.\n",
    "* Usar `low: high` para especificar uma fatia que inclui os índices de `low` até `high-1`.\n",
    "* Toda a indexação e corte que funciona em arrays também funciona em strings.\n",
    "* Usar `# algum tipo de explicação` para adicionar comentários aos programas.\n",
    "* Usar `array.mean ()`, `array.max ()` e `array.min ()` para calcular estatísticas simples.\n",
    "* Usar `array.mean (axis = 0)` ou `array.mean (axis = 1)` para calcular estatísticas no eixo especificado.\n",
    "* Usar a biblioteca `pyplot` de ` matplotlib` para criar visualizações simples."
   ]
  },
  {
   "cell_type": "markdown",
   "metadata": {
    "cell_tags": []
   },
   "source": [
    "#### Próximos passos\n",
    "\n",
    "Nosso trabalho até agora nos convenceu de que algo está errado com nosso primeiro arquivo de dados. Gostaríamos de verificar os outros 11 da mesma maneira,\n",
    "mas digitar repetidamente os mesmos comandos é tedioso e propenso a erros.\n",
    "Como os computadores não ficam entediados (que sabemos)\n",
    "devemos criar uma maneira de fazer uma análise completa com um único comando,\n",
    "e então descobrir como repetir esse passo uma vez para cada arquivo.\n",
    "Essas operações são assuntos das próximas duas lições."
   ]
  },
  {
   "cell_type": "code",
   "execution_count": null,
   "metadata": {},
   "outputs": [],
   "source": []
  },
  {
   "cell_type": "code",
   "execution_count": null,
   "metadata": {},
   "outputs": [],
   "source": []
  },
  {
   "cell_type": "code",
   "execution_count": null,
   "metadata": {},
   "outputs": [],
   "source": []
  },
  {
   "cell_type": "code",
   "execution_count": null,
   "metadata": {},
   "outputs": [],
   "source": []
  },
  {
   "cell_type": "code",
   "execution_count": null,
   "metadata": {},
   "outputs": [],
   "source": []
  }
 ],
 "metadata": {
  "kernelspec": {
   "display_name": "Python 3.8.10 64-bit",
   "language": "python",
   "name": "python3"
  },
  "language_info": {
   "codemirror_mode": {
    "name": "ipython",
    "version": 3
   },
   "file_extension": ".py",
   "mimetype": "text/x-python",
   "name": "python",
   "nbconvert_exporter": "python",
   "pygments_lexer": "ipython3",
   "version": "3.8.10"
  },
  "vscode": {
   "interpreter": {
    "hash": "aa94b104bf3964926382c1786afde494516281b20c685386299bed3cc9828aa3"
   }
  }
 },
 "nbformat": 4,
 "nbformat_minor": 4
}
